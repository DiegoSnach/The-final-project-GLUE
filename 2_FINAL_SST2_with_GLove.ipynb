{
  "nbformat": 4,
  "nbformat_minor": 0,
  "metadata": {
    "colab": {
      "name": "2_FINAL_SST2_with_GLove.ipynb",
      "provenance": [],
      "collapsed_sections": [],
      "authorship_tag": "ABX9TyOH/l+kiDqTXJ3VhcIwdkRH",
      "include_colab_link": true
    },
    "kernelspec": {
      "name": "python3",
      "display_name": "Python 3"
    },
    "accelerator": "GPU",
    "widgets": {
      "application/vnd.jupyter.widget-state+json": {
        "ec889bbf4ea4491790b8d17e9caf6973": {
          "model_module": "@jupyter-widgets/controls",
          "model_name": "HBoxModel",
          "state": {
            "_view_name": "HBoxView",
            "_dom_classes": [],
            "_model_name": "HBoxModel",
            "_view_module": "@jupyter-widgets/controls",
            "_model_module_version": "1.5.0",
            "_view_count": null,
            "_view_module_version": "1.5.0",
            "box_style": "",
            "layout": "IPY_MODEL_537bf45e8b73408680e46f6379b837ed",
            "_model_module": "@jupyter-widgets/controls",
            "children": [
              "IPY_MODEL_27e959142b8f4e3391c88b3c1295a12a",
              "IPY_MODEL_6c1235a6522f4c82a582d287d601d05d"
            ]
          }
        },
        "537bf45e8b73408680e46f6379b837ed": {
          "model_module": "@jupyter-widgets/base",
          "model_name": "LayoutModel",
          "state": {
            "_view_name": "LayoutView",
            "grid_template_rows": null,
            "right": null,
            "justify_content": null,
            "_view_module": "@jupyter-widgets/base",
            "overflow": null,
            "_model_module_version": "1.2.0",
            "_view_count": null,
            "flex_flow": null,
            "width": null,
            "min_width": null,
            "border": null,
            "align_items": null,
            "bottom": null,
            "_model_module": "@jupyter-widgets/base",
            "top": null,
            "grid_column": null,
            "overflow_y": null,
            "overflow_x": null,
            "grid_auto_flow": null,
            "grid_area": null,
            "grid_template_columns": null,
            "flex": null,
            "_model_name": "LayoutModel",
            "justify_items": null,
            "grid_row": null,
            "max_height": null,
            "align_content": null,
            "visibility": null,
            "align_self": null,
            "height": null,
            "min_height": null,
            "padding": null,
            "grid_auto_rows": null,
            "grid_gap": null,
            "max_width": null,
            "order": null,
            "_view_module_version": "1.2.0",
            "grid_template_areas": null,
            "object_position": null,
            "object_fit": null,
            "grid_auto_columns": null,
            "margin": null,
            "display": null,
            "left": null
          }
        },
        "27e959142b8f4e3391c88b3c1295a12a": {
          "model_module": "@jupyter-widgets/controls",
          "model_name": "FloatProgressModel",
          "state": {
            "_view_name": "ProgressView",
            "style": "IPY_MODEL_65208c34715e4174b3c45b7aab531a8f",
            "_dom_classes": [],
            "description": "Dl Completed...: 100%",
            "_model_name": "FloatProgressModel",
            "bar_style": "success",
            "max": 1,
            "_view_module": "@jupyter-widgets/controls",
            "_model_module_version": "1.5.0",
            "value": 1,
            "_view_count": null,
            "_view_module_version": "1.5.0",
            "orientation": "horizontal",
            "min": 0,
            "description_tooltip": null,
            "_model_module": "@jupyter-widgets/controls",
            "layout": "IPY_MODEL_ccb6c30d4ac14f06980921c64772396f"
          }
        },
        "6c1235a6522f4c82a582d287d601d05d": {
          "model_module": "@jupyter-widgets/controls",
          "model_name": "HTMLModel",
          "state": {
            "_view_name": "HTMLView",
            "style": "IPY_MODEL_84e0077495c548ccb4bbf6b964cf0276",
            "_dom_classes": [],
            "description": "",
            "_model_name": "HTMLModel",
            "placeholder": "​",
            "_view_module": "@jupyter-widgets/controls",
            "_model_module_version": "1.5.0",
            "value": " 1/1 [00:01&lt;00:00,  1.13s/ url]",
            "_view_count": null,
            "_view_module_version": "1.5.0",
            "description_tooltip": null,
            "_model_module": "@jupyter-widgets/controls",
            "layout": "IPY_MODEL_f4c670fea46a4c3fa78111731f673522"
          }
        },
        "65208c34715e4174b3c45b7aab531a8f": {
          "model_module": "@jupyter-widgets/controls",
          "model_name": "ProgressStyleModel",
          "state": {
            "_view_name": "StyleView",
            "_model_name": "ProgressStyleModel",
            "description_width": "initial",
            "_view_module": "@jupyter-widgets/base",
            "_model_module_version": "1.5.0",
            "_view_count": null,
            "_view_module_version": "1.2.0",
            "bar_color": null,
            "_model_module": "@jupyter-widgets/controls"
          }
        },
        "ccb6c30d4ac14f06980921c64772396f": {
          "model_module": "@jupyter-widgets/base",
          "model_name": "LayoutModel",
          "state": {
            "_view_name": "LayoutView",
            "grid_template_rows": null,
            "right": null,
            "justify_content": null,
            "_view_module": "@jupyter-widgets/base",
            "overflow": null,
            "_model_module_version": "1.2.0",
            "_view_count": null,
            "flex_flow": null,
            "width": null,
            "min_width": null,
            "border": null,
            "align_items": null,
            "bottom": null,
            "_model_module": "@jupyter-widgets/base",
            "top": null,
            "grid_column": null,
            "overflow_y": null,
            "overflow_x": null,
            "grid_auto_flow": null,
            "grid_area": null,
            "grid_template_columns": null,
            "flex": null,
            "_model_name": "LayoutModel",
            "justify_items": null,
            "grid_row": null,
            "max_height": null,
            "align_content": null,
            "visibility": null,
            "align_self": null,
            "height": null,
            "min_height": null,
            "padding": null,
            "grid_auto_rows": null,
            "grid_gap": null,
            "max_width": null,
            "order": null,
            "_view_module_version": "1.2.0",
            "grid_template_areas": null,
            "object_position": null,
            "object_fit": null,
            "grid_auto_columns": null,
            "margin": null,
            "display": null,
            "left": null
          }
        },
        "84e0077495c548ccb4bbf6b964cf0276": {
          "model_module": "@jupyter-widgets/controls",
          "model_name": "DescriptionStyleModel",
          "state": {
            "_view_name": "StyleView",
            "_model_name": "DescriptionStyleModel",
            "description_width": "",
            "_view_module": "@jupyter-widgets/base",
            "_model_module_version": "1.5.0",
            "_view_count": null,
            "_view_module_version": "1.2.0",
            "_model_module": "@jupyter-widgets/controls"
          }
        },
        "f4c670fea46a4c3fa78111731f673522": {
          "model_module": "@jupyter-widgets/base",
          "model_name": "LayoutModel",
          "state": {
            "_view_name": "LayoutView",
            "grid_template_rows": null,
            "right": null,
            "justify_content": null,
            "_view_module": "@jupyter-widgets/base",
            "overflow": null,
            "_model_module_version": "1.2.0",
            "_view_count": null,
            "flex_flow": null,
            "width": null,
            "min_width": null,
            "border": null,
            "align_items": null,
            "bottom": null,
            "_model_module": "@jupyter-widgets/base",
            "top": null,
            "grid_column": null,
            "overflow_y": null,
            "overflow_x": null,
            "grid_auto_flow": null,
            "grid_area": null,
            "grid_template_columns": null,
            "flex": null,
            "_model_name": "LayoutModel",
            "justify_items": null,
            "grid_row": null,
            "max_height": null,
            "align_content": null,
            "visibility": null,
            "align_self": null,
            "height": null,
            "min_height": null,
            "padding": null,
            "grid_auto_rows": null,
            "grid_gap": null,
            "max_width": null,
            "order": null,
            "_view_module_version": "1.2.0",
            "grid_template_areas": null,
            "object_position": null,
            "object_fit": null,
            "grid_auto_columns": null,
            "margin": null,
            "display": null,
            "left": null
          }
        },
        "6df7d2f6c1064791a020165a0f8cba4d": {
          "model_module": "@jupyter-widgets/controls",
          "model_name": "HBoxModel",
          "state": {
            "_view_name": "HBoxView",
            "_dom_classes": [],
            "_model_name": "HBoxModel",
            "_view_module": "@jupyter-widgets/controls",
            "_model_module_version": "1.5.0",
            "_view_count": null,
            "_view_module_version": "1.5.0",
            "box_style": "",
            "layout": "IPY_MODEL_97946a6fb41e44798800d13edc46eb41",
            "_model_module": "@jupyter-widgets/controls",
            "children": [
              "IPY_MODEL_8d34973077364d248bdacca9b5bdbc4c",
              "IPY_MODEL_64e81e8cb8ee4fd6895d959dd5d67a16"
            ]
          }
        },
        "97946a6fb41e44798800d13edc46eb41": {
          "model_module": "@jupyter-widgets/base",
          "model_name": "LayoutModel",
          "state": {
            "_view_name": "LayoutView",
            "grid_template_rows": null,
            "right": null,
            "justify_content": null,
            "_view_module": "@jupyter-widgets/base",
            "overflow": null,
            "_model_module_version": "1.2.0",
            "_view_count": null,
            "flex_flow": null,
            "width": null,
            "min_width": null,
            "border": null,
            "align_items": null,
            "bottom": null,
            "_model_module": "@jupyter-widgets/base",
            "top": null,
            "grid_column": null,
            "overflow_y": null,
            "overflow_x": null,
            "grid_auto_flow": null,
            "grid_area": null,
            "grid_template_columns": null,
            "flex": null,
            "_model_name": "LayoutModel",
            "justify_items": null,
            "grid_row": null,
            "max_height": null,
            "align_content": null,
            "visibility": null,
            "align_self": null,
            "height": null,
            "min_height": null,
            "padding": null,
            "grid_auto_rows": null,
            "grid_gap": null,
            "max_width": null,
            "order": null,
            "_view_module_version": "1.2.0",
            "grid_template_areas": null,
            "object_position": null,
            "object_fit": null,
            "grid_auto_columns": null,
            "margin": null,
            "display": null,
            "left": null
          }
        },
        "8d34973077364d248bdacca9b5bdbc4c": {
          "model_module": "@jupyter-widgets/controls",
          "model_name": "FloatProgressModel",
          "state": {
            "_view_name": "ProgressView",
            "style": "IPY_MODEL_1e9456c0df4b484d8dfab3ef078bf8af",
            "_dom_classes": [],
            "description": "Dl Size...: 100%",
            "_model_name": "FloatProgressModel",
            "bar_style": "success",
            "max": 1,
            "_view_module": "@jupyter-widgets/controls",
            "_model_module_version": "1.5.0",
            "value": 1,
            "_view_count": null,
            "_view_module_version": "1.5.0",
            "orientation": "horizontal",
            "min": 0,
            "description_tooltip": null,
            "_model_module": "@jupyter-widgets/controls",
            "layout": "IPY_MODEL_573820f5bf1f4ef48894b72e1cfccd04"
          }
        },
        "64e81e8cb8ee4fd6895d959dd5d67a16": {
          "model_module": "@jupyter-widgets/controls",
          "model_name": "HTMLModel",
          "state": {
            "_view_name": "HTMLView",
            "style": "IPY_MODEL_44070331573b4490ac907cc828f76bde",
            "_dom_classes": [],
            "description": "",
            "_model_name": "HTMLModel",
            "placeholder": "​",
            "_view_module": "@jupyter-widgets/controls",
            "_model_module_version": "1.5.0",
            "value": " 7/7 [00:01&lt;00:00,  6.34 MiB/s]",
            "_view_count": null,
            "_view_module_version": "1.5.0",
            "description_tooltip": null,
            "_model_module": "@jupyter-widgets/controls",
            "layout": "IPY_MODEL_4871bece7551435d8c8df9c3ba331395"
          }
        },
        "1e9456c0df4b484d8dfab3ef078bf8af": {
          "model_module": "@jupyter-widgets/controls",
          "model_name": "ProgressStyleModel",
          "state": {
            "_view_name": "StyleView",
            "_model_name": "ProgressStyleModel",
            "description_width": "initial",
            "_view_module": "@jupyter-widgets/base",
            "_model_module_version": "1.5.0",
            "_view_count": null,
            "_view_module_version": "1.2.0",
            "bar_color": null,
            "_model_module": "@jupyter-widgets/controls"
          }
        },
        "573820f5bf1f4ef48894b72e1cfccd04": {
          "model_module": "@jupyter-widgets/base",
          "model_name": "LayoutModel",
          "state": {
            "_view_name": "LayoutView",
            "grid_template_rows": null,
            "right": null,
            "justify_content": null,
            "_view_module": "@jupyter-widgets/base",
            "overflow": null,
            "_model_module_version": "1.2.0",
            "_view_count": null,
            "flex_flow": null,
            "width": null,
            "min_width": null,
            "border": null,
            "align_items": null,
            "bottom": null,
            "_model_module": "@jupyter-widgets/base",
            "top": null,
            "grid_column": null,
            "overflow_y": null,
            "overflow_x": null,
            "grid_auto_flow": null,
            "grid_area": null,
            "grid_template_columns": null,
            "flex": null,
            "_model_name": "LayoutModel",
            "justify_items": null,
            "grid_row": null,
            "max_height": null,
            "align_content": null,
            "visibility": null,
            "align_self": null,
            "height": null,
            "min_height": null,
            "padding": null,
            "grid_auto_rows": null,
            "grid_gap": null,
            "max_width": null,
            "order": null,
            "_view_module_version": "1.2.0",
            "grid_template_areas": null,
            "object_position": null,
            "object_fit": null,
            "grid_auto_columns": null,
            "margin": null,
            "display": null,
            "left": null
          }
        },
        "44070331573b4490ac907cc828f76bde": {
          "model_module": "@jupyter-widgets/controls",
          "model_name": "DescriptionStyleModel",
          "state": {
            "_view_name": "StyleView",
            "_model_name": "DescriptionStyleModel",
            "description_width": "",
            "_view_module": "@jupyter-widgets/base",
            "_model_module_version": "1.5.0",
            "_view_count": null,
            "_view_module_version": "1.2.0",
            "_model_module": "@jupyter-widgets/controls"
          }
        },
        "4871bece7551435d8c8df9c3ba331395": {
          "model_module": "@jupyter-widgets/base",
          "model_name": "LayoutModel",
          "state": {
            "_view_name": "LayoutView",
            "grid_template_rows": null,
            "right": null,
            "justify_content": null,
            "_view_module": "@jupyter-widgets/base",
            "overflow": null,
            "_model_module_version": "1.2.0",
            "_view_count": null,
            "flex_flow": null,
            "width": null,
            "min_width": null,
            "border": null,
            "align_items": null,
            "bottom": null,
            "_model_module": "@jupyter-widgets/base",
            "top": null,
            "grid_column": null,
            "overflow_y": null,
            "overflow_x": null,
            "grid_auto_flow": null,
            "grid_area": null,
            "grid_template_columns": null,
            "flex": null,
            "_model_name": "LayoutModel",
            "justify_items": null,
            "grid_row": null,
            "max_height": null,
            "align_content": null,
            "visibility": null,
            "align_self": null,
            "height": null,
            "min_height": null,
            "padding": null,
            "grid_auto_rows": null,
            "grid_gap": null,
            "max_width": null,
            "order": null,
            "_view_module_version": "1.2.0",
            "grid_template_areas": null,
            "object_position": null,
            "object_fit": null,
            "grid_auto_columns": null,
            "margin": null,
            "display": null,
            "left": null
          }
        },
        "3c0f38a36631461d8f5bdaa23a74aec1": {
          "model_module": "@jupyter-widgets/controls",
          "model_name": "HBoxModel",
          "state": {
            "_view_name": "HBoxView",
            "_dom_classes": [],
            "_model_name": "HBoxModel",
            "_view_module": "@jupyter-widgets/controls",
            "_model_module_version": "1.5.0",
            "_view_count": null,
            "_view_module_version": "1.5.0",
            "box_style": "",
            "layout": "IPY_MODEL_86d7fcc2c4f04b8d92aab3474e7e732f",
            "_model_module": "@jupyter-widgets/controls",
            "children": [
              "IPY_MODEL_8321f669813c493986986f864a962d12",
              "IPY_MODEL_d3c65b7a372a44ccbbfc203292c08cd8"
            ]
          }
        },
        "86d7fcc2c4f04b8d92aab3474e7e732f": {
          "model_module": "@jupyter-widgets/base",
          "model_name": "LayoutModel",
          "state": {
            "_view_name": "LayoutView",
            "grid_template_rows": null,
            "right": null,
            "justify_content": null,
            "_view_module": "@jupyter-widgets/base",
            "overflow": null,
            "_model_module_version": "1.2.0",
            "_view_count": null,
            "flex_flow": null,
            "width": null,
            "min_width": null,
            "border": null,
            "align_items": null,
            "bottom": null,
            "_model_module": "@jupyter-widgets/base",
            "top": null,
            "grid_column": null,
            "overflow_y": null,
            "overflow_x": null,
            "grid_auto_flow": null,
            "grid_area": null,
            "grid_template_columns": null,
            "flex": null,
            "_model_name": "LayoutModel",
            "justify_items": null,
            "grid_row": null,
            "max_height": null,
            "align_content": null,
            "visibility": null,
            "align_self": null,
            "height": null,
            "min_height": null,
            "padding": null,
            "grid_auto_rows": null,
            "grid_gap": null,
            "max_width": null,
            "order": null,
            "_view_module_version": "1.2.0",
            "grid_template_areas": null,
            "object_position": null,
            "object_fit": null,
            "grid_auto_columns": null,
            "margin": null,
            "display": null,
            "left": null
          }
        },
        "8321f669813c493986986f864a962d12": {
          "model_module": "@jupyter-widgets/controls",
          "model_name": "FloatProgressModel",
          "state": {
            "_view_name": "ProgressView",
            "style": "IPY_MODEL_684ef39166444b498672f905890f3942",
            "_dom_classes": [],
            "description": "Extraction completed...: 100%",
            "_model_name": "FloatProgressModel",
            "bar_style": "success",
            "max": 1,
            "_view_module": "@jupyter-widgets/controls",
            "_model_module_version": "1.5.0",
            "value": 1,
            "_view_count": null,
            "_view_module_version": "1.5.0",
            "orientation": "horizontal",
            "min": 0,
            "description_tooltip": null,
            "_model_module": "@jupyter-widgets/controls",
            "layout": "IPY_MODEL_9bddd5821d77403b98af63df5a5fc73d"
          }
        },
        "d3c65b7a372a44ccbbfc203292c08cd8": {
          "model_module": "@jupyter-widgets/controls",
          "model_name": "HTMLModel",
          "state": {
            "_view_name": "HTMLView",
            "style": "IPY_MODEL_8bf3b02a22cb4e4ebd5a6d25dbd487cf",
            "_dom_classes": [],
            "description": "",
            "_model_name": "HTMLModel",
            "placeholder": "​",
            "_view_module": "@jupyter-widgets/controls",
            "_model_module_version": "1.5.0",
            "value": " 1/1 [00:01&lt;00:00,  1.07s/ file]",
            "_view_count": null,
            "_view_module_version": "1.5.0",
            "description_tooltip": null,
            "_model_module": "@jupyter-widgets/controls",
            "layout": "IPY_MODEL_11c93febe44e4623a8a7336cedfe75d9"
          }
        },
        "684ef39166444b498672f905890f3942": {
          "model_module": "@jupyter-widgets/controls",
          "model_name": "ProgressStyleModel",
          "state": {
            "_view_name": "StyleView",
            "_model_name": "ProgressStyleModel",
            "description_width": "initial",
            "_view_module": "@jupyter-widgets/base",
            "_model_module_version": "1.5.0",
            "_view_count": null,
            "_view_module_version": "1.2.0",
            "bar_color": null,
            "_model_module": "@jupyter-widgets/controls"
          }
        },
        "9bddd5821d77403b98af63df5a5fc73d": {
          "model_module": "@jupyter-widgets/base",
          "model_name": "LayoutModel",
          "state": {
            "_view_name": "LayoutView",
            "grid_template_rows": null,
            "right": null,
            "justify_content": null,
            "_view_module": "@jupyter-widgets/base",
            "overflow": null,
            "_model_module_version": "1.2.0",
            "_view_count": null,
            "flex_flow": null,
            "width": null,
            "min_width": null,
            "border": null,
            "align_items": null,
            "bottom": null,
            "_model_module": "@jupyter-widgets/base",
            "top": null,
            "grid_column": null,
            "overflow_y": null,
            "overflow_x": null,
            "grid_auto_flow": null,
            "grid_area": null,
            "grid_template_columns": null,
            "flex": null,
            "_model_name": "LayoutModel",
            "justify_items": null,
            "grid_row": null,
            "max_height": null,
            "align_content": null,
            "visibility": null,
            "align_self": null,
            "height": null,
            "min_height": null,
            "padding": null,
            "grid_auto_rows": null,
            "grid_gap": null,
            "max_width": null,
            "order": null,
            "_view_module_version": "1.2.0",
            "grid_template_areas": null,
            "object_position": null,
            "object_fit": null,
            "grid_auto_columns": null,
            "margin": null,
            "display": null,
            "left": null
          }
        },
        "8bf3b02a22cb4e4ebd5a6d25dbd487cf": {
          "model_module": "@jupyter-widgets/controls",
          "model_name": "DescriptionStyleModel",
          "state": {
            "_view_name": "StyleView",
            "_model_name": "DescriptionStyleModel",
            "description_width": "",
            "_view_module": "@jupyter-widgets/base",
            "_model_module_version": "1.5.0",
            "_view_count": null,
            "_view_module_version": "1.2.0",
            "_model_module": "@jupyter-widgets/controls"
          }
        },
        "11c93febe44e4623a8a7336cedfe75d9": {
          "model_module": "@jupyter-widgets/base",
          "model_name": "LayoutModel",
          "state": {
            "_view_name": "LayoutView",
            "grid_template_rows": null,
            "right": null,
            "justify_content": null,
            "_view_module": "@jupyter-widgets/base",
            "overflow": null,
            "_model_module_version": "1.2.0",
            "_view_count": null,
            "flex_flow": null,
            "width": null,
            "min_width": null,
            "border": null,
            "align_items": null,
            "bottom": null,
            "_model_module": "@jupyter-widgets/base",
            "top": null,
            "grid_column": null,
            "overflow_y": null,
            "overflow_x": null,
            "grid_auto_flow": null,
            "grid_area": null,
            "grid_template_columns": null,
            "flex": null,
            "_model_name": "LayoutModel",
            "justify_items": null,
            "grid_row": null,
            "max_height": null,
            "align_content": null,
            "visibility": null,
            "align_self": null,
            "height": null,
            "min_height": null,
            "padding": null,
            "grid_auto_rows": null,
            "grid_gap": null,
            "max_width": null,
            "order": null,
            "_view_module_version": "1.2.0",
            "grid_template_areas": null,
            "object_position": null,
            "object_fit": null,
            "grid_auto_columns": null,
            "margin": null,
            "display": null,
            "left": null
          }
        },
        "a4806a88e94443ef897ebd4cd56140bb": {
          "model_module": "@jupyter-widgets/controls",
          "model_name": "HBoxModel",
          "state": {
            "_view_name": "HBoxView",
            "_dom_classes": [],
            "_model_name": "HBoxModel",
            "_view_module": "@jupyter-widgets/controls",
            "_model_module_version": "1.5.0",
            "_view_count": null,
            "_view_module_version": "1.5.0",
            "box_style": "",
            "layout": "IPY_MODEL_f2aff33df5e64f2081530756bac947d5",
            "_model_module": "@jupyter-widgets/controls",
            "children": [
              "IPY_MODEL_69b4f8936dff4fbbb61f80e81e4790c1",
              "IPY_MODEL_1c25fec8aada49168bfa06f2c44baf04"
            ]
          }
        },
        "f2aff33df5e64f2081530756bac947d5": {
          "model_module": "@jupyter-widgets/base",
          "model_name": "LayoutModel",
          "state": {
            "_view_name": "LayoutView",
            "grid_template_rows": null,
            "right": null,
            "justify_content": null,
            "_view_module": "@jupyter-widgets/base",
            "overflow": null,
            "_model_module_version": "1.2.0",
            "_view_count": null,
            "flex_flow": null,
            "width": null,
            "min_width": null,
            "border": null,
            "align_items": null,
            "bottom": null,
            "_model_module": "@jupyter-widgets/base",
            "top": null,
            "grid_column": null,
            "overflow_y": null,
            "overflow_x": null,
            "grid_auto_flow": null,
            "grid_area": null,
            "grid_template_columns": null,
            "flex": null,
            "_model_name": "LayoutModel",
            "justify_items": null,
            "grid_row": null,
            "max_height": null,
            "align_content": null,
            "visibility": null,
            "align_self": null,
            "height": null,
            "min_height": null,
            "padding": null,
            "grid_auto_rows": null,
            "grid_gap": null,
            "max_width": null,
            "order": null,
            "_view_module_version": "1.2.0",
            "grid_template_areas": null,
            "object_position": null,
            "object_fit": null,
            "grid_auto_columns": null,
            "margin": null,
            "display": null,
            "left": null
          }
        },
        "69b4f8936dff4fbbb61f80e81e4790c1": {
          "model_module": "@jupyter-widgets/controls",
          "model_name": "FloatProgressModel",
          "state": {
            "_view_name": "ProgressView",
            "style": "IPY_MODEL_86c1f8db6ddd451ab5a9c6d05cb3f1b4",
            "_dom_classes": [],
            "description": "",
            "_model_name": "FloatProgressModel",
            "bar_style": "info",
            "max": 1,
            "_view_module": "@jupyter-widgets/controls",
            "_model_module_version": "1.5.0",
            "value": 1,
            "_view_count": null,
            "_view_module_version": "1.5.0",
            "orientation": "horizontal",
            "min": 0,
            "description_tooltip": null,
            "_model_module": "@jupyter-widgets/controls",
            "layout": "IPY_MODEL_41ff239cbfc74c64a2d861fae182e492"
          }
        },
        "1c25fec8aada49168bfa06f2c44baf04": {
          "model_module": "@jupyter-widgets/controls",
          "model_name": "HTMLModel",
          "state": {
            "_view_name": "HTMLView",
            "style": "IPY_MODEL_7f9056bbbcc440fdb822c1929634cf67",
            "_dom_classes": [],
            "description": "",
            "_model_name": "HTMLModel",
            "placeholder": "​",
            "_view_module": "@jupyter-widgets/controls",
            "_model_module_version": "1.5.0",
            "value": " 67349/0 [00:21&lt;00:00, 3082.72 examples/s]",
            "_view_count": null,
            "_view_module_version": "1.5.0",
            "description_tooltip": null,
            "_model_module": "@jupyter-widgets/controls",
            "layout": "IPY_MODEL_8eabf73152404b04adb5edc42e522dbf"
          }
        },
        "86c1f8db6ddd451ab5a9c6d05cb3f1b4": {
          "model_module": "@jupyter-widgets/controls",
          "model_name": "ProgressStyleModel",
          "state": {
            "_view_name": "StyleView",
            "_model_name": "ProgressStyleModel",
            "description_width": "initial",
            "_view_module": "@jupyter-widgets/base",
            "_model_module_version": "1.5.0",
            "_view_count": null,
            "_view_module_version": "1.2.0",
            "bar_color": null,
            "_model_module": "@jupyter-widgets/controls"
          }
        },
        "41ff239cbfc74c64a2d861fae182e492": {
          "model_module": "@jupyter-widgets/base",
          "model_name": "LayoutModel",
          "state": {
            "_view_name": "LayoutView",
            "grid_template_rows": null,
            "right": null,
            "justify_content": null,
            "_view_module": "@jupyter-widgets/base",
            "overflow": null,
            "_model_module_version": "1.2.0",
            "_view_count": null,
            "flex_flow": null,
            "width": null,
            "min_width": null,
            "border": null,
            "align_items": null,
            "bottom": null,
            "_model_module": "@jupyter-widgets/base",
            "top": null,
            "grid_column": null,
            "overflow_y": null,
            "overflow_x": null,
            "grid_auto_flow": null,
            "grid_area": null,
            "grid_template_columns": null,
            "flex": null,
            "_model_name": "LayoutModel",
            "justify_items": null,
            "grid_row": null,
            "max_height": null,
            "align_content": null,
            "visibility": null,
            "align_self": null,
            "height": null,
            "min_height": null,
            "padding": null,
            "grid_auto_rows": null,
            "grid_gap": null,
            "max_width": null,
            "order": null,
            "_view_module_version": "1.2.0",
            "grid_template_areas": null,
            "object_position": null,
            "object_fit": null,
            "grid_auto_columns": null,
            "margin": null,
            "display": null,
            "left": null
          }
        },
        "7f9056bbbcc440fdb822c1929634cf67": {
          "model_module": "@jupyter-widgets/controls",
          "model_name": "DescriptionStyleModel",
          "state": {
            "_view_name": "StyleView",
            "_model_name": "DescriptionStyleModel",
            "description_width": "",
            "_view_module": "@jupyter-widgets/base",
            "_model_module_version": "1.5.0",
            "_view_count": null,
            "_view_module_version": "1.2.0",
            "_model_module": "@jupyter-widgets/controls"
          }
        },
        "8eabf73152404b04adb5edc42e522dbf": {
          "model_module": "@jupyter-widgets/base",
          "model_name": "LayoutModel",
          "state": {
            "_view_name": "LayoutView",
            "grid_template_rows": null,
            "right": null,
            "justify_content": null,
            "_view_module": "@jupyter-widgets/base",
            "overflow": null,
            "_model_module_version": "1.2.0",
            "_view_count": null,
            "flex_flow": null,
            "width": null,
            "min_width": null,
            "border": null,
            "align_items": null,
            "bottom": null,
            "_model_module": "@jupyter-widgets/base",
            "top": null,
            "grid_column": null,
            "overflow_y": null,
            "overflow_x": null,
            "grid_auto_flow": null,
            "grid_area": null,
            "grid_template_columns": null,
            "flex": null,
            "_model_name": "LayoutModel",
            "justify_items": null,
            "grid_row": null,
            "max_height": null,
            "align_content": null,
            "visibility": null,
            "align_self": null,
            "height": null,
            "min_height": null,
            "padding": null,
            "grid_auto_rows": null,
            "grid_gap": null,
            "max_width": null,
            "order": null,
            "_view_module_version": "1.2.0",
            "grid_template_areas": null,
            "object_position": null,
            "object_fit": null,
            "grid_auto_columns": null,
            "margin": null,
            "display": null,
            "left": null
          }
        },
        "a37d718a4fb5432b928bd1d419676a16": {
          "model_module": "@jupyter-widgets/controls",
          "model_name": "HBoxModel",
          "state": {
            "_view_name": "HBoxView",
            "_dom_classes": [],
            "_model_name": "HBoxModel",
            "_view_module": "@jupyter-widgets/controls",
            "_model_module_version": "1.5.0",
            "_view_count": null,
            "_view_module_version": "1.5.0",
            "box_style": "",
            "layout": "IPY_MODEL_f055bc5c300948bd85566c0c75638dbd",
            "_model_module": "@jupyter-widgets/controls",
            "children": [
              "IPY_MODEL_b3b2e11c4e6d4e688345912e6edf5d87",
              "IPY_MODEL_02f60b2cf7d541a49d56268b91440f26"
            ]
          }
        },
        "f055bc5c300948bd85566c0c75638dbd": {
          "model_module": "@jupyter-widgets/base",
          "model_name": "LayoutModel",
          "state": {
            "_view_name": "LayoutView",
            "grid_template_rows": null,
            "right": null,
            "justify_content": null,
            "_view_module": "@jupyter-widgets/base",
            "overflow": null,
            "_model_module_version": "1.2.0",
            "_view_count": null,
            "flex_flow": null,
            "width": null,
            "min_width": null,
            "border": null,
            "align_items": null,
            "bottom": null,
            "_model_module": "@jupyter-widgets/base",
            "top": null,
            "grid_column": null,
            "overflow_y": null,
            "overflow_x": null,
            "grid_auto_flow": null,
            "grid_area": null,
            "grid_template_columns": null,
            "flex": null,
            "_model_name": "LayoutModel",
            "justify_items": null,
            "grid_row": null,
            "max_height": null,
            "align_content": null,
            "visibility": null,
            "align_self": null,
            "height": null,
            "min_height": null,
            "padding": null,
            "grid_auto_rows": null,
            "grid_gap": null,
            "max_width": null,
            "order": null,
            "_view_module_version": "1.2.0",
            "grid_template_areas": null,
            "object_position": null,
            "object_fit": null,
            "grid_auto_columns": null,
            "margin": null,
            "display": null,
            "left": null
          }
        },
        "b3b2e11c4e6d4e688345912e6edf5d87": {
          "model_module": "@jupyter-widgets/controls",
          "model_name": "FloatProgressModel",
          "state": {
            "_view_name": "ProgressView",
            "style": "IPY_MODEL_1c036859aaf147789518dfdff623a545",
            "_dom_classes": [],
            "description": " 86%",
            "_model_name": "FloatProgressModel",
            "bar_style": "danger",
            "max": 67349,
            "_view_module": "@jupyter-widgets/controls",
            "_model_module_version": "1.5.0",
            "value": 57750,
            "_view_count": null,
            "_view_module_version": "1.5.0",
            "orientation": "horizontal",
            "min": 0,
            "description_tooltip": null,
            "_model_module": "@jupyter-widgets/controls",
            "layout": "IPY_MODEL_e3796f3be7894ec68f73b62185fc01f5"
          }
        },
        "02f60b2cf7d541a49d56268b91440f26": {
          "model_module": "@jupyter-widgets/controls",
          "model_name": "HTMLModel",
          "state": {
            "_view_name": "HTMLView",
            "style": "IPY_MODEL_e3a127bc318944a8859da18abd0aa67b",
            "_dom_classes": [],
            "description": "",
            "_model_name": "HTMLModel",
            "placeholder": "​",
            "_view_module": "@jupyter-widgets/controls",
            "_model_module_version": "1.5.0",
            "value": " 57750/67349 [00:00&lt;00:00, 28180.30 examples/s]",
            "_view_count": null,
            "_view_module_version": "1.5.0",
            "description_tooltip": null,
            "_model_module": "@jupyter-widgets/controls",
            "layout": "IPY_MODEL_107d03c29c44424d9e685aa02981833e"
          }
        },
        "1c036859aaf147789518dfdff623a545": {
          "model_module": "@jupyter-widgets/controls",
          "model_name": "ProgressStyleModel",
          "state": {
            "_view_name": "StyleView",
            "_model_name": "ProgressStyleModel",
            "description_width": "initial",
            "_view_module": "@jupyter-widgets/base",
            "_model_module_version": "1.5.0",
            "_view_count": null,
            "_view_module_version": "1.2.0",
            "bar_color": null,
            "_model_module": "@jupyter-widgets/controls"
          }
        },
        "e3796f3be7894ec68f73b62185fc01f5": {
          "model_module": "@jupyter-widgets/base",
          "model_name": "LayoutModel",
          "state": {
            "_view_name": "LayoutView",
            "grid_template_rows": null,
            "right": null,
            "justify_content": null,
            "_view_module": "@jupyter-widgets/base",
            "overflow": null,
            "_model_module_version": "1.2.0",
            "_view_count": null,
            "flex_flow": null,
            "width": null,
            "min_width": null,
            "border": null,
            "align_items": null,
            "bottom": null,
            "_model_module": "@jupyter-widgets/base",
            "top": null,
            "grid_column": null,
            "overflow_y": null,
            "overflow_x": null,
            "grid_auto_flow": null,
            "grid_area": null,
            "grid_template_columns": null,
            "flex": null,
            "_model_name": "LayoutModel",
            "justify_items": null,
            "grid_row": null,
            "max_height": null,
            "align_content": null,
            "visibility": null,
            "align_self": null,
            "height": null,
            "min_height": null,
            "padding": null,
            "grid_auto_rows": null,
            "grid_gap": null,
            "max_width": null,
            "order": null,
            "_view_module_version": "1.2.0",
            "grid_template_areas": null,
            "object_position": null,
            "object_fit": null,
            "grid_auto_columns": null,
            "margin": null,
            "display": null,
            "left": null
          }
        },
        "e3a127bc318944a8859da18abd0aa67b": {
          "model_module": "@jupyter-widgets/controls",
          "model_name": "DescriptionStyleModel",
          "state": {
            "_view_name": "StyleView",
            "_model_name": "DescriptionStyleModel",
            "description_width": "",
            "_view_module": "@jupyter-widgets/base",
            "_model_module_version": "1.5.0",
            "_view_count": null,
            "_view_module_version": "1.2.0",
            "_model_module": "@jupyter-widgets/controls"
          }
        },
        "107d03c29c44424d9e685aa02981833e": {
          "model_module": "@jupyter-widgets/base",
          "model_name": "LayoutModel",
          "state": {
            "_view_name": "LayoutView",
            "grid_template_rows": null,
            "right": null,
            "justify_content": null,
            "_view_module": "@jupyter-widgets/base",
            "overflow": null,
            "_model_module_version": "1.2.0",
            "_view_count": null,
            "flex_flow": null,
            "width": null,
            "min_width": null,
            "border": null,
            "align_items": null,
            "bottom": null,
            "_model_module": "@jupyter-widgets/base",
            "top": null,
            "grid_column": null,
            "overflow_y": null,
            "overflow_x": null,
            "grid_auto_flow": null,
            "grid_area": null,
            "grid_template_columns": null,
            "flex": null,
            "_model_name": "LayoutModel",
            "justify_items": null,
            "grid_row": null,
            "max_height": null,
            "align_content": null,
            "visibility": null,
            "align_self": null,
            "height": null,
            "min_height": null,
            "padding": null,
            "grid_auto_rows": null,
            "grid_gap": null,
            "max_width": null,
            "order": null,
            "_view_module_version": "1.2.0",
            "grid_template_areas": null,
            "object_position": null,
            "object_fit": null,
            "grid_auto_columns": null,
            "margin": null,
            "display": null,
            "left": null
          }
        },
        "1142fd2c1f2c44bb897b143ed82971fb": {
          "model_module": "@jupyter-widgets/controls",
          "model_name": "HBoxModel",
          "state": {
            "_view_name": "HBoxView",
            "_dom_classes": [],
            "_model_name": "HBoxModel",
            "_view_module": "@jupyter-widgets/controls",
            "_model_module_version": "1.5.0",
            "_view_count": null,
            "_view_module_version": "1.5.0",
            "box_style": "",
            "layout": "IPY_MODEL_a93d3c1a35c0434db6f9ffb5bf658ee9",
            "_model_module": "@jupyter-widgets/controls",
            "children": [
              "IPY_MODEL_0f48175cc9aa4ea4a947859151abef26",
              "IPY_MODEL_884a275a7793426eb60683c9d3a06838"
            ]
          }
        },
        "a93d3c1a35c0434db6f9ffb5bf658ee9": {
          "model_module": "@jupyter-widgets/base",
          "model_name": "LayoutModel",
          "state": {
            "_view_name": "LayoutView",
            "grid_template_rows": null,
            "right": null,
            "justify_content": null,
            "_view_module": "@jupyter-widgets/base",
            "overflow": null,
            "_model_module_version": "1.2.0",
            "_view_count": null,
            "flex_flow": null,
            "width": null,
            "min_width": null,
            "border": null,
            "align_items": null,
            "bottom": null,
            "_model_module": "@jupyter-widgets/base",
            "top": null,
            "grid_column": null,
            "overflow_y": null,
            "overflow_x": null,
            "grid_auto_flow": null,
            "grid_area": null,
            "grid_template_columns": null,
            "flex": null,
            "_model_name": "LayoutModel",
            "justify_items": null,
            "grid_row": null,
            "max_height": null,
            "align_content": null,
            "visibility": null,
            "align_self": null,
            "height": null,
            "min_height": null,
            "padding": null,
            "grid_auto_rows": null,
            "grid_gap": null,
            "max_width": null,
            "order": null,
            "_view_module_version": "1.2.0",
            "grid_template_areas": null,
            "object_position": null,
            "object_fit": null,
            "grid_auto_columns": null,
            "margin": null,
            "display": null,
            "left": null
          }
        },
        "0f48175cc9aa4ea4a947859151abef26": {
          "model_module": "@jupyter-widgets/controls",
          "model_name": "FloatProgressModel",
          "state": {
            "_view_name": "ProgressView",
            "style": "IPY_MODEL_8f17c08525c6489da43bea8e86385da1",
            "_dom_classes": [],
            "description": "",
            "_model_name": "FloatProgressModel",
            "bar_style": "info",
            "max": 1,
            "_view_module": "@jupyter-widgets/controls",
            "_model_module_version": "1.5.0",
            "value": 1,
            "_view_count": null,
            "_view_module_version": "1.5.0",
            "orientation": "horizontal",
            "min": 0,
            "description_tooltip": null,
            "_model_module": "@jupyter-widgets/controls",
            "layout": "IPY_MODEL_e656824c51d742bfad4546686f10fcce"
          }
        },
        "884a275a7793426eb60683c9d3a06838": {
          "model_module": "@jupyter-widgets/controls",
          "model_name": "HTMLModel",
          "state": {
            "_view_name": "HTMLView",
            "style": "IPY_MODEL_b74339b8ba7b4026b3824345db403361",
            "_dom_classes": [],
            "description": "",
            "_model_name": "HTMLModel",
            "placeholder": "​",
            "_view_module": "@jupyter-widgets/controls",
            "_model_module_version": "1.5.0",
            "value": " 872/0 [00:00&lt;00:00, 3196.31 examples/s]",
            "_view_count": null,
            "_view_module_version": "1.5.0",
            "description_tooltip": null,
            "_model_module": "@jupyter-widgets/controls",
            "layout": "IPY_MODEL_5a743453e8b64a13bf9d357ccccceae6"
          }
        },
        "8f17c08525c6489da43bea8e86385da1": {
          "model_module": "@jupyter-widgets/controls",
          "model_name": "ProgressStyleModel",
          "state": {
            "_view_name": "StyleView",
            "_model_name": "ProgressStyleModel",
            "description_width": "initial",
            "_view_module": "@jupyter-widgets/base",
            "_model_module_version": "1.5.0",
            "_view_count": null,
            "_view_module_version": "1.2.0",
            "bar_color": null,
            "_model_module": "@jupyter-widgets/controls"
          }
        },
        "e656824c51d742bfad4546686f10fcce": {
          "model_module": "@jupyter-widgets/base",
          "model_name": "LayoutModel",
          "state": {
            "_view_name": "LayoutView",
            "grid_template_rows": null,
            "right": null,
            "justify_content": null,
            "_view_module": "@jupyter-widgets/base",
            "overflow": null,
            "_model_module_version": "1.2.0",
            "_view_count": null,
            "flex_flow": null,
            "width": null,
            "min_width": null,
            "border": null,
            "align_items": null,
            "bottom": null,
            "_model_module": "@jupyter-widgets/base",
            "top": null,
            "grid_column": null,
            "overflow_y": null,
            "overflow_x": null,
            "grid_auto_flow": null,
            "grid_area": null,
            "grid_template_columns": null,
            "flex": null,
            "_model_name": "LayoutModel",
            "justify_items": null,
            "grid_row": null,
            "max_height": null,
            "align_content": null,
            "visibility": null,
            "align_self": null,
            "height": null,
            "min_height": null,
            "padding": null,
            "grid_auto_rows": null,
            "grid_gap": null,
            "max_width": null,
            "order": null,
            "_view_module_version": "1.2.0",
            "grid_template_areas": null,
            "object_position": null,
            "object_fit": null,
            "grid_auto_columns": null,
            "margin": null,
            "display": null,
            "left": null
          }
        },
        "b74339b8ba7b4026b3824345db403361": {
          "model_module": "@jupyter-widgets/controls",
          "model_name": "DescriptionStyleModel",
          "state": {
            "_view_name": "StyleView",
            "_model_name": "DescriptionStyleModel",
            "description_width": "",
            "_view_module": "@jupyter-widgets/base",
            "_model_module_version": "1.5.0",
            "_view_count": null,
            "_view_module_version": "1.2.0",
            "_model_module": "@jupyter-widgets/controls"
          }
        },
        "5a743453e8b64a13bf9d357ccccceae6": {
          "model_module": "@jupyter-widgets/base",
          "model_name": "LayoutModel",
          "state": {
            "_view_name": "LayoutView",
            "grid_template_rows": null,
            "right": null,
            "justify_content": null,
            "_view_module": "@jupyter-widgets/base",
            "overflow": null,
            "_model_module_version": "1.2.0",
            "_view_count": null,
            "flex_flow": null,
            "width": null,
            "min_width": null,
            "border": null,
            "align_items": null,
            "bottom": null,
            "_model_module": "@jupyter-widgets/base",
            "top": null,
            "grid_column": null,
            "overflow_y": null,
            "overflow_x": null,
            "grid_auto_flow": null,
            "grid_area": null,
            "grid_template_columns": null,
            "flex": null,
            "_model_name": "LayoutModel",
            "justify_items": null,
            "grid_row": null,
            "max_height": null,
            "align_content": null,
            "visibility": null,
            "align_self": null,
            "height": null,
            "min_height": null,
            "padding": null,
            "grid_auto_rows": null,
            "grid_gap": null,
            "max_width": null,
            "order": null,
            "_view_module_version": "1.2.0",
            "grid_template_areas": null,
            "object_position": null,
            "object_fit": null,
            "grid_auto_columns": null,
            "margin": null,
            "display": null,
            "left": null
          }
        },
        "3e40cd1e5ccd4567af182dc924bed889": {
          "model_module": "@jupyter-widgets/controls",
          "model_name": "HBoxModel",
          "state": {
            "_view_name": "HBoxView",
            "_dom_classes": [],
            "_model_name": "HBoxModel",
            "_view_module": "@jupyter-widgets/controls",
            "_model_module_version": "1.5.0",
            "_view_count": null,
            "_view_module_version": "1.5.0",
            "box_style": "",
            "layout": "IPY_MODEL_c923d13dc3704fa797f37e39ee4134c6",
            "_model_module": "@jupyter-widgets/controls",
            "children": [
              "IPY_MODEL_5d4818fa99d54c0bb41019e4cb11aa8b",
              "IPY_MODEL_a80097177dc841ab8e60cbcbc26953df"
            ]
          }
        },
        "c923d13dc3704fa797f37e39ee4134c6": {
          "model_module": "@jupyter-widgets/base",
          "model_name": "LayoutModel",
          "state": {
            "_view_name": "LayoutView",
            "grid_template_rows": null,
            "right": null,
            "justify_content": null,
            "_view_module": "@jupyter-widgets/base",
            "overflow": null,
            "_model_module_version": "1.2.0",
            "_view_count": null,
            "flex_flow": null,
            "width": null,
            "min_width": null,
            "border": null,
            "align_items": null,
            "bottom": null,
            "_model_module": "@jupyter-widgets/base",
            "top": null,
            "grid_column": null,
            "overflow_y": null,
            "overflow_x": null,
            "grid_auto_flow": null,
            "grid_area": null,
            "grid_template_columns": null,
            "flex": null,
            "_model_name": "LayoutModel",
            "justify_items": null,
            "grid_row": null,
            "max_height": null,
            "align_content": null,
            "visibility": null,
            "align_self": null,
            "height": null,
            "min_height": null,
            "padding": null,
            "grid_auto_rows": null,
            "grid_gap": null,
            "max_width": null,
            "order": null,
            "_view_module_version": "1.2.0",
            "grid_template_areas": null,
            "object_position": null,
            "object_fit": null,
            "grid_auto_columns": null,
            "margin": null,
            "display": null,
            "left": null
          }
        },
        "5d4818fa99d54c0bb41019e4cb11aa8b": {
          "model_module": "@jupyter-widgets/controls",
          "model_name": "FloatProgressModel",
          "state": {
            "_view_name": "ProgressView",
            "style": "IPY_MODEL_a5aa699cf78644518e4a994b95116ff6",
            "_dom_classes": [],
            "description": "  0%",
            "_model_name": "FloatProgressModel",
            "bar_style": "danger",
            "max": 872,
            "_view_module": "@jupyter-widgets/controls",
            "_model_module_version": "1.5.0",
            "value": 0,
            "_view_count": null,
            "_view_module_version": "1.5.0",
            "orientation": "horizontal",
            "min": 0,
            "description_tooltip": null,
            "_model_module": "@jupyter-widgets/controls",
            "layout": "IPY_MODEL_e4d89fcc31544770bf37a6e6819909ac"
          }
        },
        "a80097177dc841ab8e60cbcbc26953df": {
          "model_module": "@jupyter-widgets/controls",
          "model_name": "HTMLModel",
          "state": {
            "_view_name": "HTMLView",
            "style": "IPY_MODEL_4e7f60e9f6824c47b0c60ef967068295",
            "_dom_classes": [],
            "description": "",
            "_model_name": "HTMLModel",
            "placeholder": "​",
            "_view_module": "@jupyter-widgets/controls",
            "_model_module_version": "1.5.0",
            "value": " 0/872 [00:00&lt;?, ? examples/s]",
            "_view_count": null,
            "_view_module_version": "1.5.0",
            "description_tooltip": null,
            "_model_module": "@jupyter-widgets/controls",
            "layout": "IPY_MODEL_840c89b28d6940fb84b6a071ddc7f972"
          }
        },
        "a5aa699cf78644518e4a994b95116ff6": {
          "model_module": "@jupyter-widgets/controls",
          "model_name": "ProgressStyleModel",
          "state": {
            "_view_name": "StyleView",
            "_model_name": "ProgressStyleModel",
            "description_width": "initial",
            "_view_module": "@jupyter-widgets/base",
            "_model_module_version": "1.5.0",
            "_view_count": null,
            "_view_module_version": "1.2.0",
            "bar_color": null,
            "_model_module": "@jupyter-widgets/controls"
          }
        },
        "e4d89fcc31544770bf37a6e6819909ac": {
          "model_module": "@jupyter-widgets/base",
          "model_name": "LayoutModel",
          "state": {
            "_view_name": "LayoutView",
            "grid_template_rows": null,
            "right": null,
            "justify_content": null,
            "_view_module": "@jupyter-widgets/base",
            "overflow": null,
            "_model_module_version": "1.2.0",
            "_view_count": null,
            "flex_flow": null,
            "width": null,
            "min_width": null,
            "border": null,
            "align_items": null,
            "bottom": null,
            "_model_module": "@jupyter-widgets/base",
            "top": null,
            "grid_column": null,
            "overflow_y": null,
            "overflow_x": null,
            "grid_auto_flow": null,
            "grid_area": null,
            "grid_template_columns": null,
            "flex": null,
            "_model_name": "LayoutModel",
            "justify_items": null,
            "grid_row": null,
            "max_height": null,
            "align_content": null,
            "visibility": null,
            "align_self": null,
            "height": null,
            "min_height": null,
            "padding": null,
            "grid_auto_rows": null,
            "grid_gap": null,
            "max_width": null,
            "order": null,
            "_view_module_version": "1.2.0",
            "grid_template_areas": null,
            "object_position": null,
            "object_fit": null,
            "grid_auto_columns": null,
            "margin": null,
            "display": null,
            "left": null
          }
        },
        "4e7f60e9f6824c47b0c60ef967068295": {
          "model_module": "@jupyter-widgets/controls",
          "model_name": "DescriptionStyleModel",
          "state": {
            "_view_name": "StyleView",
            "_model_name": "DescriptionStyleModel",
            "description_width": "",
            "_view_module": "@jupyter-widgets/base",
            "_model_module_version": "1.5.0",
            "_view_count": null,
            "_view_module_version": "1.2.0",
            "_model_module": "@jupyter-widgets/controls"
          }
        },
        "840c89b28d6940fb84b6a071ddc7f972": {
          "model_module": "@jupyter-widgets/base",
          "model_name": "LayoutModel",
          "state": {
            "_view_name": "LayoutView",
            "grid_template_rows": null,
            "right": null,
            "justify_content": null,
            "_view_module": "@jupyter-widgets/base",
            "overflow": null,
            "_model_module_version": "1.2.0",
            "_view_count": null,
            "flex_flow": null,
            "width": null,
            "min_width": null,
            "border": null,
            "align_items": null,
            "bottom": null,
            "_model_module": "@jupyter-widgets/base",
            "top": null,
            "grid_column": null,
            "overflow_y": null,
            "overflow_x": null,
            "grid_auto_flow": null,
            "grid_area": null,
            "grid_template_columns": null,
            "flex": null,
            "_model_name": "LayoutModel",
            "justify_items": null,
            "grid_row": null,
            "max_height": null,
            "align_content": null,
            "visibility": null,
            "align_self": null,
            "height": null,
            "min_height": null,
            "padding": null,
            "grid_auto_rows": null,
            "grid_gap": null,
            "max_width": null,
            "order": null,
            "_view_module_version": "1.2.0",
            "grid_template_areas": null,
            "object_position": null,
            "object_fit": null,
            "grid_auto_columns": null,
            "margin": null,
            "display": null,
            "left": null
          }
        },
        "81f589445c7746408b0fd0231922bb03": {
          "model_module": "@jupyter-widgets/controls",
          "model_name": "HBoxModel",
          "state": {
            "_view_name": "HBoxView",
            "_dom_classes": [],
            "_model_name": "HBoxModel",
            "_view_module": "@jupyter-widgets/controls",
            "_model_module_version": "1.5.0",
            "_view_count": null,
            "_view_module_version": "1.5.0",
            "box_style": "",
            "layout": "IPY_MODEL_6a0b81ed14ab4894a4e3d75a68d59298",
            "_model_module": "@jupyter-widgets/controls",
            "children": [
              "IPY_MODEL_697e4f12d2074a2895a5d7d8c616f860",
              "IPY_MODEL_d8f8a2bfe413490db1a0efe48a802669"
            ]
          }
        },
        "6a0b81ed14ab4894a4e3d75a68d59298": {
          "model_module": "@jupyter-widgets/base",
          "model_name": "LayoutModel",
          "state": {
            "_view_name": "LayoutView",
            "grid_template_rows": null,
            "right": null,
            "justify_content": null,
            "_view_module": "@jupyter-widgets/base",
            "overflow": null,
            "_model_module_version": "1.2.0",
            "_view_count": null,
            "flex_flow": null,
            "width": null,
            "min_width": null,
            "border": null,
            "align_items": null,
            "bottom": null,
            "_model_module": "@jupyter-widgets/base",
            "top": null,
            "grid_column": null,
            "overflow_y": null,
            "overflow_x": null,
            "grid_auto_flow": null,
            "grid_area": null,
            "grid_template_columns": null,
            "flex": null,
            "_model_name": "LayoutModel",
            "justify_items": null,
            "grid_row": null,
            "max_height": null,
            "align_content": null,
            "visibility": null,
            "align_self": null,
            "height": null,
            "min_height": null,
            "padding": null,
            "grid_auto_rows": null,
            "grid_gap": null,
            "max_width": null,
            "order": null,
            "_view_module_version": "1.2.0",
            "grid_template_areas": null,
            "object_position": null,
            "object_fit": null,
            "grid_auto_columns": null,
            "margin": null,
            "display": null,
            "left": null
          }
        },
        "697e4f12d2074a2895a5d7d8c616f860": {
          "model_module": "@jupyter-widgets/controls",
          "model_name": "FloatProgressModel",
          "state": {
            "_view_name": "ProgressView",
            "style": "IPY_MODEL_6c277fc1f9ee49c68fcf4c6268a2be8e",
            "_dom_classes": [],
            "description": "",
            "_model_name": "FloatProgressModel",
            "bar_style": "info",
            "max": 1,
            "_view_module": "@jupyter-widgets/controls",
            "_model_module_version": "1.5.0",
            "value": 1,
            "_view_count": null,
            "_view_module_version": "1.5.0",
            "orientation": "horizontal",
            "min": 0,
            "description_tooltip": null,
            "_model_module": "@jupyter-widgets/controls",
            "layout": "IPY_MODEL_d2eb58b2925d430ea52f41994ad2e035"
          }
        },
        "d8f8a2bfe413490db1a0efe48a802669": {
          "model_module": "@jupyter-widgets/controls",
          "model_name": "HTMLModel",
          "state": {
            "_view_name": "HTMLView",
            "style": "IPY_MODEL_0f696ba6089a4f63bef2caf6c06268af",
            "_dom_classes": [],
            "description": "",
            "_model_name": "HTMLModel",
            "placeholder": "​",
            "_view_module": "@jupyter-widgets/controls",
            "_model_module_version": "1.5.0",
            "value": " 1821/0 [00:00&lt;00:00, 2942.56 examples/s]",
            "_view_count": null,
            "_view_module_version": "1.5.0",
            "description_tooltip": null,
            "_model_module": "@jupyter-widgets/controls",
            "layout": "IPY_MODEL_f600f0ddd36b4a9ca423c7b85c659c8e"
          }
        },
        "6c277fc1f9ee49c68fcf4c6268a2be8e": {
          "model_module": "@jupyter-widgets/controls",
          "model_name": "ProgressStyleModel",
          "state": {
            "_view_name": "StyleView",
            "_model_name": "ProgressStyleModel",
            "description_width": "initial",
            "_view_module": "@jupyter-widgets/base",
            "_model_module_version": "1.5.0",
            "_view_count": null,
            "_view_module_version": "1.2.0",
            "bar_color": null,
            "_model_module": "@jupyter-widgets/controls"
          }
        },
        "d2eb58b2925d430ea52f41994ad2e035": {
          "model_module": "@jupyter-widgets/base",
          "model_name": "LayoutModel",
          "state": {
            "_view_name": "LayoutView",
            "grid_template_rows": null,
            "right": null,
            "justify_content": null,
            "_view_module": "@jupyter-widgets/base",
            "overflow": null,
            "_model_module_version": "1.2.0",
            "_view_count": null,
            "flex_flow": null,
            "width": null,
            "min_width": null,
            "border": null,
            "align_items": null,
            "bottom": null,
            "_model_module": "@jupyter-widgets/base",
            "top": null,
            "grid_column": null,
            "overflow_y": null,
            "overflow_x": null,
            "grid_auto_flow": null,
            "grid_area": null,
            "grid_template_columns": null,
            "flex": null,
            "_model_name": "LayoutModel",
            "justify_items": null,
            "grid_row": null,
            "max_height": null,
            "align_content": null,
            "visibility": null,
            "align_self": null,
            "height": null,
            "min_height": null,
            "padding": null,
            "grid_auto_rows": null,
            "grid_gap": null,
            "max_width": null,
            "order": null,
            "_view_module_version": "1.2.0",
            "grid_template_areas": null,
            "object_position": null,
            "object_fit": null,
            "grid_auto_columns": null,
            "margin": null,
            "display": null,
            "left": null
          }
        },
        "0f696ba6089a4f63bef2caf6c06268af": {
          "model_module": "@jupyter-widgets/controls",
          "model_name": "DescriptionStyleModel",
          "state": {
            "_view_name": "StyleView",
            "_model_name": "DescriptionStyleModel",
            "description_width": "",
            "_view_module": "@jupyter-widgets/base",
            "_model_module_version": "1.5.0",
            "_view_count": null,
            "_view_module_version": "1.2.0",
            "_model_module": "@jupyter-widgets/controls"
          }
        },
        "f600f0ddd36b4a9ca423c7b85c659c8e": {
          "model_module": "@jupyter-widgets/base",
          "model_name": "LayoutModel",
          "state": {
            "_view_name": "LayoutView",
            "grid_template_rows": null,
            "right": null,
            "justify_content": null,
            "_view_module": "@jupyter-widgets/base",
            "overflow": null,
            "_model_module_version": "1.2.0",
            "_view_count": null,
            "flex_flow": null,
            "width": null,
            "min_width": null,
            "border": null,
            "align_items": null,
            "bottom": null,
            "_model_module": "@jupyter-widgets/base",
            "top": null,
            "grid_column": null,
            "overflow_y": null,
            "overflow_x": null,
            "grid_auto_flow": null,
            "grid_area": null,
            "grid_template_columns": null,
            "flex": null,
            "_model_name": "LayoutModel",
            "justify_items": null,
            "grid_row": null,
            "max_height": null,
            "align_content": null,
            "visibility": null,
            "align_self": null,
            "height": null,
            "min_height": null,
            "padding": null,
            "grid_auto_rows": null,
            "grid_gap": null,
            "max_width": null,
            "order": null,
            "_view_module_version": "1.2.0",
            "grid_template_areas": null,
            "object_position": null,
            "object_fit": null,
            "grid_auto_columns": null,
            "margin": null,
            "display": null,
            "left": null
          }
        },
        "19e50374e7f9456297a056b4fbccded1": {
          "model_module": "@jupyter-widgets/controls",
          "model_name": "HBoxModel",
          "state": {
            "_view_name": "HBoxView",
            "_dom_classes": [],
            "_model_name": "HBoxModel",
            "_view_module": "@jupyter-widgets/controls",
            "_model_module_version": "1.5.0",
            "_view_count": null,
            "_view_module_version": "1.5.0",
            "box_style": "",
            "layout": "IPY_MODEL_e1a2b9a30bb642c9b7366b7601309a97",
            "_model_module": "@jupyter-widgets/controls",
            "children": [
              "IPY_MODEL_82812b546e0e40f094b3dac55a4022fd",
              "IPY_MODEL_47e48d4e753d437e9f3be1b27aa54d99"
            ]
          }
        },
        "e1a2b9a30bb642c9b7366b7601309a97": {
          "model_module": "@jupyter-widgets/base",
          "model_name": "LayoutModel",
          "state": {
            "_view_name": "LayoutView",
            "grid_template_rows": null,
            "right": null,
            "justify_content": null,
            "_view_module": "@jupyter-widgets/base",
            "overflow": null,
            "_model_module_version": "1.2.0",
            "_view_count": null,
            "flex_flow": null,
            "width": null,
            "min_width": null,
            "border": null,
            "align_items": null,
            "bottom": null,
            "_model_module": "@jupyter-widgets/base",
            "top": null,
            "grid_column": null,
            "overflow_y": null,
            "overflow_x": null,
            "grid_auto_flow": null,
            "grid_area": null,
            "grid_template_columns": null,
            "flex": null,
            "_model_name": "LayoutModel",
            "justify_items": null,
            "grid_row": null,
            "max_height": null,
            "align_content": null,
            "visibility": null,
            "align_self": null,
            "height": null,
            "min_height": null,
            "padding": null,
            "grid_auto_rows": null,
            "grid_gap": null,
            "max_width": null,
            "order": null,
            "_view_module_version": "1.2.0",
            "grid_template_areas": null,
            "object_position": null,
            "object_fit": null,
            "grid_auto_columns": null,
            "margin": null,
            "display": null,
            "left": null
          }
        },
        "82812b546e0e40f094b3dac55a4022fd": {
          "model_module": "@jupyter-widgets/controls",
          "model_name": "FloatProgressModel",
          "state": {
            "_view_name": "ProgressView",
            "style": "IPY_MODEL_c4eacd8d5eb34598b3b65247b6dddca5",
            "_dom_classes": [],
            "description": "  0%",
            "_model_name": "FloatProgressModel",
            "bar_style": "danger",
            "max": 1821,
            "_view_module": "@jupyter-widgets/controls",
            "_model_module_version": "1.5.0",
            "value": 0,
            "_view_count": null,
            "_view_module_version": "1.5.0",
            "orientation": "horizontal",
            "min": 0,
            "description_tooltip": null,
            "_model_module": "@jupyter-widgets/controls",
            "layout": "IPY_MODEL_b099e91ab4fc41dca26c3211eefbd7d3"
          }
        },
        "47e48d4e753d437e9f3be1b27aa54d99": {
          "model_module": "@jupyter-widgets/controls",
          "model_name": "HTMLModel",
          "state": {
            "_view_name": "HTMLView",
            "style": "IPY_MODEL_05fa3ed3e6c044a48c9817a326aed44c",
            "_dom_classes": [],
            "description": "",
            "_model_name": "HTMLModel",
            "placeholder": "​",
            "_view_module": "@jupyter-widgets/controls",
            "_model_module_version": "1.5.0",
            "value": " 0/1821 [00:03&lt;?, ? examples/s]",
            "_view_count": null,
            "_view_module_version": "1.5.0",
            "description_tooltip": null,
            "_model_module": "@jupyter-widgets/controls",
            "layout": "IPY_MODEL_76ecf2a197704803bf76914bdb369a2e"
          }
        },
        "c4eacd8d5eb34598b3b65247b6dddca5": {
          "model_module": "@jupyter-widgets/controls",
          "model_name": "ProgressStyleModel",
          "state": {
            "_view_name": "StyleView",
            "_model_name": "ProgressStyleModel",
            "description_width": "initial",
            "_view_module": "@jupyter-widgets/base",
            "_model_module_version": "1.5.0",
            "_view_count": null,
            "_view_module_version": "1.2.0",
            "bar_color": null,
            "_model_module": "@jupyter-widgets/controls"
          }
        },
        "b099e91ab4fc41dca26c3211eefbd7d3": {
          "model_module": "@jupyter-widgets/base",
          "model_name": "LayoutModel",
          "state": {
            "_view_name": "LayoutView",
            "grid_template_rows": null,
            "right": null,
            "justify_content": null,
            "_view_module": "@jupyter-widgets/base",
            "overflow": null,
            "_model_module_version": "1.2.0",
            "_view_count": null,
            "flex_flow": null,
            "width": null,
            "min_width": null,
            "border": null,
            "align_items": null,
            "bottom": null,
            "_model_module": "@jupyter-widgets/base",
            "top": null,
            "grid_column": null,
            "overflow_y": null,
            "overflow_x": null,
            "grid_auto_flow": null,
            "grid_area": null,
            "grid_template_columns": null,
            "flex": null,
            "_model_name": "LayoutModel",
            "justify_items": null,
            "grid_row": null,
            "max_height": null,
            "align_content": null,
            "visibility": null,
            "align_self": null,
            "height": null,
            "min_height": null,
            "padding": null,
            "grid_auto_rows": null,
            "grid_gap": null,
            "max_width": null,
            "order": null,
            "_view_module_version": "1.2.0",
            "grid_template_areas": null,
            "object_position": null,
            "object_fit": null,
            "grid_auto_columns": null,
            "margin": null,
            "display": null,
            "left": null
          }
        },
        "05fa3ed3e6c044a48c9817a326aed44c": {
          "model_module": "@jupyter-widgets/controls",
          "model_name": "DescriptionStyleModel",
          "state": {
            "_view_name": "StyleView",
            "_model_name": "DescriptionStyleModel",
            "description_width": "",
            "_view_module": "@jupyter-widgets/base",
            "_model_module_version": "1.5.0",
            "_view_count": null,
            "_view_module_version": "1.2.0",
            "_model_module": "@jupyter-widgets/controls"
          }
        },
        "76ecf2a197704803bf76914bdb369a2e": {
          "model_module": "@jupyter-widgets/base",
          "model_name": "LayoutModel",
          "state": {
            "_view_name": "LayoutView",
            "grid_template_rows": null,
            "right": null,
            "justify_content": null,
            "_view_module": "@jupyter-widgets/base",
            "overflow": null,
            "_model_module_version": "1.2.0",
            "_view_count": null,
            "flex_flow": null,
            "width": null,
            "min_width": null,
            "border": null,
            "align_items": null,
            "bottom": null,
            "_model_module": "@jupyter-widgets/base",
            "top": null,
            "grid_column": null,
            "overflow_y": null,
            "overflow_x": null,
            "grid_auto_flow": null,
            "grid_area": null,
            "grid_template_columns": null,
            "flex": null,
            "_model_name": "LayoutModel",
            "justify_items": null,
            "grid_row": null,
            "max_height": null,
            "align_content": null,
            "visibility": null,
            "align_self": null,
            "height": null,
            "min_height": null,
            "padding": null,
            "grid_auto_rows": null,
            "grid_gap": null,
            "max_width": null,
            "order": null,
            "_view_module_version": "1.2.0",
            "grid_template_areas": null,
            "object_position": null,
            "object_fit": null,
            "grid_auto_columns": null,
            "margin": null,
            "display": null,
            "left": null
          }
        }
      }
    }
  },
  "cells": [
    {
      "cell_type": "markdown",
      "metadata": {
        "id": "view-in-github",
        "colab_type": "text"
      },
      "source": [
        "<a href=\"https://colab.research.google.com/github/DiegoSnach/The-final-project-GLUE/blob/master/2_FINAL_SST2_with_GLove.ipynb\" target=\"_parent\"><img src=\"https://colab.research.google.com/assets/colab-badge.svg\" alt=\"Open In Colab\"/></a>"
      ]
    },
    {
      "cell_type": "code",
      "metadata": {
        "id": "ktST6Um1SaQH",
        "colab_type": "code",
        "colab": {
          "base_uri": "https://localhost:8080/",
          "height": 90
        },
        "outputId": "726559ac-f4a7-4f69-848e-f6a73a78e283"
      },
      "source": [
        "\n",
        "from time import time\n",
        "import pandas as pd\n",
        "import numpy as np\n",
        "import re\n",
        "import matplotlib.pyplot as plt\n",
        "import seaborn as sns\n",
        "\n",
        "from keras.preprocessing.sequence import pad_sequences\n",
        "from keras.models import Model\n",
        "from keras.layers import Input, Embedding, LSTM, Lambda\n",
        "import keras.backend as K\n",
        "from keras.optimizers import Adadelta\n",
        "from keras.callbacks import ModelCheckpoint\n",
        "import os\n",
        "import numpy as np\n",
        "\n",
        "import tensorflow as tf \n",
        "import tensorflow_hub as hub\n",
        "import tensorflow_datasets as tfds\n",
        "import matplotlib.pyplot as plt\n",
        "\n",
        "print(\"GPU is\", \"available\" if tf.config.list_physical_devices('GPU') else \"NOT AVAILABLE\")"
      ],
      "execution_count": null,
      "outputs": [
        {
          "output_type": "stream",
          "text": [
            "/usr/local/lib/python3.6/dist-packages/statsmodels/tools/_testing.py:19: FutureWarning: pandas.util.testing is deprecated. Use the functions in the public API at pandas.testing instead.\n",
            "  import pandas.util.testing as tm\n"
          ],
          "name": "stderr"
        },
        {
          "output_type": "stream",
          "text": [
            "GPU is available\n"
          ],
          "name": "stdout"
        }
      ]
    },
    {
      "cell_type": "code",
      "metadata": {
        "id": "EPXLuuZRTndI",
        "colab_type": "code",
        "colab": {
          "base_uri": "https://localhost:8080/",
          "height": 460,
          "referenced_widgets": [
            "ec889bbf4ea4491790b8d17e9caf6973",
            "537bf45e8b73408680e46f6379b837ed",
            "27e959142b8f4e3391c88b3c1295a12a",
            "6c1235a6522f4c82a582d287d601d05d",
            "65208c34715e4174b3c45b7aab531a8f",
            "ccb6c30d4ac14f06980921c64772396f",
            "84e0077495c548ccb4bbf6b964cf0276",
            "f4c670fea46a4c3fa78111731f673522",
            "6df7d2f6c1064791a020165a0f8cba4d",
            "97946a6fb41e44798800d13edc46eb41",
            "8d34973077364d248bdacca9b5bdbc4c",
            "64e81e8cb8ee4fd6895d959dd5d67a16",
            "1e9456c0df4b484d8dfab3ef078bf8af",
            "573820f5bf1f4ef48894b72e1cfccd04",
            "44070331573b4490ac907cc828f76bde",
            "4871bece7551435d8c8df9c3ba331395",
            "3c0f38a36631461d8f5bdaa23a74aec1",
            "86d7fcc2c4f04b8d92aab3474e7e732f",
            "8321f669813c493986986f864a962d12",
            "d3c65b7a372a44ccbbfc203292c08cd8",
            "684ef39166444b498672f905890f3942",
            "9bddd5821d77403b98af63df5a5fc73d",
            "8bf3b02a22cb4e4ebd5a6d25dbd487cf",
            "11c93febe44e4623a8a7336cedfe75d9",
            "a4806a88e94443ef897ebd4cd56140bb",
            "f2aff33df5e64f2081530756bac947d5",
            "69b4f8936dff4fbbb61f80e81e4790c1",
            "1c25fec8aada49168bfa06f2c44baf04",
            "86c1f8db6ddd451ab5a9c6d05cb3f1b4",
            "41ff239cbfc74c64a2d861fae182e492",
            "7f9056bbbcc440fdb822c1929634cf67",
            "8eabf73152404b04adb5edc42e522dbf",
            "a37d718a4fb5432b928bd1d419676a16",
            "f055bc5c300948bd85566c0c75638dbd",
            "b3b2e11c4e6d4e688345912e6edf5d87",
            "02f60b2cf7d541a49d56268b91440f26",
            "1c036859aaf147789518dfdff623a545",
            "e3796f3be7894ec68f73b62185fc01f5",
            "e3a127bc318944a8859da18abd0aa67b",
            "107d03c29c44424d9e685aa02981833e",
            "1142fd2c1f2c44bb897b143ed82971fb",
            "a93d3c1a35c0434db6f9ffb5bf658ee9",
            "0f48175cc9aa4ea4a947859151abef26",
            "884a275a7793426eb60683c9d3a06838",
            "8f17c08525c6489da43bea8e86385da1",
            "e656824c51d742bfad4546686f10fcce",
            "b74339b8ba7b4026b3824345db403361",
            "5a743453e8b64a13bf9d357ccccceae6",
            "3e40cd1e5ccd4567af182dc924bed889",
            "c923d13dc3704fa797f37e39ee4134c6",
            "5d4818fa99d54c0bb41019e4cb11aa8b",
            "a80097177dc841ab8e60cbcbc26953df",
            "a5aa699cf78644518e4a994b95116ff6",
            "e4d89fcc31544770bf37a6e6819909ac",
            "4e7f60e9f6824c47b0c60ef967068295",
            "840c89b28d6940fb84b6a071ddc7f972",
            "81f589445c7746408b0fd0231922bb03",
            "6a0b81ed14ab4894a4e3d75a68d59298",
            "697e4f12d2074a2895a5d7d8c616f860",
            "d8f8a2bfe413490db1a0efe48a802669",
            "6c277fc1f9ee49c68fcf4c6268a2be8e",
            "d2eb58b2925d430ea52f41994ad2e035",
            "0f696ba6089a4f63bef2caf6c06268af",
            "f600f0ddd36b4a9ca423c7b85c659c8e",
            "19e50374e7f9456297a056b4fbccded1",
            "e1a2b9a30bb642c9b7366b7601309a97",
            "82812b546e0e40f094b3dac55a4022fd",
            "47e48d4e753d437e9f3be1b27aa54d99",
            "c4eacd8d5eb34598b3b65247b6dddca5",
            "b099e91ab4fc41dca26c3211eefbd7d3",
            "05fa3ed3e6c044a48c9817a326aed44c",
            "76ecf2a197704803bf76914bdb369a2e"
          ]
        },
        "outputId": "b0c608ea-a4ce-4297-99ad-4dd1de879bce"
      },
      "source": [
        "# if `batch_size=-1`, will return the full dataset as `tf.tensor`s. ABSOLUTELY FUNDAMENTAL!\n",
        "\n",
        "train_data, validation_data = tfds.load(name='glue/sst2', split=['train', 'validation'], batch_size=-1)"
      ],
      "execution_count": null,
      "outputs": [
        {
          "output_type": "stream",
          "text": [
            "\u001b[1mDownloading and preparing dataset glue/sst2/1.0.0 (download: 7.09 MiB, generated: Unknown size, total: 7.09 MiB) to /root/tensorflow_datasets/glue/sst2/1.0.0...\u001b[0m\n"
          ],
          "name": "stdout"
        },
        {
          "output_type": "display_data",
          "data": {
            "application/vnd.jupyter.widget-view+json": {
              "model_id": "ec889bbf4ea4491790b8d17e9caf6973",
              "version_minor": 0,
              "version_major": 2
            },
            "text/plain": [
              "HBox(children=(FloatProgress(value=1.0, bar_style='info', description='Dl Completed...', max=1.0, style=Progre…"
            ]
          },
          "metadata": {
            "tags": []
          }
        },
        {
          "output_type": "display_data",
          "data": {
            "application/vnd.jupyter.widget-view+json": {
              "model_id": "6df7d2f6c1064791a020165a0f8cba4d",
              "version_minor": 0,
              "version_major": 2
            },
            "text/plain": [
              "HBox(children=(FloatProgress(value=1.0, bar_style='info', description='Dl Size...', max=1.0, style=ProgressSty…"
            ]
          },
          "metadata": {
            "tags": []
          }
        },
        {
          "output_type": "display_data",
          "data": {
            "application/vnd.jupyter.widget-view+json": {
              "model_id": "3c0f38a36631461d8f5bdaa23a74aec1",
              "version_minor": 0,
              "version_major": 2
            },
            "text/plain": [
              "HBox(children=(FloatProgress(value=1.0, bar_style='info', description='Extraction completed...', max=1.0, styl…"
            ]
          },
          "metadata": {
            "tags": []
          }
        },
        {
          "output_type": "stream",
          "text": [
            "/usr/local/lib/python3.6/dist-packages/urllib3/connectionpool.py:847: InsecureRequestWarning: Unverified HTTPS request is being made. Adding certificate verification is strongly advised. See: https://urllib3.readthedocs.io/en/latest/advanced-usage.html#ssl-warnings\n",
            "  InsecureRequestWarning)\n"
          ],
          "name": "stderr"
        },
        {
          "output_type": "stream",
          "text": [
            "\n",
            "\n",
            "\n",
            "\n",
            "\n",
            "\n"
          ],
          "name": "stdout"
        },
        {
          "output_type": "display_data",
          "data": {
            "application/vnd.jupyter.widget-view+json": {
              "model_id": "a4806a88e94443ef897ebd4cd56140bb",
              "version_minor": 0,
              "version_major": 2
            },
            "text/plain": [
              "HBox(children=(FloatProgress(value=1.0, bar_style='info', max=1.0), HTML(value='')))"
            ]
          },
          "metadata": {
            "tags": []
          }
        },
        {
          "output_type": "stream",
          "text": [
            "\rShuffling and writing examples to /root/tensorflow_datasets/glue/sst2/1.0.0.incomplete3A16TL/glue-train.tfrecord\n"
          ],
          "name": "stdout"
        },
        {
          "output_type": "display_data",
          "data": {
            "application/vnd.jupyter.widget-view+json": {
              "model_id": "a37d718a4fb5432b928bd1d419676a16",
              "version_minor": 0,
              "version_major": 2
            },
            "text/plain": [
              "HBox(children=(FloatProgress(value=0.0, max=67349.0), HTML(value='')))"
            ]
          },
          "metadata": {
            "tags": []
          }
        },
        {
          "output_type": "stream",
          "text": [
            "\r"
          ],
          "name": "stdout"
        },
        {
          "output_type": "display_data",
          "data": {
            "application/vnd.jupyter.widget-view+json": {
              "model_id": "1142fd2c1f2c44bb897b143ed82971fb",
              "version_minor": 0,
              "version_major": 2
            },
            "text/plain": [
              "HBox(children=(FloatProgress(value=1.0, bar_style='info', max=1.0), HTML(value='')))"
            ]
          },
          "metadata": {
            "tags": []
          }
        },
        {
          "output_type": "stream",
          "text": [
            "\rShuffling and writing examples to /root/tensorflow_datasets/glue/sst2/1.0.0.incomplete3A16TL/glue-validation.tfrecord\n"
          ],
          "name": "stdout"
        },
        {
          "output_type": "display_data",
          "data": {
            "application/vnd.jupyter.widget-view+json": {
              "model_id": "3e40cd1e5ccd4567af182dc924bed889",
              "version_minor": 0,
              "version_major": 2
            },
            "text/plain": [
              "HBox(children=(FloatProgress(value=0.0, max=872.0), HTML(value='')))"
            ]
          },
          "metadata": {
            "tags": []
          }
        },
        {
          "output_type": "stream",
          "text": [
            "\r"
          ],
          "name": "stdout"
        },
        {
          "output_type": "display_data",
          "data": {
            "application/vnd.jupyter.widget-view+json": {
              "model_id": "81f589445c7746408b0fd0231922bb03",
              "version_minor": 0,
              "version_major": 2
            },
            "text/plain": [
              "HBox(children=(FloatProgress(value=1.0, bar_style='info', max=1.0), HTML(value='')))"
            ]
          },
          "metadata": {
            "tags": []
          }
        },
        {
          "output_type": "stream",
          "text": [
            "\rShuffling and writing examples to /root/tensorflow_datasets/glue/sst2/1.0.0.incomplete3A16TL/glue-test.tfrecord\n"
          ],
          "name": "stdout"
        },
        {
          "output_type": "display_data",
          "data": {
            "application/vnd.jupyter.widget-view+json": {
              "model_id": "19e50374e7f9456297a056b4fbccded1",
              "version_minor": 0,
              "version_major": 2
            },
            "text/plain": [
              "HBox(children=(FloatProgress(value=0.0, max=1821.0), HTML(value='')))"
            ]
          },
          "metadata": {
            "tags": []
          }
        },
        {
          "output_type": "stream",
          "text": [
            "\u001b[1mDataset glue downloaded and prepared to /root/tensorflow_datasets/glue/sst2/1.0.0. Subsequent calls will reuse this data.\u001b[0m\n"
          ],
          "name": "stdout"
        }
      ]
    },
    {
      "cell_type": "code",
      "metadata": {
        "id": "N7Wnyu-PCie4",
        "colab_type": "code",
        "colab": {
          "base_uri": "https://localhost:8080/",
          "height": 35
        },
        "outputId": "b59b28f3-25c8-4339-ac43-56ca0096e0ae"
      },
      "source": [
        "train_data.keys()"
      ],
      "execution_count": null,
      "outputs": [
        {
          "output_type": "execute_result",
          "data": {
            "text/plain": [
              "dict_keys(['idx', 'label', 'sentence'])"
            ]
          },
          "metadata": {
            "tags": []
          },
          "execution_count": 3
        }
      ]
    },
    {
      "cell_type": "code",
      "metadata": {
        "id": "8eRRC5kpCiRW",
        "colab_type": "code",
        "colab": {}
      },
      "source": [
        "df_train = pd.DataFrame(data=train_data)\n",
        "df_val = pd.DataFrame(data=validation_data)"
      ],
      "execution_count": null,
      "outputs": []
    },
    {
      "cell_type": "code",
      "metadata": {
        "id": "rzUQptyjMrSc",
        "colab_type": "code",
        "colab": {
          "base_uri": "https://localhost:8080/",
          "height": 411
        },
        "outputId": "98013c82-1de7-493d-a227-ff998be23829"
      },
      "source": [
        "df_train.loc[df_train['label']==0]"
      ],
      "execution_count": null,
      "outputs": [
        {
          "output_type": "execute_result",
          "data": {
            "text/html": [
              "<div>\n",
              "<style scoped>\n",
              "    .dataframe tbody tr th:only-of-type {\n",
              "        vertical-align: middle;\n",
              "    }\n",
              "\n",
              "    .dataframe tbody tr th {\n",
              "        vertical-align: top;\n",
              "    }\n",
              "\n",
              "    .dataframe thead th {\n",
              "        text-align: right;\n",
              "    }\n",
              "</style>\n",
              "<table border=\"1\" class=\"dataframe\">\n",
              "  <thead>\n",
              "    <tr style=\"text-align: right;\">\n",
              "      <th></th>\n",
              "      <th>idx</th>\n",
              "      <th>label</th>\n",
              "      <th>sentence</th>\n",
              "    </tr>\n",
              "  </thead>\n",
              "  <tbody>\n",
              "    <tr>\n",
              "      <th>0</th>\n",
              "      <td>16399</td>\n",
              "      <td>0</td>\n",
              "      <td>b'for the uninitiated plays better on video wi...</td>\n",
              "    </tr>\n",
              "    <tr>\n",
              "      <th>1</th>\n",
              "      <td>1680</td>\n",
              "      <td>0</td>\n",
              "      <td>b'like a giant commercial for universal studio...</td>\n",
              "    </tr>\n",
              "    <tr>\n",
              "      <th>4</th>\n",
              "      <td>27051</td>\n",
              "      <td>0</td>\n",
              "      <td>b', this cross-cultural soap opera is painfull...</td>\n",
              "    </tr>\n",
              "    <tr>\n",
              "      <th>6</th>\n",
              "      <td>54784</td>\n",
              "      <td>0</td>\n",
              "      <td>b'only masochistic moviegoers need apply . '</td>\n",
              "    </tr>\n",
              "    <tr>\n",
              "      <th>10</th>\n",
              "      <td>1456</td>\n",
              "      <td>0</td>\n",
              "      <td>b'revelatory nor truly edgy -- merely crassly ...</td>\n",
              "    </tr>\n",
              "    <tr>\n",
              "      <th>...</th>\n",
              "      <td>...</td>\n",
              "      <td>...</td>\n",
              "      <td>...</td>\n",
              "    </tr>\n",
              "    <tr>\n",
              "      <th>67342</th>\n",
              "      <td>32150</td>\n",
              "      <td>0</td>\n",
              "      <td>b\"too much ai n't - she-cute baggage into her ...</td>\n",
              "    </tr>\n",
              "    <tr>\n",
              "      <th>67343</th>\n",
              "      <td>47134</td>\n",
              "      <td>0</td>\n",
              "      <td>b'despite some charm and heart , this quirky s...</td>\n",
              "    </tr>\n",
              "    <tr>\n",
              "      <th>67344</th>\n",
              "      <td>10487</td>\n",
              "      <td>0</td>\n",
              "      <td>b'even worse than its title '</td>\n",
              "    </tr>\n",
              "    <tr>\n",
              "      <th>67347</th>\n",
              "      <td>32842</td>\n",
              "      <td>0</td>\n",
              "      <td>b'the very definition of what critics have com...</td>\n",
              "    </tr>\n",
              "    <tr>\n",
              "      <th>67348</th>\n",
              "      <td>50006</td>\n",
              "      <td>0</td>\n",
              "      <td>b'barn-burningly bad movie '</td>\n",
              "    </tr>\n",
              "  </tbody>\n",
              "</table>\n",
              "<p>29780 rows × 3 columns</p>\n",
              "</div>"
            ],
            "text/plain": [
              "         idx  label                                           sentence\n",
              "0      16399      0  b'for the uninitiated plays better on video wi...\n",
              "1       1680      0  b'like a giant commercial for universal studio...\n",
              "4      27051      0  b', this cross-cultural soap opera is painfull...\n",
              "6      54784      0       b'only masochistic moviegoers need apply . '\n",
              "10      1456      0  b'revelatory nor truly edgy -- merely crassly ...\n",
              "...      ...    ...                                                ...\n",
              "67342  32150      0  b\"too much ai n't - she-cute baggage into her ...\n",
              "67343  47134      0  b'despite some charm and heart , this quirky s...\n",
              "67344  10487      0                      b'even worse than its title '\n",
              "67347  32842      0  b'the very definition of what critics have com...\n",
              "67348  50006      0                       b'barn-burningly bad movie '\n",
              "\n",
              "[29780 rows x 3 columns]"
            ]
          },
          "metadata": {
            "tags": []
          },
          "execution_count": 5
        }
      ]
    },
    {
      "cell_type": "code",
      "metadata": {
        "id": "NCdbwdYZC5De",
        "colab_type": "code",
        "colab": {}
      },
      "source": [
        "# Creates function to clean data\n",
        "\n",
        "def process_data (data):\n",
        "  punct = \"/-?!.,#$%\\()*+-/:;<=>@[\\\\]^_`{|}~`\" + '\"\"“”’' + '∞θ÷α•à−β∅³π‘₹´°£€\\×™√²—–&'\n",
        "  def clean_the_text (text, punt):\n",
        "    for p in punct:\n",
        "      text = text.replace(p, ' ')\n",
        "      text = text.replace(\"b'\", ' ', 1)\n",
        "      text = text.replace('b\"', ' ', 1)\n",
        "    return text\n",
        "  \n",
        "  data =  data.astype(str).apply(lambda x: clean_the_text(x, punct))\n",
        "  return data  \n",
        " "
      ],
      "execution_count": null,
      "outputs": []
    },
    {
      "cell_type": "code",
      "metadata": {
        "id": "jP91rwgxecwm",
        "colab_type": "code",
        "colab": {
          "base_uri": "https://localhost:8080/",
          "height": 52
        },
        "outputId": "20420ea4-f156-4505-bd4e-9013d1c37fcd"
      },
      "source": [
        "# Transform data to string as it came as tensor object. Cleans data\n",
        "\n",
        "sentence = process_data(df_train.sentence.apply(str))\n",
        "label = df_train.label.apply(int)\n",
        "print(len(sentence))\n",
        "print(len(label))"
      ],
      "execution_count": null,
      "outputs": [
        {
          "output_type": "stream",
          "text": [
            "67349\n",
            "67349\n"
          ],
          "name": "stdout"
        }
      ]
    },
    {
      "cell_type": "code",
      "metadata": {
        "id": "JAhKnKCeikeo",
        "colab_type": "code",
        "colab": {
          "base_uri": "https://localhost:8080/",
          "height": 230
        },
        "outputId": "119bccf7-a9c3-468c-f769-6ffb1c28b1ef"
      },
      "source": [
        "sentence"
      ],
      "execution_count": null,
      "outputs": [
        {
          "output_type": "execute_result",
          "data": {
            "text/plain": [
              "0         for the uninitiated plays better on video wit...\n",
              "1         like a giant commercial for universal studios...\n",
              "2               company once again dazzle and delight us '\n",
              "3         's no surprise that as a director washington ...\n",
              "4           this cross cultural soap opera is painfully...\n",
              "                               ...                        \n",
              "67344                          even worse than its title '\n",
              "67345     an indispensable peek at the art and the agon...\n",
              "67346                                       more playful '\n",
              "67347     the very definition of what critics have come...\n",
              "67348                           barn burningly bad movie '\n",
              "Name: sentence, Length: 67349, dtype: object"
            ]
          },
          "metadata": {
            "tags": []
          },
          "execution_count": 8
        }
      ]
    },
    {
      "cell_type": "code",
      "metadata": {
        "id": "pIL5Jok7qhjx",
        "colab_type": "code",
        "colab": {
          "base_uri": "https://localhost:8080/",
          "height": 52
        },
        "outputId": "11bc975f-e91f-460e-ee81-220074d55007"
      },
      "source": [
        "# Transform data to string for validation as well\n",
        "\n",
        "val_sentence = process_data(df_val.sentence.apply(str))\n",
        "val_label = df_val.label\n",
        "print(len(val_sentence))\n",
        "print(len(val_label))"
      ],
      "execution_count": null,
      "outputs": [
        {
          "output_type": "stream",
          "text": [
            "872\n",
            "872\n"
          ],
          "name": "stdout"
        }
      ]
    },
    {
      "cell_type": "code",
      "metadata": {
        "id": "pG7jnEdkVIXS",
        "colab_type": "code",
        "colab": {
          "base_uri": "https://localhost:8080/",
          "height": 70
        },
        "outputId": "1933b4b7-f06e-47c2-8c62-659f31ac2213"
      },
      "source": [
        "# Check lenght of sentence\n",
        "\n",
        "count = sentence.apply(lambda x: len(str(x).split()))\n",
        "print('Mean: %f' % (count.mean()))\n",
        "print('Median: %f' % (count.median()))\n",
        "print('Max: %f' % (count.max()))"
      ],
      "execution_count": null,
      "outputs": [
        {
          "output_type": "stream",
          "text": [
            "Mean: 9.722876\n",
            "Median: 7.000000\n",
            "Max: 49.000000\n"
          ],
          "name": "stdout"
        }
      ]
    },
    {
      "cell_type": "code",
      "metadata": {
        "id": "hEH369MDaR5Q",
        "colab_type": "code",
        "colab": {}
      },
      "source": [
        "# Brings Tokenizer and sequences padder\n",
        "\n",
        "Tokenizer = tf.keras.preprocessing.text.Tokenizer\n",
        "pad_sequences = tf.keras.preprocessing.sequence.pad_sequences\n",
        "\n",
        "tokenizer = Tokenizer(num_words=20000)\n",
        "max_len = 32"
      ],
      "execution_count": null,
      "outputs": []
    },
    {
      "cell_type": "code",
      "metadata": {
        "id": "_yBBtmYVX1jr",
        "colab_type": "code",
        "colab": {
          "base_uri": "https://localhost:8080/",
          "height": 35
        },
        "outputId": "ebabe577-c760-4671-b87e-9165fbde1bb9"
      },
      "source": [
        "# Creates vocabulary with all unique tokens\n",
        "\n",
        "tokenizer.fit_on_texts(list(sentence) + list(val_sentence))\n",
        "vocab_size = len(tokenizer.word_index) + 1 # Because it counts from 0\n",
        "print(vocab_size)"
      ],
      "execution_count": null,
      "outputs": [
        {
          "output_type": "stream",
          "text": [
            "14651\n"
          ],
          "name": "stdout"
        }
      ]
    },
    {
      "cell_type": "code",
      "metadata": {
        "id": "N_gK24QwaSS8",
        "colab_type": "code",
        "colab": {
          "base_uri": "https://localhost:8080/",
          "height": 106
        },
        "outputId": "0be16f50-5a9d-43fe-eb87-4aabc5732446"
      },
      "source": [
        "# transforms sentences into integers and pads to maxlen\n",
        "\n",
        "encoded_sentences = tokenizer.texts_to_sequences(sentence)\n",
        "padded_sentences = pad_sequences(encoded_sentences, maxlen=max_len, padding='post')\n",
        "\n",
        "# Check\n",
        "print(sentence[0])\n",
        "print(encoded_sentences[0])\n",
        "print(padded_sentences[0])"
      ],
      "execution_count": null,
      "outputs": [
        {
          "output_type": "stream",
          "text": [
            " for the uninitiated plays better on video with the sound '\n",
            "[16, 2, 11788, 551, 119, 23, 278, 13, 2, 1212, 1]\n",
            "[   16     2 11788   551   119    23   278    13     2  1212     1     0\n",
            "     0     0     0     0     0     0     0     0     0     0     0     0\n",
            "     0     0     0     0     0     0     0     0]\n"
          ],
          "name": "stdout"
        }
      ]
    },
    {
      "cell_type": "code",
      "metadata": {
        "id": "r2FpfcK7tzpI",
        "colab_type": "code",
        "colab": {
          "base_uri": "https://localhost:8080/",
          "height": 106
        },
        "outputId": "3cc2bb03-8d5f-44e2-ebea-e8850c8f31e4"
      },
      "source": [
        "# Same for validation\n",
        "\n",
        "val_encoded_sentences = tokenizer.texts_to_sequences(val_sentence)\n",
        "val_padded_sentences = pad_sequences(val_encoded_sentences, maxlen=max_len, padding='post')\n",
        "\n",
        "# Check\n",
        "print(val_sentence[0])\n",
        "print(val_encoded_sentences[0])\n",
        "print(val_padded_sentences[0])"
      ],
      "execution_count": null,
      "outputs": [
        {
          "output_type": "stream",
          "text": [
            " a valueless kiddie paean to pro basketball underwritten by the nba   '\n",
            "[3, 13869, 1430, 8345, 6, 4737, 4851, 13870, 25, 2, 7587, 1]\n",
            "[    3 13869  1430  8345     6  4737  4851 13870    25     2  7587     1\n",
            "     0     0     0     0     0     0     0     0     0     0     0     0\n",
            "     0     0     0     0     0     0     0     0]\n"
          ],
          "name": "stdout"
        }
      ]
    },
    {
      "cell_type": "code",
      "metadata": {
        "id": "gCnv7tSWqzoQ",
        "colab_type": "code",
        "colab": {}
      },
      "source": [
        "# # download pretrained GloVe embeddings\n",
        "\n",
        "# !wget http://nlp.stanford.edu/data/glove.6B.zip\n",
        "\n",
        "# !unzip glove.6B.zip"
      ],
      "execution_count": null,
      "outputs": []
    },
    {
      "cell_type": "code",
      "metadata": {
        "id": "RkehWiYC85PR",
        "colab_type": "code",
        "colab": {
          "base_uri": "https://localhost:8080/",
          "height": 126
        },
        "outputId": "5529e1c1-b171-4faa-fc4d-b8da109edbbc"
      },
      "source": [
        "# Mount them from drive for quicker performance\n",
        "\n",
        "from google.colab import drive\n",
        "drive.mount('/content/gdrive')"
      ],
      "execution_count": null,
      "outputs": [
        {
          "output_type": "stream",
          "text": [
            "Go to this URL in a browser: https://accounts.google.com/o/oauth2/auth?client_id=947318989803-6bn6qk8qdgf4n4g3pfee6491hc0brc4i.apps.googleusercontent.com&redirect_uri=urn%3aietf%3awg%3aoauth%3a2.0%3aoob&response_type=code&scope=email%20https%3a%2f%2fwww.googleapis.com%2fauth%2fdocs.test%20https%3a%2f%2fwww.googleapis.com%2fauth%2fdrive%20https%3a%2f%2fwww.googleapis.com%2fauth%2fdrive.photos.readonly%20https%3a%2f%2fwww.googleapis.com%2fauth%2fpeopleapi.readonly\n",
            "\n",
            "Enter your authorization code:\n",
            "··········\n",
            "Mounted at /content/gdrive\n"
          ],
          "name": "stdout"
        }
      ]
    },
    {
      "cell_type": "code",
      "metadata": {
        "id": "sjX2lrsJ848-",
        "colab_type": "code",
        "colab": {
          "base_uri": "https://localhost:8080/",
          "height": 35
        },
        "outputId": "dadb2641-f333-48f5-a21e-a426550a67c2"
      },
      "source": [
        "# lists files\n",
        "\n",
        "!ls \"/content/gdrive/My Drive/Glove/glove.6B.300d.txt\""
      ],
      "execution_count": null,
      "outputs": [
        {
          "output_type": "stream",
          "text": [
            "'/content/gdrive/My Drive/Glove/glove.6B.300d.txt'\n"
          ],
          "name": "stdout"
        }
      ]
    },
    {
      "cell_type": "code",
      "metadata": {
        "id": "_v05K9iJ9Hx7",
        "colab_type": "code",
        "colab": {
          "base_uri": "https://localhost:8080/",
          "height": 35
        },
        "outputId": "95f9808b-e93e-48c1-8bf0-62e4420469af"
      },
      "source": [
        "# Creates dictionary of word embeddings\n",
        "\n",
        "glove_dir = './'\n",
        "\n",
        "embeddings_index = {} #initialize dictionary\n",
        "f = open(os.path.join('/content/gdrive/My Drive/Glove/glove.6B.300d.txt'))\n",
        "for line in f:\n",
        "    values = line.split()\n",
        "    word = values[0]\n",
        "    coefs = np.asarray(values[1:], dtype='float32')\n",
        "    embeddings_index[word] = coefs\n",
        "f.close()\n",
        "\n",
        "print('Found %s word vectors.' % len(embeddings_index))"
      ],
      "execution_count": null,
      "outputs": [
        {
          "output_type": "stream",
          "text": [
            "Found 400000 word vectors.\n"
          ],
          "name": "stdout"
        }
      ]
    },
    {
      "cell_type": "code",
      "metadata": {
        "id": "SUe68Vlqqu4f",
        "colab_type": "code",
        "colab": {}
      },
      "source": [
        "# Start with the embedding. Randomly initializing the zeros\n",
        "\n",
        "embedding_dimensions = 300\n",
        "\n",
        "embedding_matrix = np.zeros((vocab_size, embedding_dimensions))\n",
        "\n",
        "for word, i in tokenizer.word_index.items():\n",
        "  embedding_vector = embeddings_index.get(word)\n",
        "  if embedding_vector is not None:\n",
        "    embedding_matrix[i] = embedding_vector  "
      ],
      "execution_count": null,
      "outputs": []
    },
    {
      "cell_type": "code",
      "metadata": {
        "id": "8lAn5xh8s-gN",
        "colab_type": "code",
        "colab": {}
      },
      "source": [
        "from keras.models import Sequential\n",
        "from keras.layers import Dense, Dropout, Activation, Flatten, SpatialDropout1D\n",
        "from keras import layers"
      ],
      "execution_count": null,
      "outputs": []
    },
    {
      "cell_type": "code",
      "metadata": {
        "id": "m3O-qisytV0e",
        "colab_type": "code",
        "colab": {}
      },
      "source": [
        "embed = Embedding(vocab_size,embedding_dimensions,weights=[embedding_matrix],input_length=max_len, trainable=False)\n",
        "\n",
        "n_hidden = 50\n"
      ],
      "execution_count": null,
      "outputs": []
    },
    {
      "cell_type": "code",
      "metadata": {
        "id": "8WtjLJ0LvM0e",
        "colab_type": "code",
        "colab": {
          "base_uri": "https://localhost:8080/",
          "height": 301
        },
        "outputId": "3b86a1a3-490f-4df1-bb45-b4e970f17543"
      },
      "source": [
        "model = Sequential()\n",
        "model.add(embed)\n",
        "model.add(LSTM(n_hidden, dropout=0.2, activation='tanh', recurrent_dropout=0.2))\n",
        "preds = model.add(Dense(1, activation='sigmoid'))\n",
        "model.summary()"
      ],
      "execution_count": null,
      "outputs": [
        {
          "output_type": "stream",
          "text": [
            "WARNING:tensorflow:Layer lstm will not use cuDNN kernel since it doesn't meet the cuDNN kernel criteria. It will use generic GPU kernel as fallback when running on GPU\n"
          ],
          "name": "stdout"
        },
        {
          "output_type": "stream",
          "text": [
            "WARNING:tensorflow:Layer lstm will not use cuDNN kernel since it doesn't meet the cuDNN kernel criteria. It will use generic GPU kernel as fallback when running on GPU\n"
          ],
          "name": "stderr"
        },
        {
          "output_type": "stream",
          "text": [
            "Model: \"sequential\"\n",
            "_________________________________________________________________\n",
            "Layer (type)                 Output Shape              Param #   \n",
            "=================================================================\n",
            "embedding (Embedding)        (None, 32, 300)           4395300   \n",
            "_________________________________________________________________\n",
            "lstm (LSTM)                  (None, 50)                70200     \n",
            "_________________________________________________________________\n",
            "dense (Dense)                (None, 1)                 51        \n",
            "=================================================================\n",
            "Total params: 4,465,551\n",
            "Trainable params: 70,251\n",
            "Non-trainable params: 4,395,300\n",
            "_________________________________________________________________\n"
          ],
          "name": "stdout"
        }
      ]
    },
    {
      "cell_type": "code",
      "metadata": {
        "id": "hotDPZblWO1X",
        "colab_type": "code",
        "colab": {
          "base_uri": "https://localhost:8080/",
          "height": 219
        },
        "outputId": "86a4c5e0-0383-4fdf-fbd9-5eb6c5cb814a"
      },
      "source": [
        "# Plot model graph\n",
        "from keras.utils import plot_model\n",
        "plot_model(model, show_shapes=True, show_layer_names=True, to_file='model.png')\n",
        "from IPython.display import Image\n",
        "Image(retina=True, filename='model.png')"
      ],
      "execution_count": null,
      "outputs": [
        {
          "output_type": "execute_result",
          "data": {
            "image/png": "[encoded data removed]",
            "text/plain": [
              "<IPython.core.display.Image object>"
            ]
          },
          "metadata": {
            "tags": [],
            "image/png": {
              "width": 212,
              "height": 202
            }
          },
          "execution_count": 23
        }
      ]
    },
    {
      "cell_type": "code",
      "metadata": {
        "id": "wYtFjvHb4O3-",
        "colab_type": "code",
        "colab": {}
      },
      "source": [
        "model.compile(optimizer=tf.keras.optimizers.Adam(learning_rate=0.01),\n",
        "              loss=tf.keras.losses.binary_crossentropy,\n",
        "              metrics=['accuracy'])"
      ],
      "execution_count": null,
      "outputs": []
    },
    {
      "cell_type": "code",
      "metadata": {
        "id": "xY64oWRx6APh",
        "colab_type": "code",
        "colab": {
          "base_uri": "https://localhost:8080/",
          "height": 372
        },
        "outputId": "bc6b950f-a0db-49fd-9809-ea087a2c051d"
      },
      "source": [
        "# Early stopping to prevent under/over fitting\n",
        "from tensorflow.keras.callbacks import EarlyStopping\n",
        "earlystop = EarlyStopping(monitor='val_accuracy', min_delta=0, patience=5, verbose=0, mode='auto')\n",
        "\n",
        "history = model.fit(padded_sentences,\n",
        "                    label,                    \n",
        "                    epochs=10,\n",
        "                    batch_size=128,                                        \n",
        "                    validation_split = 0.2,\n",
        "                    verbose=True,              \n",
        "                    callbacks=[earlystop])"
      ],
      "execution_count": null,
      "outputs": [
        {
          "output_type": "stream",
          "text": [
            "Epoch 1/10\n",
            "421/421 [==============================] - 45s 108ms/step - loss: 0.4698 - accuracy: 0.7809 - val_loss: 0.3589 - val_accuracy: 0.8426\n",
            "Epoch 2/10\n",
            "421/421 [==============================] - 45s 107ms/step - loss: 0.3268 - accuracy: 0.8587 - val_loss: 0.2864 - val_accuracy: 0.8820\n",
            "Epoch 3/10\n",
            "421/421 [==============================] - 45s 107ms/step - loss: 0.2797 - accuracy: 0.8833 - val_loss: 0.2585 - val_accuracy: 0.8959\n",
            "Epoch 4/10\n",
            "421/421 [==============================] - 45s 106ms/step - loss: 0.2535 - accuracy: 0.8957 - val_loss: 0.2409 - val_accuracy: 0.9076\n",
            "Epoch 5/10\n",
            "421/421 [==============================] - 44s 106ms/step - loss: 0.2370 - accuracy: 0.9031 - val_loss: 0.2385 - val_accuracy: 0.9069\n",
            "Epoch 6/10\n",
            "421/421 [==============================] - 45s 106ms/step - loss: 0.2236 - accuracy: 0.9095 - val_loss: 0.2299 - val_accuracy: 0.9118\n",
            "Epoch 7/10\n",
            "421/421 [==============================] - 45s 106ms/step - loss: 0.2160 - accuracy: 0.9139 - val_loss: 0.2319 - val_accuracy: 0.9122\n",
            "Epoch 8/10\n",
            "421/421 [==============================] - 45s 107ms/step - loss: 0.2125 - accuracy: 0.9148 - val_loss: 0.2309 - val_accuracy: 0.9154\n",
            "Epoch 9/10\n",
            "421/421 [==============================] - 45s 107ms/step - loss: 0.2067 - accuracy: 0.9169 - val_loss: 0.2218 - val_accuracy: 0.9180\n",
            "Epoch 10/10\n",
            "421/421 [==============================] - 45s 106ms/step - loss: 0.2015 - accuracy: 0.9191 - val_loss: 0.2235 - val_accuracy: 0.9162\n"
          ],
          "name": "stdout"
        }
      ]
    },
    {
      "cell_type": "code",
      "metadata": {
        "id": "4guy3IKdLH4c",
        "colab_type": "code",
        "colab": {}
      },
      "source": [
        "# Uncomment and start again from Sequential to \n",
        "# Reset weights and retrain model\n",
        "\n",
        "# K.clear_session()\n",
        "# tf.keras.backend.clear_session()"
      ],
      "execution_count": null,
      "outputs": []
    },
    {
      "cell_type": "code",
      "metadata": {
        "id": "mBJ8kY1W6eKB",
        "colab_type": "code",
        "colab": {
          "base_uri": "https://localhost:8080/",
          "height": 70
        },
        "outputId": "33bba8e8-76c7-48aa-fa76-5432639f14cf"
      },
      "source": [
        "# Test evaluation\n",
        "print(\"Evaluate on test data\")\n",
        "\n",
        "results = model.evaluate(val_padded_sentences, val_label, batch_size=32)\n",
        "print(\"test loss, test acc:\", results)"
      ],
      "execution_count": null,
      "outputs": [
        {
          "output_type": "stream",
          "text": [
            "Evaluate on test data\n",
            "28/28 [==============================] - 0s 9ms/step - loss: 0.4644 - accuracy: 0.8291\n",
            "test loss, test acc: [0.46439775824546814, 0.8291284441947937]\n"
          ],
          "name": "stdout"
        }
      ]
    },
    {
      "cell_type": "code",
      "metadata": {
        "id": "OoxevEfi_5_S",
        "colab_type": "code",
        "colab": {}
      },
      "source": [
        ""
      ],
      "execution_count": null,
      "outputs": []
    },
    {
      "cell_type": "code",
      "metadata": {
        "id": "CZHdXF0M8BeJ",
        "colab_type": "code",
        "colab": {
          "base_uri": "https://localhost:8080/",
          "height": 195
        },
        "outputId": "535de35c-f9b6-4c3f-d7e8-fd52fa3a515f"
      },
      "source": [
        "import seaborn as sns\n",
        "\n",
        "\n",
        "# Plot Accuracy\n",
        "\n",
        "plt.subplot(211)\n",
        "plt.plot(history.history['accuracy'])\n",
        "plt.plot(history.history['val_accuracy'])\n",
        "plt.title('Model Accuracy')\n",
        "plt.ylabel('Accuracy')\n",
        "plt.xlabel('Epoch')\n",
        "plt.legend(['Train', 'Validation'], loc = 'lower right')"
      ],
      "execution_count": null,
      "outputs": [
        {
          "output_type": "execute_result",
          "data": {
            "text/plain": [
              "<matplotlib.legend.Legend at 0x7fe34a6ef208>"
            ]
          },
          "metadata": {
            "tags": []
          },
          "execution_count": 30
        },
        {
          "output_type": "display_data",
          "data": {
            "image/png": "[encoded data removed]",
            "text/plain": [
              "<Figure size 432x288 with 1 Axes>"
            ]
          },
          "metadata": {
            "tags": [],
            "needs_background": "light"
          }
        }
      ]
    },
    {
      "cell_type": "code",
      "metadata": {
        "id": "B7ScxEtMBTIG",
        "colab_type": "code",
        "colab": {}
      },
      "source": [
        "def make_model():\n",
        "  tf.keras.backend.clear_session() # Starts session from scratch\n",
        "  print('New experiment')\n",
        "  model = Sequential()\n",
        "  model.add(embed)\n",
        "  model.add(LSTM(n_hidden, dropout=0.2, activation='tanh', recurrent_dropout=0.2))\n",
        "  model.add(Dense(1, activation='sigmoid'))\n",
        "  # model.summary()\n",
        "  model.compile(optimizer=tf.keras.optimizers.Adam(learning_rate=0.01), \n",
        "                loss=tf.keras.losses.binary_crossentropy, \n",
        "                metrics=['accuracy'])\n",
        "  model.fit(padded_sentences, \n",
        "            label, \n",
        "            epochs=10, \n",
        "            batch_size=128,            \n",
        "            validation_split = 0.2, \n",
        "            verbose=2, \n",
        "            callbacks=[earlystop])\n",
        "  results2 = model.evaluate(val_padded_sentences, val_label)  \n",
        "  return results2"
      ],
      "execution_count": null,
      "outputs": []
    },
    {
      "cell_type": "code",
      "metadata": {
        "id": "THRzardOBS5e",
        "colab_type": "code",
        "colab": {
          "base_uri": "https://localhost:8080/",
          "height": 1000
        },
        "outputId": "a22a9d85-d753-4bab-ec12-8347f8536b9f"
      },
      "source": [
        "colection = [make_model() for _ in range (10)]"
      ],
      "execution_count": null,
      "outputs": [
        {
          "output_type": "stream",
          "text": [
            "New experiment\n",
            "WARNING:tensorflow:Layer lstm will not use cuDNN kernel since it doesn't meet the cuDNN kernel criteria. It will use generic GPU kernel as fallback when running on GPU\n"
          ],
          "name": "stdout"
        },
        {
          "output_type": "stream",
          "text": [
            "WARNING:tensorflow:Layer lstm will not use cuDNN kernel since it doesn't meet the cuDNN kernel criteria. It will use generic GPU kernel as fallback when running on GPU\n"
          ],
          "name": "stderr"
        },
        {
          "output_type": "stream",
          "text": [
            "Epoch 1/10\n",
            "421/421 - 47s - loss: 0.6214 - accuracy: 0.6473 - val_loss: 0.4740 - val_accuracy: 0.7961\n",
            "Epoch 2/10\n",
            "421/421 - 47s - loss: 0.3948 - accuracy: 0.8260 - val_loss: 0.3238 - val_accuracy: 0.8630\n",
            "Epoch 3/10\n",
            "421/421 - 47s - loss: 0.3208 - accuracy: 0.8620 - val_loss: 0.2889 - val_accuracy: 0.8820\n",
            "Epoch 4/10\n",
            "421/421 - 47s - loss: 0.2864 - accuracy: 0.8803 - val_loss: 0.2720 - val_accuracy: 0.8907\n",
            "Epoch 5/10\n",
            "421/421 - 47s - loss: 0.2659 - accuracy: 0.8918 - val_loss: 0.2507 - val_accuracy: 0.9010\n",
            "Epoch 6/10\n",
            "421/421 - 47s - loss: 0.2480 - accuracy: 0.8980 - val_loss: 0.2453 - val_accuracy: 0.9029\n",
            "Epoch 7/10\n",
            "421/421 - 47s - loss: 0.2403 - accuracy: 0.9021 - val_loss: 0.2418 - val_accuracy: 0.9059\n",
            "Epoch 8/10\n",
            "421/421 - 46s - loss: 0.2316 - accuracy: 0.9068 - val_loss: 0.2469 - val_accuracy: 0.9068\n",
            "Epoch 9/10\n",
            "421/421 - 47s - loss: 0.2252 - accuracy: 0.9100 - val_loss: 0.2368 - val_accuracy: 0.9097\n",
            "Epoch 10/10\n",
            "421/421 - 47s - loss: 0.2214 - accuracy: 0.9120 - val_loss: 0.2278 - val_accuracy: 0.9140\n",
            "28/28 [==============================] - 0s 11ms/step - loss: 0.4629 - accuracy: 0.8154\n",
            "New experiment\n",
            "WARNING:tensorflow:Layer lstm will not use cuDNN kernel since it doesn't meet the cuDNN kernel criteria. It will use generic GPU kernel as fallback when running on GPU\n"
          ],
          "name": "stdout"
        },
        {
          "output_type": "stream",
          "text": [
            "WARNING:tensorflow:Layer lstm will not use cuDNN kernel since it doesn't meet the cuDNN kernel criteria. It will use generic GPU kernel as fallback when running on GPU\n"
          ],
          "name": "stderr"
        },
        {
          "output_type": "stream",
          "text": [
            "Epoch 1/10\n",
            "421/421 - 47s - loss: 0.6313 - accuracy: 0.6357 - val_loss: 0.4438 - val_accuracy: 0.8020\n",
            "Epoch 2/10\n",
            "421/421 - 47s - loss: 0.3925 - accuracy: 0.8267 - val_loss: 0.3288 - val_accuracy: 0.8601\n",
            "Epoch 3/10\n",
            "421/421 - 47s - loss: 0.3226 - accuracy: 0.8615 - val_loss: 0.2897 - val_accuracy: 0.8780\n",
            "Epoch 4/10\n",
            "421/421 - 47s - loss: 0.2871 - accuracy: 0.8810 - val_loss: 0.2614 - val_accuracy: 0.8945\n",
            "Epoch 5/10\n",
            "421/421 - 47s - loss: 0.2704 - accuracy: 0.8887 - val_loss: 0.2725 - val_accuracy: 0.8881\n",
            "Epoch 6/10\n",
            "421/421 - 47s - loss: 0.2495 - accuracy: 0.8989 - val_loss: 0.2414 - val_accuracy: 0.9042\n",
            "Epoch 7/10\n",
            "421/421 - 47s - loss: 0.2374 - accuracy: 0.9045 - val_loss: 0.2407 - val_accuracy: 0.9082\n",
            "Epoch 8/10\n",
            "421/421 - 47s - loss: 0.2282 - accuracy: 0.9079 - val_loss: 0.2317 - val_accuracy: 0.9120\n",
            "Epoch 9/10\n",
            "421/421 - 47s - loss: 0.2239 - accuracy: 0.9092 - val_loss: 0.2274 - val_accuracy: 0.9136\n",
            "Epoch 10/10\n",
            "421/421 - 47s - loss: 0.2157 - accuracy: 0.9141 - val_loss: 0.2243 - val_accuracy: 0.9154\n",
            "28/28 [==============================] - 0s 11ms/step - loss: 0.4518 - accuracy: 0.8280\n",
            "New experiment\n",
            "WARNING:tensorflow:Layer lstm will not use cuDNN kernel since it doesn't meet the cuDNN kernel criteria. It will use generic GPU kernel as fallback when running on GPU\n"
          ],
          "name": "stdout"
        },
        {
          "output_type": "stream",
          "text": [
            "WARNING:tensorflow:Layer lstm will not use cuDNN kernel since it doesn't meet the cuDNN kernel criteria. It will use generic GPU kernel as fallback when running on GPU\n"
          ],
          "name": "stderr"
        },
        {
          "output_type": "stream",
          "text": [
            "Epoch 1/10\n",
            "421/421 - 47s - loss: 0.6789 - accuracy: 0.5612 - val_loss: 0.6861 - val_accuracy: 0.5586\n",
            "Epoch 2/10\n",
            "421/421 - 47s - loss: 0.4251 - accuracy: 0.7993 - val_loss: 0.3310 - val_accuracy: 0.8593\n",
            "Epoch 3/10\n",
            "421/421 - 47s - loss: 0.3063 - accuracy: 0.8709 - val_loss: 0.2791 - val_accuracy: 0.8860\n",
            "Epoch 4/10\n",
            "421/421 - 47s - loss: 0.2747 - accuracy: 0.8862 - val_loss: 0.2699 - val_accuracy: 0.8886\n",
            "Epoch 5/10\n",
            "421/421 - 47s - loss: 0.2522 - accuracy: 0.8973 - val_loss: 0.2500 - val_accuracy: 0.9014\n",
            "Epoch 6/10\n",
            "421/421 - 47s - loss: 0.2383 - accuracy: 0.9021 - val_loss: 0.2417 - val_accuracy: 0.9033\n",
            "Epoch 7/10\n",
            "421/421 - 47s - loss: 0.2294 - accuracy: 0.9066 - val_loss: 0.2331 - val_accuracy: 0.9086\n",
            "Epoch 8/10\n",
            "421/421 - 46s - loss: 0.2215 - accuracy: 0.9115 - val_loss: 0.2265 - val_accuracy: 0.9148\n",
            "Epoch 9/10\n",
            "421/421 - 46s - loss: 0.2149 - accuracy: 0.9142 - val_loss: 0.2293 - val_accuracy: 0.9137\n",
            "Epoch 10/10\n",
            "421/421 - 46s - loss: 0.2120 - accuracy: 0.9161 - val_loss: 0.2313 - val_accuracy: 0.9108\n",
            "28/28 [==============================] - 0s 11ms/step - loss: 0.4326 - accuracy: 0.8200\n",
            "New experiment\n",
            "WARNING:tensorflow:Layer lstm will not use cuDNN kernel since it doesn't meet the cuDNN kernel criteria. It will use generic GPU kernel as fallback when running on GPU\n"
          ],
          "name": "stdout"
        },
        {
          "output_type": "stream",
          "text": [
            "WARNING:tensorflow:Layer lstm will not use cuDNN kernel since it doesn't meet the cuDNN kernel criteria. It will use generic GPU kernel as fallback when running on GPU\n"
          ],
          "name": "stderr"
        },
        {
          "output_type": "stream",
          "text": [
            "Epoch 1/10\n",
            "421/421 - 45s - loss: 0.5341 - accuracy: 0.7351 - val_loss: 0.3994 - val_accuracy: 0.8324\n",
            "Epoch 2/10\n",
            "421/421 - 47s - loss: 0.3934 - accuracy: 0.8297 - val_loss: 0.3389 - val_accuracy: 0.8594\n",
            "Epoch 3/10\n",
            "421/421 - 47s - loss: 0.3388 - accuracy: 0.8551 - val_loss: 0.3029 - val_accuracy: 0.8731\n",
            "Epoch 4/10\n",
            "421/421 - 46s - loss: 0.3035 - accuracy: 0.8723 - val_loss: 0.2682 - val_accuracy: 0.8912\n",
            "Epoch 5/10\n",
            "421/421 - 46s - loss: 0.2747 - accuracy: 0.8870 - val_loss: 0.2527 - val_accuracy: 0.9007\n",
            "Epoch 6/10\n",
            "421/421 - 46s - loss: 0.2591 - accuracy: 0.8924 - val_loss: 0.2439 - val_accuracy: 0.9036\n",
            "Epoch 7/10\n",
            "421/421 - 45s - loss: 0.2439 - accuracy: 0.8999 - val_loss: 0.2385 - val_accuracy: 0.9079\n",
            "Epoch 8/10\n",
            "421/421 - 45s - loss: 0.2341 - accuracy: 0.9058 - val_loss: 0.2350 - val_accuracy: 0.9089\n",
            "Epoch 9/10\n",
            "421/421 - 45s - loss: 0.2255 - accuracy: 0.9094 - val_loss: 0.2490 - val_accuracy: 0.9022\n",
            "Epoch 10/10\n",
            "421/421 - 45s - loss: 0.2232 - accuracy: 0.9105 - val_loss: 0.2286 - val_accuracy: 0.9126\n",
            "28/28 [==============================] - 0s 11ms/step - loss: 0.4444 - accuracy: 0.8280\n",
            "New experiment\n",
            "WARNING:tensorflow:Layer lstm will not use cuDNN kernel since it doesn't meet the cuDNN kernel criteria. It will use generic GPU kernel as fallback when running on GPU\n"
          ],
          "name": "stdout"
        },
        {
          "output_type": "stream",
          "text": [
            "WARNING:tensorflow:Layer lstm will not use cuDNN kernel since it doesn't meet the cuDNN kernel criteria. It will use generic GPU kernel as fallback when running on GPU\n"
          ],
          "name": "stderr"
        },
        {
          "output_type": "stream",
          "text": [
            "Epoch 1/10\n",
            "421/421 - 45s - loss: 0.4001 - accuracy: 0.8195 - val_loss: 0.3113 - val_accuracy: 0.8710\n",
            "Epoch 2/10\n",
            "421/421 - 44s - loss: 0.2964 - accuracy: 0.8742 - val_loss: 0.2720 - val_accuracy: 0.8892\n",
            "Epoch 3/10\n",
            "421/421 - 44s - loss: 0.2577 - accuracy: 0.8939 - val_loss: 0.2425 - val_accuracy: 0.9037\n",
            "Epoch 4/10\n",
            "421/421 - 44s - loss: 0.2377 - accuracy: 0.9019 - val_loss: 0.2376 - val_accuracy: 0.9093\n",
            "Epoch 5/10\n",
            "421/421 - 45s - loss: 0.2225 - accuracy: 0.9104 - val_loss: 0.2301 - val_accuracy: 0.9113\n",
            "Epoch 6/10\n",
            "421/421 - 45s - loss: 0.2140 - accuracy: 0.9139 - val_loss: 0.2383 - val_accuracy: 0.9114\n",
            "Epoch 7/10\n",
            "421/421 - 45s - loss: 0.2069 - accuracy: 0.9174 - val_loss: 0.2201 - val_accuracy: 0.9184\n",
            "Epoch 8/10\n",
            "421/421 - 44s - loss: 0.2009 - accuracy: 0.9185 - val_loss: 0.2214 - val_accuracy: 0.9167\n",
            "Epoch 9/10\n",
            "421/421 - 44s - loss: 0.1946 - accuracy: 0.9232 - val_loss: 0.2256 - val_accuracy: 0.9155\n",
            "Epoch 10/10\n",
            "421/421 - 43s - loss: 0.1920 - accuracy: 0.9232 - val_loss: 0.2213 - val_accuracy: 0.9177\n",
            "28/28 [==============================] - 0s 10ms/step - loss: 0.4564 - accuracy: 0.8337\n",
            "New experiment\n",
            "WARNING:tensorflow:Layer lstm will not use cuDNN kernel since it doesn't meet the cuDNN kernel criteria. It will use generic GPU kernel as fallback when running on GPU\n"
          ],
          "name": "stdout"
        },
        {
          "output_type": "stream",
          "text": [
            "WARNING:tensorflow:Layer lstm will not use cuDNN kernel since it doesn't meet the cuDNN kernel criteria. It will use generic GPU kernel as fallback when running on GPU\n"
          ],
          "name": "stderr"
        },
        {
          "output_type": "stream",
          "text": [
            "Epoch 1/10\n",
            "421/421 - 44s - loss: 0.6691 - accuracy: 0.5879 - val_loss: 0.6701 - val_accuracy: 0.5837\n",
            "Epoch 2/10\n",
            "421/421 - 44s - loss: 0.4916 - accuracy: 0.7532 - val_loss: 0.3638 - val_accuracy: 0.8463\n",
            "Epoch 3/10\n",
            "421/421 - 44s - loss: 0.3577 - accuracy: 0.8480 - val_loss: 0.3161 - val_accuracy: 0.8689\n",
            "Epoch 4/10\n",
            "421/421 - 44s - loss: 0.3195 - accuracy: 0.8650 - val_loss: 0.2833 - val_accuracy: 0.8866\n",
            "Epoch 5/10\n",
            "421/421 - 43s - loss: 0.2877 - accuracy: 0.8809 - val_loss: 0.2685 - val_accuracy: 0.8915\n",
            "Epoch 6/10\n",
            "421/421 - 44s - loss: 0.2681 - accuracy: 0.8904 - val_loss: 0.2538 - val_accuracy: 0.9011\n",
            "Epoch 7/10\n",
            "421/421 - 44s - loss: 0.2509 - accuracy: 0.8967 - val_loss: 0.2439 - val_accuracy: 0.9059\n",
            "Epoch 8/10\n",
            "421/421 - 44s - loss: 0.2380 - accuracy: 0.9038 - val_loss: 0.2341 - val_accuracy: 0.9086\n",
            "Epoch 9/10\n",
            "421/421 - 43s - loss: 0.2264 - accuracy: 0.9091 - val_loss: 0.2247 - val_accuracy: 0.9120\n",
            "Epoch 10/10\n",
            "421/421 - 43s - loss: 0.2201 - accuracy: 0.9119 - val_loss: 0.2200 - val_accuracy: 0.9146\n",
            "28/28 [==============================] - 0s 11ms/step - loss: 0.4140 - accuracy: 0.8234\n",
            "New experiment\n",
            "WARNING:tensorflow:Layer lstm will not use cuDNN kernel since it doesn't meet the cuDNN kernel criteria. It will use generic GPU kernel as fallback when running on GPU\n"
          ],
          "name": "stdout"
        },
        {
          "output_type": "stream",
          "text": [
            "WARNING:tensorflow:Layer lstm will not use cuDNN kernel since it doesn't meet the cuDNN kernel criteria. It will use generic GPU kernel as fallback when running on GPU\n"
          ],
          "name": "stderr"
        },
        {
          "output_type": "stream",
          "text": [
            "Epoch 1/10\n",
            "421/421 - 43s - loss: 0.5927 - accuracy: 0.7028 - val_loss: 0.5883 - val_accuracy: 0.7310\n",
            "Epoch 2/10\n",
            "421/421 - 43s - loss: 0.6433 - accuracy: 0.6306 - val_loss: 0.4901 - val_accuracy: 0.7702\n",
            "Epoch 3/10\n",
            "421/421 - 43s - loss: 0.4209 - accuracy: 0.8145 - val_loss: 0.3622 - val_accuracy: 0.8469\n",
            "Epoch 4/10\n",
            "421/421 - 43s - loss: 0.3551 - accuracy: 0.8493 - val_loss: 0.3156 - val_accuracy: 0.8714\n",
            "Epoch 5/10\n",
            "421/421 - 42s - loss: 0.3200 - accuracy: 0.8645 - val_loss: 0.3008 - val_accuracy: 0.8794\n",
            "Epoch 6/10\n",
            "421/421 - 43s - loss: 0.2968 - accuracy: 0.8765 - val_loss: 0.2767 - val_accuracy: 0.8899\n",
            "Epoch 7/10\n",
            "421/421 - 43s - loss: 0.2781 - accuracy: 0.8860 - val_loss: 0.2675 - val_accuracy: 0.8942\n",
            "Epoch 8/10\n",
            "421/421 - 43s - loss: 0.2645 - accuracy: 0.8913 - val_loss: 0.2584 - val_accuracy: 0.8978\n",
            "Epoch 9/10\n",
            "421/421 - 43s - loss: 0.2526 - accuracy: 0.8962 - val_loss: 0.2568 - val_accuracy: 0.8981\n",
            "Epoch 10/10\n",
            "421/421 - 43s - loss: 0.2409 - accuracy: 0.9023 - val_loss: 0.2438 - val_accuracy: 0.9047\n",
            "28/28 [==============================] - 0s 10ms/step - loss: 0.4218 - accuracy: 0.8108\n",
            "New experiment\n",
            "WARNING:tensorflow:Layer lstm will not use cuDNN kernel since it doesn't meet the cuDNN kernel criteria. It will use generic GPU kernel as fallback when running on GPU\n"
          ],
          "name": "stdout"
        },
        {
          "output_type": "stream",
          "text": [
            "WARNING:tensorflow:Layer lstm will not use cuDNN kernel since it doesn't meet the cuDNN kernel criteria. It will use generic GPU kernel as fallback when running on GPU\n"
          ],
          "name": "stderr"
        },
        {
          "output_type": "stream",
          "text": [
            "Epoch 1/10\n",
            "421/421 - 43s - loss: 0.4146 - accuracy: 0.8102 - val_loss: 0.3169 - val_accuracy: 0.8652\n",
            "Epoch 2/10\n",
            "421/421 - 43s - loss: 0.3033 - accuracy: 0.8729 - val_loss: 0.2666 - val_accuracy: 0.8941\n",
            "Epoch 3/10\n",
            "421/421 - 43s - loss: 0.2592 - accuracy: 0.8928 - val_loss: 0.2522 - val_accuracy: 0.8958\n",
            "Epoch 4/10\n",
            "421/421 - 43s - loss: 0.2375 - accuracy: 0.9017 - val_loss: 0.2328 - val_accuracy: 0.9108\n",
            "Epoch 5/10\n",
            "421/421 - 43s - loss: 0.2214 - accuracy: 0.9094 - val_loss: 0.2345 - val_accuracy: 0.9089\n",
            "Epoch 6/10\n",
            "421/421 - 43s - loss: 0.2127 - accuracy: 0.9138 - val_loss: 0.2200 - val_accuracy: 0.9182\n",
            "Epoch 7/10\n",
            "421/421 - 43s - loss: 0.2019 - accuracy: 0.9187 - val_loss: 0.2207 - val_accuracy: 0.9160\n",
            "Epoch 8/10\n",
            "421/421 - 43s - loss: 0.1997 - accuracy: 0.9195 - val_loss: 0.2212 - val_accuracy: 0.9164\n",
            "Epoch 9/10\n",
            "421/421 - 43s - loss: 0.1918 - accuracy: 0.9240 - val_loss: 0.2147 - val_accuracy: 0.9176\n",
            "Epoch 10/10\n",
            "421/421 - 43s - loss: 0.1898 - accuracy: 0.9246 - val_loss: 0.2127 - val_accuracy: 0.9204\n",
            "28/28 [==============================] - 0s 10ms/step - loss: 0.4449 - accuracy: 0.8245\n",
            "New experiment\n",
            "WARNING:tensorflow:Layer lstm will not use cuDNN kernel since it doesn't meet the cuDNN kernel criteria. It will use generic GPU kernel as fallback when running on GPU\n"
          ],
          "name": "stdout"
        },
        {
          "output_type": "stream",
          "text": [
            "WARNING:tensorflow:Layer lstm will not use cuDNN kernel since it doesn't meet the cuDNN kernel criteria. It will use generic GPU kernel as fallback when running on GPU\n"
          ],
          "name": "stderr"
        },
        {
          "output_type": "stream",
          "text": [
            "Epoch 1/10\n",
            "421/421 - 44s - loss: 0.3954 - accuracy: 0.8221 - val_loss: 0.3016 - val_accuracy: 0.8690\n",
            "Epoch 2/10\n",
            "421/421 - 44s - loss: 0.2956 - accuracy: 0.8761 - val_loss: 0.2769 - val_accuracy: 0.8826\n",
            "Epoch 3/10\n",
            "421/421 - 43s - loss: 0.2559 - accuracy: 0.8941 - val_loss: 0.2443 - val_accuracy: 0.9037\n",
            "Epoch 4/10\n",
            "421/421 - 43s - loss: 0.2336 - accuracy: 0.9053 - val_loss: 0.2300 - val_accuracy: 0.9102\n",
            "Epoch 5/10\n",
            "421/421 - 43s - loss: 0.2206 - accuracy: 0.9110 - val_loss: 0.2248 - val_accuracy: 0.9157\n",
            "Epoch 6/10\n",
            "421/421 - 43s - loss: 0.2097 - accuracy: 0.9156 - val_loss: 0.2248 - val_accuracy: 0.9146\n",
            "Epoch 7/10\n",
            "421/421 - 43s - loss: 0.2063 - accuracy: 0.9171 - val_loss: 0.2207 - val_accuracy: 0.9162\n",
            "Epoch 8/10\n",
            "421/421 - 43s - loss: 0.1979 - accuracy: 0.9220 - val_loss: 0.2214 - val_accuracy: 0.9163\n",
            "Epoch 9/10\n",
            "421/421 - 43s - loss: 0.1940 - accuracy: 0.9230 - val_loss: 0.2184 - val_accuracy: 0.9197\n",
            "Epoch 10/10\n",
            "421/421 - 44s - loss: 0.1886 - accuracy: 0.9259 - val_loss: 0.2187 - val_accuracy: 0.9192\n",
            "28/28 [==============================] - 0s 10ms/step - loss: 0.4403 - accuracy: 0.8394\n",
            "New experiment\n",
            "WARNING:tensorflow:Layer lstm will not use cuDNN kernel since it doesn't meet the cuDNN kernel criteria. It will use generic GPU kernel as fallback when running on GPU\n"
          ],
          "name": "stdout"
        },
        {
          "output_type": "stream",
          "text": [
            "WARNING:tensorflow:Layer lstm will not use cuDNN kernel since it doesn't meet the cuDNN kernel criteria. It will use generic GPU kernel as fallback when running on GPU\n"
          ],
          "name": "stderr"
        },
        {
          "output_type": "stream",
          "text": [
            "Epoch 1/10\n",
            "421/421 - 43s - loss: 0.6706 - accuracy: 0.5796 - val_loss: 0.6872 - val_accuracy: 0.5657\n",
            "Epoch 2/10\n",
            "421/421 - 43s - loss: 0.4132 - accuracy: 0.8126 - val_loss: 0.3218 - val_accuracy: 0.8643\n",
            "Epoch 3/10\n",
            "421/421 - 43s - loss: 0.3105 - accuracy: 0.8690 - val_loss: 0.2819 - val_accuracy: 0.8834\n",
            "Epoch 4/10\n",
            "421/421 - 43s - loss: 0.2718 - accuracy: 0.8862 - val_loss: 0.2613 - val_accuracy: 0.8950\n",
            "Epoch 5/10\n",
            "421/421 - 43s - loss: 0.2548 - accuracy: 0.8953 - val_loss: 0.2469 - val_accuracy: 0.9033\n",
            "Epoch 6/10\n",
            "421/421 - 43s - loss: 0.2379 - accuracy: 0.9035 - val_loss: 0.2372 - val_accuracy: 0.9059\n",
            "Epoch 7/10\n",
            "421/421 - 43s - loss: 0.2290 - accuracy: 0.9072 - val_loss: 0.2384 - val_accuracy: 0.9082\n",
            "Epoch 8/10\n",
            "421/421 - 43s - loss: 0.2285 - accuracy: 0.9077 - val_loss: 0.2359 - val_accuracy: 0.9084\n",
            "Epoch 9/10\n",
            "421/421 - 43s - loss: 0.2174 - accuracy: 0.9120 - val_loss: 0.2316 - val_accuracy: 0.9114\n",
            "Epoch 10/10\n",
            "421/421 - 43s - loss: 0.2277 - accuracy: 0.9086 - val_loss: 0.2414 - val_accuracy: 0.9049\n",
            "28/28 [==============================] - 0s 10ms/step - loss: 0.4658 - accuracy: 0.8257\n"
          ],
          "name": "stdout"
        }
      ]
    },
    {
      "cell_type": "code",
      "metadata": {
        "id": "JDxiqNxgE1oz",
        "colab_type": "code",
        "colab": {
          "base_uri": "https://localhost:8080/",
          "height": 194
        },
        "outputId": "3033cf07-f3f9-4e98-ea07-318e79ae6649"
      },
      "source": [
        "colection"
      ],
      "execution_count": null,
      "outputs": [
        {
          "output_type": "execute_result",
          "data": {
            "text/plain": [
              "[[0.46286430954933167, 0.8153669834136963],\n",
              " [0.451821506023407, 0.8279816508293152],\n",
              " [0.43257245421409607, 0.8199541568756104],\n",
              " [0.44444540143013, 0.8279816508293152],\n",
              " [0.45639723539352417, 0.8337156176567078],\n",
              " [0.41403263807296753, 0.8233944773674011],\n",
              " [0.42182639241218567, 0.8107798099517822],\n",
              " [0.44488880038261414, 0.8245412707328796],\n",
              " [0.44030076265335083, 0.8394495248794556],\n",
              " [0.46577438712120056, 0.8256880640983582]]"
            ]
          },
          "metadata": {
            "tags": []
          },
          "execution_count": 35
        }
      ]
    },
    {
      "cell_type": "code",
      "metadata": {
        "id": "xZGgSkgpS0G-",
        "colab_type": "code",
        "colab": {}
      },
      "source": [
        "# Get only accuracy\n",
        "\n",
        "x = []\n",
        "for i in range (len(colection)):\n",
        "  x.append(colection[i][1])"
      ],
      "execution_count": null,
      "outputs": []
    },
    {
      "cell_type": "code",
      "metadata": {
        "id": "QsjdMfFlrk5N",
        "colab_type": "code",
        "colab": {
          "base_uri": "https://localhost:8080/",
          "height": 34
        },
        "outputId": "d929f36f-3668-4b8f-f735-5b4c5a5c9f2a"
      },
      "source": [
        "import statistics\n",
        "median_value = statistics.median(x)\n",
        "median_value"
      ],
      "execution_count": null,
      "outputs": [
        {
          "output_type": "execute_result",
          "data": {
            "text/plain": [
              "0.8251146674156189"
            ]
          },
          "metadata": {
            "tags": []
          },
          "execution_count": 37
        }
      ]
    },
    {
      "cell_type": "code",
      "metadata": {
        "id": "xXfmJZm3m2xn",
        "colab_type": "code",
        "colab": {
          "base_uri": "https://localhost:8080/",
          "height": 34
        },
        "outputId": "08218b78-d49e-4abe-e5ce-bbc0663553fb"
      },
      "source": [
        "max(x)"
      ],
      "execution_count": null,
      "outputs": [
        {
          "output_type": "execute_result",
          "data": {
            "text/plain": [
              "0.8394495248794556"
            ]
          },
          "metadata": {
            "tags": []
          },
          "execution_count": 38
        }
      ]
    },
    {
      "cell_type": "code",
      "metadata": {
        "id": "MNyfQgWzrkmc",
        "colab_type": "code",
        "colab": {
          "base_uri": "https://localhost:8080/",
          "height": 302
        },
        "outputId": "5c9540cd-1f6b-4bb6-82a5-bbaf8ba62dda"
      },
      "source": [
        "import seaborn as sns\n",
        "sns.set(style=\"whitegrid\", palette=\"pastel\")\n",
        "\n",
        "ax = sns.boxplot(data=x, width=0.2)\n",
        "\n",
        "ax.set_title(\"Accuracy over 10 runs\")\n",
        "ax.set_ylabel('Accuracy')"
      ],
      "execution_count": null,
      "outputs": [
        {
          "output_type": "execute_result",
          "data": {
            "text/plain": [
              "Text(0, 0.5, 'Accuracy')"
            ]
          },
          "metadata": {
            "tags": []
          },
          "execution_count": 39
        },
        {
          "output_type": "display_data",
          "data": {
            "image/png": "[encoded data removed]",
            "text/plain": [
              "<Figure size 432x288 with 1 Axes>"
            ]
          },
          "metadata": {
            "tags": []
          }
        }
      ]
    },
    {
      "cell_type": "code",
      "metadata": {
        "id": "DDb1vDCsm6Y4",
        "colab_type": "code",
        "colab": {}
      },
      "source": [
        ""
      ],
      "execution_count": null,
      "outputs": []
    }
  ]
}