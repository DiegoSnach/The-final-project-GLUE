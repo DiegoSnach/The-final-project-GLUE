{
  "nbformat": 4,
  "nbformat_minor": 0,
  "metadata": {
    "colab": {
      "name": "1_FINAL_CoLA_with_Glove.ipynb",
      "provenance": [],
      "collapsed_sections": [],
      "authorship_tag": "ABX9TyMJxP3WSjDvVlmqnhjKOhC8",
      "include_colab_link": true
    },
    "kernelspec": {
      "name": "python3",
      "display_name": "Python 3"
    },
    "accelerator": "GPU",
    "widgets": {
      "application/vnd.jupyter.widget-state+json": {
        "be68f05116ed44219f4025a9f382c9e3": {
          "model_module": "@jupyter-widgets/controls",
          "model_name": "HBoxModel",
          "state": {
            "_view_name": "HBoxView",
            "_dom_classes": [],
            "_model_name": "HBoxModel",
            "_view_module": "@jupyter-widgets/controls",
            "_model_module_version": "1.5.0",
            "_view_count": null,
            "_view_module_version": "1.5.0",
            "box_style": "",
            "layout": "IPY_MODEL_b7b73c7b914c4ce3a4d90fb0acaa7219",
            "_model_module": "@jupyter-widgets/controls",
            "children": [
              "IPY_MODEL_8136b7c3d2954cbcbfefde1632772bc5",
              "IPY_MODEL_50c9a356ec0d44a39700f7bca939a1a0"
            ]
          }
        },
        "b7b73c7b914c4ce3a4d90fb0acaa7219": {
          "model_module": "@jupyter-widgets/base",
          "model_name": "LayoutModel",
          "state": {
            "_view_name": "LayoutView",
            "grid_template_rows": null,
            "right": null,
            "justify_content": null,
            "_view_module": "@jupyter-widgets/base",
            "overflow": null,
            "_model_module_version": "1.2.0",
            "_view_count": null,
            "flex_flow": null,
            "width": null,
            "min_width": null,
            "border": null,
            "align_items": null,
            "bottom": null,
            "_model_module": "@jupyter-widgets/base",
            "top": null,
            "grid_column": null,
            "overflow_y": null,
            "overflow_x": null,
            "grid_auto_flow": null,
            "grid_area": null,
            "grid_template_columns": null,
            "flex": null,
            "_model_name": "LayoutModel",
            "justify_items": null,
            "grid_row": null,
            "max_height": null,
            "align_content": null,
            "visibility": null,
            "align_self": null,
            "height": null,
            "min_height": null,
            "padding": null,
            "grid_auto_rows": null,
            "grid_gap": null,
            "max_width": null,
            "order": null,
            "_view_module_version": "1.2.0",
            "grid_template_areas": null,
            "object_position": null,
            "object_fit": null,
            "grid_auto_columns": null,
            "margin": null,
            "display": null,
            "left": null
          }
        },
        "8136b7c3d2954cbcbfefde1632772bc5": {
          "model_module": "@jupyter-widgets/controls",
          "model_name": "FloatProgressModel",
          "state": {
            "_view_name": "ProgressView",
            "style": "IPY_MODEL_32ded365ab4b49c6b12280d42429027c",
            "_dom_classes": [],
            "description": "Dl Completed...: 100%",
            "_model_name": "FloatProgressModel",
            "bar_style": "success",
            "max": 1,
            "_view_module": "@jupyter-widgets/controls",
            "_model_module_version": "1.5.0",
            "value": 1,
            "_view_count": null,
            "_view_module_version": "1.5.0",
            "orientation": "horizontal",
            "min": 0,
            "description_tooltip": null,
            "_model_module": "@jupyter-widgets/controls",
            "layout": "IPY_MODEL_bc369eb5ef314fed8024ce3e6e793169"
          }
        },
        "50c9a356ec0d44a39700f7bca939a1a0": {
          "model_module": "@jupyter-widgets/controls",
          "model_name": "HTMLModel",
          "state": {
            "_view_name": "HTMLView",
            "style": "IPY_MODEL_48937419925144e9866a012b990f3943",
            "_dom_classes": [],
            "description": "",
            "_model_name": "HTMLModel",
            "placeholder": "​",
            "_view_module": "@jupyter-widgets/controls",
            "_model_module_version": "1.5.0",
            "value": " 1/1 [00:00&lt;00:00,  1.24 url/s]",
            "_view_count": null,
            "_view_module_version": "1.5.0",
            "description_tooltip": null,
            "_model_module": "@jupyter-widgets/controls",
            "layout": "IPY_MODEL_2176ac8cc3c848ed99f1bd06fdbb5629"
          }
        },
        "32ded365ab4b49c6b12280d42429027c": {
          "model_module": "@jupyter-widgets/controls",
          "model_name": "ProgressStyleModel",
          "state": {
            "_view_name": "StyleView",
            "_model_name": "ProgressStyleModel",
            "description_width": "initial",
            "_view_module": "@jupyter-widgets/base",
            "_model_module_version": "1.5.0",
            "_view_count": null,
            "_view_module_version": "1.2.0",
            "bar_color": null,
            "_model_module": "@jupyter-widgets/controls"
          }
        },
        "bc369eb5ef314fed8024ce3e6e793169": {
          "model_module": "@jupyter-widgets/base",
          "model_name": "LayoutModel",
          "state": {
            "_view_name": "LayoutView",
            "grid_template_rows": null,
            "right": null,
            "justify_content": null,
            "_view_module": "@jupyter-widgets/base",
            "overflow": null,
            "_model_module_version": "1.2.0",
            "_view_count": null,
            "flex_flow": null,
            "width": null,
            "min_width": null,
            "border": null,
            "align_items": null,
            "bottom": null,
            "_model_module": "@jupyter-widgets/base",
            "top": null,
            "grid_column": null,
            "overflow_y": null,
            "overflow_x": null,
            "grid_auto_flow": null,
            "grid_area": null,
            "grid_template_columns": null,
            "flex": null,
            "_model_name": "LayoutModel",
            "justify_items": null,
            "grid_row": null,
            "max_height": null,
            "align_content": null,
            "visibility": null,
            "align_self": null,
            "height": null,
            "min_height": null,
            "padding": null,
            "grid_auto_rows": null,
            "grid_gap": null,
            "max_width": null,
            "order": null,
            "_view_module_version": "1.2.0",
            "grid_template_areas": null,
            "object_position": null,
            "object_fit": null,
            "grid_auto_columns": null,
            "margin": null,
            "display": null,
            "left": null
          }
        },
        "48937419925144e9866a012b990f3943": {
          "model_module": "@jupyter-widgets/controls",
          "model_name": "DescriptionStyleModel",
          "state": {
            "_view_name": "StyleView",
            "_model_name": "DescriptionStyleModel",
            "description_width": "",
            "_view_module": "@jupyter-widgets/base",
            "_model_module_version": "1.5.0",
            "_view_count": null,
            "_view_module_version": "1.2.0",
            "_model_module": "@jupyter-widgets/controls"
          }
        },
        "2176ac8cc3c848ed99f1bd06fdbb5629": {
          "model_module": "@jupyter-widgets/base",
          "model_name": "LayoutModel",
          "state": {
            "_view_name": "LayoutView",
            "grid_template_rows": null,
            "right": null,
            "justify_content": null,
            "_view_module": "@jupyter-widgets/base",
            "overflow": null,
            "_model_module_version": "1.2.0",
            "_view_count": null,
            "flex_flow": null,
            "width": null,
            "min_width": null,
            "border": null,
            "align_items": null,
            "bottom": null,
            "_model_module": "@jupyter-widgets/base",
            "top": null,
            "grid_column": null,
            "overflow_y": null,
            "overflow_x": null,
            "grid_auto_flow": null,
            "grid_area": null,
            "grid_template_columns": null,
            "flex": null,
            "_model_name": "LayoutModel",
            "justify_items": null,
            "grid_row": null,
            "max_height": null,
            "align_content": null,
            "visibility": null,
            "align_self": null,
            "height": null,
            "min_height": null,
            "padding": null,
            "grid_auto_rows": null,
            "grid_gap": null,
            "max_width": null,
            "order": null,
            "_view_module_version": "1.2.0",
            "grid_template_areas": null,
            "object_position": null,
            "object_fit": null,
            "grid_auto_columns": null,
            "margin": null,
            "display": null,
            "left": null
          }
        },
        "9ab54b28e19444eda9ca7aa0982c7f31": {
          "model_module": "@jupyter-widgets/controls",
          "model_name": "HBoxModel",
          "state": {
            "_view_name": "HBoxView",
            "_dom_classes": [],
            "_model_name": "HBoxModel",
            "_view_module": "@jupyter-widgets/controls",
            "_model_module_version": "1.5.0",
            "_view_count": null,
            "_view_module_version": "1.5.0",
            "box_style": "",
            "layout": "IPY_MODEL_e451866dd847408d879f5dee568633c6",
            "_model_module": "@jupyter-widgets/controls",
            "children": [
              "IPY_MODEL_c9ca3e0864aa4b659d445be0ec4f87b1",
              "IPY_MODEL_65efc24cfade495dafafbd540cb9a5de"
            ]
          }
        },
        "e451866dd847408d879f5dee568633c6": {
          "model_module": "@jupyter-widgets/base",
          "model_name": "LayoutModel",
          "state": {
            "_view_name": "LayoutView",
            "grid_template_rows": null,
            "right": null,
            "justify_content": null,
            "_view_module": "@jupyter-widgets/base",
            "overflow": null,
            "_model_module_version": "1.2.0",
            "_view_count": null,
            "flex_flow": null,
            "width": null,
            "min_width": null,
            "border": null,
            "align_items": null,
            "bottom": null,
            "_model_module": "@jupyter-widgets/base",
            "top": null,
            "grid_column": null,
            "overflow_y": null,
            "overflow_x": null,
            "grid_auto_flow": null,
            "grid_area": null,
            "grid_template_columns": null,
            "flex": null,
            "_model_name": "LayoutModel",
            "justify_items": null,
            "grid_row": null,
            "max_height": null,
            "align_content": null,
            "visibility": null,
            "align_self": null,
            "height": null,
            "min_height": null,
            "padding": null,
            "grid_auto_rows": null,
            "grid_gap": null,
            "max_width": null,
            "order": null,
            "_view_module_version": "1.2.0",
            "grid_template_areas": null,
            "object_position": null,
            "object_fit": null,
            "grid_auto_columns": null,
            "margin": null,
            "display": null,
            "left": null
          }
        },
        "c9ca3e0864aa4b659d445be0ec4f87b1": {
          "model_module": "@jupyter-widgets/controls",
          "model_name": "FloatProgressModel",
          "state": {
            "_view_name": "ProgressView",
            "style": "IPY_MODEL_82be9a479fb24135bd9103d28881f017",
            "_dom_classes": [],
            "description": "Dl Size...: ",
            "_model_name": "FloatProgressModel",
            "bar_style": "success",
            "max": 1,
            "_view_module": "@jupyter-widgets/controls",
            "_model_module_version": "1.5.0",
            "value": 0,
            "_view_count": null,
            "_view_module_version": "1.5.0",
            "orientation": "horizontal",
            "min": 0,
            "description_tooltip": null,
            "_model_module": "@jupyter-widgets/controls",
            "layout": "IPY_MODEL_fda9000a9fa2411d88080a508381e77b"
          }
        },
        "65efc24cfade495dafafbd540cb9a5de": {
          "model_module": "@jupyter-widgets/controls",
          "model_name": "HTMLModel",
          "state": {
            "_view_name": "HTMLView",
            "style": "IPY_MODEL_14738c43815c47b5923083fd10ff981d",
            "_dom_classes": [],
            "description": "",
            "_model_name": "HTMLModel",
            "placeholder": "​",
            "_view_module": "@jupyter-widgets/controls",
            "_model_module_version": "1.5.0",
            "value": " 0/0 [00:00&lt;?, ? MiB/s]",
            "_view_count": null,
            "_view_module_version": "1.5.0",
            "description_tooltip": null,
            "_model_module": "@jupyter-widgets/controls",
            "layout": "IPY_MODEL_9e5c13bd48724e2bbb468bffeeadb52a"
          }
        },
        "82be9a479fb24135bd9103d28881f017": {
          "model_module": "@jupyter-widgets/controls",
          "model_name": "ProgressStyleModel",
          "state": {
            "_view_name": "StyleView",
            "_model_name": "ProgressStyleModel",
            "description_width": "initial",
            "_view_module": "@jupyter-widgets/base",
            "_model_module_version": "1.5.0",
            "_view_count": null,
            "_view_module_version": "1.2.0",
            "bar_color": null,
            "_model_module": "@jupyter-widgets/controls"
          }
        },
        "fda9000a9fa2411d88080a508381e77b": {
          "model_module": "@jupyter-widgets/base",
          "model_name": "LayoutModel",
          "state": {
            "_view_name": "LayoutView",
            "grid_template_rows": null,
            "right": null,
            "justify_content": null,
            "_view_module": "@jupyter-widgets/base",
            "overflow": null,
            "_model_module_version": "1.2.0",
            "_view_count": null,
            "flex_flow": null,
            "width": null,
            "min_width": null,
            "border": null,
            "align_items": null,
            "bottom": null,
            "_model_module": "@jupyter-widgets/base",
            "top": null,
            "grid_column": null,
            "overflow_y": null,
            "overflow_x": null,
            "grid_auto_flow": null,
            "grid_area": null,
            "grid_template_columns": null,
            "flex": null,
            "_model_name": "LayoutModel",
            "justify_items": null,
            "grid_row": null,
            "max_height": null,
            "align_content": null,
            "visibility": null,
            "align_self": null,
            "height": null,
            "min_height": null,
            "padding": null,
            "grid_auto_rows": null,
            "grid_gap": null,
            "max_width": null,
            "order": null,
            "_view_module_version": "1.2.0",
            "grid_template_areas": null,
            "object_position": null,
            "object_fit": null,
            "grid_auto_columns": null,
            "margin": null,
            "display": null,
            "left": null
          }
        },
        "14738c43815c47b5923083fd10ff981d": {
          "model_module": "@jupyter-widgets/controls",
          "model_name": "DescriptionStyleModel",
          "state": {
            "_view_name": "StyleView",
            "_model_name": "DescriptionStyleModel",
            "description_width": "",
            "_view_module": "@jupyter-widgets/base",
            "_model_module_version": "1.5.0",
            "_view_count": null,
            "_view_module_version": "1.2.0",
            "_model_module": "@jupyter-widgets/controls"
          }
        },
        "9e5c13bd48724e2bbb468bffeeadb52a": {
          "model_module": "@jupyter-widgets/base",
          "model_name": "LayoutModel",
          "state": {
            "_view_name": "LayoutView",
            "grid_template_rows": null,
            "right": null,
            "justify_content": null,
            "_view_module": "@jupyter-widgets/base",
            "overflow": null,
            "_model_module_version": "1.2.0",
            "_view_count": null,
            "flex_flow": null,
            "width": null,
            "min_width": null,
            "border": null,
            "align_items": null,
            "bottom": null,
            "_model_module": "@jupyter-widgets/base",
            "top": null,
            "grid_column": null,
            "overflow_y": null,
            "overflow_x": null,
            "grid_auto_flow": null,
            "grid_area": null,
            "grid_template_columns": null,
            "flex": null,
            "_model_name": "LayoutModel",
            "justify_items": null,
            "grid_row": null,
            "max_height": null,
            "align_content": null,
            "visibility": null,
            "align_self": null,
            "height": null,
            "min_height": null,
            "padding": null,
            "grid_auto_rows": null,
            "grid_gap": null,
            "max_width": null,
            "order": null,
            "_view_module_version": "1.2.0",
            "grid_template_areas": null,
            "object_position": null,
            "object_fit": null,
            "grid_auto_columns": null,
            "margin": null,
            "display": null,
            "left": null
          }
        },
        "dd121eaf1c904efe9bab420ebb1b1edd": {
          "model_module": "@jupyter-widgets/controls",
          "model_name": "HBoxModel",
          "state": {
            "_view_name": "HBoxView",
            "_dom_classes": [],
            "_model_name": "HBoxModel",
            "_view_module": "@jupyter-widgets/controls",
            "_model_module_version": "1.5.0",
            "_view_count": null,
            "_view_module_version": "1.5.0",
            "box_style": "",
            "layout": "IPY_MODEL_385e888350a14ef6b0545b4828d664dc",
            "_model_module": "@jupyter-widgets/controls",
            "children": [
              "IPY_MODEL_06f153700d7f43468c192b0cb3c92f5c",
              "IPY_MODEL_e4a93dc0f74941a18b83ba5cf5421583"
            ]
          }
        },
        "385e888350a14ef6b0545b4828d664dc": {
          "model_module": "@jupyter-widgets/base",
          "model_name": "LayoutModel",
          "state": {
            "_view_name": "LayoutView",
            "grid_template_rows": null,
            "right": null,
            "justify_content": null,
            "_view_module": "@jupyter-widgets/base",
            "overflow": null,
            "_model_module_version": "1.2.0",
            "_view_count": null,
            "flex_flow": null,
            "width": null,
            "min_width": null,
            "border": null,
            "align_items": null,
            "bottom": null,
            "_model_module": "@jupyter-widgets/base",
            "top": null,
            "grid_column": null,
            "overflow_y": null,
            "overflow_x": null,
            "grid_auto_flow": null,
            "grid_area": null,
            "grid_template_columns": null,
            "flex": null,
            "_model_name": "LayoutModel",
            "justify_items": null,
            "grid_row": null,
            "max_height": null,
            "align_content": null,
            "visibility": null,
            "align_self": null,
            "height": null,
            "min_height": null,
            "padding": null,
            "grid_auto_rows": null,
            "grid_gap": null,
            "max_width": null,
            "order": null,
            "_view_module_version": "1.2.0",
            "grid_template_areas": null,
            "object_position": null,
            "object_fit": null,
            "grid_auto_columns": null,
            "margin": null,
            "display": null,
            "left": null
          }
        },
        "06f153700d7f43468c192b0cb3c92f5c": {
          "model_module": "@jupyter-widgets/controls",
          "model_name": "FloatProgressModel",
          "state": {
            "_view_name": "ProgressView",
            "style": "IPY_MODEL_1f633bbdb06f4d0fbc74a537930f3541",
            "_dom_classes": [],
            "description": "Extraction completed...: 100%",
            "_model_name": "FloatProgressModel",
            "bar_style": "success",
            "max": 1,
            "_view_module": "@jupyter-widgets/controls",
            "_model_module_version": "1.5.0",
            "value": 1,
            "_view_count": null,
            "_view_module_version": "1.5.0",
            "orientation": "horizontal",
            "min": 0,
            "description_tooltip": null,
            "_model_module": "@jupyter-widgets/controls",
            "layout": "IPY_MODEL_2c735fb366554f57bd7cbf6c26d7bc82"
          }
        },
        "e4a93dc0f74941a18b83ba5cf5421583": {
          "model_module": "@jupyter-widgets/controls",
          "model_name": "HTMLModel",
          "state": {
            "_view_name": "HTMLView",
            "style": "IPY_MODEL_588c11d185964b90b8d861f37ee08f77",
            "_dom_classes": [],
            "description": "",
            "_model_name": "HTMLModel",
            "placeholder": "​",
            "_view_module": "@jupyter-widgets/controls",
            "_model_module_version": "1.5.0",
            "value": " 1/1 [00:00&lt;00:00,  1.35 file/s]",
            "_view_count": null,
            "_view_module_version": "1.5.0",
            "description_tooltip": null,
            "_model_module": "@jupyter-widgets/controls",
            "layout": "IPY_MODEL_19a7a95f258143bfa1e9ca27b3aa1e98"
          }
        },
        "1f633bbdb06f4d0fbc74a537930f3541": {
          "model_module": "@jupyter-widgets/controls",
          "model_name": "ProgressStyleModel",
          "state": {
            "_view_name": "StyleView",
            "_model_name": "ProgressStyleModel",
            "description_width": "initial",
            "_view_module": "@jupyter-widgets/base",
            "_model_module_version": "1.5.0",
            "_view_count": null,
            "_view_module_version": "1.2.0",
            "bar_color": null,
            "_model_module": "@jupyter-widgets/controls"
          }
        },
        "2c735fb366554f57bd7cbf6c26d7bc82": {
          "model_module": "@jupyter-widgets/base",
          "model_name": "LayoutModel",
          "state": {
            "_view_name": "LayoutView",
            "grid_template_rows": null,
            "right": null,
            "justify_content": null,
            "_view_module": "@jupyter-widgets/base",
            "overflow": null,
            "_model_module_version": "1.2.0",
            "_view_count": null,
            "flex_flow": null,
            "width": null,
            "min_width": null,
            "border": null,
            "align_items": null,
            "bottom": null,
            "_model_module": "@jupyter-widgets/base",
            "top": null,
            "grid_column": null,
            "overflow_y": null,
            "overflow_x": null,
            "grid_auto_flow": null,
            "grid_area": null,
            "grid_template_columns": null,
            "flex": null,
            "_model_name": "LayoutModel",
            "justify_items": null,
            "grid_row": null,
            "max_height": null,
            "align_content": null,
            "visibility": null,
            "align_self": null,
            "height": null,
            "min_height": null,
            "padding": null,
            "grid_auto_rows": null,
            "grid_gap": null,
            "max_width": null,
            "order": null,
            "_view_module_version": "1.2.0",
            "grid_template_areas": null,
            "object_position": null,
            "object_fit": null,
            "grid_auto_columns": null,
            "margin": null,
            "display": null,
            "left": null
          }
        },
        "588c11d185964b90b8d861f37ee08f77": {
          "model_module": "@jupyter-widgets/controls",
          "model_name": "DescriptionStyleModel",
          "state": {
            "_view_name": "StyleView",
            "_model_name": "DescriptionStyleModel",
            "description_width": "",
            "_view_module": "@jupyter-widgets/base",
            "_model_module_version": "1.5.0",
            "_view_count": null,
            "_view_module_version": "1.2.0",
            "_model_module": "@jupyter-widgets/controls"
          }
        },
        "19a7a95f258143bfa1e9ca27b3aa1e98": {
          "model_module": "@jupyter-widgets/base",
          "model_name": "LayoutModel",
          "state": {
            "_view_name": "LayoutView",
            "grid_template_rows": null,
            "right": null,
            "justify_content": null,
            "_view_module": "@jupyter-widgets/base",
            "overflow": null,
            "_model_module_version": "1.2.0",
            "_view_count": null,
            "flex_flow": null,
            "width": null,
            "min_width": null,
            "border": null,
            "align_items": null,
            "bottom": null,
            "_model_module": "@jupyter-widgets/base",
            "top": null,
            "grid_column": null,
            "overflow_y": null,
            "overflow_x": null,
            "grid_auto_flow": null,
            "grid_area": null,
            "grid_template_columns": null,
            "flex": null,
            "_model_name": "LayoutModel",
            "justify_items": null,
            "grid_row": null,
            "max_height": null,
            "align_content": null,
            "visibility": null,
            "align_self": null,
            "height": null,
            "min_height": null,
            "padding": null,
            "grid_auto_rows": null,
            "grid_gap": null,
            "max_width": null,
            "order": null,
            "_view_module_version": "1.2.0",
            "grid_template_areas": null,
            "object_position": null,
            "object_fit": null,
            "grid_auto_columns": null,
            "margin": null,
            "display": null,
            "left": null
          }
        },
        "f41ad4ea770040bf9fdd95603cb77b45": {
          "model_module": "@jupyter-widgets/controls",
          "model_name": "HBoxModel",
          "state": {
            "_view_name": "HBoxView",
            "_dom_classes": [],
            "_model_name": "HBoxModel",
            "_view_module": "@jupyter-widgets/controls",
            "_model_module_version": "1.5.0",
            "_view_count": null,
            "_view_module_version": "1.5.0",
            "box_style": "",
            "layout": "IPY_MODEL_707e89b412244a8a88994e0a5f3ef13f",
            "_model_module": "@jupyter-widgets/controls",
            "children": [
              "IPY_MODEL_fefe038fc8e849d784594679b78ea1e7",
              "IPY_MODEL_7ae9c0ee48974adb9b5f6692a80d39aa"
            ]
          }
        },
        "707e89b412244a8a88994e0a5f3ef13f": {
          "model_module": "@jupyter-widgets/base",
          "model_name": "LayoutModel",
          "state": {
            "_view_name": "LayoutView",
            "grid_template_rows": null,
            "right": null,
            "justify_content": null,
            "_view_module": "@jupyter-widgets/base",
            "overflow": null,
            "_model_module_version": "1.2.0",
            "_view_count": null,
            "flex_flow": null,
            "width": null,
            "min_width": null,
            "border": null,
            "align_items": null,
            "bottom": null,
            "_model_module": "@jupyter-widgets/base",
            "top": null,
            "grid_column": null,
            "overflow_y": null,
            "overflow_x": null,
            "grid_auto_flow": null,
            "grid_area": null,
            "grid_template_columns": null,
            "flex": null,
            "_model_name": "LayoutModel",
            "justify_items": null,
            "grid_row": null,
            "max_height": null,
            "align_content": null,
            "visibility": null,
            "align_self": null,
            "height": null,
            "min_height": null,
            "padding": null,
            "grid_auto_rows": null,
            "grid_gap": null,
            "max_width": null,
            "order": null,
            "_view_module_version": "1.2.0",
            "grid_template_areas": null,
            "object_position": null,
            "object_fit": null,
            "grid_auto_columns": null,
            "margin": null,
            "display": null,
            "left": null
          }
        },
        "fefe038fc8e849d784594679b78ea1e7": {
          "model_module": "@jupyter-widgets/controls",
          "model_name": "FloatProgressModel",
          "state": {
            "_view_name": "ProgressView",
            "style": "IPY_MODEL_d8bf61c728784639a94acfe6de4eac44",
            "_dom_classes": [],
            "description": "",
            "_model_name": "FloatProgressModel",
            "bar_style": "info",
            "max": 1,
            "_view_module": "@jupyter-widgets/controls",
            "_model_module_version": "1.5.0",
            "value": 1,
            "_view_count": null,
            "_view_module_version": "1.5.0",
            "orientation": "horizontal",
            "min": 0,
            "description_tooltip": null,
            "_model_module": "@jupyter-widgets/controls",
            "layout": "IPY_MODEL_8c4ba15b16a94789ba2ea1351f341db4"
          }
        },
        "7ae9c0ee48974adb9b5f6692a80d39aa": {
          "model_module": "@jupyter-widgets/controls",
          "model_name": "HTMLModel",
          "state": {
            "_view_name": "HTMLView",
            "style": "IPY_MODEL_cc7c4c460ff8421ab1b8a9a350e526d1",
            "_dom_classes": [],
            "description": "",
            "_model_name": "HTMLModel",
            "placeholder": "​",
            "_view_module": "@jupyter-widgets/controls",
            "_model_module_version": "1.5.0",
            "value": " 8551/0 [00:03&lt;00:00, 2923.69 examples/s]",
            "_view_count": null,
            "_view_module_version": "1.5.0",
            "description_tooltip": null,
            "_model_module": "@jupyter-widgets/controls",
            "layout": "IPY_MODEL_9b98c48af49a4ddfa31b628bf9d9477e"
          }
        },
        "d8bf61c728784639a94acfe6de4eac44": {
          "model_module": "@jupyter-widgets/controls",
          "model_name": "ProgressStyleModel",
          "state": {
            "_view_name": "StyleView",
            "_model_name": "ProgressStyleModel",
            "description_width": "initial",
            "_view_module": "@jupyter-widgets/base",
            "_model_module_version": "1.5.0",
            "_view_count": null,
            "_view_module_version": "1.2.0",
            "bar_color": null,
            "_model_module": "@jupyter-widgets/controls"
          }
        },
        "8c4ba15b16a94789ba2ea1351f341db4": {
          "model_module": "@jupyter-widgets/base",
          "model_name": "LayoutModel",
          "state": {
            "_view_name": "LayoutView",
            "grid_template_rows": null,
            "right": null,
            "justify_content": null,
            "_view_module": "@jupyter-widgets/base",
            "overflow": null,
            "_model_module_version": "1.2.0",
            "_view_count": null,
            "flex_flow": null,
            "width": null,
            "min_width": null,
            "border": null,
            "align_items": null,
            "bottom": null,
            "_model_module": "@jupyter-widgets/base",
            "top": null,
            "grid_column": null,
            "overflow_y": null,
            "overflow_x": null,
            "grid_auto_flow": null,
            "grid_area": null,
            "grid_template_columns": null,
            "flex": null,
            "_model_name": "LayoutModel",
            "justify_items": null,
            "grid_row": null,
            "max_height": null,
            "align_content": null,
            "visibility": null,
            "align_self": null,
            "height": null,
            "min_height": null,
            "padding": null,
            "grid_auto_rows": null,
            "grid_gap": null,
            "max_width": null,
            "order": null,
            "_view_module_version": "1.2.0",
            "grid_template_areas": null,
            "object_position": null,
            "object_fit": null,
            "grid_auto_columns": null,
            "margin": null,
            "display": null,
            "left": null
          }
        },
        "cc7c4c460ff8421ab1b8a9a350e526d1": {
          "model_module": "@jupyter-widgets/controls",
          "model_name": "DescriptionStyleModel",
          "state": {
            "_view_name": "StyleView",
            "_model_name": "DescriptionStyleModel",
            "description_width": "",
            "_view_module": "@jupyter-widgets/base",
            "_model_module_version": "1.5.0",
            "_view_count": null,
            "_view_module_version": "1.2.0",
            "_model_module": "@jupyter-widgets/controls"
          }
        },
        "9b98c48af49a4ddfa31b628bf9d9477e": {
          "model_module": "@jupyter-widgets/base",
          "model_name": "LayoutModel",
          "state": {
            "_view_name": "LayoutView",
            "grid_template_rows": null,
            "right": null,
            "justify_content": null,
            "_view_module": "@jupyter-widgets/base",
            "overflow": null,
            "_model_module_version": "1.2.0",
            "_view_count": null,
            "flex_flow": null,
            "width": null,
            "min_width": null,
            "border": null,
            "align_items": null,
            "bottom": null,
            "_model_module": "@jupyter-widgets/base",
            "top": null,
            "grid_column": null,
            "overflow_y": null,
            "overflow_x": null,
            "grid_auto_flow": null,
            "grid_area": null,
            "grid_template_columns": null,
            "flex": null,
            "_model_name": "LayoutModel",
            "justify_items": null,
            "grid_row": null,
            "max_height": null,
            "align_content": null,
            "visibility": null,
            "align_self": null,
            "height": null,
            "min_height": null,
            "padding": null,
            "grid_auto_rows": null,
            "grid_gap": null,
            "max_width": null,
            "order": null,
            "_view_module_version": "1.2.0",
            "grid_template_areas": null,
            "object_position": null,
            "object_fit": null,
            "grid_auto_columns": null,
            "margin": null,
            "display": null,
            "left": null
          }
        },
        "a0b2530820a44b3f87ff045392e8ab57": {
          "model_module": "@jupyter-widgets/controls",
          "model_name": "HBoxModel",
          "state": {
            "_view_name": "HBoxView",
            "_dom_classes": [],
            "_model_name": "HBoxModel",
            "_view_module": "@jupyter-widgets/controls",
            "_model_module_version": "1.5.0",
            "_view_count": null,
            "_view_module_version": "1.5.0",
            "box_style": "",
            "layout": "IPY_MODEL_5c47e1bbdca04c84b7cbf4bcb65db316",
            "_model_module": "@jupyter-widgets/controls",
            "children": [
              "IPY_MODEL_4ee5bd7e2eb9411eb6129b42175256d3",
              "IPY_MODEL_831c946125394b0e86346b24a2f4c523"
            ]
          }
        },
        "5c47e1bbdca04c84b7cbf4bcb65db316": {
          "model_module": "@jupyter-widgets/base",
          "model_name": "LayoutModel",
          "state": {
            "_view_name": "LayoutView",
            "grid_template_rows": null,
            "right": null,
            "justify_content": null,
            "_view_module": "@jupyter-widgets/base",
            "overflow": null,
            "_model_module_version": "1.2.0",
            "_view_count": null,
            "flex_flow": null,
            "width": null,
            "min_width": null,
            "border": null,
            "align_items": null,
            "bottom": null,
            "_model_module": "@jupyter-widgets/base",
            "top": null,
            "grid_column": null,
            "overflow_y": null,
            "overflow_x": null,
            "grid_auto_flow": null,
            "grid_area": null,
            "grid_template_columns": null,
            "flex": null,
            "_model_name": "LayoutModel",
            "justify_items": null,
            "grid_row": null,
            "max_height": null,
            "align_content": null,
            "visibility": null,
            "align_self": null,
            "height": null,
            "min_height": null,
            "padding": null,
            "grid_auto_rows": null,
            "grid_gap": null,
            "max_width": null,
            "order": null,
            "_view_module_version": "1.2.0",
            "grid_template_areas": null,
            "object_position": null,
            "object_fit": null,
            "grid_auto_columns": null,
            "margin": null,
            "display": null,
            "left": null
          }
        },
        "4ee5bd7e2eb9411eb6129b42175256d3": {
          "model_module": "@jupyter-widgets/controls",
          "model_name": "FloatProgressModel",
          "state": {
            "_view_name": "ProgressView",
            "style": "IPY_MODEL_fd6c188bbab9443b98f4b5afdf9db08a",
            "_dom_classes": [],
            "description": "  0%",
            "_model_name": "FloatProgressModel",
            "bar_style": "danger",
            "max": 8551,
            "_view_module": "@jupyter-widgets/controls",
            "_model_module_version": "1.5.0",
            "value": 0,
            "_view_count": null,
            "_view_module_version": "1.5.0",
            "orientation": "horizontal",
            "min": 0,
            "description_tooltip": null,
            "_model_module": "@jupyter-widgets/controls",
            "layout": "IPY_MODEL_eb22951dd9d5483c9e2924351903ded1"
          }
        },
        "831c946125394b0e86346b24a2f4c523": {
          "model_module": "@jupyter-widgets/controls",
          "model_name": "HTMLModel",
          "state": {
            "_view_name": "HTMLView",
            "style": "IPY_MODEL_63a7ed33ca8d4f639550edf6726ddccc",
            "_dom_classes": [],
            "description": "",
            "_model_name": "HTMLModel",
            "placeholder": "​",
            "_view_module": "@jupyter-widgets/controls",
            "_model_module_version": "1.5.0",
            "value": " 0/8551 [00:00&lt;?, ? examples/s]",
            "_view_count": null,
            "_view_module_version": "1.5.0",
            "description_tooltip": null,
            "_model_module": "@jupyter-widgets/controls",
            "layout": "IPY_MODEL_ce21666db1ef40f59d427ad74e39797a"
          }
        },
        "fd6c188bbab9443b98f4b5afdf9db08a": {
          "model_module": "@jupyter-widgets/controls",
          "model_name": "ProgressStyleModel",
          "state": {
            "_view_name": "StyleView",
            "_model_name": "ProgressStyleModel",
            "description_width": "initial",
            "_view_module": "@jupyter-widgets/base",
            "_model_module_version": "1.5.0",
            "_view_count": null,
            "_view_module_version": "1.2.0",
            "bar_color": null,
            "_model_module": "@jupyter-widgets/controls"
          }
        },
        "eb22951dd9d5483c9e2924351903ded1": {
          "model_module": "@jupyter-widgets/base",
          "model_name": "LayoutModel",
          "state": {
            "_view_name": "LayoutView",
            "grid_template_rows": null,
            "right": null,
            "justify_content": null,
            "_view_module": "@jupyter-widgets/base",
            "overflow": null,
            "_model_module_version": "1.2.0",
            "_view_count": null,
            "flex_flow": null,
            "width": null,
            "min_width": null,
            "border": null,
            "align_items": null,
            "bottom": null,
            "_model_module": "@jupyter-widgets/base",
            "top": null,
            "grid_column": null,
            "overflow_y": null,
            "overflow_x": null,
            "grid_auto_flow": null,
            "grid_area": null,
            "grid_template_columns": null,
            "flex": null,
            "_model_name": "LayoutModel",
            "justify_items": null,
            "grid_row": null,
            "max_height": null,
            "align_content": null,
            "visibility": null,
            "align_self": null,
            "height": null,
            "min_height": null,
            "padding": null,
            "grid_auto_rows": null,
            "grid_gap": null,
            "max_width": null,
            "order": null,
            "_view_module_version": "1.2.0",
            "grid_template_areas": null,
            "object_position": null,
            "object_fit": null,
            "grid_auto_columns": null,
            "margin": null,
            "display": null,
            "left": null
          }
        },
        "63a7ed33ca8d4f639550edf6726ddccc": {
          "model_module": "@jupyter-widgets/controls",
          "model_name": "DescriptionStyleModel",
          "state": {
            "_view_name": "StyleView",
            "_model_name": "DescriptionStyleModel",
            "description_width": "",
            "_view_module": "@jupyter-widgets/base",
            "_model_module_version": "1.5.0",
            "_view_count": null,
            "_view_module_version": "1.2.0",
            "_model_module": "@jupyter-widgets/controls"
          }
        },
        "ce21666db1ef40f59d427ad74e39797a": {
          "model_module": "@jupyter-widgets/base",
          "model_name": "LayoutModel",
          "state": {
            "_view_name": "LayoutView",
            "grid_template_rows": null,
            "right": null,
            "justify_content": null,
            "_view_module": "@jupyter-widgets/base",
            "overflow": null,
            "_model_module_version": "1.2.0",
            "_view_count": null,
            "flex_flow": null,
            "width": null,
            "min_width": null,
            "border": null,
            "align_items": null,
            "bottom": null,
            "_model_module": "@jupyter-widgets/base",
            "top": null,
            "grid_column": null,
            "overflow_y": null,
            "overflow_x": null,
            "grid_auto_flow": null,
            "grid_area": null,
            "grid_template_columns": null,
            "flex": null,
            "_model_name": "LayoutModel",
            "justify_items": null,
            "grid_row": null,
            "max_height": null,
            "align_content": null,
            "visibility": null,
            "align_self": null,
            "height": null,
            "min_height": null,
            "padding": null,
            "grid_auto_rows": null,
            "grid_gap": null,
            "max_width": null,
            "order": null,
            "_view_module_version": "1.2.0",
            "grid_template_areas": null,
            "object_position": null,
            "object_fit": null,
            "grid_auto_columns": null,
            "margin": null,
            "display": null,
            "left": null
          }
        },
        "8d03f7208bc64dc49aafd5111aecf3a9": {
          "model_module": "@jupyter-widgets/controls",
          "model_name": "HBoxModel",
          "state": {
            "_view_name": "HBoxView",
            "_dom_classes": [],
            "_model_name": "HBoxModel",
            "_view_module": "@jupyter-widgets/controls",
            "_model_module_version": "1.5.0",
            "_view_count": null,
            "_view_module_version": "1.5.0",
            "box_style": "",
            "layout": "IPY_MODEL_af9eff18e44542688daf3089fbb6c1e3",
            "_model_module": "@jupyter-widgets/controls",
            "children": [
              "IPY_MODEL_6a4fef9bc0984d39a79944733a6645b1",
              "IPY_MODEL_73dd0910209e4691bb25b2c151d0c193"
            ]
          }
        },
        "af9eff18e44542688daf3089fbb6c1e3": {
          "model_module": "@jupyter-widgets/base",
          "model_name": "LayoutModel",
          "state": {
            "_view_name": "LayoutView",
            "grid_template_rows": null,
            "right": null,
            "justify_content": null,
            "_view_module": "@jupyter-widgets/base",
            "overflow": null,
            "_model_module_version": "1.2.0",
            "_view_count": null,
            "flex_flow": null,
            "width": null,
            "min_width": null,
            "border": null,
            "align_items": null,
            "bottom": null,
            "_model_module": "@jupyter-widgets/base",
            "top": null,
            "grid_column": null,
            "overflow_y": null,
            "overflow_x": null,
            "grid_auto_flow": null,
            "grid_area": null,
            "grid_template_columns": null,
            "flex": null,
            "_model_name": "LayoutModel",
            "justify_items": null,
            "grid_row": null,
            "max_height": null,
            "align_content": null,
            "visibility": null,
            "align_self": null,
            "height": null,
            "min_height": null,
            "padding": null,
            "grid_auto_rows": null,
            "grid_gap": null,
            "max_width": null,
            "order": null,
            "_view_module_version": "1.2.0",
            "grid_template_areas": null,
            "object_position": null,
            "object_fit": null,
            "grid_auto_columns": null,
            "margin": null,
            "display": null,
            "left": null
          }
        },
        "6a4fef9bc0984d39a79944733a6645b1": {
          "model_module": "@jupyter-widgets/controls",
          "model_name": "FloatProgressModel",
          "state": {
            "_view_name": "ProgressView",
            "style": "IPY_MODEL_615cae29d2664ef48944563ad4a622cb",
            "_dom_classes": [],
            "description": "",
            "_model_name": "FloatProgressModel",
            "bar_style": "info",
            "max": 1,
            "_view_module": "@jupyter-widgets/controls",
            "_model_module_version": "1.5.0",
            "value": 1,
            "_view_count": null,
            "_view_module_version": "1.5.0",
            "orientation": "horizontal",
            "min": 0,
            "description_tooltip": null,
            "_model_module": "@jupyter-widgets/controls",
            "layout": "IPY_MODEL_51f77a86d46049868e532ad627aeff4e"
          }
        },
        "73dd0910209e4691bb25b2c151d0c193": {
          "model_module": "@jupyter-widgets/controls",
          "model_name": "HTMLModel",
          "state": {
            "_view_name": "HTMLView",
            "style": "IPY_MODEL_e922c6df84d5463c9093999f0f8726f4",
            "_dom_classes": [],
            "description": "",
            "_model_name": "HTMLModel",
            "placeholder": "​",
            "_view_module": "@jupyter-widgets/controls",
            "_model_module_version": "1.5.0",
            "value": " 1043/0 [00:00&lt;00:00, 2175.05 examples/s]",
            "_view_count": null,
            "_view_module_version": "1.5.0",
            "description_tooltip": null,
            "_model_module": "@jupyter-widgets/controls",
            "layout": "IPY_MODEL_3caf383a158e4e218011a31020c01e31"
          }
        },
        "615cae29d2664ef48944563ad4a622cb": {
          "model_module": "@jupyter-widgets/controls",
          "model_name": "ProgressStyleModel",
          "state": {
            "_view_name": "StyleView",
            "_model_name": "ProgressStyleModel",
            "description_width": "initial",
            "_view_module": "@jupyter-widgets/base",
            "_model_module_version": "1.5.0",
            "_view_count": null,
            "_view_module_version": "1.2.0",
            "bar_color": null,
            "_model_module": "@jupyter-widgets/controls"
          }
        },
        "51f77a86d46049868e532ad627aeff4e": {
          "model_module": "@jupyter-widgets/base",
          "model_name": "LayoutModel",
          "state": {
            "_view_name": "LayoutView",
            "grid_template_rows": null,
            "right": null,
            "justify_content": null,
            "_view_module": "@jupyter-widgets/base",
            "overflow": null,
            "_model_module_version": "1.2.0",
            "_view_count": null,
            "flex_flow": null,
            "width": null,
            "min_width": null,
            "border": null,
            "align_items": null,
            "bottom": null,
            "_model_module": "@jupyter-widgets/base",
            "top": null,
            "grid_column": null,
            "overflow_y": null,
            "overflow_x": null,
            "grid_auto_flow": null,
            "grid_area": null,
            "grid_template_columns": null,
            "flex": null,
            "_model_name": "LayoutModel",
            "justify_items": null,
            "grid_row": null,
            "max_height": null,
            "align_content": null,
            "visibility": null,
            "align_self": null,
            "height": null,
            "min_height": null,
            "padding": null,
            "grid_auto_rows": null,
            "grid_gap": null,
            "max_width": null,
            "order": null,
            "_view_module_version": "1.2.0",
            "grid_template_areas": null,
            "object_position": null,
            "object_fit": null,
            "grid_auto_columns": null,
            "margin": null,
            "display": null,
            "left": null
          }
        },
        "e922c6df84d5463c9093999f0f8726f4": {
          "model_module": "@jupyter-widgets/controls",
          "model_name": "DescriptionStyleModel",
          "state": {
            "_view_name": "StyleView",
            "_model_name": "DescriptionStyleModel",
            "description_width": "",
            "_view_module": "@jupyter-widgets/base",
            "_model_module_version": "1.5.0",
            "_view_count": null,
            "_view_module_version": "1.2.0",
            "_model_module": "@jupyter-widgets/controls"
          }
        },
        "3caf383a158e4e218011a31020c01e31": {
          "model_module": "@jupyter-widgets/base",
          "model_name": "LayoutModel",
          "state": {
            "_view_name": "LayoutView",
            "grid_template_rows": null,
            "right": null,
            "justify_content": null,
            "_view_module": "@jupyter-widgets/base",
            "overflow": null,
            "_model_module_version": "1.2.0",
            "_view_count": null,
            "flex_flow": null,
            "width": null,
            "min_width": null,
            "border": null,
            "align_items": null,
            "bottom": null,
            "_model_module": "@jupyter-widgets/base",
            "top": null,
            "grid_column": null,
            "overflow_y": null,
            "overflow_x": null,
            "grid_auto_flow": null,
            "grid_area": null,
            "grid_template_columns": null,
            "flex": null,
            "_model_name": "LayoutModel",
            "justify_items": null,
            "grid_row": null,
            "max_height": null,
            "align_content": null,
            "visibility": null,
            "align_self": null,
            "height": null,
            "min_height": null,
            "padding": null,
            "grid_auto_rows": null,
            "grid_gap": null,
            "max_width": null,
            "order": null,
            "_view_module_version": "1.2.0",
            "grid_template_areas": null,
            "object_position": null,
            "object_fit": null,
            "grid_auto_columns": null,
            "margin": null,
            "display": null,
            "left": null
          }
        },
        "6fafd11ad1da453297ab5a04db52dd68": {
          "model_module": "@jupyter-widgets/controls",
          "model_name": "HBoxModel",
          "state": {
            "_view_name": "HBoxView",
            "_dom_classes": [],
            "_model_name": "HBoxModel",
            "_view_module": "@jupyter-widgets/controls",
            "_model_module_version": "1.5.0",
            "_view_count": null,
            "_view_module_version": "1.5.0",
            "box_style": "",
            "layout": "IPY_MODEL_7687bf5bc0d54ca8a906e67baa0ccb64",
            "_model_module": "@jupyter-widgets/controls",
            "children": [
              "IPY_MODEL_eb62f65373d34e09be81bd0624ee39af",
              "IPY_MODEL_59a5e5a5fec1491e84a8068b54e5ec50"
            ]
          }
        },
        "7687bf5bc0d54ca8a906e67baa0ccb64": {
          "model_module": "@jupyter-widgets/base",
          "model_name": "LayoutModel",
          "state": {
            "_view_name": "LayoutView",
            "grid_template_rows": null,
            "right": null,
            "justify_content": null,
            "_view_module": "@jupyter-widgets/base",
            "overflow": null,
            "_model_module_version": "1.2.0",
            "_view_count": null,
            "flex_flow": null,
            "width": null,
            "min_width": null,
            "border": null,
            "align_items": null,
            "bottom": null,
            "_model_module": "@jupyter-widgets/base",
            "top": null,
            "grid_column": null,
            "overflow_y": null,
            "overflow_x": null,
            "grid_auto_flow": null,
            "grid_area": null,
            "grid_template_columns": null,
            "flex": null,
            "_model_name": "LayoutModel",
            "justify_items": null,
            "grid_row": null,
            "max_height": null,
            "align_content": null,
            "visibility": null,
            "align_self": null,
            "height": null,
            "min_height": null,
            "padding": null,
            "grid_auto_rows": null,
            "grid_gap": null,
            "max_width": null,
            "order": null,
            "_view_module_version": "1.2.0",
            "grid_template_areas": null,
            "object_position": null,
            "object_fit": null,
            "grid_auto_columns": null,
            "margin": null,
            "display": null,
            "left": null
          }
        },
        "eb62f65373d34e09be81bd0624ee39af": {
          "model_module": "@jupyter-widgets/controls",
          "model_name": "FloatProgressModel",
          "state": {
            "_view_name": "ProgressView",
            "style": "IPY_MODEL_e1c86652c95e427a9596dd1a17ac1028",
            "_dom_classes": [],
            "description": "  0%",
            "_model_name": "FloatProgressModel",
            "bar_style": "danger",
            "max": 1043,
            "_view_module": "@jupyter-widgets/controls",
            "_model_module_version": "1.5.0",
            "value": 0,
            "_view_count": null,
            "_view_module_version": "1.5.0",
            "orientation": "horizontal",
            "min": 0,
            "description_tooltip": null,
            "_model_module": "@jupyter-widgets/controls",
            "layout": "IPY_MODEL_6e7da7edc29046c3b043793f4ba8e6ca"
          }
        },
        "59a5e5a5fec1491e84a8068b54e5ec50": {
          "model_module": "@jupyter-widgets/controls",
          "model_name": "HTMLModel",
          "state": {
            "_view_name": "HTMLView",
            "style": "IPY_MODEL_7d865a05b29c47e88bd1f8ee54d63be8",
            "_dom_classes": [],
            "description": "",
            "_model_name": "HTMLModel",
            "placeholder": "​",
            "_view_module": "@jupyter-widgets/controls",
            "_model_module_version": "1.5.0",
            "value": " 0/1043 [00:00&lt;?, ? examples/s]",
            "_view_count": null,
            "_view_module_version": "1.5.0",
            "description_tooltip": null,
            "_model_module": "@jupyter-widgets/controls",
            "layout": "IPY_MODEL_e330ece516f6424f887cdb2d8c71750b"
          }
        },
        "e1c86652c95e427a9596dd1a17ac1028": {
          "model_module": "@jupyter-widgets/controls",
          "model_name": "ProgressStyleModel",
          "state": {
            "_view_name": "StyleView",
            "_model_name": "ProgressStyleModel",
            "description_width": "initial",
            "_view_module": "@jupyter-widgets/base",
            "_model_module_version": "1.5.0",
            "_view_count": null,
            "_view_module_version": "1.2.0",
            "bar_color": null,
            "_model_module": "@jupyter-widgets/controls"
          }
        },
        "6e7da7edc29046c3b043793f4ba8e6ca": {
          "model_module": "@jupyter-widgets/base",
          "model_name": "LayoutModel",
          "state": {
            "_view_name": "LayoutView",
            "grid_template_rows": null,
            "right": null,
            "justify_content": null,
            "_view_module": "@jupyter-widgets/base",
            "overflow": null,
            "_model_module_version": "1.2.0",
            "_view_count": null,
            "flex_flow": null,
            "width": null,
            "min_width": null,
            "border": null,
            "align_items": null,
            "bottom": null,
            "_model_module": "@jupyter-widgets/base",
            "top": null,
            "grid_column": null,
            "overflow_y": null,
            "overflow_x": null,
            "grid_auto_flow": null,
            "grid_area": null,
            "grid_template_columns": null,
            "flex": null,
            "_model_name": "LayoutModel",
            "justify_items": null,
            "grid_row": null,
            "max_height": null,
            "align_content": null,
            "visibility": null,
            "align_self": null,
            "height": null,
            "min_height": null,
            "padding": null,
            "grid_auto_rows": null,
            "grid_gap": null,
            "max_width": null,
            "order": null,
            "_view_module_version": "1.2.0",
            "grid_template_areas": null,
            "object_position": null,
            "object_fit": null,
            "grid_auto_columns": null,
            "margin": null,
            "display": null,
            "left": null
          }
        },
        "7d865a05b29c47e88bd1f8ee54d63be8": {
          "model_module": "@jupyter-widgets/controls",
          "model_name": "DescriptionStyleModel",
          "state": {
            "_view_name": "StyleView",
            "_model_name": "DescriptionStyleModel",
            "description_width": "",
            "_view_module": "@jupyter-widgets/base",
            "_model_module_version": "1.5.0",
            "_view_count": null,
            "_view_module_version": "1.2.0",
            "_model_module": "@jupyter-widgets/controls"
          }
        },
        "e330ece516f6424f887cdb2d8c71750b": {
          "model_module": "@jupyter-widgets/base",
          "model_name": "LayoutModel",
          "state": {
            "_view_name": "LayoutView",
            "grid_template_rows": null,
            "right": null,
            "justify_content": null,
            "_view_module": "@jupyter-widgets/base",
            "overflow": null,
            "_model_module_version": "1.2.0",
            "_view_count": null,
            "flex_flow": null,
            "width": null,
            "min_width": null,
            "border": null,
            "align_items": null,
            "bottom": null,
            "_model_module": "@jupyter-widgets/base",
            "top": null,
            "grid_column": null,
            "overflow_y": null,
            "overflow_x": null,
            "grid_auto_flow": null,
            "grid_area": null,
            "grid_template_columns": null,
            "flex": null,
            "_model_name": "LayoutModel",
            "justify_items": null,
            "grid_row": null,
            "max_height": null,
            "align_content": null,
            "visibility": null,
            "align_self": null,
            "height": null,
            "min_height": null,
            "padding": null,
            "grid_auto_rows": null,
            "grid_gap": null,
            "max_width": null,
            "order": null,
            "_view_module_version": "1.2.0",
            "grid_template_areas": null,
            "object_position": null,
            "object_fit": null,
            "grid_auto_columns": null,
            "margin": null,
            "display": null,
            "left": null
          }
        },
        "631da1c1298344739d10c78f1d0b40f8": {
          "model_module": "@jupyter-widgets/controls",
          "model_name": "HBoxModel",
          "state": {
            "_view_name": "HBoxView",
            "_dom_classes": [],
            "_model_name": "HBoxModel",
            "_view_module": "@jupyter-widgets/controls",
            "_model_module_version": "1.5.0",
            "_view_count": null,
            "_view_module_version": "1.5.0",
            "box_style": "",
            "layout": "IPY_MODEL_cded9ce4e4c74c989e96fc89810ee108",
            "_model_module": "@jupyter-widgets/controls",
            "children": [
              "IPY_MODEL_c591c324b31c45a782ed55586d3e5976",
              "IPY_MODEL_f0059c43234048f8af222aeff47e2005"
            ]
          }
        },
        "cded9ce4e4c74c989e96fc89810ee108": {
          "model_module": "@jupyter-widgets/base",
          "model_name": "LayoutModel",
          "state": {
            "_view_name": "LayoutView",
            "grid_template_rows": null,
            "right": null,
            "justify_content": null,
            "_view_module": "@jupyter-widgets/base",
            "overflow": null,
            "_model_module_version": "1.2.0",
            "_view_count": null,
            "flex_flow": null,
            "width": null,
            "min_width": null,
            "border": null,
            "align_items": null,
            "bottom": null,
            "_model_module": "@jupyter-widgets/base",
            "top": null,
            "grid_column": null,
            "overflow_y": null,
            "overflow_x": null,
            "grid_auto_flow": null,
            "grid_area": null,
            "grid_template_columns": null,
            "flex": null,
            "_model_name": "LayoutModel",
            "justify_items": null,
            "grid_row": null,
            "max_height": null,
            "align_content": null,
            "visibility": null,
            "align_self": null,
            "height": null,
            "min_height": null,
            "padding": null,
            "grid_auto_rows": null,
            "grid_gap": null,
            "max_width": null,
            "order": null,
            "_view_module_version": "1.2.0",
            "grid_template_areas": null,
            "object_position": null,
            "object_fit": null,
            "grid_auto_columns": null,
            "margin": null,
            "display": null,
            "left": null
          }
        },
        "c591c324b31c45a782ed55586d3e5976": {
          "model_module": "@jupyter-widgets/controls",
          "model_name": "FloatProgressModel",
          "state": {
            "_view_name": "ProgressView",
            "style": "IPY_MODEL_3e38076c2cc8461fa3490d18ae21e3d7",
            "_dom_classes": [],
            "description": "",
            "_model_name": "FloatProgressModel",
            "bar_style": "info",
            "max": 1,
            "_view_module": "@jupyter-widgets/controls",
            "_model_module_version": "1.5.0",
            "value": 1,
            "_view_count": null,
            "_view_module_version": "1.5.0",
            "orientation": "horizontal",
            "min": 0,
            "description_tooltip": null,
            "_model_module": "@jupyter-widgets/controls",
            "layout": "IPY_MODEL_e9b4874b182e43969c6932171a66803d"
          }
        },
        "f0059c43234048f8af222aeff47e2005": {
          "model_module": "@jupyter-widgets/controls",
          "model_name": "HTMLModel",
          "state": {
            "_view_name": "HTMLView",
            "style": "IPY_MODEL_4deb99e7d5764d459817e7e2123c587d",
            "_dom_classes": [],
            "description": "",
            "_model_name": "HTMLModel",
            "placeholder": "​",
            "_view_module": "@jupyter-widgets/controls",
            "_model_module_version": "1.5.0",
            "value": " 1063/0 [00:00&lt;00:00, 2474.85 examples/s]",
            "_view_count": null,
            "_view_module_version": "1.5.0",
            "description_tooltip": null,
            "_model_module": "@jupyter-widgets/controls",
            "layout": "IPY_MODEL_b02aab75c61947e0956102392cdfb27a"
          }
        },
        "3e38076c2cc8461fa3490d18ae21e3d7": {
          "model_module": "@jupyter-widgets/controls",
          "model_name": "ProgressStyleModel",
          "state": {
            "_view_name": "StyleView",
            "_model_name": "ProgressStyleModel",
            "description_width": "initial",
            "_view_module": "@jupyter-widgets/base",
            "_model_module_version": "1.5.0",
            "_view_count": null,
            "_view_module_version": "1.2.0",
            "bar_color": null,
            "_model_module": "@jupyter-widgets/controls"
          }
        },
        "e9b4874b182e43969c6932171a66803d": {
          "model_module": "@jupyter-widgets/base",
          "model_name": "LayoutModel",
          "state": {
            "_view_name": "LayoutView",
            "grid_template_rows": null,
            "right": null,
            "justify_content": null,
            "_view_module": "@jupyter-widgets/base",
            "overflow": null,
            "_model_module_version": "1.2.0",
            "_view_count": null,
            "flex_flow": null,
            "width": null,
            "min_width": null,
            "border": null,
            "align_items": null,
            "bottom": null,
            "_model_module": "@jupyter-widgets/base",
            "top": null,
            "grid_column": null,
            "overflow_y": null,
            "overflow_x": null,
            "grid_auto_flow": null,
            "grid_area": null,
            "grid_template_columns": null,
            "flex": null,
            "_model_name": "LayoutModel",
            "justify_items": null,
            "grid_row": null,
            "max_height": null,
            "align_content": null,
            "visibility": null,
            "align_self": null,
            "height": null,
            "min_height": null,
            "padding": null,
            "grid_auto_rows": null,
            "grid_gap": null,
            "max_width": null,
            "order": null,
            "_view_module_version": "1.2.0",
            "grid_template_areas": null,
            "object_position": null,
            "object_fit": null,
            "grid_auto_columns": null,
            "margin": null,
            "display": null,
            "left": null
          }
        },
        "4deb99e7d5764d459817e7e2123c587d": {
          "model_module": "@jupyter-widgets/controls",
          "model_name": "DescriptionStyleModel",
          "state": {
            "_view_name": "StyleView",
            "_model_name": "DescriptionStyleModel",
            "description_width": "",
            "_view_module": "@jupyter-widgets/base",
            "_model_module_version": "1.5.0",
            "_view_count": null,
            "_view_module_version": "1.2.0",
            "_model_module": "@jupyter-widgets/controls"
          }
        },
        "b02aab75c61947e0956102392cdfb27a": {
          "model_module": "@jupyter-widgets/base",
          "model_name": "LayoutModel",
          "state": {
            "_view_name": "LayoutView",
            "grid_template_rows": null,
            "right": null,
            "justify_content": null,
            "_view_module": "@jupyter-widgets/base",
            "overflow": null,
            "_model_module_version": "1.2.0",
            "_view_count": null,
            "flex_flow": null,
            "width": null,
            "min_width": null,
            "border": null,
            "align_items": null,
            "bottom": null,
            "_model_module": "@jupyter-widgets/base",
            "top": null,
            "grid_column": null,
            "overflow_y": null,
            "overflow_x": null,
            "grid_auto_flow": null,
            "grid_area": null,
            "grid_template_columns": null,
            "flex": null,
            "_model_name": "LayoutModel",
            "justify_items": null,
            "grid_row": null,
            "max_height": null,
            "align_content": null,
            "visibility": null,
            "align_self": null,
            "height": null,
            "min_height": null,
            "padding": null,
            "grid_auto_rows": null,
            "grid_gap": null,
            "max_width": null,
            "order": null,
            "_view_module_version": "1.2.0",
            "grid_template_areas": null,
            "object_position": null,
            "object_fit": null,
            "grid_auto_columns": null,
            "margin": null,
            "display": null,
            "left": null
          }
        },
        "4cee1f6aeb3d46049e2eda8742d80166": {
          "model_module": "@jupyter-widgets/controls",
          "model_name": "HBoxModel",
          "state": {
            "_view_name": "HBoxView",
            "_dom_classes": [],
            "_model_name": "HBoxModel",
            "_view_module": "@jupyter-widgets/controls",
            "_model_module_version": "1.5.0",
            "_view_count": null,
            "_view_module_version": "1.5.0",
            "box_style": "",
            "layout": "IPY_MODEL_55a6e5e96c22423dba869d35ac300a83",
            "_model_module": "@jupyter-widgets/controls",
            "children": [
              "IPY_MODEL_92312c3774aa450989073ec8a961fea1",
              "IPY_MODEL_c762e93c9b324b049f819ba78984fd0f"
            ]
          }
        },
        "55a6e5e96c22423dba869d35ac300a83": {
          "model_module": "@jupyter-widgets/base",
          "model_name": "LayoutModel",
          "state": {
            "_view_name": "LayoutView",
            "grid_template_rows": null,
            "right": null,
            "justify_content": null,
            "_view_module": "@jupyter-widgets/base",
            "overflow": null,
            "_model_module_version": "1.2.0",
            "_view_count": null,
            "flex_flow": null,
            "width": null,
            "min_width": null,
            "border": null,
            "align_items": null,
            "bottom": null,
            "_model_module": "@jupyter-widgets/base",
            "top": null,
            "grid_column": null,
            "overflow_y": null,
            "overflow_x": null,
            "grid_auto_flow": null,
            "grid_area": null,
            "grid_template_columns": null,
            "flex": null,
            "_model_name": "LayoutModel",
            "justify_items": null,
            "grid_row": null,
            "max_height": null,
            "align_content": null,
            "visibility": null,
            "align_self": null,
            "height": null,
            "min_height": null,
            "padding": null,
            "grid_auto_rows": null,
            "grid_gap": null,
            "max_width": null,
            "order": null,
            "_view_module_version": "1.2.0",
            "grid_template_areas": null,
            "object_position": null,
            "object_fit": null,
            "grid_auto_columns": null,
            "margin": null,
            "display": null,
            "left": null
          }
        },
        "92312c3774aa450989073ec8a961fea1": {
          "model_module": "@jupyter-widgets/controls",
          "model_name": "FloatProgressModel",
          "state": {
            "_view_name": "ProgressView",
            "style": "IPY_MODEL_e0a73b68851845869d1427a3eeb3124c",
            "_dom_classes": [],
            "description": "  0%",
            "_model_name": "FloatProgressModel",
            "bar_style": "danger",
            "max": 1063,
            "_view_module": "@jupyter-widgets/controls",
            "_model_module_version": "1.5.0",
            "value": 0,
            "_view_count": null,
            "_view_module_version": "1.5.0",
            "orientation": "horizontal",
            "min": 0,
            "description_tooltip": null,
            "_model_module": "@jupyter-widgets/controls",
            "layout": "IPY_MODEL_0b1a2e26eed2401db8d8fbf9bc429d2c"
          }
        },
        "c762e93c9b324b049f819ba78984fd0f": {
          "model_module": "@jupyter-widgets/controls",
          "model_name": "HTMLModel",
          "state": {
            "_view_name": "HTMLView",
            "style": "IPY_MODEL_174891098b964fcbb748c6184cfc9860",
            "_dom_classes": [],
            "description": "",
            "_model_name": "HTMLModel",
            "placeholder": "​",
            "_view_module": "@jupyter-widgets/controls",
            "_model_module_version": "1.5.0",
            "value": " 0/1063 [00:00&lt;?, ? examples/s]",
            "_view_count": null,
            "_view_module_version": "1.5.0",
            "description_tooltip": null,
            "_model_module": "@jupyter-widgets/controls",
            "layout": "IPY_MODEL_4be8125b2d4443c5b2fc5bc4829f25fd"
          }
        },
        "e0a73b68851845869d1427a3eeb3124c": {
          "model_module": "@jupyter-widgets/controls",
          "model_name": "ProgressStyleModel",
          "state": {
            "_view_name": "StyleView",
            "_model_name": "ProgressStyleModel",
            "description_width": "initial",
            "_view_module": "@jupyter-widgets/base",
            "_model_module_version": "1.5.0",
            "_view_count": null,
            "_view_module_version": "1.2.0",
            "bar_color": null,
            "_model_module": "@jupyter-widgets/controls"
          }
        },
        "0b1a2e26eed2401db8d8fbf9bc429d2c": {
          "model_module": "@jupyter-widgets/base",
          "model_name": "LayoutModel",
          "state": {
            "_view_name": "LayoutView",
            "grid_template_rows": null,
            "right": null,
            "justify_content": null,
            "_view_module": "@jupyter-widgets/base",
            "overflow": null,
            "_model_module_version": "1.2.0",
            "_view_count": null,
            "flex_flow": null,
            "width": null,
            "min_width": null,
            "border": null,
            "align_items": null,
            "bottom": null,
            "_model_module": "@jupyter-widgets/base",
            "top": null,
            "grid_column": null,
            "overflow_y": null,
            "overflow_x": null,
            "grid_auto_flow": null,
            "grid_area": null,
            "grid_template_columns": null,
            "flex": null,
            "_model_name": "LayoutModel",
            "justify_items": null,
            "grid_row": null,
            "max_height": null,
            "align_content": null,
            "visibility": null,
            "align_self": null,
            "height": null,
            "min_height": null,
            "padding": null,
            "grid_auto_rows": null,
            "grid_gap": null,
            "max_width": null,
            "order": null,
            "_view_module_version": "1.2.0",
            "grid_template_areas": null,
            "object_position": null,
            "object_fit": null,
            "grid_auto_columns": null,
            "margin": null,
            "display": null,
            "left": null
          }
        },
        "174891098b964fcbb748c6184cfc9860": {
          "model_module": "@jupyter-widgets/controls",
          "model_name": "DescriptionStyleModel",
          "state": {
            "_view_name": "StyleView",
            "_model_name": "DescriptionStyleModel",
            "description_width": "",
            "_view_module": "@jupyter-widgets/base",
            "_model_module_version": "1.5.0",
            "_view_count": null,
            "_view_module_version": "1.2.0",
            "_model_module": "@jupyter-widgets/controls"
          }
        },
        "4be8125b2d4443c5b2fc5bc4829f25fd": {
          "model_module": "@jupyter-widgets/base",
          "model_name": "LayoutModel",
          "state": {
            "_view_name": "LayoutView",
            "grid_template_rows": null,
            "right": null,
            "justify_content": null,
            "_view_module": "@jupyter-widgets/base",
            "overflow": null,
            "_model_module_version": "1.2.0",
            "_view_count": null,
            "flex_flow": null,
            "width": null,
            "min_width": null,
            "border": null,
            "align_items": null,
            "bottom": null,
            "_model_module": "@jupyter-widgets/base",
            "top": null,
            "grid_column": null,
            "overflow_y": null,
            "overflow_x": null,
            "grid_auto_flow": null,
            "grid_area": null,
            "grid_template_columns": null,
            "flex": null,
            "_model_name": "LayoutModel",
            "justify_items": null,
            "grid_row": null,
            "max_height": null,
            "align_content": null,
            "visibility": null,
            "align_self": null,
            "height": null,
            "min_height": null,
            "padding": null,
            "grid_auto_rows": null,
            "grid_gap": null,
            "max_width": null,
            "order": null,
            "_view_module_version": "1.2.0",
            "grid_template_areas": null,
            "object_position": null,
            "object_fit": null,
            "grid_auto_columns": null,
            "margin": null,
            "display": null,
            "left": null
          }
        }
      }
    }
  },
  "cells": [
    {
      "cell_type": "markdown",
      "metadata": {
        "id": "view-in-github",
        "colab_type": "text"
      },
      "source": [
        "<a href=\"https://colab.research.google.com/github/DiegoSnach/The-final-project-GLUE/blob/master/1_FINAL_CoLA_with_Glove.ipynb\" target=\"_parent\"><img src=\"https://colab.research.google.com/assets/colab-badge.svg\" alt=\"Open In Colab\"/></a>"
      ]
    },
    {
      "cell_type": "code",
      "metadata": {
        "id": "ktST6Um1SaQH",
        "colab_type": "code",
        "colab": {
          "base_uri": "https://localhost:8080/",
          "height": 90
        },
        "outputId": "7f8b0a52-f6e9-4496-9645-1ff5384b3f39"
      },
      "source": [
        "\n",
        "from time import time\n",
        "import pandas as pd\n",
        "import numpy as np\n",
        "import re\n",
        "import matplotlib.pyplot as plt\n",
        "import seaborn as sns\n",
        "\n",
        "from keras.preprocessing.sequence import pad_sequences\n",
        "from keras.models import Model\n",
        "from keras.layers import Input, Embedding, LSTM, Lambda\n",
        "import keras.backend as K\n",
        "from keras.optimizers import Adadelta\n",
        "from keras.callbacks import ModelCheckpoint\n",
        "import os\n",
        "import numpy as np\n",
        "\n",
        "import tensorflow as tf \n",
        "import tensorflow_hub as hub\n",
        "import tensorflow_datasets as tfds\n",
        "import matplotlib.pyplot as plt\n",
        "\n",
        "print(\"GPU is\", \"available\" if tf.config.list_physical_devices('GPU') else \"NOT AVAILABLE\")"
      ],
      "execution_count": 1,
      "outputs": [
        {
          "output_type": "stream",
          "text": [
            "/usr/local/lib/python3.6/dist-packages/statsmodels/tools/_testing.py:19: FutureWarning: pandas.util.testing is deprecated. Use the functions in the public API at pandas.testing instead.\n",
            "  import pandas.util.testing as tm\n"
          ],
          "name": "stderr"
        },
        {
          "output_type": "stream",
          "text": [
            "GPU is available\n"
          ],
          "name": "stdout"
        }
      ]
    },
    {
      "cell_type": "code",
      "metadata": {
        "id": "EPXLuuZRTndI",
        "colab_type": "code",
        "colab": {
          "base_uri": "https://localhost:8080/",
          "height": 460,
          "referenced_widgets": [
            "be68f05116ed44219f4025a9f382c9e3",
            "b7b73c7b914c4ce3a4d90fb0acaa7219",
            "8136b7c3d2954cbcbfefde1632772bc5",
            "50c9a356ec0d44a39700f7bca939a1a0",
            "32ded365ab4b49c6b12280d42429027c",
            "bc369eb5ef314fed8024ce3e6e793169",
            "48937419925144e9866a012b990f3943",
            "2176ac8cc3c848ed99f1bd06fdbb5629",
            "9ab54b28e19444eda9ca7aa0982c7f31",
            "e451866dd847408d879f5dee568633c6",
            "c9ca3e0864aa4b659d445be0ec4f87b1",
            "65efc24cfade495dafafbd540cb9a5de",
            "82be9a479fb24135bd9103d28881f017",
            "fda9000a9fa2411d88080a508381e77b",
            "14738c43815c47b5923083fd10ff981d",
            "9e5c13bd48724e2bbb468bffeeadb52a",
            "dd121eaf1c904efe9bab420ebb1b1edd",
            "385e888350a14ef6b0545b4828d664dc",
            "06f153700d7f43468c192b0cb3c92f5c",
            "e4a93dc0f74941a18b83ba5cf5421583",
            "1f633bbdb06f4d0fbc74a537930f3541",
            "2c735fb366554f57bd7cbf6c26d7bc82",
            "588c11d185964b90b8d861f37ee08f77",
            "19a7a95f258143bfa1e9ca27b3aa1e98",
            "f41ad4ea770040bf9fdd95603cb77b45",
            "707e89b412244a8a88994e0a5f3ef13f",
            "fefe038fc8e849d784594679b78ea1e7",
            "7ae9c0ee48974adb9b5f6692a80d39aa",
            "d8bf61c728784639a94acfe6de4eac44",
            "8c4ba15b16a94789ba2ea1351f341db4",
            "cc7c4c460ff8421ab1b8a9a350e526d1",
            "9b98c48af49a4ddfa31b628bf9d9477e",
            "a0b2530820a44b3f87ff045392e8ab57",
            "5c47e1bbdca04c84b7cbf4bcb65db316",
            "4ee5bd7e2eb9411eb6129b42175256d3",
            "831c946125394b0e86346b24a2f4c523",
            "fd6c188bbab9443b98f4b5afdf9db08a",
            "eb22951dd9d5483c9e2924351903ded1",
            "63a7ed33ca8d4f639550edf6726ddccc",
            "ce21666db1ef40f59d427ad74e39797a",
            "8d03f7208bc64dc49aafd5111aecf3a9",
            "af9eff18e44542688daf3089fbb6c1e3",
            "6a4fef9bc0984d39a79944733a6645b1",
            "73dd0910209e4691bb25b2c151d0c193",
            "615cae29d2664ef48944563ad4a622cb",
            "51f77a86d46049868e532ad627aeff4e",
            "e922c6df84d5463c9093999f0f8726f4",
            "3caf383a158e4e218011a31020c01e31",
            "6fafd11ad1da453297ab5a04db52dd68",
            "7687bf5bc0d54ca8a906e67baa0ccb64",
            "eb62f65373d34e09be81bd0624ee39af",
            "59a5e5a5fec1491e84a8068b54e5ec50",
            "e1c86652c95e427a9596dd1a17ac1028",
            "6e7da7edc29046c3b043793f4ba8e6ca",
            "7d865a05b29c47e88bd1f8ee54d63be8",
            "e330ece516f6424f887cdb2d8c71750b",
            "631da1c1298344739d10c78f1d0b40f8",
            "cded9ce4e4c74c989e96fc89810ee108",
            "c591c324b31c45a782ed55586d3e5976",
            "f0059c43234048f8af222aeff47e2005",
            "3e38076c2cc8461fa3490d18ae21e3d7",
            "e9b4874b182e43969c6932171a66803d",
            "4deb99e7d5764d459817e7e2123c587d",
            "b02aab75c61947e0956102392cdfb27a",
            "4cee1f6aeb3d46049e2eda8742d80166",
            "55a6e5e96c22423dba869d35ac300a83",
            "92312c3774aa450989073ec8a961fea1",
            "c762e93c9b324b049f819ba78984fd0f",
            "e0a73b68851845869d1427a3eeb3124c",
            "0b1a2e26eed2401db8d8fbf9bc429d2c",
            "174891098b964fcbb748c6184cfc9860",
            "4be8125b2d4443c5b2fc5bc4829f25fd"
          ]
        },
        "outputId": "56a63c62-31b1-4748-dceb-728e985a2ffd"
      },
      "source": [
        "# if `batch_size=-1`, will return the full dataset as `tf.tensor`s. ABSOLUTELY FUNDAMENTAL!\n",
        "\n",
        "train_data, validation_data = tfds.load(name='glue/cola', split=['train', 'validation'], batch_size=-1)"
      ],
      "execution_count": 2,
      "outputs": [
        {
          "output_type": "stream",
          "text": [
            "\u001b[1mDownloading and preparing dataset glue/cola/1.0.0 (download: 368.14 KiB, generated: Unknown size, total: 368.14 KiB) to /root/tensorflow_datasets/glue/cola/1.0.0...\u001b[0m\n"
          ],
          "name": "stdout"
        },
        {
          "output_type": "display_data",
          "data": {
            "application/vnd.jupyter.widget-view+json": {
              "model_id": "be68f05116ed44219f4025a9f382c9e3",
              "version_minor": 0,
              "version_major": 2
            },
            "text/plain": [
              "HBox(children=(FloatProgress(value=1.0, bar_style='info', description='Dl Completed...', max=1.0, style=Progre…"
            ]
          },
          "metadata": {
            "tags": []
          }
        },
        {
          "output_type": "display_data",
          "data": {
            "application/vnd.jupyter.widget-view+json": {
              "model_id": "9ab54b28e19444eda9ca7aa0982c7f31",
              "version_minor": 0,
              "version_major": 2
            },
            "text/plain": [
              "HBox(children=(FloatProgress(value=1.0, bar_style='info', description='Dl Size...', max=1.0, style=ProgressSty…"
            ]
          },
          "metadata": {
            "tags": []
          }
        },
        {
          "output_type": "display_data",
          "data": {
            "application/vnd.jupyter.widget-view+json": {
              "model_id": "dd121eaf1c904efe9bab420ebb1b1edd",
              "version_minor": 0,
              "version_major": 2
            },
            "text/plain": [
              "HBox(children=(FloatProgress(value=1.0, bar_style='info', description='Extraction completed...', max=1.0, styl…"
            ]
          },
          "metadata": {
            "tags": []
          }
        },
        {
          "output_type": "stream",
          "text": [
            "/usr/local/lib/python3.6/dist-packages/urllib3/connectionpool.py:847: InsecureRequestWarning: Unverified HTTPS request is being made. Adding certificate verification is strongly advised. See: https://urllib3.readthedocs.io/en/latest/advanced-usage.html#ssl-warnings\n",
            "  InsecureRequestWarning)\n"
          ],
          "name": "stderr"
        },
        {
          "output_type": "stream",
          "text": [
            "\n",
            "\n",
            "\n",
            "\n",
            "\n",
            "\n"
          ],
          "name": "stdout"
        },
        {
          "output_type": "display_data",
          "data": {
            "application/vnd.jupyter.widget-view+json": {
              "model_id": "f41ad4ea770040bf9fdd95603cb77b45",
              "version_minor": 0,
              "version_major": 2
            },
            "text/plain": [
              "HBox(children=(FloatProgress(value=1.0, bar_style='info', max=1.0), HTML(value='')))"
            ]
          },
          "metadata": {
            "tags": []
          }
        },
        {
          "output_type": "stream",
          "text": [
            "\rShuffling and writing examples to /root/tensorflow_datasets/glue/cola/1.0.0.incomplete9X18X9/glue-train.tfrecord\n"
          ],
          "name": "stdout"
        },
        {
          "output_type": "display_data",
          "data": {
            "application/vnd.jupyter.widget-view+json": {
              "model_id": "a0b2530820a44b3f87ff045392e8ab57",
              "version_minor": 0,
              "version_major": 2
            },
            "text/plain": [
              "HBox(children=(FloatProgress(value=0.0, max=8551.0), HTML(value='')))"
            ]
          },
          "metadata": {
            "tags": []
          }
        },
        {
          "output_type": "stream",
          "text": [
            "\r"
          ],
          "name": "stdout"
        },
        {
          "output_type": "display_data",
          "data": {
            "application/vnd.jupyter.widget-view+json": {
              "model_id": "8d03f7208bc64dc49aafd5111aecf3a9",
              "version_minor": 0,
              "version_major": 2
            },
            "text/plain": [
              "HBox(children=(FloatProgress(value=1.0, bar_style='info', max=1.0), HTML(value='')))"
            ]
          },
          "metadata": {
            "tags": []
          }
        },
        {
          "output_type": "stream",
          "text": [
            "\rShuffling and writing examples to /root/tensorflow_datasets/glue/cola/1.0.0.incomplete9X18X9/glue-validation.tfrecord\n"
          ],
          "name": "stdout"
        },
        {
          "output_type": "display_data",
          "data": {
            "application/vnd.jupyter.widget-view+json": {
              "model_id": "6fafd11ad1da453297ab5a04db52dd68",
              "version_minor": 0,
              "version_major": 2
            },
            "text/plain": [
              "HBox(children=(FloatProgress(value=0.0, max=1043.0), HTML(value='')))"
            ]
          },
          "metadata": {
            "tags": []
          }
        },
        {
          "output_type": "stream",
          "text": [
            "\r"
          ],
          "name": "stdout"
        },
        {
          "output_type": "display_data",
          "data": {
            "application/vnd.jupyter.widget-view+json": {
              "model_id": "631da1c1298344739d10c78f1d0b40f8",
              "version_minor": 0,
              "version_major": 2
            },
            "text/plain": [
              "HBox(children=(FloatProgress(value=1.0, bar_style='info', max=1.0), HTML(value='')))"
            ]
          },
          "metadata": {
            "tags": []
          }
        },
        {
          "output_type": "stream",
          "text": [
            "\rShuffling and writing examples to /root/tensorflow_datasets/glue/cola/1.0.0.incomplete9X18X9/glue-test.tfrecord\n"
          ],
          "name": "stdout"
        },
        {
          "output_type": "display_data",
          "data": {
            "application/vnd.jupyter.widget-view+json": {
              "model_id": "4cee1f6aeb3d46049e2eda8742d80166",
              "version_minor": 0,
              "version_major": 2
            },
            "text/plain": [
              "HBox(children=(FloatProgress(value=0.0, max=1063.0), HTML(value='')))"
            ]
          },
          "metadata": {
            "tags": []
          }
        },
        {
          "output_type": "stream",
          "text": [
            "\u001b[1mDataset glue downloaded and prepared to /root/tensorflow_datasets/glue/cola/1.0.0. Subsequent calls will reuse this data.\u001b[0m\n",
            "\r"
          ],
          "name": "stdout"
        }
      ]
    },
    {
      "cell_type": "code",
      "metadata": {
        "id": "N7Wnyu-PCie4",
        "colab_type": "code",
        "colab": {
          "base_uri": "https://localhost:8080/",
          "height": 34
        },
        "outputId": "ac26c571-7f88-4e2a-a3ec-d8ab5c383d40"
      },
      "source": [
        "train_data.keys()"
      ],
      "execution_count": 3,
      "outputs": [
        {
          "output_type": "execute_result",
          "data": {
            "text/plain": [
              "dict_keys(['idx', 'label', 'sentence'])"
            ]
          },
          "metadata": {
            "tags": []
          },
          "execution_count": 3
        }
      ]
    },
    {
      "cell_type": "code",
      "metadata": {
        "id": "8eRRC5kpCiRW",
        "colab_type": "code",
        "colab": {}
      },
      "source": [
        "df_train = pd.DataFrame(data=train_data)\n",
        "df_val = pd.DataFrame(data=validation_data)"
      ],
      "execution_count": 4,
      "outputs": []
    },
    {
      "cell_type": "code",
      "metadata": {
        "id": "rzUQptyjMrSc",
        "colab_type": "code",
        "colab": {
          "base_uri": "https://localhost:8080/",
          "height": 406
        },
        "outputId": "1f0e6b18-e7a3-4590-869b-5c3a390f9ab7"
      },
      "source": [
        "df_train.loc[df_train['label']==0]"
      ],
      "execution_count": 5,
      "outputs": [
        {
          "output_type": "execute_result",
          "data": {
            "text/html": [
              "<div>\n",
              "<style scoped>\n",
              "    .dataframe tbody tr th:only-of-type {\n",
              "        vertical-align: middle;\n",
              "    }\n",
              "\n",
              "    .dataframe tbody tr th {\n",
              "        vertical-align: top;\n",
              "    }\n",
              "\n",
              "    .dataframe thead th {\n",
              "        text-align: right;\n",
              "    }\n",
              "</style>\n",
              "<table border=\"1\" class=\"dataframe\">\n",
              "  <thead>\n",
              "    <tr style=\"text-align: right;\">\n",
              "      <th></th>\n",
              "      <th>idx</th>\n",
              "      <th>label</th>\n",
              "      <th>sentence</th>\n",
              "    </tr>\n",
              "  </thead>\n",
              "  <tbody>\n",
              "    <tr>\n",
              "      <th>5</th>\n",
              "      <td>3017</td>\n",
              "      <td>0</td>\n",
              "      <td>b'The inspector analyzed the soundness in the ...</td>\n",
              "    </tr>\n",
              "    <tr>\n",
              "      <th>10</th>\n",
              "      <td>4352</td>\n",
              "      <td>0</td>\n",
              "      <td>b'There is more chemical substances involved i...</td>\n",
              "    </tr>\n",
              "    <tr>\n",
              "      <th>20</th>\n",
              "      <td>3365</td>\n",
              "      <td>0</td>\n",
              "      <td>b'In the corner lay a dog.'</td>\n",
              "    </tr>\n",
              "    <tr>\n",
              "      <th>23</th>\n",
              "      <td>6026</td>\n",
              "      <td>0</td>\n",
              "      <td>b'The cat was being eating.'</td>\n",
              "    </tr>\n",
              "    <tr>\n",
              "      <th>24</th>\n",
              "      <td>7931</td>\n",
              "      <td>0</td>\n",
              "      <td>b'The Greeks arrived all.'</td>\n",
              "    </tr>\n",
              "    <tr>\n",
              "      <th>...</th>\n",
              "      <td>...</td>\n",
              "      <td>...</td>\n",
              "      <td>...</td>\n",
              "    </tr>\n",
              "    <tr>\n",
              "      <th>8539</th>\n",
              "      <td>3682</td>\n",
              "      <td>0</td>\n",
              "      <td>b'John suddenly got the bus off.'</td>\n",
              "    </tr>\n",
              "    <tr>\n",
              "      <th>8544</th>\n",
              "      <td>7565</td>\n",
              "      <td>0</td>\n",
              "      <td>b'Mary believes that Bill saw herself.'</td>\n",
              "    </tr>\n",
              "    <tr>\n",
              "      <th>8546</th>\n",
              "      <td>4920</td>\n",
              "      <td>0</td>\n",
              "      <td>b'a pencil with that to write broke.'</td>\n",
              "    </tr>\n",
              "    <tr>\n",
              "      <th>8547</th>\n",
              "      <td>3619</td>\n",
              "      <td>0</td>\n",
              "      <td>b'It was in the park last night that the polic...</td>\n",
              "    </tr>\n",
              "    <tr>\n",
              "      <th>8549</th>\n",
              "      <td>8351</td>\n",
              "      <td>0</td>\n",
              "      <td>b'You said she liked yourself'</td>\n",
              "    </tr>\n",
              "  </tbody>\n",
              "</table>\n",
              "<p>2528 rows × 3 columns</p>\n",
              "</div>"
            ],
            "text/plain": [
              "       idx  label                                           sentence\n",
              "5     3017      0  b'The inspector analyzed the soundness in the ...\n",
              "10    4352      0  b'There is more chemical substances involved i...\n",
              "20    3365      0                        b'In the corner lay a dog.'\n",
              "23    6026      0                       b'The cat was being eating.'\n",
              "24    7931      0                         b'The Greeks arrived all.'\n",
              "...    ...    ...                                                ...\n",
              "8539  3682      0                  b'John suddenly got the bus off.'\n",
              "8544  7565      0            b'Mary believes that Bill saw herself.'\n",
              "8546  4920      0              b'a pencil with that to write broke.'\n",
              "8547  3619      0  b'It was in the park last night that the polic...\n",
              "8549  8351      0                     b'You said she liked yourself'\n",
              "\n",
              "[2528 rows x 3 columns]"
            ]
          },
          "metadata": {
            "tags": []
          },
          "execution_count": 5
        }
      ]
    },
    {
      "cell_type": "code",
      "metadata": {
        "id": "NCdbwdYZC5De",
        "colab_type": "code",
        "colab": {}
      },
      "source": [
        "# Creates function to clean data\n",
        "\n",
        "def process_data (data):\n",
        "  punct = \"/-?!.,#$%\\()*+-/:;<=>@[\\\\]^_`{|}~`\" + '\"\"“”’' + '∞θ÷α•à−β∅³π‘₹´°£€\\×™√²—–&'\n",
        "  def clean_the_text (text, punt):\n",
        "    for p in punct:\n",
        "      text = text.replace(p, ' ')\n",
        "      text = text.replace(\"b'\", ' ', 1)\n",
        "      text = text.replace('b\"', ' ', 1)\n",
        "    return text\n",
        "  \n",
        "  data =  data.astype(str).apply(lambda x: clean_the_text(x, punct))\n",
        "  return data  "
      ],
      "execution_count": 6,
      "outputs": []
    },
    {
      "cell_type": "code",
      "metadata": {
        "id": "jP91rwgxecwm",
        "colab_type": "code",
        "colab": {
          "base_uri": "https://localhost:8080/",
          "height": 52
        },
        "outputId": "fb0d2dc8-5cd5-45f8-a09a-e8e5bf4caef8"
      },
      "source": [
        "# Transform data to string as it came as tensor object. Cleans data\n",
        "\n",
        "sentence = process_data(df_train.sentence.apply(str))\n",
        "label = df_train.label.apply(int)\n",
        "print(len(sentence))\n",
        "print(len(label))"
      ],
      "execution_count": 7,
      "outputs": [
        {
          "output_type": "stream",
          "text": [
            "8551\n",
            "8551\n"
          ],
          "name": "stdout"
        }
      ]
    },
    {
      "cell_type": "code",
      "metadata": {
        "id": "Th3AfEHhaljE",
        "colab_type": "code",
        "colab": {
          "base_uri": "https://localhost:8080/",
          "height": 230
        },
        "outputId": "f15b460c-6458-4667-b259-4db7d23bf3e3"
      },
      "source": [
        "label"
      ],
      "execution_count": 8,
      "outputs": [
        {
          "output_type": "execute_result",
          "data": {
            "text/plain": [
              "0       1\n",
              "1       1\n",
              "2       1\n",
              "3       1\n",
              "4       1\n",
              "       ..\n",
              "8546    0\n",
              "8547    0\n",
              "8548    1\n",
              "8549    0\n",
              "8550    1\n",
              "Name: label, Length: 8551, dtype: int64"
            ]
          },
          "metadata": {
            "tags": []
          },
          "execution_count": 8
        }
      ]
    },
    {
      "cell_type": "code",
      "metadata": {
        "id": "JAhKnKCeikeo",
        "colab_type": "code",
        "colab": {
          "base_uri": "https://localhost:8080/",
          "height": 230
        },
        "outputId": "240a8007-f965-41cf-df86-7d5a22fd1cc3"
      },
      "source": [
        "sentence"
      ],
      "execution_count": 9,
      "outputs": [
        {
          "output_type": "execute_result",
          "data": {
            "text/plain": [
              "0        It is this hat that it is certain that he was...\n",
              "1        Her efficient looking up of the answer please...\n",
              "2                 Both the workers will wear carnations '\n",
              "3        John enjoyed drawing trees for his syntax hom...\n",
              "4        We consider Leslie rather foolish  and Lou a ...\n",
              "                              ...                        \n",
              "8546                  a pencil with that to write broke '\n",
              "8547     It was in the park last night that the police...\n",
              "8548           John looked up the inside of the chimney '\n",
              "8549                         You said she liked yourself'\n",
              "8550        What we're using is their teaching material  \n",
              "Name: sentence, Length: 8551, dtype: object"
            ]
          },
          "metadata": {
            "tags": []
          },
          "execution_count": 9
        }
      ]
    },
    {
      "cell_type": "code",
      "metadata": {
        "id": "pIL5Jok7qhjx",
        "colab_type": "code",
        "colab": {
          "base_uri": "https://localhost:8080/",
          "height": 52
        },
        "outputId": "140509f3-1c97-4e39-f094-155587edf462"
      },
      "source": [
        "# Transform data to string for validation as well\n",
        "\n",
        "val_sentence = process_data(df_val.sentence.apply(str))\n",
        "val_label = df_val.label\n",
        "print(len(val_sentence))\n",
        "print(len(val_label))"
      ],
      "execution_count": 10,
      "outputs": [
        {
          "output_type": "stream",
          "text": [
            "1043\n",
            "1043\n"
          ],
          "name": "stdout"
        }
      ]
    },
    {
      "cell_type": "code",
      "metadata": {
        "id": "KggxgPCmqh74",
        "colab_type": "code",
        "colab": {
          "base_uri": "https://localhost:8080/",
          "height": 230
        },
        "outputId": "9c3678f1-ce40-4a4a-edbc-c886fc4b0cb2"
      },
      "source": [
        "val_sentence"
      ],
      "execution_count": 11,
      "outputs": [
        {
          "output_type": "execute_result",
          "data": {
            "text/plain": [
              "0                    That picture of Susan offended her '\n",
              "1                                         I noticed the '\n",
              "2                         Mary revealed himself to John '\n",
              "3                    Frank Churchill crossed the street '\n",
              "4                      Everyone hopes everyone to sleep '\n",
              "                              ...                        \n",
              "1038     Smith loaned a valuable collection of manuscr...\n",
              "1039              I gave it to Pete to take to the fair '\n",
              "1040     I demand that the more John eat  the more he ...\n",
              "1041                                        They yelled '\n",
              "1042                   The person responsible confessed '\n",
              "Name: sentence, Length: 1043, dtype: object"
            ]
          },
          "metadata": {
            "tags": []
          },
          "execution_count": 11
        }
      ]
    },
    {
      "cell_type": "code",
      "metadata": {
        "id": "mSlUUfCu7Flg",
        "colab_type": "code",
        "colab": {
          "base_uri": "https://localhost:8080/",
          "height": 230
        },
        "outputId": "6697464f-d875-4775-9041-2ed537fe1cf2"
      },
      "source": [
        "val_label"
      ],
      "execution_count": 12,
      "outputs": [
        {
          "output_type": "execute_result",
          "data": {
            "text/plain": [
              "0       1\n",
              "1       0\n",
              "2       0\n",
              "3       1\n",
              "4       0\n",
              "       ..\n",
              "1038    1\n",
              "1039    1\n",
              "1040    0\n",
              "1041    1\n",
              "1042    1\n",
              "Name: label, Length: 1043, dtype: int64"
            ]
          },
          "metadata": {
            "tags": []
          },
          "execution_count": 12
        }
      ]
    },
    {
      "cell_type": "code",
      "metadata": {
        "id": "pG7jnEdkVIXS",
        "colab_type": "code",
        "colab": {
          "base_uri": "https://localhost:8080/",
          "height": 70
        },
        "outputId": "d14ed8d7-c373-4faa-e73f-c3c2cfc59044"
      },
      "source": [
        "# Check lenght of sentence\n",
        "\n",
        "count = sentence.apply(lambda x: len(str(x).split()))\n",
        "print('Mean: %f' % (count.mean()))\n",
        "print('Median: %f' % (count.median()))\n",
        "print('Max: %f' % (count.max()))"
      ],
      "execution_count": 13,
      "outputs": [
        {
          "output_type": "stream",
          "text": [
            "Mean: 8.569173\n",
            "Median: 8.000000\n",
            "Max: 43.000000\n"
          ],
          "name": "stdout"
        }
      ]
    },
    {
      "cell_type": "code",
      "metadata": {
        "id": "hEH369MDaR5Q",
        "colab_type": "code",
        "colab": {}
      },
      "source": [
        "# Brings Tokenizer and sequences padder\n",
        "\n",
        "Tokenizer = tf.keras.preprocessing.text.Tokenizer\n",
        "pad_sequences = tf.keras.preprocessing.sequence.pad_sequences\n",
        "\n",
        "tokenizer = Tokenizer(num_words=20000)\n",
        "max_len = 32"
      ],
      "execution_count": 14,
      "outputs": []
    },
    {
      "cell_type": "code",
      "metadata": {
        "id": "_yBBtmYVX1jr",
        "colab_type": "code",
        "colab": {
          "base_uri": "https://localhost:8080/",
          "height": 34
        },
        "outputId": "f6142f9e-4767-4943-9474-bf84db932146"
      },
      "source": [
        "# Creates vocabulary with all unique tokens\n",
        "\n",
        "tokenizer.fit_on_texts(list(sentence) + list(val_sentence))\n",
        "vocab_size = len(tokenizer.word_index) + 1 # Because it counts from 0\n",
        "print(vocab_size)"
      ],
      "execution_count": 15,
      "outputs": [
        {
          "output_type": "stream",
          "text": [
            "5976\n"
          ],
          "name": "stdout"
        }
      ]
    },
    {
      "cell_type": "code",
      "metadata": {
        "id": "N_gK24QwaSS8",
        "colab_type": "code",
        "colab": {
          "base_uri": "https://localhost:8080/",
          "height": 87
        },
        "outputId": "e8d89866-6501-4fcf-cb8b-24117f37451e"
      },
      "source": [
        "# transforms sentences into integers and pads to maxlen\n",
        "\n",
        "encoded_sentences = tokenizer.texts_to_sequences(sentence)\n",
        "padded_sentences = pad_sequences(encoded_sentences, maxlen=max_len, padding='post')\n",
        "\n",
        "# Check\n",
        "print(sentence[0])\n",
        "print(encoded_sentences[0])\n",
        "print(padded_sentences[0])"
      ],
      "execution_count": 16,
      "outputs": [
        {
          "output_type": "stream",
          "text": [
            " It is this hat that it is certain that he was wearing '\n",
            "[14, 7, 29, 252, 5, 14, 7, 222, 5, 13, 10, 525, 1]\n",
            "[ 14   7  29 252   5  14   7 222   5  13  10 525   1   0   0   0   0   0\n",
            "   0   0   0   0   0   0   0   0   0   0   0   0   0   0]\n"
          ],
          "name": "stdout"
        }
      ]
    },
    {
      "cell_type": "code",
      "metadata": {
        "id": "r2FpfcK7tzpI",
        "colab_type": "code",
        "colab": {
          "base_uri": "https://localhost:8080/",
          "height": 87
        },
        "outputId": "6b664d69-ef1d-4ef0-e1df-1d167164526b"
      },
      "source": [
        "# Same for validation\n",
        "\n",
        "val_encoded_sentences = tokenizer.texts_to_sequences(val_sentence)\n",
        "val_padded_sentences = pad_sequences(val_encoded_sentences, maxlen=max_len, padding='post')\n",
        "\n",
        "# Check\n",
        "print(val_sentence[0])\n",
        "print(val_encoded_sentences[0])\n",
        "print(val_padded_sentences[0])"
      ],
      "execution_count": 17,
      "outputs": [
        {
          "output_type": "stream",
          "text": [
            " That picture of Susan offended her '\n",
            "[5, 89, 9, 145, 736, 39, 1]\n",
            "[  5  89   9 145 736  39   1   0   0   0   0   0   0   0   0   0   0   0\n",
            "   0   0   0   0   0   0   0   0   0   0   0   0   0   0]\n"
          ],
          "name": "stdout"
        }
      ]
    },
    {
      "cell_type": "code",
      "metadata": {
        "id": "gCnv7tSWqzoQ",
        "colab_type": "code",
        "colab": {}
      },
      "source": [
        "# # download pretrained GloVe embeddings\n",
        "\n",
        "# !wget http://nlp.stanford.edu/data/glove.6B.zip\n",
        "\n",
        "# !unzip glove.6B.zip"
      ],
      "execution_count": 18,
      "outputs": []
    },
    {
      "cell_type": "code",
      "metadata": {
        "id": "RkehWiYC85PR",
        "colab_type": "code",
        "colab": {
          "base_uri": "https://localhost:8080/",
          "height": 125
        },
        "outputId": "fa5ea566-6550-4f0a-dab1-dc36b8c33e08"
      },
      "source": [
        "# Mount them from drive for quicker performance\n",
        "\n",
        "from google.colab import drive\n",
        "drive.mount('/content/gdrive')"
      ],
      "execution_count": 19,
      "outputs": [
        {
          "output_type": "stream",
          "text": [
            "Go to this URL in a browser: https://accounts.google.com/o/oauth2/auth?client_id=947318989803-6bn6qk8qdgf4n4g3pfee6491hc0brc4i.apps.googleusercontent.com&redirect_uri=urn%3aietf%3awg%3aoauth%3a2.0%3aoob&response_type=code&scope=email%20https%3a%2f%2fwww.googleapis.com%2fauth%2fdocs.test%20https%3a%2f%2fwww.googleapis.com%2fauth%2fdrive%20https%3a%2f%2fwww.googleapis.com%2fauth%2fdrive.photos.readonly%20https%3a%2f%2fwww.googleapis.com%2fauth%2fpeopleapi.readonly\n",
            "\n",
            "Enter your authorization code:\n",
            "··········\n",
            "Mounted at /content/gdrive\n"
          ],
          "name": "stdout"
        }
      ]
    },
    {
      "cell_type": "code",
      "metadata": {
        "id": "sjX2lrsJ848-",
        "colab_type": "code",
        "colab": {
          "base_uri": "https://localhost:8080/",
          "height": 34
        },
        "outputId": "5a5dc504-cc61-42ee-d1e1-7c58d33251cb"
      },
      "source": [
        "# lists files\n",
        "\n",
        "!ls \"/content/gdrive/My Drive/Glove/glove.6B.300d.txt\""
      ],
      "execution_count": 20,
      "outputs": [
        {
          "output_type": "stream",
          "text": [
            "'/content/gdrive/My Drive/Glove/glove.6B.300d.txt'\n"
          ],
          "name": "stdout"
        }
      ]
    },
    {
      "cell_type": "code",
      "metadata": {
        "id": "_v05K9iJ9Hx7",
        "colab_type": "code",
        "colab": {
          "base_uri": "https://localhost:8080/",
          "height": 34
        },
        "outputId": "b5ee4f79-0bb4-46ef-90e7-d6e725cce7b3"
      },
      "source": [
        "# Creates dictionary of word embeddings\n",
        "\n",
        "glove_dir = './'\n",
        "\n",
        "embeddings_index = {} #initialize dictionary\n",
        "f = open(os.path.join('/content/gdrive/My Drive/Glove/glove.6B.300d.txt'))\n",
        "for line in f:\n",
        "    values = line.split()\n",
        "    word = values[0]\n",
        "    coefs = np.asarray(values[1:], dtype='float32')\n",
        "    embeddings_index[word] = coefs\n",
        "f.close()\n",
        "\n",
        "print('Found %s word vectors.' % len(embeddings_index))"
      ],
      "execution_count": 21,
      "outputs": [
        {
          "output_type": "stream",
          "text": [
            "Found 400000 word vectors.\n"
          ],
          "name": "stdout"
        }
      ]
    },
    {
      "cell_type": "code",
      "metadata": {
        "id": "SUe68Vlqqu4f",
        "colab_type": "code",
        "colab": {}
      },
      "source": [
        "# Start with the embedding. Randomly initializing the zeros\n",
        "\n",
        "embedding_dimensions = 300\n",
        "\n",
        "embedding_matrix = np.zeros((vocab_size, embedding_dimensions))\n",
        "\n",
        "for word, i in tokenizer.word_index.items():\n",
        "  embedding_vector = embeddings_index.get(word)\n",
        "  if embedding_vector is not None:\n",
        "    embedding_matrix[i] = embedding_vector  "
      ],
      "execution_count": 22,
      "outputs": []
    },
    {
      "cell_type": "code",
      "metadata": {
        "id": "8lAn5xh8s-gN",
        "colab_type": "code",
        "colab": {}
      },
      "source": [
        "from keras.models import Sequential\n",
        "from keras.layers import Dense, Dropout, Activation, Flatten, SpatialDropout1D\n",
        "from keras import layers"
      ],
      "execution_count": 49,
      "outputs": []
    },
    {
      "cell_type": "code",
      "metadata": {
        "id": "m3O-qisytV0e",
        "colab_type": "code",
        "colab": {}
      },
      "source": [
        "embed = Embedding(vocab_size,embedding_dimensions,weights=[embedding_matrix],input_length=max_len, trainable=False)\n",
        "\n",
        "n_hidden = 50"
      ],
      "execution_count": 50,
      "outputs": []
    },
    {
      "cell_type": "code",
      "metadata": {
        "id": "8WtjLJ0LvM0e",
        "colab_type": "code",
        "colab": {
          "base_uri": "https://localhost:8080/",
          "height": 301
        },
        "outputId": "c54f20df-d54c-4033-8109-e6357a5f55dd"
      },
      "source": [
        "model = Sequential()\n",
        "model.add(embed)\n",
        "model.add(LSTM(n_hidden, dropout=0.2, activation='tanh', recurrent_dropout=0.2))\n",
        "model.add(Dense(1, activation='sigmoid'))\n",
        "model.summary()"
      ],
      "execution_count": 51,
      "outputs": [
        {
          "output_type": "stream",
          "text": [
            "WARNING:tensorflow:Layer lstm will not use cuDNN kernel since it doesn't meet the cuDNN kernel criteria. It will use generic GPU kernel as fallback when running on GPU\n"
          ],
          "name": "stdout"
        },
        {
          "output_type": "stream",
          "text": [
            "WARNING:tensorflow:Layer lstm will not use cuDNN kernel since it doesn't meet the cuDNN kernel criteria. It will use generic GPU kernel as fallback when running on GPU\n"
          ],
          "name": "stderr"
        },
        {
          "output_type": "stream",
          "text": [
            "Model: \"sequential\"\n",
            "_________________________________________________________________\n",
            "Layer (type)                 Output Shape              Param #   \n",
            "=================================================================\n",
            "embedding (Embedding)        (None, 32, 300)           1792800   \n",
            "_________________________________________________________________\n",
            "lstm (LSTM)                  (None, 100)               160400    \n",
            "_________________________________________________________________\n",
            "dense (Dense)                (None, 1)                 101       \n",
            "=================================================================\n",
            "Total params: 1,953,301\n",
            "Trainable params: 160,501\n",
            "Non-trainable params: 1,792,800\n",
            "_________________________________________________________________\n"
          ],
          "name": "stdout"
        }
      ]
    },
    {
      "cell_type": "code",
      "metadata": {
        "id": "hotDPZblWO1X",
        "colab_type": "code",
        "colab": {
          "base_uri": "https://localhost:8080/",
          "height": 218
        },
        "outputId": "1e7971c3-590e-4c3a-f685-652875ec32a2"
      },
      "source": [
        "# Plot model graph\n",
        "from keras.utils import plot_model\n",
        "plot_model(model, show_shapes=True, show_layer_names=True, to_file='model.png')\n",
        "from IPython.display import Image\n",
        "Image(retina=True, filename='model.png')"
      ],
      "execution_count": 44,
      "outputs": [
        {
          "output_type": "execute_result",
          "data": {
            "image/png": "[encoded data removed]",
            "text/plain": [
              "<IPython.core.display.Image object>"
            ]
          },
          "metadata": {
            "tags": [],
            "image/png": {
              "width": 222,
              "height": 202
            }
          },
          "execution_count": 44
        }
      ]
    },
    {
      "cell_type": "code",
      "metadata": {
        "id": "wYtFjvHb4O3-",
        "colab_type": "code",
        "colab": {}
      },
      "source": [
        "model.compile(optimizer=tf.keras.optimizers.Adam(learning_rate=0.0001, clipnorm=1.25),\n",
        "              loss=tf.keras.losses.binary_crossentropy,\n",
        "              metrics=['accuracy'])"
      ],
      "execution_count": 52,
      "outputs": []
    },
    {
      "cell_type": "code",
      "metadata": {
        "id": "BpYdYuJOH7wz",
        "colab_type": "code",
        "colab": {}
      },
      "source": [
        "# Classs is imbalanced!! If not addressed the model finds a local minimum at 70\n",
        "# by adscribing 1 to every example and thus acquiring 70% accuracy\n",
        "\n",
        "class_weights= {0:3, 1:7}"
      ],
      "execution_count": 53,
      "outputs": []
    },
    {
      "cell_type": "code",
      "metadata": {
        "id": "xY64oWRx6APh",
        "colab_type": "code",
        "colab": {
          "base_uri": "https://localhost:8080/",
          "height": 712
        },
        "outputId": "256066cd-b266-4f51-a74a-78ae73a83474"
      },
      "source": [
        "# Early stopping to prevent under/over fitting\n",
        "from tensorflow.keras.callbacks import EarlyStopping\n",
        "earlystop = EarlyStopping(monitor='val_accuracy', min_delta=0, patience=10, verbose=0, mode='auto')\n",
        "\n",
        "# Fit the model\n",
        "history = model.fit(padded_sentences,\n",
        "                    label,                    \n",
        "                    epochs=40,\n",
        "                    batch_size=16,                    \n",
        "                    class_weight=class_weights,                    \n",
        "                    validation_split = 0.2,\n",
        "                    verbose=True,                 \n",
        "                    callbacks=[earlystop])"
      ],
      "execution_count": 54,
      "outputs": [
        {
          "output_type": "stream",
          "text": [
            "Epoch 1/40\n",
            "428/428 [==============================] - 51s 120ms/step - loss: 2.6976 - accuracy: 0.7047 - val_loss: 0.7150 - val_accuracy: 0.6990\n",
            "Epoch 2/40\n",
            "428/428 [==============================] - 51s 119ms/step - loss: 2.4823 - accuracy: 0.7057 - val_loss: 0.7246 - val_accuracy: 0.6990\n",
            "Epoch 3/40\n",
            "428/428 [==============================] - 51s 120ms/step - loss: 2.4768 - accuracy: 0.7057 - val_loss: 0.6945 - val_accuracy: 0.6990\n",
            "Epoch 4/40\n",
            "428/428 [==============================] - 51s 119ms/step - loss: 2.4733 - accuracy: 0.7057 - val_loss: 0.7165 - val_accuracy: 0.6990\n",
            "Epoch 5/40\n",
            "428/428 [==============================] - 51s 118ms/step - loss: 2.4481 - accuracy: 0.7057 - val_loss: 0.7059 - val_accuracy: 0.6990\n",
            "Epoch 6/40\n",
            "428/428 [==============================] - 50s 118ms/step - loss: 2.4397 - accuracy: 0.7064 - val_loss: 0.6953 - val_accuracy: 0.6990\n",
            "Epoch 7/40\n",
            "428/428 [==============================] - 50s 118ms/step - loss: 2.4215 - accuracy: 0.7064 - val_loss: 0.7120 - val_accuracy: 0.6990\n",
            "Epoch 8/40\n",
            "428/428 [==============================] - 50s 117ms/step - loss: 2.4317 - accuracy: 0.7061 - val_loss: 0.6595 - val_accuracy: 0.6996\n",
            "Epoch 9/40\n",
            "428/428 [==============================] - 50s 117ms/step - loss: 2.4159 - accuracy: 0.7077 - val_loss: 0.7324 - val_accuracy: 0.7002\n",
            "Epoch 10/40\n",
            "428/428 [==============================] - 50s 117ms/step - loss: 2.3888 - accuracy: 0.7085 - val_loss: 0.7190 - val_accuracy: 0.6996\n",
            "Epoch 11/40\n",
            "428/428 [==============================] - 50s 117ms/step - loss: 2.3967 - accuracy: 0.7115 - val_loss: 0.6762 - val_accuracy: 0.6990\n",
            "Epoch 12/40\n",
            "428/428 [==============================] - 50s 117ms/step - loss: 2.3914 - accuracy: 0.7104 - val_loss: 0.7136 - val_accuracy: 0.6990\n",
            "Epoch 13/40\n",
            "428/428 [==============================] - 50s 117ms/step - loss: 2.3902 - accuracy: 0.7127 - val_loss: 0.7115 - val_accuracy: 0.6967\n",
            "Epoch 14/40\n",
            "428/428 [==============================] - 50s 116ms/step - loss: 2.3821 - accuracy: 0.7124 - val_loss: 0.7202 - val_accuracy: 0.6978\n",
            "Epoch 15/40\n",
            "428/428 [==============================] - 50s 116ms/step - loss: 2.3653 - accuracy: 0.7133 - val_loss: 0.7116 - val_accuracy: 0.6973\n",
            "Epoch 16/40\n",
            "428/428 [==============================] - 49s 115ms/step - loss: 2.3563 - accuracy: 0.7183 - val_loss: 0.6620 - val_accuracy: 0.6961\n",
            "Epoch 17/40\n",
            "428/428 [==============================] - 49s 114ms/step - loss: 2.3467 - accuracy: 0.7184 - val_loss: 0.6742 - val_accuracy: 0.6978\n",
            "Epoch 18/40\n",
            "428/428 [==============================] - 49s 115ms/step - loss: 2.3292 - accuracy: 0.7209 - val_loss: 0.6713 - val_accuracy: 0.7002\n",
            "Epoch 19/40\n",
            "428/428 [==============================] - 49s 115ms/step - loss: 2.3297 - accuracy: 0.7225 - val_loss: 0.6958 - val_accuracy: 0.6961\n"
          ],
          "name": "stdout"
        }
      ]
    },
    {
      "cell_type": "code",
      "metadata": {
        "id": "4guy3IKdLH4c",
        "colab_type": "code",
        "colab": {}
      },
      "source": [
        "# Uncomment and start again from Sequential to \n",
        "# Reset weights and retrain model\n",
        "\n",
        "K.clear_session()\n",
        "tf.keras.backend.clear_session()"
      ],
      "execution_count": 48,
      "outputs": []
    },
    {
      "cell_type": "code",
      "metadata": {
        "id": "S1U8BdcUbR2X",
        "colab_type": "code",
        "colab": {
          "base_uri": "https://localhost:8080/",
          "height": 34
        },
        "outputId": "79bc5eab-f831-4420-9db4-620dbcf79db5"
      },
      "source": [
        "history.history.keys()"
      ],
      "execution_count": null,
      "outputs": [
        {
          "output_type": "execute_result",
          "data": {
            "text/plain": [
              "dict_keys(['loss', 'accuracy', 'val_loss', 'val_accuracy'])"
            ]
          },
          "metadata": {
            "tags": []
          },
          "execution_count": 31
        }
      ]
    },
    {
      "cell_type": "code",
      "metadata": {
        "id": "Tv66wZAFcYXs",
        "colab_type": "code",
        "colab": {
          "base_uri": "https://localhost:8080/",
          "height": 34
        },
        "outputId": "36142a85-33a9-4130-fcf7-c9646cee6bcd"
      },
      "source": [
        "max(history.history['accuracy'])"
      ],
      "execution_count": null,
      "outputs": [
        {
          "output_type": "execute_result",
          "data": {
            "text/plain": [
              "0.711549699306488"
            ]
          },
          "metadata": {
            "tags": []
          },
          "execution_count": 65
        }
      ]
    },
    {
      "cell_type": "code",
      "metadata": {
        "id": "mBJ8kY1W6eKB",
        "colab_type": "code",
        "colab": {
          "base_uri": "https://localhost:8080/",
          "height": 70
        },
        "outputId": "a11d0570-85a5-4d17-def0-5ff23f5024a3"
      },
      "source": [
        "# Test evaluation\n",
        "\n",
        "print(\"Evaluate on test data\")\n",
        "\n",
        "results = model.evaluate(val_padded_sentences, val_label)\n",
        "\n",
        "print(\"test loss, test acc:\", results)"
      ],
      "execution_count": null,
      "outputs": [
        {
          "output_type": "stream",
          "text": [
            "Evaluate on test data\n",
            "33/33 [==============================] - 0s 11ms/step - loss: 0.6625 - accuracy: 0.6894\n",
            "test loss, test acc: [0.6624714732170105, 0.6893576383590698]\n"
          ],
          "name": "stdout"
        }
      ]
    },
    {
      "cell_type": "code",
      "metadata": {
        "id": "GkOh1ZhR0gf3",
        "colab_type": "code",
        "colab": {}
      },
      "source": [
        "prediction = model.predict(val_padded_sentences)"
      ],
      "execution_count": null,
      "outputs": []
    },
    {
      "cell_type": "code",
      "metadata": {
        "id": "c3OaciDxeudp",
        "colab_type": "code",
        "colab": {}
      },
      "source": [
        "# Adjust it to binary prediction 0 or 1\n",
        "\n",
        "def binary_prediction (prediction):\n",
        "  true_preds = []\n",
        "  for pred in prediction:\n",
        "    if pred <= 0.5:\n",
        "      pred = 0\n",
        "    if pred > 0.5:\n",
        "      pred = 1\n",
        "    true_preds.append(pred)\n",
        "  return true_preds\n"
      ],
      "execution_count": null,
      "outputs": []
    },
    {
      "cell_type": "code",
      "metadata": {
        "id": "hzfuZZMCfzhs",
        "colab_type": "code",
        "colab": {}
      },
      "source": [
        "true_prediction = binary_prediction(prediction=prediction)"
      ],
      "execution_count": null,
      "outputs": []
    },
    {
      "cell_type": "code",
      "metadata": {
        "id": "wixZGboqozoZ",
        "colab_type": "code",
        "colab": {}
      },
      "source": [
        "## Checking that labels are comparable to do matthews correlation\n",
        "## Matthews correlation yields a 0, which might be due to inconsistencies in the data"
      ],
      "execution_count": null,
      "outputs": []
    },
    {
      "cell_type": "code",
      "metadata": {
        "id": "AbY33UxjhIkK",
        "colab_type": "code",
        "colab": {}
      },
      "source": [
        "val2 = val_label.to_numpy()"
      ],
      "execution_count": null,
      "outputs": []
    },
    {
      "cell_type": "code",
      "metadata": {
        "id": "xZy_D4MwZC1e",
        "colab_type": "code",
        "colab": {
          "base_uri": "https://localhost:8080/",
          "height": 34
        },
        "outputId": "e4c7ad5e-3a66-4972-9790-75d3d2dbebf6"
      },
      "source": [
        "from sklearn.metrics import matthews_corrcoef\n",
        "\n",
        "matthews_corrcoef(val2, true_prediction)"
      ],
      "execution_count": null,
      "outputs": [
        {
          "output_type": "execute_result",
          "data": {
            "text/plain": [
              "0.03026012901076368"
            ]
          },
          "metadata": {
            "tags": []
          },
          "execution_count": 77
        }
      ]
    },
    {
      "cell_type": "code",
      "metadata": {
        "id": "CZHdXF0M8BeJ",
        "colab_type": "code",
        "colab": {
          "base_uri": "https://localhost:8080/",
          "height": 194
        },
        "outputId": "84a65ce2-a332-4153-ea6c-342dad863a89"
      },
      "source": [
        "import seaborn as sns\n",
        "\n",
        "# Plot Accuracy\n",
        "\n",
        "plt.subplot(211)\n",
        "plt.plot(history.history['accuracy'])\n",
        "plt.plot(history.history['val_accuracy'])\n",
        "plt.title('Model Accuracy')\n",
        "plt.ylabel('Accuracy')\n",
        "plt.xlabel('Epoch')\n",
        "plt.legend(['Train', 'Validation'], loc = 'upper left')"
      ],
      "execution_count": null,
      "outputs": [
        {
          "output_type": "execute_result",
          "data": {
            "text/plain": [
              "<matplotlib.legend.Legend at 0x7f12739280f0>"
            ]
          },
          "metadata": {
            "tags": []
          },
          "execution_count": 78
        },
        {
          "output_type": "display_data",
          "data": {
            "image/png": "[encoded data removed]",
            "text/plain": [
              "<Figure size 432x288 with 1 Axes>"
            ]
          },
          "metadata": {
            "tags": [],
            "needs_background": "light"
          }
        }
      ]
    },
    {
      "cell_type": "code",
      "metadata": {
        "id": "qknzxTAhkPGQ",
        "colab_type": "code",
        "colab": {}
      },
      "source": [
        "# Run 10 experiments and plot results"
      ],
      "execution_count": null,
      "outputs": []
    },
    {
      "cell_type": "code",
      "metadata": {
        "id": "6jx-h3HVkMRN",
        "colab_type": "code",
        "colab": {}
      },
      "source": [
        "def make_model():\n",
        "  tf.keras.backend.clear_session() # Starts session from scratch\n",
        "  print('New Experiment')\n",
        "  model = Sequential()\n",
        "  model.add(embed)\n",
        "  model.add(LSTM(n_hidden, dropout=0.2, activation='tanh', recurrent_dropout=0.2))\n",
        "  model.add(Dense(1, activation='sigmoid'))\n",
        "  # model.summary()\n",
        "  model.compile(optimizer=tf.keras.optimizers.Adam(learning_rate=0.001), \n",
        "                loss=tf.keras.losses.binary_crossentropy, \n",
        "                metrics=['accuracy'])\n",
        "  model.fit(padded_sentences, \n",
        "            label, \n",
        "            epochs=20, \n",
        "            batch_size=32, \n",
        "            class_weight=class_weights, \n",
        "            validation_split = 0.2, \n",
        "            verbose=2, \n",
        "            callbacks=[earlystop])\n",
        "  results2 = model.evaluate(val_padded_sentences, val_label)\n",
        "  prediction2 = model.predict(val_padded_sentences)\n",
        "  true_pred = binary_prediction(prediction=prediction2)\n",
        "  mat_coef = matthews_corrcoef(val2,true_pred)\n",
        "  return mat_coef"
      ],
      "execution_count": null,
      "outputs": []
    },
    {
      "cell_type": "code",
      "metadata": {
        "id": "Kxj3ubNc3lZU",
        "colab_type": "code",
        "colab": {
          "base_uri": "https://localhost:8080/",
          "height": 1000
        },
        "outputId": "3ca88c32-3bee-46ac-e47c-516b33c3da43"
      },
      "source": [
        "colection = [make_model() for _ in range (10)]"
      ],
      "execution_count": null,
      "outputs": [
        {
          "output_type": "stream",
          "text": [
            "New Experiment\n",
            "WARNING:tensorflow:Layer lstm will not use cuDNN kernel since it doesn't meet the cuDNN kernel criteria. It will use generic GPU kernel as fallback when running on GPU\n"
          ],
          "name": "stdout"
        },
        {
          "output_type": "stream",
          "text": [
            "WARNING:tensorflow:Layer lstm will not use cuDNN kernel since it doesn't meet the cuDNN kernel criteria. It will use generic GPU kernel as fallback when running on GPU\n"
          ],
          "name": "stderr"
        },
        {
          "output_type": "stream",
          "text": [
            "Epoch 1/20\n",
            "214/214 - 25s - loss: 2.5749 - accuracy: 0.7041 - val_loss: 0.6954 - val_accuracy: 0.6990\n",
            "Epoch 2/20\n",
            "214/214 - 25s - loss: 2.4841 - accuracy: 0.7057 - val_loss: 0.7045 - val_accuracy: 0.6990\n",
            "Epoch 3/20\n",
            "214/214 - 24s - loss: 2.4800 - accuracy: 0.7057 - val_loss: 0.6763 - val_accuracy: 0.6990\n",
            "Epoch 4/20\n",
            "214/214 - 24s - loss: 2.4769 - accuracy: 0.7064 - val_loss: 0.6969 - val_accuracy: 0.6978\n",
            "Epoch 5/20\n",
            "214/214 - 24s - loss: 2.4664 - accuracy: 0.7067 - val_loss: 0.6731 - val_accuracy: 0.6967\n",
            "Epoch 6/20\n",
            "214/214 - 25s - loss: 2.4386 - accuracy: 0.7082 - val_loss: 0.6703 - val_accuracy: 0.6955\n",
            "Epoch 7/20\n",
            "214/214 - 23s - loss: 2.4147 - accuracy: 0.7083 - val_loss: 0.6904 - val_accuracy: 0.6937\n",
            "Epoch 8/20\n",
            "214/214 - 23s - loss: 2.3819 - accuracy: 0.7089 - val_loss: 0.6586 - val_accuracy: 0.6961\n",
            "Epoch 9/20\n",
            "214/214 - 24s - loss: 2.3411 - accuracy: 0.7104 - val_loss: 0.6833 - val_accuracy: 0.6967\n",
            "Epoch 10/20\n",
            "214/214 - 25s - loss: 2.3012 - accuracy: 0.7126 - val_loss: 0.7340 - val_accuracy: 0.6973\n",
            "Epoch 11/20\n",
            "214/214 - 24s - loss: 2.2512 - accuracy: 0.7140 - val_loss: 0.6825 - val_accuracy: 0.6961\n",
            "33/33 [==============================] - 0s 10ms/step - loss: 0.6822 - accuracy: 0.6913\n",
            "New Experiment\n",
            "WARNING:tensorflow:Layer lstm will not use cuDNN kernel since it doesn't meet the cuDNN kernel criteria. It will use generic GPU kernel as fallback when running on GPU\n"
          ],
          "name": "stdout"
        },
        {
          "output_type": "stream",
          "text": [
            "WARNING:tensorflow:Layer lstm will not use cuDNN kernel since it doesn't meet the cuDNN kernel criteria. It will use generic GPU kernel as fallback when running on GPU\n"
          ],
          "name": "stderr"
        },
        {
          "output_type": "stream",
          "text": [
            "Epoch 1/20\n",
            "214/214 - 24s - loss: 2.5585 - accuracy: 0.7056 - val_loss: 0.6974 - val_accuracy: 0.6990\n",
            "Epoch 2/20\n",
            "214/214 - 24s - loss: 2.4820 - accuracy: 0.7057 - val_loss: 0.7043 - val_accuracy: 0.6990\n",
            "Epoch 3/20\n",
            "214/214 - 24s - loss: 2.4781 - accuracy: 0.7061 - val_loss: 0.7010 - val_accuracy: 0.6973\n",
            "Epoch 4/20\n",
            "214/214 - 24s - loss: 2.4755 - accuracy: 0.7070 - val_loss: 0.6675 - val_accuracy: 0.6978\n",
            "Epoch 5/20\n",
            "214/214 - 24s - loss: 2.4656 - accuracy: 0.7080 - val_loss: 0.6684 - val_accuracy: 0.6990\n",
            "Epoch 6/20\n",
            "214/214 - 24s - loss: 2.4623 - accuracy: 0.7067 - val_loss: 0.6561 - val_accuracy: 0.6973\n",
            "Epoch 7/20\n",
            "214/214 - 23s - loss: 2.4531 - accuracy: 0.7079 - val_loss: 0.6731 - val_accuracy: 0.6973\n",
            "Epoch 8/20\n",
            "214/214 - 24s - loss: 2.4346 - accuracy: 0.7089 - val_loss: 0.6933 - val_accuracy: 0.6978\n",
            "Epoch 9/20\n",
            "214/214 - 24s - loss: 2.4098 - accuracy: 0.7110 - val_loss: 0.6821 - val_accuracy: 0.6978\n",
            "Epoch 10/20\n",
            "214/214 - 23s - loss: 2.3901 - accuracy: 0.7096 - val_loss: 0.7242 - val_accuracy: 0.6967\n",
            "Epoch 11/20\n",
            "214/214 - 25s - loss: 2.3690 - accuracy: 0.7105 - val_loss: 0.6990 - val_accuracy: 0.6967\n",
            "33/33 [==============================] - 0s 10ms/step - loss: 0.7072 - accuracy: 0.6884\n",
            "New Experiment\n",
            "WARNING:tensorflow:Layer lstm will not use cuDNN kernel since it doesn't meet the cuDNN kernel criteria. It will use generic GPU kernel as fallback when running on GPU\n"
          ],
          "name": "stdout"
        },
        {
          "output_type": "stream",
          "text": [
            "WARNING:tensorflow:Layer lstm will not use cuDNN kernel since it doesn't meet the cuDNN kernel criteria. It will use generic GPU kernel as fallback when running on GPU\n"
          ],
          "name": "stderr"
        },
        {
          "output_type": "stream",
          "text": [
            "Epoch 1/20\n",
            "214/214 - 25s - loss: 2.5792 - accuracy: 0.7041 - val_loss: 0.7122 - val_accuracy: 0.6990\n",
            "Epoch 2/20\n",
            "214/214 - 24s - loss: 2.4808 - accuracy: 0.7056 - val_loss: 0.6897 - val_accuracy: 0.6990\n",
            "Epoch 3/20\n",
            "214/214 - 24s - loss: 2.4717 - accuracy: 0.7060 - val_loss: 0.6817 - val_accuracy: 0.6990\n",
            "Epoch 4/20\n",
            "214/214 - 26s - loss: 2.4660 - accuracy: 0.7069 - val_loss: 0.6754 - val_accuracy: 0.6973\n",
            "Epoch 5/20\n",
            "214/214 - 25s - loss: 2.4608 - accuracy: 0.7069 - val_loss: 0.6936 - val_accuracy: 0.6978\n",
            "Epoch 6/20\n",
            "214/214 - 25s - loss: 2.4489 - accuracy: 0.7073 - val_loss: 0.6683 - val_accuracy: 0.6973\n",
            "Epoch 7/20\n",
            "214/214 - 24s - loss: 2.4236 - accuracy: 0.7094 - val_loss: 0.6868 - val_accuracy: 0.6967\n",
            "Epoch 8/20\n",
            "214/214 - 24s - loss: 2.3885 - accuracy: 0.7107 - val_loss: 0.6779 - val_accuracy: 0.6937\n",
            "Epoch 9/20\n",
            "214/214 - 24s - loss: 2.3677 - accuracy: 0.7110 - val_loss: 0.6764 - val_accuracy: 0.6961\n",
            "Epoch 10/20\n",
            "214/214 - 24s - loss: 2.3084 - accuracy: 0.7146 - val_loss: 0.6991 - val_accuracy: 0.6908\n",
            "Epoch 11/20\n",
            "214/214 - 25s - loss: 2.2821 - accuracy: 0.7161 - val_loss: 0.6881 - val_accuracy: 0.6937\n",
            "33/33 [==============================] - 0s 10ms/step - loss: 0.6793 - accuracy: 0.6874\n",
            "New Experiment\n",
            "WARNING:tensorflow:Layer lstm will not use cuDNN kernel since it doesn't meet the cuDNN kernel criteria. It will use generic GPU kernel as fallback when running on GPU\n"
          ],
          "name": "stdout"
        },
        {
          "output_type": "stream",
          "text": [
            "WARNING:tensorflow:Layer lstm will not use cuDNN kernel since it doesn't meet the cuDNN kernel criteria. It will use generic GPU kernel as fallback when running on GPU\n"
          ],
          "name": "stderr"
        },
        {
          "output_type": "stream",
          "text": [
            "Epoch 1/20\n",
            "214/214 - 24s - loss: 2.5611 - accuracy: 0.7051 - val_loss: 0.7058 - val_accuracy: 0.6990\n",
            "Epoch 2/20\n",
            "214/214 - 24s - loss: 2.4824 - accuracy: 0.7057 - val_loss: 0.6923 - val_accuracy: 0.6990\n",
            "Epoch 3/20\n",
            "214/214 - 24s - loss: 2.4737 - accuracy: 0.7069 - val_loss: 0.6981 - val_accuracy: 0.6973\n",
            "Epoch 4/20\n",
            "214/214 - 25s - loss: 2.4709 - accuracy: 0.7070 - val_loss: 0.7149 - val_accuracy: 0.6973\n",
            "Epoch 5/20\n",
            "214/214 - 23s - loss: 2.4665 - accuracy: 0.7083 - val_loss: 0.6615 - val_accuracy: 0.6990\n",
            "Epoch 6/20\n",
            "214/214 - 24s - loss: 2.4599 - accuracy: 0.7083 - val_loss: 0.6704 - val_accuracy: 0.6973\n",
            "Epoch 7/20\n",
            "214/214 - 25s - loss: 2.4446 - accuracy: 0.7098 - val_loss: 0.6541 - val_accuracy: 0.6955\n",
            "Epoch 8/20\n",
            "214/214 - 24s - loss: 2.4380 - accuracy: 0.7092 - val_loss: 0.6866 - val_accuracy: 0.6943\n",
            "Epoch 9/20\n",
            "214/214 - 24s - loss: 2.4265 - accuracy: 0.7111 - val_loss: 0.7340 - val_accuracy: 0.6955\n",
            "Epoch 10/20\n",
            "214/214 - 24s - loss: 2.4111 - accuracy: 0.7114 - val_loss: 0.7008 - val_accuracy: 0.6961\n",
            "Epoch 11/20\n",
            "214/214 - 23s - loss: 2.3857 - accuracy: 0.7114 - val_loss: 0.7138 - val_accuracy: 0.6943\n",
            "33/33 [==============================] - 0s 10ms/step - loss: 0.7168 - accuracy: 0.6894\n",
            "New Experiment\n",
            "WARNING:tensorflow:Layer lstm will not use cuDNN kernel since it doesn't meet the cuDNN kernel criteria. It will use generic GPU kernel as fallback when running on GPU\n"
          ],
          "name": "stdout"
        },
        {
          "output_type": "stream",
          "text": [
            "WARNING:tensorflow:Layer lstm will not use cuDNN kernel since it doesn't meet the cuDNN kernel criteria. It will use generic GPU kernel as fallback when running on GPU\n"
          ],
          "name": "stderr"
        },
        {
          "output_type": "stream",
          "text": [
            "Epoch 1/20\n",
            "214/214 - 24s - loss: 2.5734 - accuracy: 0.7048 - val_loss: 0.6946 - val_accuracy: 0.6990\n",
            "Epoch 2/20\n",
            "214/214 - 25s - loss: 2.4804 - accuracy: 0.7057 - val_loss: 0.6782 - val_accuracy: 0.6996\n",
            "Epoch 3/20\n",
            "214/214 - 24s - loss: 2.4774 - accuracy: 0.7061 - val_loss: 0.7176 - val_accuracy: 0.6990\n",
            "Epoch 4/20\n",
            "214/214 - 23s - loss: 2.4697 - accuracy: 0.7064 - val_loss: 0.6758 - val_accuracy: 0.6978\n",
            "Epoch 5/20\n",
            "214/214 - 24s - loss: 2.4587 - accuracy: 0.7077 - val_loss: 0.6833 - val_accuracy: 0.6961\n",
            "Epoch 6/20\n",
            "214/214 - 25s - loss: 2.4374 - accuracy: 0.7083 - val_loss: 0.6877 - val_accuracy: 0.6973\n",
            "Epoch 7/20\n",
            "214/214 - 24s - loss: 2.4115 - accuracy: 0.7089 - val_loss: 0.6948 - val_accuracy: 0.6961\n",
            "Epoch 8/20\n",
            "214/214 - 25s - loss: 2.3788 - accuracy: 0.7102 - val_loss: 0.6939 - val_accuracy: 0.6955\n",
            "Epoch 9/20\n",
            "214/214 - 25s - loss: 2.3484 - accuracy: 0.7126 - val_loss: 0.7244 - val_accuracy: 0.6914\n",
            "Epoch 10/20\n",
            "214/214 - 25s - loss: 2.2992 - accuracy: 0.7167 - val_loss: 0.7385 - val_accuracy: 0.6920\n",
            "Epoch 11/20\n",
            "214/214 - 24s - loss: 2.2761 - accuracy: 0.7197 - val_loss: 0.6823 - val_accuracy: 0.6932\n",
            "Epoch 12/20\n",
            "214/214 - 25s - loss: 2.2283 - accuracy: 0.7190 - val_loss: 0.7640 - val_accuracy: 0.6897\n",
            "33/33 [==============================] - 0s 12ms/step - loss: 0.7754 - accuracy: 0.6884\n",
            "New Experiment\n",
            "WARNING:tensorflow:Layer lstm will not use cuDNN kernel since it doesn't meet the cuDNN kernel criteria. It will use generic GPU kernel as fallback when running on GPU\n"
          ],
          "name": "stdout"
        },
        {
          "output_type": "stream",
          "text": [
            "WARNING:tensorflow:Layer lstm will not use cuDNN kernel since it doesn't meet the cuDNN kernel criteria. It will use generic GPU kernel as fallback when running on GPU\n"
          ],
          "name": "stderr"
        },
        {
          "output_type": "stream",
          "text": [
            "Epoch 1/20\n",
            "214/214 - 24s - loss: 2.5677 - accuracy: 0.7045 - val_loss: 0.6681 - val_accuracy: 0.6990\n",
            "Epoch 2/20\n",
            "214/214 - 23s - loss: 2.4856 - accuracy: 0.7056 - val_loss: 0.6775 - val_accuracy: 0.6990\n",
            "Epoch 3/20\n",
            "214/214 - 24s - loss: 2.4835 - accuracy: 0.7058 - val_loss: 0.7012 - val_accuracy: 0.6990\n",
            "Epoch 4/20\n",
            "214/214 - 24s - loss: 2.4755 - accuracy: 0.7060 - val_loss: 0.7194 - val_accuracy: 0.6990\n",
            "Epoch 5/20\n",
            "214/214 - 24s - loss: 2.4734 - accuracy: 0.7063 - val_loss: 0.6687 - val_accuracy: 0.6990\n",
            "Epoch 6/20\n",
            "214/214 - 25s - loss: 2.4728 - accuracy: 0.7063 - val_loss: 0.6684 - val_accuracy: 0.6990\n",
            "Epoch 7/20\n",
            "214/214 - 24s - loss: 2.4756 - accuracy: 0.7063 - val_loss: 0.6718 - val_accuracy: 0.6990\n",
            "Epoch 8/20\n",
            "214/214 - 24s - loss: 2.4719 - accuracy: 0.7058 - val_loss: 0.6810 - val_accuracy: 0.6984\n",
            "Epoch 9/20\n",
            "214/214 - 25s - loss: 2.4524 - accuracy: 0.7073 - val_loss: 0.6784 - val_accuracy: 0.6973\n",
            "Epoch 10/20\n",
            "214/214 - 25s - loss: 2.4411 - accuracy: 0.7077 - val_loss: 0.6846 - val_accuracy: 0.6967\n",
            "Epoch 11/20\n",
            "214/214 - 25s - loss: 2.4265 - accuracy: 0.7083 - val_loss: 0.6685 - val_accuracy: 0.6973\n",
            "33/33 [==============================] - 0s 10ms/step - loss: 0.6798 - accuracy: 0.6894\n",
            "New Experiment\n",
            "WARNING:tensorflow:Layer lstm will not use cuDNN kernel since it doesn't meet the cuDNN kernel criteria. It will use generic GPU kernel as fallback when running on GPU\n"
          ],
          "name": "stdout"
        },
        {
          "output_type": "stream",
          "text": [
            "WARNING:tensorflow:Layer lstm will not use cuDNN kernel since it doesn't meet the cuDNN kernel criteria. It will use generic GPU kernel as fallback when running on GPU\n"
          ],
          "name": "stderr"
        },
        {
          "output_type": "stream",
          "text": [
            "Epoch 1/20\n",
            "214/214 - 25s - loss: 2.5910 - accuracy: 0.7041 - val_loss: 0.6860 - val_accuracy: 0.6990\n",
            "Epoch 2/20\n",
            "214/214 - 25s - loss: 2.4848 - accuracy: 0.7057 - val_loss: 0.6720 - val_accuracy: 0.6990\n",
            "Epoch 3/20\n",
            "214/214 - 25s - loss: 2.4824 - accuracy: 0.7060 - val_loss: 0.6988 - val_accuracy: 0.6990\n",
            "Epoch 4/20\n",
            "214/214 - 25s - loss: 2.4794 - accuracy: 0.7060 - val_loss: 0.6797 - val_accuracy: 0.6990\n",
            "Epoch 5/20\n",
            "214/214 - 24s - loss: 2.4777 - accuracy: 0.7060 - val_loss: 0.6741 - val_accuracy: 0.6990\n",
            "Epoch 6/20\n",
            "214/214 - 25s - loss: 2.4733 - accuracy: 0.7060 - val_loss: 0.6504 - val_accuracy: 0.6990\n",
            "Epoch 7/20\n",
            "214/214 - 25s - loss: 2.4742 - accuracy: 0.7060 - val_loss: 0.6660 - val_accuracy: 0.6990\n",
            "Epoch 8/20\n",
            "214/214 - 25s - loss: 2.4732 - accuracy: 0.7057 - val_loss: 0.6811 - val_accuracy: 0.6990\n",
            "Epoch 9/20\n",
            "214/214 - 25s - loss: 2.4702 - accuracy: 0.7061 - val_loss: 0.6731 - val_accuracy: 0.6990\n",
            "Epoch 10/20\n",
            "214/214 - 26s - loss: 2.4696 - accuracy: 0.7061 - val_loss: 0.6983 - val_accuracy: 0.6990\n",
            "Epoch 11/20\n",
            "214/214 - 25s - loss: 2.4653 - accuracy: 0.7064 - val_loss: 0.6688 - val_accuracy: 0.6990\n",
            "33/33 [==============================] - 0s 10ms/step - loss: 0.6794 - accuracy: 0.6913\n",
            "New Experiment\n",
            "WARNING:tensorflow:Layer lstm will not use cuDNN kernel since it doesn't meet the cuDNN kernel criteria. It will use generic GPU kernel as fallback when running on GPU\n"
          ],
          "name": "stdout"
        },
        {
          "output_type": "stream",
          "text": [
            "/usr/local/lib/python3.6/dist-packages/sklearn/metrics/_classification.py:900: RuntimeWarning: invalid value encountered in double_scalars\n",
            "  mcc = cov_ytyp / np.sqrt(cov_ytyt * cov_ypyp)\n",
            "WARNING:tensorflow:Layer lstm will not use cuDNN kernel since it doesn't meet the cuDNN kernel criteria. It will use generic GPU kernel as fallback when running on GPU\n"
          ],
          "name": "stderr"
        },
        {
          "output_type": "stream",
          "text": [
            "Epoch 1/20\n",
            "214/214 - 25s - loss: 2.5614 - accuracy: 0.7053 - val_loss: 0.6956 - val_accuracy: 0.6990\n",
            "Epoch 2/20\n",
            "214/214 - 24s - loss: 2.4835 - accuracy: 0.7058 - val_loss: 0.6899 - val_accuracy: 0.6990\n",
            "Epoch 3/20\n",
            "214/214 - 25s - loss: 2.4829 - accuracy: 0.7057 - val_loss: 0.6806 - val_accuracy: 0.6990\n",
            "Epoch 4/20\n",
            "214/214 - 26s - loss: 2.4798 - accuracy: 0.7058 - val_loss: 0.6771 - val_accuracy: 0.6990\n",
            "Epoch 5/20\n",
            "214/214 - 24s - loss: 2.4799 - accuracy: 0.7058 - val_loss: 0.6752 - val_accuracy: 0.6990\n",
            "Epoch 6/20\n",
            "214/214 - 24s - loss: 2.4788 - accuracy: 0.7061 - val_loss: 0.6875 - val_accuracy: 0.6990\n",
            "Epoch 7/20\n",
            "214/214 - 25s - loss: 2.4741 - accuracy: 0.7060 - val_loss: 0.6784 - val_accuracy: 0.6990\n",
            "Epoch 8/20\n",
            "214/214 - 25s - loss: 2.4744 - accuracy: 0.7064 - val_loss: 0.6619 - val_accuracy: 0.6990\n",
            "Epoch 9/20\n",
            "214/214 - 25s - loss: 2.4659 - accuracy: 0.7067 - val_loss: 0.6664 - val_accuracy: 0.6990\n",
            "Epoch 10/20\n",
            "214/214 - 25s - loss: 2.4581 - accuracy: 0.7067 - val_loss: 0.6947 - val_accuracy: 0.6978\n",
            "Epoch 11/20\n",
            "214/214 - 26s - loss: 2.4343 - accuracy: 0.7082 - val_loss: 0.6861 - val_accuracy: 0.6973\n",
            "33/33 [==============================] - 0s 13ms/step - loss: 0.6936 - accuracy: 0.6932\n",
            "New Experiment\n",
            "WARNING:tensorflow:Layer lstm will not use cuDNN kernel since it doesn't meet the cuDNN kernel criteria. It will use generic GPU kernel as fallback when running on GPU\n"
          ],
          "name": "stdout"
        },
        {
          "output_type": "stream",
          "text": [
            "WARNING:tensorflow:Layer lstm will not use cuDNN kernel since it doesn't meet the cuDNN kernel criteria. It will use generic GPU kernel as fallback when running on GPU\n"
          ],
          "name": "stderr"
        },
        {
          "output_type": "stream",
          "text": [
            "Epoch 1/20\n",
            "214/214 - 26s - loss: 2.5629 - accuracy: 0.7056 - val_loss: 0.6844 - val_accuracy: 0.6990\n",
            "Epoch 2/20\n",
            "214/214 - 26s - loss: 2.4839 - accuracy: 0.7057 - val_loss: 0.6771 - val_accuracy: 0.6990\n",
            "Epoch 3/20\n",
            "214/214 - 26s - loss: 2.4815 - accuracy: 0.7057 - val_loss: 0.6856 - val_accuracy: 0.6990\n",
            "Epoch 4/20\n",
            "214/214 - 25s - loss: 2.4803 - accuracy: 0.7057 - val_loss: 0.6878 - val_accuracy: 0.6984\n",
            "Epoch 5/20\n",
            "214/214 - 25s - loss: 2.4746 - accuracy: 0.7061 - val_loss: 0.6966 - val_accuracy: 0.6990\n",
            "Epoch 6/20\n",
            "214/214 - 26s - loss: 2.4731 - accuracy: 0.7063 - val_loss: 0.6771 - val_accuracy: 0.6990\n",
            "Epoch 7/20\n",
            "214/214 - 25s - loss: 2.4692 - accuracy: 0.7063 - val_loss: 0.6914 - val_accuracy: 0.6990\n",
            "Epoch 8/20\n",
            "214/214 - 25s - loss: 2.4799 - accuracy: 0.7060 - val_loss: 0.6830 - val_accuracy: 0.6990\n",
            "Epoch 9/20\n",
            "214/214 - 26s - loss: 2.4680 - accuracy: 0.7067 - val_loss: 0.6886 - val_accuracy: 0.6990\n",
            "Epoch 10/20\n",
            "214/214 - 26s - loss: 2.4590 - accuracy: 0.7076 - val_loss: 0.6758 - val_accuracy: 0.6973\n",
            "Epoch 11/20\n",
            "214/214 - 26s - loss: 2.4528 - accuracy: 0.7091 - val_loss: 0.6855 - val_accuracy: 0.6967\n",
            "33/33 [==============================] - 0s 11ms/step - loss: 0.6995 - accuracy: 0.6942\n",
            "New Experiment\n",
            "WARNING:tensorflow:Layer lstm will not use cuDNN kernel since it doesn't meet the cuDNN kernel criteria. It will use generic GPU kernel as fallback when running on GPU\n"
          ],
          "name": "stdout"
        },
        {
          "output_type": "stream",
          "text": [
            "WARNING:tensorflow:Layer lstm will not use cuDNN kernel since it doesn't meet the cuDNN kernel criteria. It will use generic GPU kernel as fallback when running on GPU\n"
          ],
          "name": "stderr"
        },
        {
          "output_type": "stream",
          "text": [
            "Epoch 1/20\n",
            "214/214 - 27s - loss: 2.5721 - accuracy: 0.7053 - val_loss: 0.6572 - val_accuracy: 0.6990\n",
            "Epoch 2/20\n",
            "214/214 - 26s - loss: 2.4826 - accuracy: 0.7058 - val_loss: 0.6701 - val_accuracy: 0.6990\n",
            "Epoch 3/20\n",
            "214/214 - 26s - loss: 2.4841 - accuracy: 0.7060 - val_loss: 0.6925 - val_accuracy: 0.6990\n",
            "Epoch 4/20\n",
            "214/214 - 26s - loss: 2.4767 - accuracy: 0.7061 - val_loss: 0.6745 - val_accuracy: 0.6996\n",
            "Epoch 5/20\n",
            "214/214 - 26s - loss: 2.4802 - accuracy: 0.7054 - val_loss: 0.7071 - val_accuracy: 0.6990\n",
            "Epoch 6/20\n",
            "214/214 - 26s - loss: 2.4743 - accuracy: 0.7063 - val_loss: 0.6957 - val_accuracy: 0.6990\n",
            "Epoch 7/20\n",
            "214/214 - 25s - loss: 2.4677 - accuracy: 0.7061 - val_loss: 0.6920 - val_accuracy: 0.6990\n",
            "Epoch 8/20\n",
            "214/214 - 25s - loss: 2.4582 - accuracy: 0.7067 - val_loss: 0.6519 - val_accuracy: 0.6990\n",
            "Epoch 9/20\n",
            "214/214 - 25s - loss: 2.4538 - accuracy: 0.7069 - val_loss: 0.6787 - val_accuracy: 0.6973\n",
            "Epoch 10/20\n",
            "214/214 - 25s - loss: 2.4368 - accuracy: 0.7075 - val_loss: 0.6913 - val_accuracy: 0.6967\n",
            "Epoch 11/20\n",
            "214/214 - 25s - loss: 2.4040 - accuracy: 0.7075 - val_loss: 0.7366 - val_accuracy: 0.6973\n",
            "Epoch 12/20\n",
            "214/214 - 26s - loss: 2.3839 - accuracy: 0.7114 - val_loss: 0.6528 - val_accuracy: 0.6973\n",
            "Epoch 13/20\n",
            "214/214 - 26s - loss: 2.3378 - accuracy: 0.7098 - val_loss: 0.6845 - val_accuracy: 0.6961\n",
            "Epoch 14/20\n",
            "214/214 - 26s - loss: 2.3048 - accuracy: 0.7118 - val_loss: 0.6796 - val_accuracy: 0.6955\n",
            "33/33 [==============================] - 0s 10ms/step - loss: 0.6811 - accuracy: 0.6874\n"
          ],
          "name": "stdout"
        }
      ]
    },
    {
      "cell_type": "code",
      "metadata": {
        "id": "y4fTF6AZ3y_t",
        "colab_type": "code",
        "colab": {}
      },
      "source": [
        "real_colection = [i * 100 for i in colection]"
      ],
      "execution_count": null,
      "outputs": []
    },
    {
      "cell_type": "code",
      "metadata": {
        "id": "HeB_Erypg1La",
        "colab_type": "code",
        "colab": {
          "base_uri": "https://localhost:8080/",
          "height": 194
        },
        "outputId": "194caabc-61f8-4d2b-9e3c-f54146a7b9b5"
      },
      "source": [
        "real_colection"
      ],
      "execution_count": null,
      "outputs": [
        {
          "output_type": "execute_result",
          "data": {
            "text/plain": [
              "[4.07377624184135,\n",
              " -1.6334423518002312,\n",
              " -0.18582137243486863,\n",
              " 1.943977434703241,\n",
              " 3.3120952130983095,\n",
              " 1.943977434703241,\n",
              " 0.0,\n",
              " 5.926802437957019,\n",
              " 7.380739515541785,\n",
              " 1.7906650023835944]"
            ]
          },
          "metadata": {
            "tags": []
          },
          "execution_count": 82
        }
      ]
    },
    {
      "cell_type": "code",
      "metadata": {
        "id": "TAmCORkhdAdw",
        "colab_type": "code",
        "colab": {
          "base_uri": "https://localhost:8080/",
          "height": 34
        },
        "outputId": "b6b2f2d0-d865-440e-9627-0a07ecc6c34c"
      },
      "source": [
        "import statistics\n",
        "median_value = statistics.median(real_colection)\n",
        "median_value"
      ],
      "execution_count": null,
      "outputs": [
        {
          "output_type": "execute_result",
          "data": {
            "text/plain": [
              "1.943977434703241"
            ]
          },
          "metadata": {
            "tags": []
          },
          "execution_count": 83
        }
      ]
    },
    {
      "cell_type": "code",
      "metadata": {
        "id": "nxl8zPzfV2AK",
        "colab_type": "code",
        "colab": {
          "base_uri": "https://localhost:8080/",
          "height": 34
        },
        "outputId": "7d6b1cdc-68e4-4a97-9e89-1e239f6e6fc6"
      },
      "source": [
        "max(real_colection)"
      ],
      "execution_count": null,
      "outputs": [
        {
          "output_type": "execute_result",
          "data": {
            "text/plain": [
              "7.380739515541785"
            ]
          },
          "metadata": {
            "tags": []
          },
          "execution_count": 84
        }
      ]
    },
    {
      "cell_type": "code",
      "metadata": {
        "id": "ny2RhySSeSS-",
        "colab_type": "code",
        "colab": {
          "base_uri": "https://localhost:8080/",
          "height": 34
        },
        "outputId": "fb348590-4e7b-416d-f31b-88515768565b"
      },
      "source": [
        "min(real_colection)"
      ],
      "execution_count": null,
      "outputs": [
        {
          "output_type": "execute_result",
          "data": {
            "text/plain": [
              "-1.6334423518002312"
            ]
          },
          "metadata": {
            "tags": []
          },
          "execution_count": 86
        }
      ]
    },
    {
      "cell_type": "code",
      "metadata": {
        "id": "nGb7qtKGTjbV",
        "colab_type": "code",
        "colab": {
          "base_uri": "https://localhost:8080/",
          "height": 302
        },
        "outputId": "d5dd09c8-3eea-4e04-f754-40a60503d034"
      },
      "source": [
        "import seaborn as sns\n",
        "sns.set(style=\"whitegrid\", palette=\"pastel\")\n",
        "\n",
        "ax = sns.boxplot(data=real_colection, width=0.2)\n",
        "\n",
        "ax.set_title(\"Matthews correlation over 10 runs\")\n",
        "ax.set_ylabel('Matthews correlation')"
      ],
      "execution_count": null,
      "outputs": [
        {
          "output_type": "execute_result",
          "data": {
            "text/plain": [
              "Text(0, 0.5, 'Matthews correlation')"
            ]
          },
          "metadata": {
            "tags": []
          },
          "execution_count": 85
        },
        {
          "output_type": "display_data",
          "data": {
            "image/png": "[encoded data removed]",
            "text/plain": [
              "<Figure size 432x288 with 1 Axes>"
            ]
          },
          "metadata": {
            "tags": []
          }
        }
      ]
    },
    {
      "cell_type": "code",
      "metadata": {
        "id": "qp-_ejPVRxqa",
        "colab_type": "code",
        "colab": {}
      },
      "source": [
        ""
      ],
      "execution_count": null,
      "outputs": []
    }
  ]
}