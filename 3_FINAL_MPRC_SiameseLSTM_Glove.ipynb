{
  "nbformat": 4,
  "nbformat_minor": 0,
  "metadata": {
    "colab": {
      "name": "3_FINAL_MPRC_SiameseLSTM_Glove.ipynb",
      "provenance": [],
      "collapsed_sections": [],
      "authorship_tag": "ABX9TyMbEJuOgbuoKcr3eoS0lXp3",
      "include_colab_link": true
    },
    "kernelspec": {
      "name": "python3",
      "display_name": "Python 3"
    },
    "accelerator": "GPU",
    "widgets": {
      "application/vnd.jupyter.widget-state+json": {
        "0b8269bdd9124f06b69e5dfba5bae7f3": {
          "model_module": "@jupyter-widgets/controls",
          "model_name": "HBoxModel",
          "state": {
            "_view_name": "HBoxView",
            "_dom_classes": [],
            "_model_name": "HBoxModel",
            "_view_module": "@jupyter-widgets/controls",
            "_model_module_version": "1.5.0",
            "_view_count": null,
            "_view_module_version": "1.5.0",
            "box_style": "",
            "layout": "IPY_MODEL_9353955db69e40c9a018ae44bc8adc77",
            "_model_module": "@jupyter-widgets/controls",
            "children": [
              "IPY_MODEL_d19a758a5e99473492ca041fd705824a",
              "IPY_MODEL_c0465100dc96440090dc2c0bb900e585"
            ]
          }
        },
        "9353955db69e40c9a018ae44bc8adc77": {
          "model_module": "@jupyter-widgets/base",
          "model_name": "LayoutModel",
          "state": {
            "_view_name": "LayoutView",
            "grid_template_rows": null,
            "right": null,
            "justify_content": null,
            "_view_module": "@jupyter-widgets/base",
            "overflow": null,
            "_model_module_version": "1.2.0",
            "_view_count": null,
            "flex_flow": null,
            "width": null,
            "min_width": null,
            "border": null,
            "align_items": null,
            "bottom": null,
            "_model_module": "@jupyter-widgets/base",
            "top": null,
            "grid_column": null,
            "overflow_y": null,
            "overflow_x": null,
            "grid_auto_flow": null,
            "grid_area": null,
            "grid_template_columns": null,
            "flex": null,
            "_model_name": "LayoutModel",
            "justify_items": null,
            "grid_row": null,
            "max_height": null,
            "align_content": null,
            "visibility": null,
            "align_self": null,
            "height": null,
            "min_height": null,
            "padding": null,
            "grid_auto_rows": null,
            "grid_gap": null,
            "max_width": null,
            "order": null,
            "_view_module_version": "1.2.0",
            "grid_template_areas": null,
            "object_position": null,
            "object_fit": null,
            "grid_auto_columns": null,
            "margin": null,
            "display": null,
            "left": null
          }
        },
        "d19a758a5e99473492ca041fd705824a": {
          "model_module": "@jupyter-widgets/controls",
          "model_name": "FloatProgressModel",
          "state": {
            "_view_name": "ProgressView",
            "style": "IPY_MODEL_a19b7a7ba522463b85ef07851b50eefe",
            "_dom_classes": [],
            "description": "Dl Completed...: 100%",
            "_model_name": "FloatProgressModel",
            "bar_style": "success",
            "max": 1,
            "_view_module": "@jupyter-widgets/controls",
            "_model_module_version": "1.5.0",
            "value": 1,
            "_view_count": null,
            "_view_module_version": "1.5.0",
            "orientation": "horizontal",
            "min": 0,
            "description_tooltip": null,
            "_model_module": "@jupyter-widgets/controls",
            "layout": "IPY_MODEL_60c5f6dcafcd40a8a389b917f2004a5a"
          }
        },
        "c0465100dc96440090dc2c0bb900e585": {
          "model_module": "@jupyter-widgets/controls",
          "model_name": "HTMLModel",
          "state": {
            "_view_name": "HTMLView",
            "style": "IPY_MODEL_0d89c2ed1e4843a783aadffc9d83cbbb",
            "_dom_classes": [],
            "description": "",
            "_model_name": "HTMLModel",
            "placeholder": "​",
            "_view_module": "@jupyter-widgets/controls",
            "_model_module_version": "1.5.0",
            "value": " 3/3 [00:00&lt;00:00,  6.87 url/s]",
            "_view_count": null,
            "_view_module_version": "1.5.0",
            "description_tooltip": null,
            "_model_module": "@jupyter-widgets/controls",
            "layout": "IPY_MODEL_1c400b67825245fd953fa7686a9e318c"
          }
        },
        "a19b7a7ba522463b85ef07851b50eefe": {
          "model_module": "@jupyter-widgets/controls",
          "model_name": "ProgressStyleModel",
          "state": {
            "_view_name": "StyleView",
            "_model_name": "ProgressStyleModel",
            "description_width": "initial",
            "_view_module": "@jupyter-widgets/base",
            "_model_module_version": "1.5.0",
            "_view_count": null,
            "_view_module_version": "1.2.0",
            "bar_color": null,
            "_model_module": "@jupyter-widgets/controls"
          }
        },
        "60c5f6dcafcd40a8a389b917f2004a5a": {
          "model_module": "@jupyter-widgets/base",
          "model_name": "LayoutModel",
          "state": {
            "_view_name": "LayoutView",
            "grid_template_rows": null,
            "right": null,
            "justify_content": null,
            "_view_module": "@jupyter-widgets/base",
            "overflow": null,
            "_model_module_version": "1.2.0",
            "_view_count": null,
            "flex_flow": null,
            "width": null,
            "min_width": null,
            "border": null,
            "align_items": null,
            "bottom": null,
            "_model_module": "@jupyter-widgets/base",
            "top": null,
            "grid_column": null,
            "overflow_y": null,
            "overflow_x": null,
            "grid_auto_flow": null,
            "grid_area": null,
            "grid_template_columns": null,
            "flex": null,
            "_model_name": "LayoutModel",
            "justify_items": null,
            "grid_row": null,
            "max_height": null,
            "align_content": null,
            "visibility": null,
            "align_self": null,
            "height": null,
            "min_height": null,
            "padding": null,
            "grid_auto_rows": null,
            "grid_gap": null,
            "max_width": null,
            "order": null,
            "_view_module_version": "1.2.0",
            "grid_template_areas": null,
            "object_position": null,
            "object_fit": null,
            "grid_auto_columns": null,
            "margin": null,
            "display": null,
            "left": null
          }
        },
        "0d89c2ed1e4843a783aadffc9d83cbbb": {
          "model_module": "@jupyter-widgets/controls",
          "model_name": "DescriptionStyleModel",
          "state": {
            "_view_name": "StyleView",
            "_model_name": "DescriptionStyleModel",
            "description_width": "",
            "_view_module": "@jupyter-widgets/base",
            "_model_module_version": "1.5.0",
            "_view_count": null,
            "_view_module_version": "1.2.0",
            "_model_module": "@jupyter-widgets/controls"
          }
        },
        "1c400b67825245fd953fa7686a9e318c": {
          "model_module": "@jupyter-widgets/base",
          "model_name": "LayoutModel",
          "state": {
            "_view_name": "LayoutView",
            "grid_template_rows": null,
            "right": null,
            "justify_content": null,
            "_view_module": "@jupyter-widgets/base",
            "overflow": null,
            "_model_module_version": "1.2.0",
            "_view_count": null,
            "flex_flow": null,
            "width": null,
            "min_width": null,
            "border": null,
            "align_items": null,
            "bottom": null,
            "_model_module": "@jupyter-widgets/base",
            "top": null,
            "grid_column": null,
            "overflow_y": null,
            "overflow_x": null,
            "grid_auto_flow": null,
            "grid_area": null,
            "grid_template_columns": null,
            "flex": null,
            "_model_name": "LayoutModel",
            "justify_items": null,
            "grid_row": null,
            "max_height": null,
            "align_content": null,
            "visibility": null,
            "align_self": null,
            "height": null,
            "min_height": null,
            "padding": null,
            "grid_auto_rows": null,
            "grid_gap": null,
            "max_width": null,
            "order": null,
            "_view_module_version": "1.2.0",
            "grid_template_areas": null,
            "object_position": null,
            "object_fit": null,
            "grid_auto_columns": null,
            "margin": null,
            "display": null,
            "left": null
          }
        },
        "5f38138149a942b78438a752f17e61ee": {
          "model_module": "@jupyter-widgets/controls",
          "model_name": "HBoxModel",
          "state": {
            "_view_name": "HBoxView",
            "_dom_classes": [],
            "_model_name": "HBoxModel",
            "_view_module": "@jupyter-widgets/controls",
            "_model_module_version": "1.5.0",
            "_view_count": null,
            "_view_module_version": "1.5.0",
            "box_style": "",
            "layout": "IPY_MODEL_1d2aa02b0e484306bb2a961fb46181d1",
            "_model_module": "@jupyter-widgets/controls",
            "children": [
              "IPY_MODEL_dfa8e79dedae4516bd0be592e2bfc8a5",
              "IPY_MODEL_40bd05db6f9b494382f0a1efdde68792"
            ]
          }
        },
        "1d2aa02b0e484306bb2a961fb46181d1": {
          "model_module": "@jupyter-widgets/base",
          "model_name": "LayoutModel",
          "state": {
            "_view_name": "LayoutView",
            "grid_template_rows": null,
            "right": null,
            "justify_content": null,
            "_view_module": "@jupyter-widgets/base",
            "overflow": null,
            "_model_module_version": "1.2.0",
            "_view_count": null,
            "flex_flow": null,
            "width": null,
            "min_width": null,
            "border": null,
            "align_items": null,
            "bottom": null,
            "_model_module": "@jupyter-widgets/base",
            "top": null,
            "grid_column": null,
            "overflow_y": null,
            "overflow_x": null,
            "grid_auto_flow": null,
            "grid_area": null,
            "grid_template_columns": null,
            "flex": null,
            "_model_name": "LayoutModel",
            "justify_items": null,
            "grid_row": null,
            "max_height": null,
            "align_content": null,
            "visibility": null,
            "align_self": null,
            "height": null,
            "min_height": null,
            "padding": null,
            "grid_auto_rows": null,
            "grid_gap": null,
            "max_width": null,
            "order": null,
            "_view_module_version": "1.2.0",
            "grid_template_areas": null,
            "object_position": null,
            "object_fit": null,
            "grid_auto_columns": null,
            "margin": null,
            "display": null,
            "left": null
          }
        },
        "dfa8e79dedae4516bd0be592e2bfc8a5": {
          "model_module": "@jupyter-widgets/controls",
          "model_name": "FloatProgressModel",
          "state": {
            "_view_name": "ProgressView",
            "style": "IPY_MODEL_442d42ef7a7a49eea00c7ee83e4dddf6",
            "_dom_classes": [],
            "description": "Dl Size...: ",
            "_model_name": "FloatProgressModel",
            "bar_style": "success",
            "max": 1,
            "_view_module": "@jupyter-widgets/controls",
            "_model_module_version": "1.5.0",
            "value": 0,
            "_view_count": null,
            "_view_module_version": "1.5.0",
            "orientation": "horizontal",
            "min": 0,
            "description_tooltip": null,
            "_model_module": "@jupyter-widgets/controls",
            "layout": "IPY_MODEL_89905fe909a04cb78f3b3a42c9165400"
          }
        },
        "40bd05db6f9b494382f0a1efdde68792": {
          "model_module": "@jupyter-widgets/controls",
          "model_name": "HTMLModel",
          "state": {
            "_view_name": "HTMLView",
            "style": "IPY_MODEL_12ce49712991419ba150a4bf601bdaa3",
            "_dom_classes": [],
            "description": "",
            "_model_name": "HTMLModel",
            "placeholder": "​",
            "_view_module": "@jupyter-widgets/controls",
            "_model_module_version": "1.5.0",
            "value": " 0/0 [00:00&lt;?, ? MiB/s]",
            "_view_count": null,
            "_view_module_version": "1.5.0",
            "description_tooltip": null,
            "_model_module": "@jupyter-widgets/controls",
            "layout": "IPY_MODEL_ac2b567d9b0e4ac4bf40a331c8937221"
          }
        },
        "442d42ef7a7a49eea00c7ee83e4dddf6": {
          "model_module": "@jupyter-widgets/controls",
          "model_name": "ProgressStyleModel",
          "state": {
            "_view_name": "StyleView",
            "_model_name": "ProgressStyleModel",
            "description_width": "initial",
            "_view_module": "@jupyter-widgets/base",
            "_model_module_version": "1.5.0",
            "_view_count": null,
            "_view_module_version": "1.2.0",
            "bar_color": null,
            "_model_module": "@jupyter-widgets/controls"
          }
        },
        "89905fe909a04cb78f3b3a42c9165400": {
          "model_module": "@jupyter-widgets/base",
          "model_name": "LayoutModel",
          "state": {
            "_view_name": "LayoutView",
            "grid_template_rows": null,
            "right": null,
            "justify_content": null,
            "_view_module": "@jupyter-widgets/base",
            "overflow": null,
            "_model_module_version": "1.2.0",
            "_view_count": null,
            "flex_flow": null,
            "width": null,
            "min_width": null,
            "border": null,
            "align_items": null,
            "bottom": null,
            "_model_module": "@jupyter-widgets/base",
            "top": null,
            "grid_column": null,
            "overflow_y": null,
            "overflow_x": null,
            "grid_auto_flow": null,
            "grid_area": null,
            "grid_template_columns": null,
            "flex": null,
            "_model_name": "LayoutModel",
            "justify_items": null,
            "grid_row": null,
            "max_height": null,
            "align_content": null,
            "visibility": null,
            "align_self": null,
            "height": null,
            "min_height": null,
            "padding": null,
            "grid_auto_rows": null,
            "grid_gap": null,
            "max_width": null,
            "order": null,
            "_view_module_version": "1.2.0",
            "grid_template_areas": null,
            "object_position": null,
            "object_fit": null,
            "grid_auto_columns": null,
            "margin": null,
            "display": null,
            "left": null
          }
        },
        "12ce49712991419ba150a4bf601bdaa3": {
          "model_module": "@jupyter-widgets/controls",
          "model_name": "DescriptionStyleModel",
          "state": {
            "_view_name": "StyleView",
            "_model_name": "DescriptionStyleModel",
            "description_width": "",
            "_view_module": "@jupyter-widgets/base",
            "_model_module_version": "1.5.0",
            "_view_count": null,
            "_view_module_version": "1.2.0",
            "_model_module": "@jupyter-widgets/controls"
          }
        },
        "ac2b567d9b0e4ac4bf40a331c8937221": {
          "model_module": "@jupyter-widgets/base",
          "model_name": "LayoutModel",
          "state": {
            "_view_name": "LayoutView",
            "grid_template_rows": null,
            "right": null,
            "justify_content": null,
            "_view_module": "@jupyter-widgets/base",
            "overflow": null,
            "_model_module_version": "1.2.0",
            "_view_count": null,
            "flex_flow": null,
            "width": null,
            "min_width": null,
            "border": null,
            "align_items": null,
            "bottom": null,
            "_model_module": "@jupyter-widgets/base",
            "top": null,
            "grid_column": null,
            "overflow_y": null,
            "overflow_x": null,
            "grid_auto_flow": null,
            "grid_area": null,
            "grid_template_columns": null,
            "flex": null,
            "_model_name": "LayoutModel",
            "justify_items": null,
            "grid_row": null,
            "max_height": null,
            "align_content": null,
            "visibility": null,
            "align_self": null,
            "height": null,
            "min_height": null,
            "padding": null,
            "grid_auto_rows": null,
            "grid_gap": null,
            "max_width": null,
            "order": null,
            "_view_module_version": "1.2.0",
            "grid_template_areas": null,
            "object_position": null,
            "object_fit": null,
            "grid_auto_columns": null,
            "margin": null,
            "display": null,
            "left": null
          }
        },
        "373eb2e0bb8e48adbc59679b45e5e55a": {
          "model_module": "@jupyter-widgets/controls",
          "model_name": "HBoxModel",
          "state": {
            "_view_name": "HBoxView",
            "_dom_classes": [],
            "_model_name": "HBoxModel",
            "_view_module": "@jupyter-widgets/controls",
            "_model_module_version": "1.5.0",
            "_view_count": null,
            "_view_module_version": "1.5.0",
            "box_style": "",
            "layout": "IPY_MODEL_468b113a058d4156a05ddce483c504dd",
            "_model_module": "@jupyter-widgets/controls",
            "children": [
              "IPY_MODEL_5047a1efdcfa4dd0aba8821f528eaed2",
              "IPY_MODEL_df18bbb597554591a8ac6e7eddcdfac9"
            ]
          }
        },
        "468b113a058d4156a05ddce483c504dd": {
          "model_module": "@jupyter-widgets/base",
          "model_name": "LayoutModel",
          "state": {
            "_view_name": "LayoutView",
            "grid_template_rows": null,
            "right": null,
            "justify_content": null,
            "_view_module": "@jupyter-widgets/base",
            "overflow": null,
            "_model_module_version": "1.2.0",
            "_view_count": null,
            "flex_flow": null,
            "width": null,
            "min_width": null,
            "border": null,
            "align_items": null,
            "bottom": null,
            "_model_module": "@jupyter-widgets/base",
            "top": null,
            "grid_column": null,
            "overflow_y": null,
            "overflow_x": null,
            "grid_auto_flow": null,
            "grid_area": null,
            "grid_template_columns": null,
            "flex": null,
            "_model_name": "LayoutModel",
            "justify_items": null,
            "grid_row": null,
            "max_height": null,
            "align_content": null,
            "visibility": null,
            "align_self": null,
            "height": null,
            "min_height": null,
            "padding": null,
            "grid_auto_rows": null,
            "grid_gap": null,
            "max_width": null,
            "order": null,
            "_view_module_version": "1.2.0",
            "grid_template_areas": null,
            "object_position": null,
            "object_fit": null,
            "grid_auto_columns": null,
            "margin": null,
            "display": null,
            "left": null
          }
        },
        "5047a1efdcfa4dd0aba8821f528eaed2": {
          "model_module": "@jupyter-widgets/controls",
          "model_name": "FloatProgressModel",
          "state": {
            "_view_name": "ProgressView",
            "style": "IPY_MODEL_348f74aceb954ba1a2a0af4f55345a68",
            "_dom_classes": [],
            "description": "",
            "_model_name": "FloatProgressModel",
            "bar_style": "info",
            "max": 1,
            "_view_module": "@jupyter-widgets/controls",
            "_model_module_version": "1.5.0",
            "value": 1,
            "_view_count": null,
            "_view_module_version": "1.5.0",
            "orientation": "horizontal",
            "min": 0,
            "description_tooltip": null,
            "_model_module": "@jupyter-widgets/controls",
            "layout": "IPY_MODEL_04f4af14033c422fa4cd1945d9a96c8e"
          }
        },
        "df18bbb597554591a8ac6e7eddcdfac9": {
          "model_module": "@jupyter-widgets/controls",
          "model_name": "HTMLModel",
          "state": {
            "_view_name": "HTMLView",
            "style": "IPY_MODEL_7008acbea002410d92a4f6ab5f4b021e",
            "_dom_classes": [],
            "description": "",
            "_model_name": "HTMLModel",
            "placeholder": "​",
            "_view_module": "@jupyter-widgets/controls",
            "_model_module_version": "1.5.0",
            "value": " 3668/0 [00:01&lt;00:00, 2936.75 examples/s]",
            "_view_count": null,
            "_view_module_version": "1.5.0",
            "description_tooltip": null,
            "_model_module": "@jupyter-widgets/controls",
            "layout": "IPY_MODEL_dede243597b443e19db68308ed8e889b"
          }
        },
        "348f74aceb954ba1a2a0af4f55345a68": {
          "model_module": "@jupyter-widgets/controls",
          "model_name": "ProgressStyleModel",
          "state": {
            "_view_name": "StyleView",
            "_model_name": "ProgressStyleModel",
            "description_width": "initial",
            "_view_module": "@jupyter-widgets/base",
            "_model_module_version": "1.5.0",
            "_view_count": null,
            "_view_module_version": "1.2.0",
            "bar_color": null,
            "_model_module": "@jupyter-widgets/controls"
          }
        },
        "04f4af14033c422fa4cd1945d9a96c8e": {
          "model_module": "@jupyter-widgets/base",
          "model_name": "LayoutModel",
          "state": {
            "_view_name": "LayoutView",
            "grid_template_rows": null,
            "right": null,
            "justify_content": null,
            "_view_module": "@jupyter-widgets/base",
            "overflow": null,
            "_model_module_version": "1.2.0",
            "_view_count": null,
            "flex_flow": null,
            "width": null,
            "min_width": null,
            "border": null,
            "align_items": null,
            "bottom": null,
            "_model_module": "@jupyter-widgets/base",
            "top": null,
            "grid_column": null,
            "overflow_y": null,
            "overflow_x": null,
            "grid_auto_flow": null,
            "grid_area": null,
            "grid_template_columns": null,
            "flex": null,
            "_model_name": "LayoutModel",
            "justify_items": null,
            "grid_row": null,
            "max_height": null,
            "align_content": null,
            "visibility": null,
            "align_self": null,
            "height": null,
            "min_height": null,
            "padding": null,
            "grid_auto_rows": null,
            "grid_gap": null,
            "max_width": null,
            "order": null,
            "_view_module_version": "1.2.0",
            "grid_template_areas": null,
            "object_position": null,
            "object_fit": null,
            "grid_auto_columns": null,
            "margin": null,
            "display": null,
            "left": null
          }
        },
        "7008acbea002410d92a4f6ab5f4b021e": {
          "model_module": "@jupyter-widgets/controls",
          "model_name": "DescriptionStyleModel",
          "state": {
            "_view_name": "StyleView",
            "_model_name": "DescriptionStyleModel",
            "description_width": "",
            "_view_module": "@jupyter-widgets/base",
            "_model_module_version": "1.5.0",
            "_view_count": null,
            "_view_module_version": "1.2.0",
            "_model_module": "@jupyter-widgets/controls"
          }
        },
        "dede243597b443e19db68308ed8e889b": {
          "model_module": "@jupyter-widgets/base",
          "model_name": "LayoutModel",
          "state": {
            "_view_name": "LayoutView",
            "grid_template_rows": null,
            "right": null,
            "justify_content": null,
            "_view_module": "@jupyter-widgets/base",
            "overflow": null,
            "_model_module_version": "1.2.0",
            "_view_count": null,
            "flex_flow": null,
            "width": null,
            "min_width": null,
            "border": null,
            "align_items": null,
            "bottom": null,
            "_model_module": "@jupyter-widgets/base",
            "top": null,
            "grid_column": null,
            "overflow_y": null,
            "overflow_x": null,
            "grid_auto_flow": null,
            "grid_area": null,
            "grid_template_columns": null,
            "flex": null,
            "_model_name": "LayoutModel",
            "justify_items": null,
            "grid_row": null,
            "max_height": null,
            "align_content": null,
            "visibility": null,
            "align_self": null,
            "height": null,
            "min_height": null,
            "padding": null,
            "grid_auto_rows": null,
            "grid_gap": null,
            "max_width": null,
            "order": null,
            "_view_module_version": "1.2.0",
            "grid_template_areas": null,
            "object_position": null,
            "object_fit": null,
            "grid_auto_columns": null,
            "margin": null,
            "display": null,
            "left": null
          }
        },
        "6892a54e0e9140bd9106ffedec240a2b": {
          "model_module": "@jupyter-widgets/controls",
          "model_name": "HBoxModel",
          "state": {
            "_view_name": "HBoxView",
            "_dom_classes": [],
            "_model_name": "HBoxModel",
            "_view_module": "@jupyter-widgets/controls",
            "_model_module_version": "1.5.0",
            "_view_count": null,
            "_view_module_version": "1.5.0",
            "box_style": "",
            "layout": "IPY_MODEL_3658571554a04ad7a1df6702198d2c33",
            "_model_module": "@jupyter-widgets/controls",
            "children": [
              "IPY_MODEL_110b8aaabb3f41048c30efbf10d493fb",
              "IPY_MODEL_159dd1c8fa034ef4a457b255ef9fc035"
            ]
          }
        },
        "3658571554a04ad7a1df6702198d2c33": {
          "model_module": "@jupyter-widgets/base",
          "model_name": "LayoutModel",
          "state": {
            "_view_name": "LayoutView",
            "grid_template_rows": null,
            "right": null,
            "justify_content": null,
            "_view_module": "@jupyter-widgets/base",
            "overflow": null,
            "_model_module_version": "1.2.0",
            "_view_count": null,
            "flex_flow": null,
            "width": null,
            "min_width": null,
            "border": null,
            "align_items": null,
            "bottom": null,
            "_model_module": "@jupyter-widgets/base",
            "top": null,
            "grid_column": null,
            "overflow_y": null,
            "overflow_x": null,
            "grid_auto_flow": null,
            "grid_area": null,
            "grid_template_columns": null,
            "flex": null,
            "_model_name": "LayoutModel",
            "justify_items": null,
            "grid_row": null,
            "max_height": null,
            "align_content": null,
            "visibility": null,
            "align_self": null,
            "height": null,
            "min_height": null,
            "padding": null,
            "grid_auto_rows": null,
            "grid_gap": null,
            "max_width": null,
            "order": null,
            "_view_module_version": "1.2.0",
            "grid_template_areas": null,
            "object_position": null,
            "object_fit": null,
            "grid_auto_columns": null,
            "margin": null,
            "display": null,
            "left": null
          }
        },
        "110b8aaabb3f41048c30efbf10d493fb": {
          "model_module": "@jupyter-widgets/controls",
          "model_name": "FloatProgressModel",
          "state": {
            "_view_name": "ProgressView",
            "style": "IPY_MODEL_edd8c98a8e9449b8b1f802fe23c2ec6e",
            "_dom_classes": [],
            "description": "  0%",
            "_model_name": "FloatProgressModel",
            "bar_style": "danger",
            "max": 3668,
            "_view_module": "@jupyter-widgets/controls",
            "_model_module_version": "1.5.0",
            "value": 0,
            "_view_count": null,
            "_view_module_version": "1.5.0",
            "orientation": "horizontal",
            "min": 0,
            "description_tooltip": null,
            "_model_module": "@jupyter-widgets/controls",
            "layout": "IPY_MODEL_1ef62c3de4ff45c4837b504fee839fde"
          }
        },
        "159dd1c8fa034ef4a457b255ef9fc035": {
          "model_module": "@jupyter-widgets/controls",
          "model_name": "HTMLModel",
          "state": {
            "_view_name": "HTMLView",
            "style": "IPY_MODEL_5456a5d0fe9c45efabd7e2b11b7c5729",
            "_dom_classes": [],
            "description": "",
            "_model_name": "HTMLModel",
            "placeholder": "​",
            "_view_module": "@jupyter-widgets/controls",
            "_model_module_version": "1.5.0",
            "value": " 0/3668 [00:00&lt;?, ? examples/s]",
            "_view_count": null,
            "_view_module_version": "1.5.0",
            "description_tooltip": null,
            "_model_module": "@jupyter-widgets/controls",
            "layout": "IPY_MODEL_fffd749be5d846cd8f4b0b6491d9e4c2"
          }
        },
        "edd8c98a8e9449b8b1f802fe23c2ec6e": {
          "model_module": "@jupyter-widgets/controls",
          "model_name": "ProgressStyleModel",
          "state": {
            "_view_name": "StyleView",
            "_model_name": "ProgressStyleModel",
            "description_width": "initial",
            "_view_module": "@jupyter-widgets/base",
            "_model_module_version": "1.5.0",
            "_view_count": null,
            "_view_module_version": "1.2.0",
            "bar_color": null,
            "_model_module": "@jupyter-widgets/controls"
          }
        },
        "1ef62c3de4ff45c4837b504fee839fde": {
          "model_module": "@jupyter-widgets/base",
          "model_name": "LayoutModel",
          "state": {
            "_view_name": "LayoutView",
            "grid_template_rows": null,
            "right": null,
            "justify_content": null,
            "_view_module": "@jupyter-widgets/base",
            "overflow": null,
            "_model_module_version": "1.2.0",
            "_view_count": null,
            "flex_flow": null,
            "width": null,
            "min_width": null,
            "border": null,
            "align_items": null,
            "bottom": null,
            "_model_module": "@jupyter-widgets/base",
            "top": null,
            "grid_column": null,
            "overflow_y": null,
            "overflow_x": null,
            "grid_auto_flow": null,
            "grid_area": null,
            "grid_template_columns": null,
            "flex": null,
            "_model_name": "LayoutModel",
            "justify_items": null,
            "grid_row": null,
            "max_height": null,
            "align_content": null,
            "visibility": null,
            "align_self": null,
            "height": null,
            "min_height": null,
            "padding": null,
            "grid_auto_rows": null,
            "grid_gap": null,
            "max_width": null,
            "order": null,
            "_view_module_version": "1.2.0",
            "grid_template_areas": null,
            "object_position": null,
            "object_fit": null,
            "grid_auto_columns": null,
            "margin": null,
            "display": null,
            "left": null
          }
        },
        "5456a5d0fe9c45efabd7e2b11b7c5729": {
          "model_module": "@jupyter-widgets/controls",
          "model_name": "DescriptionStyleModel",
          "state": {
            "_view_name": "StyleView",
            "_model_name": "DescriptionStyleModel",
            "description_width": "",
            "_view_module": "@jupyter-widgets/base",
            "_model_module_version": "1.5.0",
            "_view_count": null,
            "_view_module_version": "1.2.0",
            "_model_module": "@jupyter-widgets/controls"
          }
        },
        "fffd749be5d846cd8f4b0b6491d9e4c2": {
          "model_module": "@jupyter-widgets/base",
          "model_name": "LayoutModel",
          "state": {
            "_view_name": "LayoutView",
            "grid_template_rows": null,
            "right": null,
            "justify_content": null,
            "_view_module": "@jupyter-widgets/base",
            "overflow": null,
            "_model_module_version": "1.2.0",
            "_view_count": null,
            "flex_flow": null,
            "width": null,
            "min_width": null,
            "border": null,
            "align_items": null,
            "bottom": null,
            "_model_module": "@jupyter-widgets/base",
            "top": null,
            "grid_column": null,
            "overflow_y": null,
            "overflow_x": null,
            "grid_auto_flow": null,
            "grid_area": null,
            "grid_template_columns": null,
            "flex": null,
            "_model_name": "LayoutModel",
            "justify_items": null,
            "grid_row": null,
            "max_height": null,
            "align_content": null,
            "visibility": null,
            "align_self": null,
            "height": null,
            "min_height": null,
            "padding": null,
            "grid_auto_rows": null,
            "grid_gap": null,
            "max_width": null,
            "order": null,
            "_view_module_version": "1.2.0",
            "grid_template_areas": null,
            "object_position": null,
            "object_fit": null,
            "grid_auto_columns": null,
            "margin": null,
            "display": null,
            "left": null
          }
        },
        "b4b60e24bf2141cc861f769ff5e1bd21": {
          "model_module": "@jupyter-widgets/controls",
          "model_name": "HBoxModel",
          "state": {
            "_view_name": "HBoxView",
            "_dom_classes": [],
            "_model_name": "HBoxModel",
            "_view_module": "@jupyter-widgets/controls",
            "_model_module_version": "1.5.0",
            "_view_count": null,
            "_view_module_version": "1.5.0",
            "box_style": "",
            "layout": "IPY_MODEL_248519b93c744c9584b12e28846183ea",
            "_model_module": "@jupyter-widgets/controls",
            "children": [
              "IPY_MODEL_05d859c4534e455caccbcdcd110b73e9",
              "IPY_MODEL_abf8a0615f954c2592414ed7fc294548"
            ]
          }
        },
        "248519b93c744c9584b12e28846183ea": {
          "model_module": "@jupyter-widgets/base",
          "model_name": "LayoutModel",
          "state": {
            "_view_name": "LayoutView",
            "grid_template_rows": null,
            "right": null,
            "justify_content": null,
            "_view_module": "@jupyter-widgets/base",
            "overflow": null,
            "_model_module_version": "1.2.0",
            "_view_count": null,
            "flex_flow": null,
            "width": null,
            "min_width": null,
            "border": null,
            "align_items": null,
            "bottom": null,
            "_model_module": "@jupyter-widgets/base",
            "top": null,
            "grid_column": null,
            "overflow_y": null,
            "overflow_x": null,
            "grid_auto_flow": null,
            "grid_area": null,
            "grid_template_columns": null,
            "flex": null,
            "_model_name": "LayoutModel",
            "justify_items": null,
            "grid_row": null,
            "max_height": null,
            "align_content": null,
            "visibility": null,
            "align_self": null,
            "height": null,
            "min_height": null,
            "padding": null,
            "grid_auto_rows": null,
            "grid_gap": null,
            "max_width": null,
            "order": null,
            "_view_module_version": "1.2.0",
            "grid_template_areas": null,
            "object_position": null,
            "object_fit": null,
            "grid_auto_columns": null,
            "margin": null,
            "display": null,
            "left": null
          }
        },
        "05d859c4534e455caccbcdcd110b73e9": {
          "model_module": "@jupyter-widgets/controls",
          "model_name": "FloatProgressModel",
          "state": {
            "_view_name": "ProgressView",
            "style": "IPY_MODEL_745db6056970480d9b642ea542ec4cfe",
            "_dom_classes": [],
            "description": "",
            "_model_name": "FloatProgressModel",
            "bar_style": "info",
            "max": 1,
            "_view_module": "@jupyter-widgets/controls",
            "_model_module_version": "1.5.0",
            "value": 1,
            "_view_count": null,
            "_view_module_version": "1.5.0",
            "orientation": "horizontal",
            "min": 0,
            "description_tooltip": null,
            "_model_module": "@jupyter-widgets/controls",
            "layout": "IPY_MODEL_f07b895ab45c47348137d531ec0fbd49"
          }
        },
        "abf8a0615f954c2592414ed7fc294548": {
          "model_module": "@jupyter-widgets/controls",
          "model_name": "HTMLModel",
          "state": {
            "_view_name": "HTMLView",
            "style": "IPY_MODEL_7c40bdaf2116496ca0d54dd239717dee",
            "_dom_classes": [],
            "description": "",
            "_model_name": "HTMLModel",
            "placeholder": "​",
            "_view_module": "@jupyter-widgets/controls",
            "_model_module_version": "1.5.0",
            "value": " 408/0 [00:00&lt;00:00, 1122.05 examples/s]",
            "_view_count": null,
            "_view_module_version": "1.5.0",
            "description_tooltip": null,
            "_model_module": "@jupyter-widgets/controls",
            "layout": "IPY_MODEL_5f3092a868a1459d83a52c97e40c73d2"
          }
        },
        "745db6056970480d9b642ea542ec4cfe": {
          "model_module": "@jupyter-widgets/controls",
          "model_name": "ProgressStyleModel",
          "state": {
            "_view_name": "StyleView",
            "_model_name": "ProgressStyleModel",
            "description_width": "initial",
            "_view_module": "@jupyter-widgets/base",
            "_model_module_version": "1.5.0",
            "_view_count": null,
            "_view_module_version": "1.2.0",
            "bar_color": null,
            "_model_module": "@jupyter-widgets/controls"
          }
        },
        "f07b895ab45c47348137d531ec0fbd49": {
          "model_module": "@jupyter-widgets/base",
          "model_name": "LayoutModel",
          "state": {
            "_view_name": "LayoutView",
            "grid_template_rows": null,
            "right": null,
            "justify_content": null,
            "_view_module": "@jupyter-widgets/base",
            "overflow": null,
            "_model_module_version": "1.2.0",
            "_view_count": null,
            "flex_flow": null,
            "width": null,
            "min_width": null,
            "border": null,
            "align_items": null,
            "bottom": null,
            "_model_module": "@jupyter-widgets/base",
            "top": null,
            "grid_column": null,
            "overflow_y": null,
            "overflow_x": null,
            "grid_auto_flow": null,
            "grid_area": null,
            "grid_template_columns": null,
            "flex": null,
            "_model_name": "LayoutModel",
            "justify_items": null,
            "grid_row": null,
            "max_height": null,
            "align_content": null,
            "visibility": null,
            "align_self": null,
            "height": null,
            "min_height": null,
            "padding": null,
            "grid_auto_rows": null,
            "grid_gap": null,
            "max_width": null,
            "order": null,
            "_view_module_version": "1.2.0",
            "grid_template_areas": null,
            "object_position": null,
            "object_fit": null,
            "grid_auto_columns": null,
            "margin": null,
            "display": null,
            "left": null
          }
        },
        "7c40bdaf2116496ca0d54dd239717dee": {
          "model_module": "@jupyter-widgets/controls",
          "model_name": "DescriptionStyleModel",
          "state": {
            "_view_name": "StyleView",
            "_model_name": "DescriptionStyleModel",
            "description_width": "",
            "_view_module": "@jupyter-widgets/base",
            "_model_module_version": "1.5.0",
            "_view_count": null,
            "_view_module_version": "1.2.0",
            "_model_module": "@jupyter-widgets/controls"
          }
        },
        "5f3092a868a1459d83a52c97e40c73d2": {
          "model_module": "@jupyter-widgets/base",
          "model_name": "LayoutModel",
          "state": {
            "_view_name": "LayoutView",
            "grid_template_rows": null,
            "right": null,
            "justify_content": null,
            "_view_module": "@jupyter-widgets/base",
            "overflow": null,
            "_model_module_version": "1.2.0",
            "_view_count": null,
            "flex_flow": null,
            "width": null,
            "min_width": null,
            "border": null,
            "align_items": null,
            "bottom": null,
            "_model_module": "@jupyter-widgets/base",
            "top": null,
            "grid_column": null,
            "overflow_y": null,
            "overflow_x": null,
            "grid_auto_flow": null,
            "grid_area": null,
            "grid_template_columns": null,
            "flex": null,
            "_model_name": "LayoutModel",
            "justify_items": null,
            "grid_row": null,
            "max_height": null,
            "align_content": null,
            "visibility": null,
            "align_self": null,
            "height": null,
            "min_height": null,
            "padding": null,
            "grid_auto_rows": null,
            "grid_gap": null,
            "max_width": null,
            "order": null,
            "_view_module_version": "1.2.0",
            "grid_template_areas": null,
            "object_position": null,
            "object_fit": null,
            "grid_auto_columns": null,
            "margin": null,
            "display": null,
            "left": null
          }
        },
        "d31939c2995e4ae49b0466c5bb7bbfb6": {
          "model_module": "@jupyter-widgets/controls",
          "model_name": "HBoxModel",
          "state": {
            "_view_name": "HBoxView",
            "_dom_classes": [],
            "_model_name": "HBoxModel",
            "_view_module": "@jupyter-widgets/controls",
            "_model_module_version": "1.5.0",
            "_view_count": null,
            "_view_module_version": "1.5.0",
            "box_style": "",
            "layout": "IPY_MODEL_a3c5c4791f9c43a18db2edd4fb6b4fc4",
            "_model_module": "@jupyter-widgets/controls",
            "children": [
              "IPY_MODEL_414497f7e7dc48d991527153f704e243",
              "IPY_MODEL_a422c7af275f4d678af1e2309ba1651c"
            ]
          }
        },
        "a3c5c4791f9c43a18db2edd4fb6b4fc4": {
          "model_module": "@jupyter-widgets/base",
          "model_name": "LayoutModel",
          "state": {
            "_view_name": "LayoutView",
            "grid_template_rows": null,
            "right": null,
            "justify_content": null,
            "_view_module": "@jupyter-widgets/base",
            "overflow": null,
            "_model_module_version": "1.2.0",
            "_view_count": null,
            "flex_flow": null,
            "width": null,
            "min_width": null,
            "border": null,
            "align_items": null,
            "bottom": null,
            "_model_module": "@jupyter-widgets/base",
            "top": null,
            "grid_column": null,
            "overflow_y": null,
            "overflow_x": null,
            "grid_auto_flow": null,
            "grid_area": null,
            "grid_template_columns": null,
            "flex": null,
            "_model_name": "LayoutModel",
            "justify_items": null,
            "grid_row": null,
            "max_height": null,
            "align_content": null,
            "visibility": null,
            "align_self": null,
            "height": null,
            "min_height": null,
            "padding": null,
            "grid_auto_rows": null,
            "grid_gap": null,
            "max_width": null,
            "order": null,
            "_view_module_version": "1.2.0",
            "grid_template_areas": null,
            "object_position": null,
            "object_fit": null,
            "grid_auto_columns": null,
            "margin": null,
            "display": null,
            "left": null
          }
        },
        "414497f7e7dc48d991527153f704e243": {
          "model_module": "@jupyter-widgets/controls",
          "model_name": "FloatProgressModel",
          "state": {
            "_view_name": "ProgressView",
            "style": "IPY_MODEL_01cfb6d09a904148bcc390b13a759f88",
            "_dom_classes": [],
            "description": "  0%",
            "_model_name": "FloatProgressModel",
            "bar_style": "danger",
            "max": 408,
            "_view_module": "@jupyter-widgets/controls",
            "_model_module_version": "1.5.0",
            "value": 0,
            "_view_count": null,
            "_view_module_version": "1.5.0",
            "orientation": "horizontal",
            "min": 0,
            "description_tooltip": null,
            "_model_module": "@jupyter-widgets/controls",
            "layout": "IPY_MODEL_813d74b6a5b54bbe88311cecfb6327bc"
          }
        },
        "a422c7af275f4d678af1e2309ba1651c": {
          "model_module": "@jupyter-widgets/controls",
          "model_name": "HTMLModel",
          "state": {
            "_view_name": "HTMLView",
            "style": "IPY_MODEL_8e51a4e6ac5e4cd4b0913b6bb917cdfc",
            "_dom_classes": [],
            "description": "",
            "_model_name": "HTMLModel",
            "placeholder": "​",
            "_view_module": "@jupyter-widgets/controls",
            "_model_module_version": "1.5.0",
            "value": " 0/408 [00:00&lt;?, ? examples/s]",
            "_view_count": null,
            "_view_module_version": "1.5.0",
            "description_tooltip": null,
            "_model_module": "@jupyter-widgets/controls",
            "layout": "IPY_MODEL_ca59b34934904a41b6afe3e06250798a"
          }
        },
        "01cfb6d09a904148bcc390b13a759f88": {
          "model_module": "@jupyter-widgets/controls",
          "model_name": "ProgressStyleModel",
          "state": {
            "_view_name": "StyleView",
            "_model_name": "ProgressStyleModel",
            "description_width": "initial",
            "_view_module": "@jupyter-widgets/base",
            "_model_module_version": "1.5.0",
            "_view_count": null,
            "_view_module_version": "1.2.0",
            "bar_color": null,
            "_model_module": "@jupyter-widgets/controls"
          }
        },
        "813d74b6a5b54bbe88311cecfb6327bc": {
          "model_module": "@jupyter-widgets/base",
          "model_name": "LayoutModel",
          "state": {
            "_view_name": "LayoutView",
            "grid_template_rows": null,
            "right": null,
            "justify_content": null,
            "_view_module": "@jupyter-widgets/base",
            "overflow": null,
            "_model_module_version": "1.2.0",
            "_view_count": null,
            "flex_flow": null,
            "width": null,
            "min_width": null,
            "border": null,
            "align_items": null,
            "bottom": null,
            "_model_module": "@jupyter-widgets/base",
            "top": null,
            "grid_column": null,
            "overflow_y": null,
            "overflow_x": null,
            "grid_auto_flow": null,
            "grid_area": null,
            "grid_template_columns": null,
            "flex": null,
            "_model_name": "LayoutModel",
            "justify_items": null,
            "grid_row": null,
            "max_height": null,
            "align_content": null,
            "visibility": null,
            "align_self": null,
            "height": null,
            "min_height": null,
            "padding": null,
            "grid_auto_rows": null,
            "grid_gap": null,
            "max_width": null,
            "order": null,
            "_view_module_version": "1.2.0",
            "grid_template_areas": null,
            "object_position": null,
            "object_fit": null,
            "grid_auto_columns": null,
            "margin": null,
            "display": null,
            "left": null
          }
        },
        "8e51a4e6ac5e4cd4b0913b6bb917cdfc": {
          "model_module": "@jupyter-widgets/controls",
          "model_name": "DescriptionStyleModel",
          "state": {
            "_view_name": "StyleView",
            "_model_name": "DescriptionStyleModel",
            "description_width": "",
            "_view_module": "@jupyter-widgets/base",
            "_model_module_version": "1.5.0",
            "_view_count": null,
            "_view_module_version": "1.2.0",
            "_model_module": "@jupyter-widgets/controls"
          }
        },
        "ca59b34934904a41b6afe3e06250798a": {
          "model_module": "@jupyter-widgets/base",
          "model_name": "LayoutModel",
          "state": {
            "_view_name": "LayoutView",
            "grid_template_rows": null,
            "right": null,
            "justify_content": null,
            "_view_module": "@jupyter-widgets/base",
            "overflow": null,
            "_model_module_version": "1.2.0",
            "_view_count": null,
            "flex_flow": null,
            "width": null,
            "min_width": null,
            "border": null,
            "align_items": null,
            "bottom": null,
            "_model_module": "@jupyter-widgets/base",
            "top": null,
            "grid_column": null,
            "overflow_y": null,
            "overflow_x": null,
            "grid_auto_flow": null,
            "grid_area": null,
            "grid_template_columns": null,
            "flex": null,
            "_model_name": "LayoutModel",
            "justify_items": null,
            "grid_row": null,
            "max_height": null,
            "align_content": null,
            "visibility": null,
            "align_self": null,
            "height": null,
            "min_height": null,
            "padding": null,
            "grid_auto_rows": null,
            "grid_gap": null,
            "max_width": null,
            "order": null,
            "_view_module_version": "1.2.0",
            "grid_template_areas": null,
            "object_position": null,
            "object_fit": null,
            "grid_auto_columns": null,
            "margin": null,
            "display": null,
            "left": null
          }
        },
        "ca025b21a18544a68a4058535730b2e8": {
          "model_module": "@jupyter-widgets/controls",
          "model_name": "HBoxModel",
          "state": {
            "_view_name": "HBoxView",
            "_dom_classes": [],
            "_model_name": "HBoxModel",
            "_view_module": "@jupyter-widgets/controls",
            "_model_module_version": "1.5.0",
            "_view_count": null,
            "_view_module_version": "1.5.0",
            "box_style": "",
            "layout": "IPY_MODEL_22a73abe937a456391d83e273f45d51e",
            "_model_module": "@jupyter-widgets/controls",
            "children": [
              "IPY_MODEL_30dd17b46bc94bd39689a9bba609d740",
              "IPY_MODEL_412336c81ce6425fad941675dda3d344"
            ]
          }
        },
        "22a73abe937a456391d83e273f45d51e": {
          "model_module": "@jupyter-widgets/base",
          "model_name": "LayoutModel",
          "state": {
            "_view_name": "LayoutView",
            "grid_template_rows": null,
            "right": null,
            "justify_content": null,
            "_view_module": "@jupyter-widgets/base",
            "overflow": null,
            "_model_module_version": "1.2.0",
            "_view_count": null,
            "flex_flow": null,
            "width": null,
            "min_width": null,
            "border": null,
            "align_items": null,
            "bottom": null,
            "_model_module": "@jupyter-widgets/base",
            "top": null,
            "grid_column": null,
            "overflow_y": null,
            "overflow_x": null,
            "grid_auto_flow": null,
            "grid_area": null,
            "grid_template_columns": null,
            "flex": null,
            "_model_name": "LayoutModel",
            "justify_items": null,
            "grid_row": null,
            "max_height": null,
            "align_content": null,
            "visibility": null,
            "align_self": null,
            "height": null,
            "min_height": null,
            "padding": null,
            "grid_auto_rows": null,
            "grid_gap": null,
            "max_width": null,
            "order": null,
            "_view_module_version": "1.2.0",
            "grid_template_areas": null,
            "object_position": null,
            "object_fit": null,
            "grid_auto_columns": null,
            "margin": null,
            "display": null,
            "left": null
          }
        },
        "30dd17b46bc94bd39689a9bba609d740": {
          "model_module": "@jupyter-widgets/controls",
          "model_name": "FloatProgressModel",
          "state": {
            "_view_name": "ProgressView",
            "style": "IPY_MODEL_b7e861fa668f4c6ba5e3a55002ee699c",
            "_dom_classes": [],
            "description": "",
            "_model_name": "FloatProgressModel",
            "bar_style": "info",
            "max": 1,
            "_view_module": "@jupyter-widgets/controls",
            "_model_module_version": "1.5.0",
            "value": 1,
            "_view_count": null,
            "_view_module_version": "1.5.0",
            "orientation": "horizontal",
            "min": 0,
            "description_tooltip": null,
            "_model_module": "@jupyter-widgets/controls",
            "layout": "IPY_MODEL_879a5b65969047dfbe666ea84e212611"
          }
        },
        "412336c81ce6425fad941675dda3d344": {
          "model_module": "@jupyter-widgets/controls",
          "model_name": "HTMLModel",
          "state": {
            "_view_name": "HTMLView",
            "style": "IPY_MODEL_ca89681d5c394181868c8201792f4d1a",
            "_dom_classes": [],
            "description": "",
            "_model_name": "HTMLModel",
            "placeholder": "​",
            "_view_module": "@jupyter-widgets/controls",
            "_model_module_version": "1.5.0",
            "value": " 1725/0 [00:00&lt;00:00, 2042.06 examples/s]",
            "_view_count": null,
            "_view_module_version": "1.5.0",
            "description_tooltip": null,
            "_model_module": "@jupyter-widgets/controls",
            "layout": "IPY_MODEL_497f5ebcefd545baa9e210bc9fb65613"
          }
        },
        "b7e861fa668f4c6ba5e3a55002ee699c": {
          "model_module": "@jupyter-widgets/controls",
          "model_name": "ProgressStyleModel",
          "state": {
            "_view_name": "StyleView",
            "_model_name": "ProgressStyleModel",
            "description_width": "initial",
            "_view_module": "@jupyter-widgets/base",
            "_model_module_version": "1.5.0",
            "_view_count": null,
            "_view_module_version": "1.2.0",
            "bar_color": null,
            "_model_module": "@jupyter-widgets/controls"
          }
        },
        "879a5b65969047dfbe666ea84e212611": {
          "model_module": "@jupyter-widgets/base",
          "model_name": "LayoutModel",
          "state": {
            "_view_name": "LayoutView",
            "grid_template_rows": null,
            "right": null,
            "justify_content": null,
            "_view_module": "@jupyter-widgets/base",
            "overflow": null,
            "_model_module_version": "1.2.0",
            "_view_count": null,
            "flex_flow": null,
            "width": null,
            "min_width": null,
            "border": null,
            "align_items": null,
            "bottom": null,
            "_model_module": "@jupyter-widgets/base",
            "top": null,
            "grid_column": null,
            "overflow_y": null,
            "overflow_x": null,
            "grid_auto_flow": null,
            "grid_area": null,
            "grid_template_columns": null,
            "flex": null,
            "_model_name": "LayoutModel",
            "justify_items": null,
            "grid_row": null,
            "max_height": null,
            "align_content": null,
            "visibility": null,
            "align_self": null,
            "height": null,
            "min_height": null,
            "padding": null,
            "grid_auto_rows": null,
            "grid_gap": null,
            "max_width": null,
            "order": null,
            "_view_module_version": "1.2.0",
            "grid_template_areas": null,
            "object_position": null,
            "object_fit": null,
            "grid_auto_columns": null,
            "margin": null,
            "display": null,
            "left": null
          }
        },
        "ca89681d5c394181868c8201792f4d1a": {
          "model_module": "@jupyter-widgets/controls",
          "model_name": "DescriptionStyleModel",
          "state": {
            "_view_name": "StyleView",
            "_model_name": "DescriptionStyleModel",
            "description_width": "",
            "_view_module": "@jupyter-widgets/base",
            "_model_module_version": "1.5.0",
            "_view_count": null,
            "_view_module_version": "1.2.0",
            "_model_module": "@jupyter-widgets/controls"
          }
        },
        "497f5ebcefd545baa9e210bc9fb65613": {
          "model_module": "@jupyter-widgets/base",
          "model_name": "LayoutModel",
          "state": {
            "_view_name": "LayoutView",
            "grid_template_rows": null,
            "right": null,
            "justify_content": null,
            "_view_module": "@jupyter-widgets/base",
            "overflow": null,
            "_model_module_version": "1.2.0",
            "_view_count": null,
            "flex_flow": null,
            "width": null,
            "min_width": null,
            "border": null,
            "align_items": null,
            "bottom": null,
            "_model_module": "@jupyter-widgets/base",
            "top": null,
            "grid_column": null,
            "overflow_y": null,
            "overflow_x": null,
            "grid_auto_flow": null,
            "grid_area": null,
            "grid_template_columns": null,
            "flex": null,
            "_model_name": "LayoutModel",
            "justify_items": null,
            "grid_row": null,
            "max_height": null,
            "align_content": null,
            "visibility": null,
            "align_self": null,
            "height": null,
            "min_height": null,
            "padding": null,
            "grid_auto_rows": null,
            "grid_gap": null,
            "max_width": null,
            "order": null,
            "_view_module_version": "1.2.0",
            "grid_template_areas": null,
            "object_position": null,
            "object_fit": null,
            "grid_auto_columns": null,
            "margin": null,
            "display": null,
            "left": null
          }
        },
        "e4ff6157c53044088c8d3b160db16046": {
          "model_module": "@jupyter-widgets/controls",
          "model_name": "HBoxModel",
          "state": {
            "_view_name": "HBoxView",
            "_dom_classes": [],
            "_model_name": "HBoxModel",
            "_view_module": "@jupyter-widgets/controls",
            "_model_module_version": "1.5.0",
            "_view_count": null,
            "_view_module_version": "1.5.0",
            "box_style": "",
            "layout": "IPY_MODEL_534674bdd5bc499696ce691f564892a0",
            "_model_module": "@jupyter-widgets/controls",
            "children": [
              "IPY_MODEL_169b1d7e538e49fc9895116a701086c2",
              "IPY_MODEL_f3b8b7ad32aa497ea5e8e7bb80c396b0"
            ]
          }
        },
        "534674bdd5bc499696ce691f564892a0": {
          "model_module": "@jupyter-widgets/base",
          "model_name": "LayoutModel",
          "state": {
            "_view_name": "LayoutView",
            "grid_template_rows": null,
            "right": null,
            "justify_content": null,
            "_view_module": "@jupyter-widgets/base",
            "overflow": null,
            "_model_module_version": "1.2.0",
            "_view_count": null,
            "flex_flow": null,
            "width": null,
            "min_width": null,
            "border": null,
            "align_items": null,
            "bottom": null,
            "_model_module": "@jupyter-widgets/base",
            "top": null,
            "grid_column": null,
            "overflow_y": null,
            "overflow_x": null,
            "grid_auto_flow": null,
            "grid_area": null,
            "grid_template_columns": null,
            "flex": null,
            "_model_name": "LayoutModel",
            "justify_items": null,
            "grid_row": null,
            "max_height": null,
            "align_content": null,
            "visibility": null,
            "align_self": null,
            "height": null,
            "min_height": null,
            "padding": null,
            "grid_auto_rows": null,
            "grid_gap": null,
            "max_width": null,
            "order": null,
            "_view_module_version": "1.2.0",
            "grid_template_areas": null,
            "object_position": null,
            "object_fit": null,
            "grid_auto_columns": null,
            "margin": null,
            "display": null,
            "left": null
          }
        },
        "169b1d7e538e49fc9895116a701086c2": {
          "model_module": "@jupyter-widgets/controls",
          "model_name": "FloatProgressModel",
          "state": {
            "_view_name": "ProgressView",
            "style": "IPY_MODEL_bbeac5c8e27d4543985814c40c627400",
            "_dom_classes": [],
            "description": "  0%",
            "_model_name": "FloatProgressModel",
            "bar_style": "danger",
            "max": 1725,
            "_view_module": "@jupyter-widgets/controls",
            "_model_module_version": "1.5.0",
            "value": 0,
            "_view_count": null,
            "_view_module_version": "1.5.0",
            "orientation": "horizontal",
            "min": 0,
            "description_tooltip": null,
            "_model_module": "@jupyter-widgets/controls",
            "layout": "IPY_MODEL_a19b220755764329ae6151ac37f8b183"
          }
        },
        "f3b8b7ad32aa497ea5e8e7bb80c396b0": {
          "model_module": "@jupyter-widgets/controls",
          "model_name": "HTMLModel",
          "state": {
            "_view_name": "HTMLView",
            "style": "IPY_MODEL_0db37dded4fe4e5d8a74db213be3ab70",
            "_dom_classes": [],
            "description": "",
            "_model_name": "HTMLModel",
            "placeholder": "​",
            "_view_module": "@jupyter-widgets/controls",
            "_model_module_version": "1.5.0",
            "value": " 0/1725 [00:00&lt;?, ? examples/s]",
            "_view_count": null,
            "_view_module_version": "1.5.0",
            "description_tooltip": null,
            "_model_module": "@jupyter-widgets/controls",
            "layout": "IPY_MODEL_4e865ce814cb4f28b14c1a3d60ab86fd"
          }
        },
        "bbeac5c8e27d4543985814c40c627400": {
          "model_module": "@jupyter-widgets/controls",
          "model_name": "ProgressStyleModel",
          "state": {
            "_view_name": "StyleView",
            "_model_name": "ProgressStyleModel",
            "description_width": "initial",
            "_view_module": "@jupyter-widgets/base",
            "_model_module_version": "1.5.0",
            "_view_count": null,
            "_view_module_version": "1.2.0",
            "bar_color": null,
            "_model_module": "@jupyter-widgets/controls"
          }
        },
        "a19b220755764329ae6151ac37f8b183": {
          "model_module": "@jupyter-widgets/base",
          "model_name": "LayoutModel",
          "state": {
            "_view_name": "LayoutView",
            "grid_template_rows": null,
            "right": null,
            "justify_content": null,
            "_view_module": "@jupyter-widgets/base",
            "overflow": null,
            "_model_module_version": "1.2.0",
            "_view_count": null,
            "flex_flow": null,
            "width": null,
            "min_width": null,
            "border": null,
            "align_items": null,
            "bottom": null,
            "_model_module": "@jupyter-widgets/base",
            "top": null,
            "grid_column": null,
            "overflow_y": null,
            "overflow_x": null,
            "grid_auto_flow": null,
            "grid_area": null,
            "grid_template_columns": null,
            "flex": null,
            "_model_name": "LayoutModel",
            "justify_items": null,
            "grid_row": null,
            "max_height": null,
            "align_content": null,
            "visibility": null,
            "align_self": null,
            "height": null,
            "min_height": null,
            "padding": null,
            "grid_auto_rows": null,
            "grid_gap": null,
            "max_width": null,
            "order": null,
            "_view_module_version": "1.2.0",
            "grid_template_areas": null,
            "object_position": null,
            "object_fit": null,
            "grid_auto_columns": null,
            "margin": null,
            "display": null,
            "left": null
          }
        },
        "0db37dded4fe4e5d8a74db213be3ab70": {
          "model_module": "@jupyter-widgets/controls",
          "model_name": "DescriptionStyleModel",
          "state": {
            "_view_name": "StyleView",
            "_model_name": "DescriptionStyleModel",
            "description_width": "",
            "_view_module": "@jupyter-widgets/base",
            "_model_module_version": "1.5.0",
            "_view_count": null,
            "_view_module_version": "1.2.0",
            "_model_module": "@jupyter-widgets/controls"
          }
        },
        "4e865ce814cb4f28b14c1a3d60ab86fd": {
          "model_module": "@jupyter-widgets/base",
          "model_name": "LayoutModel",
          "state": {
            "_view_name": "LayoutView",
            "grid_template_rows": null,
            "right": null,
            "justify_content": null,
            "_view_module": "@jupyter-widgets/base",
            "overflow": null,
            "_model_module_version": "1.2.0",
            "_view_count": null,
            "flex_flow": null,
            "width": null,
            "min_width": null,
            "border": null,
            "align_items": null,
            "bottom": null,
            "_model_module": "@jupyter-widgets/base",
            "top": null,
            "grid_column": null,
            "overflow_y": null,
            "overflow_x": null,
            "grid_auto_flow": null,
            "grid_area": null,
            "grid_template_columns": null,
            "flex": null,
            "_model_name": "LayoutModel",
            "justify_items": null,
            "grid_row": null,
            "max_height": null,
            "align_content": null,
            "visibility": null,
            "align_self": null,
            "height": null,
            "min_height": null,
            "padding": null,
            "grid_auto_rows": null,
            "grid_gap": null,
            "max_width": null,
            "order": null,
            "_view_module_version": "1.2.0",
            "grid_template_areas": null,
            "object_position": null,
            "object_fit": null,
            "grid_auto_columns": null,
            "margin": null,
            "display": null,
            "left": null
          }
        }
      }
    }
  },
  "cells": [
    {
      "cell_type": "markdown",
      "metadata": {
        "id": "view-in-github",
        "colab_type": "text"
      },
      "source": [
        "<a href=\"https://colab.research.google.com/github/DiegoSnach/The-final-project-GLUE/blob/master/3_FINAL_MPRC_SiameseLSTM_Glove.ipynb\" target=\"_parent\"><img src=\"https://colab.research.google.com/assets/colab-badge.svg\" alt=\"Open In Colab\"/></a>"
      ]
    },
    {
      "cell_type": "code",
      "metadata": {
        "id": "wWGdbfRdslZm",
        "colab_type": "code",
        "colab": {
          "base_uri": "https://localhost:8080/",
          "height": 90
        },
        "outputId": "522d42a3-86d1-4bbc-b2eb-e436b9b7fb8a"
      },
      "source": [
        "from time import time\n",
        "import datetime\n",
        "import pandas as pd\n",
        "import numpy as np\n",
        "import re\n",
        "import os\n",
        "import itertools\n",
        "from sklearn.model_selection import train_test_split\n",
        "import matplotlib.pyplot as plt\n",
        "import seaborn as sns\n",
        "\n",
        "from keras.preprocessing.sequence import pad_sequences\n",
        "from keras.models import Model\n",
        "from keras.layers import Input, Embedding, LSTM, Lambda\n",
        "import keras.backend as K\n",
        "from keras.optimizers import Adadelta\n",
        "from keras.callbacks import ModelCheckpoint\n",
        "\n",
        "import tensorflow as tf \n",
        "import tensorflow_hub as hub\n",
        "import tensorflow_datasets as tfds\n",
        "\n",
        "print(\"GPU is\", \"available\" if tf.config.list_physical_devices('GPU') else \"NOT AVAILABLE\")"
      ],
      "execution_count": null,
      "outputs": [
        {
          "output_type": "stream",
          "text": [
            "/usr/local/lib/python3.6/dist-packages/statsmodels/tools/_testing.py:19: FutureWarning: pandas.util.testing is deprecated. Use the functions in the public API at pandas.testing instead.\n",
            "  import pandas.util.testing as tm\n"
          ],
          "name": "stderr"
        },
        {
          "output_type": "stream",
          "text": [
            "GPU is available\n"
          ],
          "name": "stdout"
        }
      ]
    },
    {
      "cell_type": "code",
      "metadata": {
        "id": "Zt-JDduOtZt4",
        "colab_type": "code",
        "colab": {
          "base_uri": "https://localhost:8080/",
          "height": 463,
          "referenced_widgets": [
            "0b8269bdd9124f06b69e5dfba5bae7f3",
            "9353955db69e40c9a018ae44bc8adc77",
            "d19a758a5e99473492ca041fd705824a",
            "c0465100dc96440090dc2c0bb900e585",
            "a19b7a7ba522463b85ef07851b50eefe",
            "60c5f6dcafcd40a8a389b917f2004a5a",
            "0d89c2ed1e4843a783aadffc9d83cbbb",
            "1c400b67825245fd953fa7686a9e318c",
            "5f38138149a942b78438a752f17e61ee",
            "1d2aa02b0e484306bb2a961fb46181d1",
            "dfa8e79dedae4516bd0be592e2bfc8a5",
            "40bd05db6f9b494382f0a1efdde68792",
            "442d42ef7a7a49eea00c7ee83e4dddf6",
            "89905fe909a04cb78f3b3a42c9165400",
            "12ce49712991419ba150a4bf601bdaa3",
            "ac2b567d9b0e4ac4bf40a331c8937221",
            "373eb2e0bb8e48adbc59679b45e5e55a",
            "468b113a058d4156a05ddce483c504dd",
            "5047a1efdcfa4dd0aba8821f528eaed2",
            "df18bbb597554591a8ac6e7eddcdfac9",
            "348f74aceb954ba1a2a0af4f55345a68",
            "04f4af14033c422fa4cd1945d9a96c8e",
            "7008acbea002410d92a4f6ab5f4b021e",
            "dede243597b443e19db68308ed8e889b",
            "6892a54e0e9140bd9106ffedec240a2b",
            "3658571554a04ad7a1df6702198d2c33",
            "110b8aaabb3f41048c30efbf10d493fb",
            "159dd1c8fa034ef4a457b255ef9fc035",
            "edd8c98a8e9449b8b1f802fe23c2ec6e",
            "1ef62c3de4ff45c4837b504fee839fde",
            "5456a5d0fe9c45efabd7e2b11b7c5729",
            "fffd749be5d846cd8f4b0b6491d9e4c2",
            "b4b60e24bf2141cc861f769ff5e1bd21",
            "248519b93c744c9584b12e28846183ea",
            "05d859c4534e455caccbcdcd110b73e9",
            "abf8a0615f954c2592414ed7fc294548",
            "745db6056970480d9b642ea542ec4cfe",
            "f07b895ab45c47348137d531ec0fbd49",
            "7c40bdaf2116496ca0d54dd239717dee",
            "5f3092a868a1459d83a52c97e40c73d2",
            "d31939c2995e4ae49b0466c5bb7bbfb6",
            "a3c5c4791f9c43a18db2edd4fb6b4fc4",
            "414497f7e7dc48d991527153f704e243",
            "a422c7af275f4d678af1e2309ba1651c",
            "01cfb6d09a904148bcc390b13a759f88",
            "813d74b6a5b54bbe88311cecfb6327bc",
            "8e51a4e6ac5e4cd4b0913b6bb917cdfc",
            "ca59b34934904a41b6afe3e06250798a",
            "ca025b21a18544a68a4058535730b2e8",
            "22a73abe937a456391d83e273f45d51e",
            "30dd17b46bc94bd39689a9bba609d740",
            "412336c81ce6425fad941675dda3d344",
            "b7e861fa668f4c6ba5e3a55002ee699c",
            "879a5b65969047dfbe666ea84e212611",
            "ca89681d5c394181868c8201792f4d1a",
            "497f5ebcefd545baa9e210bc9fb65613",
            "e4ff6157c53044088c8d3b160db16046",
            "534674bdd5bc499696ce691f564892a0",
            "169b1d7e538e49fc9895116a701086c2",
            "f3b8b7ad32aa497ea5e8e7bb80c396b0",
            "bbeac5c8e27d4543985814c40c627400",
            "a19b220755764329ae6151ac37f8b183",
            "0db37dded4fe4e5d8a74db213be3ab70",
            "4e865ce814cb4f28b14c1a3d60ab86fd"
          ]
        },
        "outputId": "9dec911a-2a61-4b2d-9cab-57f3bd424e0e"
      },
      "source": [
        "# if `batch_size=-1`, will return the full dataset as `tf.tensor`s. ABSOLUTELY FUNDAMENTAL!\n",
        "\n",
        "train_data, validation_data = tfds.load(name='glue/mrpc', split=['train', 'validation'], batch_size=-1)"
      ],
      "execution_count": null,
      "outputs": [
        {
          "output_type": "stream",
          "text": [
            "\u001b[1mDownloading and preparing dataset glue/mrpc/1.0.0 (download: 1.43 MiB, generated: Unknown size, total: 1.43 MiB) to /root/tensorflow_datasets/glue/mrpc/1.0.0...\u001b[0m\n"
          ],
          "name": "stdout"
        },
        {
          "output_type": "display_data",
          "data": {
            "application/vnd.jupyter.widget-view+json": {
              "model_id": "0b8269bdd9124f06b69e5dfba5bae7f3",
              "version_minor": 0,
              "version_major": 2
            },
            "text/plain": [
              "HBox(children=(FloatProgress(value=1.0, bar_style='info', description='Dl Completed...', max=1.0, style=Progre…"
            ]
          },
          "metadata": {
            "tags": []
          }
        },
        {
          "output_type": "display_data",
          "data": {
            "application/vnd.jupyter.widget-view+json": {
              "model_id": "5f38138149a942b78438a752f17e61ee",
              "version_minor": 0,
              "version_major": 2
            },
            "text/plain": [
              "HBox(children=(FloatProgress(value=1.0, bar_style='info', description='Dl Size...', max=1.0, style=ProgressSty…"
            ]
          },
          "metadata": {
            "tags": []
          }
        },
        {
          "output_type": "stream",
          "text": [
            "/usr/local/lib/python3.6/dist-packages/urllib3/connectionpool.py:847: InsecureRequestWarning: Unverified HTTPS request is being made. Adding certificate verification is strongly advised. See: https://urllib3.readthedocs.io/en/latest/advanced-usage.html#ssl-warnings\n",
            "  InsecureRequestWarning)\n",
            "/usr/local/lib/python3.6/dist-packages/urllib3/connectionpool.py:847: InsecureRequestWarning: Unverified HTTPS request is being made. Adding certificate verification is strongly advised. See: https://urllib3.readthedocs.io/en/latest/advanced-usage.html#ssl-warnings\n",
            "  InsecureRequestWarning)\n",
            "/usr/local/lib/python3.6/dist-packages/urllib3/connectionpool.py:847: InsecureRequestWarning: Unverified HTTPS request is being made. Adding certificate verification is strongly advised. See: https://urllib3.readthedocs.io/en/latest/advanced-usage.html#ssl-warnings\n",
            "  InsecureRequestWarning)\n"
          ],
          "name": "stderr"
        },
        {
          "output_type": "stream",
          "text": [
            "\n",
            "\n",
            "\n",
            "\n"
          ],
          "name": "stdout"
        },
        {
          "output_type": "display_data",
          "data": {
            "application/vnd.jupyter.widget-view+json": {
              "model_id": "373eb2e0bb8e48adbc59679b45e5e55a",
              "version_minor": 0,
              "version_major": 2
            },
            "text/plain": [
              "HBox(children=(FloatProgress(value=1.0, bar_style='info', max=1.0), HTML(value='')))"
            ]
          },
          "metadata": {
            "tags": []
          }
        },
        {
          "output_type": "stream",
          "text": [
            "\rShuffling and writing examples to /root/tensorflow_datasets/glue/mrpc/1.0.0.incomplete0D4WSA/glue-train.tfrecord\n"
          ],
          "name": "stdout"
        },
        {
          "output_type": "display_data",
          "data": {
            "application/vnd.jupyter.widget-view+json": {
              "model_id": "6892a54e0e9140bd9106ffedec240a2b",
              "version_minor": 0,
              "version_major": 2
            },
            "text/plain": [
              "HBox(children=(FloatProgress(value=0.0, max=3668.0), HTML(value='')))"
            ]
          },
          "metadata": {
            "tags": []
          }
        },
        {
          "output_type": "stream",
          "text": [
            "\r"
          ],
          "name": "stdout"
        },
        {
          "output_type": "display_data",
          "data": {
            "application/vnd.jupyter.widget-view+json": {
              "model_id": "b4b60e24bf2141cc861f769ff5e1bd21",
              "version_minor": 0,
              "version_major": 2
            },
            "text/plain": [
              "HBox(children=(FloatProgress(value=1.0, bar_style='info', max=1.0), HTML(value='')))"
            ]
          },
          "metadata": {
            "tags": []
          }
        },
        {
          "output_type": "stream",
          "text": [
            "\rShuffling and writing examples to /root/tensorflow_datasets/glue/mrpc/1.0.0.incomplete0D4WSA/glue-validation.tfrecord\n"
          ],
          "name": "stdout"
        },
        {
          "output_type": "display_data",
          "data": {
            "application/vnd.jupyter.widget-view+json": {
              "model_id": "d31939c2995e4ae49b0466c5bb7bbfb6",
              "version_minor": 0,
              "version_major": 2
            },
            "text/plain": [
              "HBox(children=(FloatProgress(value=0.0, max=408.0), HTML(value='')))"
            ]
          },
          "metadata": {
            "tags": []
          }
        },
        {
          "output_type": "stream",
          "text": [
            "\r"
          ],
          "name": "stdout"
        },
        {
          "output_type": "display_data",
          "data": {
            "application/vnd.jupyter.widget-view+json": {
              "model_id": "ca025b21a18544a68a4058535730b2e8",
              "version_minor": 0,
              "version_major": 2
            },
            "text/plain": [
              "HBox(children=(FloatProgress(value=1.0, bar_style='info', max=1.0), HTML(value='')))"
            ]
          },
          "metadata": {
            "tags": []
          }
        },
        {
          "output_type": "stream",
          "text": [
            "\rShuffling and writing examples to /root/tensorflow_datasets/glue/mrpc/1.0.0.incomplete0D4WSA/glue-test.tfrecord\n"
          ],
          "name": "stdout"
        },
        {
          "output_type": "display_data",
          "data": {
            "application/vnd.jupyter.widget-view+json": {
              "model_id": "e4ff6157c53044088c8d3b160db16046",
              "version_minor": 0,
              "version_major": 2
            },
            "text/plain": [
              "HBox(children=(FloatProgress(value=0.0, max=1725.0), HTML(value='')))"
            ]
          },
          "metadata": {
            "tags": []
          }
        },
        {
          "output_type": "stream",
          "text": [
            "\u001b[1mDataset glue downloaded and prepared to /root/tensorflow_datasets/glue/mrpc/1.0.0. Subsequent calls will reuse this data.\u001b[0m\n"
          ],
          "name": "stdout"
        }
      ]
    },
    {
      "cell_type": "code",
      "metadata": {
        "id": "_WofQ_ohtiJY",
        "colab_type": "code",
        "colab": {
          "base_uri": "https://localhost:8080/",
          "height": 34
        },
        "outputId": "485625c0-6618-410b-d45e-a0857051172e"
      },
      "source": [
        "# check dataset\n",
        "\n",
        "train_data.keys()"
      ],
      "execution_count": null,
      "outputs": [
        {
          "output_type": "execute_result",
          "data": {
            "text/plain": [
              "dict_keys(['idx', 'label', 'sentence1', 'sentence2'])"
            ]
          },
          "metadata": {
            "tags": []
          },
          "execution_count": 3
        }
      ]
    },
    {
      "cell_type": "code",
      "metadata": {
        "id": "MzP_QGoQtrYm",
        "colab_type": "code",
        "colab": {}
      },
      "source": [
        "# Convert to dataFrame\n",
        "\n",
        "df_train = pd.DataFrame(data=train_data)\n",
        "df_validation = pd.DataFrame(data=validation_data)"
      ],
      "execution_count": null,
      "outputs": []
    },
    {
      "cell_type": "code",
      "metadata": {
        "id": "4XqpWsIGtuT3",
        "colab_type": "code",
        "colab": {
          "base_uri": "https://localhost:8080/",
          "height": 197
        },
        "outputId": "db6fa732-9062-4514-b40a-413474a0b9e2"
      },
      "source": [
        "df_train.head()"
      ],
      "execution_count": null,
      "outputs": [
        {
          "output_type": "execute_result",
          "data": {
            "text/html": [
              "<div>\n",
              "<style scoped>\n",
              "    .dataframe tbody tr th:only-of-type {\n",
              "        vertical-align: middle;\n",
              "    }\n",
              "\n",
              "    .dataframe tbody tr th {\n",
              "        vertical-align: top;\n",
              "    }\n",
              "\n",
              "    .dataframe thead th {\n",
              "        text-align: right;\n",
              "    }\n",
              "</style>\n",
              "<table border=\"1\" class=\"dataframe\">\n",
              "  <thead>\n",
              "    <tr style=\"text-align: right;\">\n",
              "      <th></th>\n",
              "      <th>idx</th>\n",
              "      <th>label</th>\n",
              "      <th>sentence1</th>\n",
              "      <th>sentence2</th>\n",
              "    </tr>\n",
              "  </thead>\n",
              "  <tbody>\n",
              "    <tr>\n",
              "      <th>0</th>\n",
              "      <td>1680</td>\n",
              "      <td>0</td>\n",
              "      <td>b'The identical rovers will act as robotic geo...</td>\n",
              "      <td>b'The rovers act as robotic geologists , movin...</td>\n",
              "    </tr>\n",
              "    <tr>\n",
              "      <th>1</th>\n",
              "      <td>1456</td>\n",
              "      <td>0</td>\n",
              "      <td>b\"Less than 20 percent of Boise 's sales would...</td>\n",
              "      <td>b\"Less than 20 percent of Boise 's sales would...</td>\n",
              "    </tr>\n",
              "    <tr>\n",
              "      <th>2</th>\n",
              "      <td>3017</td>\n",
              "      <td>1</td>\n",
              "      <td>b'Spider-Man snatched $ 114.7 million in its d...</td>\n",
              "      <td>b'Spider-Man , rated PG-13 , snatched $ 114.7 ...</td>\n",
              "    </tr>\n",
              "    <tr>\n",
              "      <th>3</th>\n",
              "      <td>2896</td>\n",
              "      <td>1</td>\n",
              "      <td>b\"The 2002 second quarter results don 't inclu...</td>\n",
              "      <td>b'The year-ago numbers do not include figures ...</td>\n",
              "    </tr>\n",
              "    <tr>\n",
              "      <th>4</th>\n",
              "      <td>499</td>\n",
              "      <td>0</td>\n",
              "      <td>b'Solomon 5.5 is available initially in the Un...</td>\n",
              "      <td>b'Solomon 5.5 is now available in the U.S. and...</td>\n",
              "    </tr>\n",
              "  </tbody>\n",
              "</table>\n",
              "</div>"
            ],
            "text/plain": [
              "    idx  ...                                          sentence2\n",
              "0  1680  ...  b'The rovers act as robotic geologists , movin...\n",
              "1  1456  ...  b\"Less than 20 percent of Boise 's sales would...\n",
              "2  3017  ...  b'Spider-Man , rated PG-13 , snatched $ 114.7 ...\n",
              "3  2896  ...  b'The year-ago numbers do not include figures ...\n",
              "4   499  ...  b'Solomon 5.5 is now available in the U.S. and...\n",
              "\n",
              "[5 rows x 4 columns]"
            ]
          },
          "metadata": {
            "tags": []
          },
          "execution_count": 5
        }
      ]
    },
    {
      "cell_type": "code",
      "metadata": {
        "id": "4D5ySVq56zWa",
        "colab_type": "code",
        "colab": {
          "base_uri": "https://localhost:8080/",
          "height": 70
        },
        "outputId": "1c1c8d64-96f5-4584-b1a5-801214cb3a1a"
      },
      "source": [
        "print(df_train['sentence1'][0])\n",
        "print(df_train['sentence2'][0])\n",
        "print(df_train['label'][0])\n"
      ],
      "execution_count": null,
      "outputs": [
        {
          "output_type": "stream",
          "text": [
            "b'The identical rovers will act as robotic geologists , searching for evidence of past water .'\n",
            "b'The rovers act as robotic geologists , moving on six wheels .'\n",
            "0\n"
          ],
          "name": "stdout"
        }
      ]
    },
    {
      "cell_type": "code",
      "metadata": {
        "id": "sibFJZRx-laS",
        "colab_type": "code",
        "colab": {}
      },
      "source": [
        "# Creates function to clean data\n",
        "\n",
        "def process_data (data):\n",
        "  punct = \"/-?!.,#$%\\()*+-/:;<=>@[\\\\]^_`{|}~`\" + '\"\"“”’' + '∞θ÷α•à−β∅³π‘₹´°£€\\×™√²—–&'\n",
        "  def clean_the_text (text, punt):\n",
        "    for p in punct:\n",
        "      text = text.replace(p, ' ')\n",
        "      text = text.replace(\"b'\", ' ', 1)\n",
        "      text = text.replace('b\"', ' ', 1)\n",
        "    return text\n",
        "  \n",
        "  data =  data.astype(str).apply(lambda x: clean_the_text(x, punct))\n",
        "  return data  "
      ],
      "execution_count": null,
      "outputs": []
    },
    {
      "cell_type": "code",
      "metadata": {
        "id": "v-32mz3Rt1ZJ",
        "colab_type": "code",
        "colab": {
          "base_uri": "https://localhost:8080/",
          "height": 70
        },
        "outputId": "b592b61c-6ec2-44ac-aeaf-4c474a7963d7"
      },
      "source": [
        "# Change the datatypes as they come as tensor object\n",
        "\n",
        "sentence1 = process_data(df_train.sentence1.apply(str))\n",
        "sentence2 = process_data(df_train.sentence2.apply(str))\n",
        "label = df_train.label\n",
        "print(len(sentence1))\n",
        "print(len(sentence2))\n",
        "print(len(label))"
      ],
      "execution_count": null,
      "outputs": [
        {
          "output_type": "stream",
          "text": [
            "3668\n",
            "3668\n",
            "3668\n"
          ],
          "name": "stdout"
        }
      ]
    },
    {
      "cell_type": "code",
      "metadata": {
        "id": "JwCf5JHPt7iP",
        "colab_type": "code",
        "colab": {
          "base_uri": "https://localhost:8080/",
          "height": 70
        },
        "outputId": "cbf8a015-8375-4d60-d5d0-b2bcfec4ed33"
      },
      "source": [
        "# Check lenght of sentence\n",
        "\n",
        "count = sentence1.apply(lambda x: len(str(x).split()))\n",
        "print('Mean: %f' % (count.mean()))\n",
        "print('Median: %f' % (count.median()))\n",
        "print('Max: %f' % (count.max()))"
      ],
      "execution_count": null,
      "outputs": [
        {
          "output_type": "stream",
          "text": [
            "Mean: 20.664667\n",
            "Median: 21.000000\n",
            "Max: 46.000000\n"
          ],
          "name": "stdout"
        }
      ]
    },
    {
      "cell_type": "code",
      "metadata": {
        "id": "AuYY4HhQt-WU",
        "colab_type": "code",
        "colab": {
          "base_uri": "https://localhost:8080/",
          "height": 70
        },
        "outputId": "8495834a-af49-4c63-d948-0cac07cd99b7"
      },
      "source": [
        "# Count it for sentence 2\n",
        "\n",
        "count2 = sentence2.apply(lambda x: len(str(x).split()))\n",
        "print('Mean: %f' % (count2.mean()))\n",
        "print('Median: %f' % (count2.median()))\n",
        "print('Max: %f' % (count2.max()))"
      ],
      "execution_count": null,
      "outputs": [
        {
          "output_type": "stream",
          "text": [
            "Mean: 20.661668\n",
            "Median: 20.000000\n",
            "Max: 43.000000\n"
          ],
          "name": "stdout"
        }
      ]
    },
    {
      "cell_type": "code",
      "metadata": {
        "id": "XXnXqHnLuEpr",
        "colab_type": "code",
        "colab": {
          "base_uri": "https://localhost:8080/",
          "height": 34
        },
        "outputId": "e4298ebd-1f25-4a9c-80d9-1d5e41f5805c"
      },
      "source": [
        "# Bring Keras tokenizer, builds vocabulary and pads sequences\n",
        "\n",
        "Tokenizer = tf.keras.preprocessing.text.Tokenizer\n",
        "pad_sequences = tf.keras.preprocessing.sequence.pad_sequences\n",
        "\n",
        "tokenizer = Tokenizer(num_words=20000)\n",
        "max_len = 32 # Limit sentences to 40 words\n",
        "\n",
        "# Creates vocabulary and gives number of tokens in corpus\n",
        "\n",
        "tokenizer.fit_on_texts(list(sentence1) + list(sentence2))\n",
        "vocab_size = len(tokenizer.word_index)+1 # Because starts counting at 0\n",
        "print(vocab_size)"
      ],
      "execution_count": null,
      "outputs": [
        {
          "output_type": "stream",
          "text": [
            "12430\n"
          ],
          "name": "stdout"
        }
      ]
    },
    {
      "cell_type": "code",
      "metadata": {
        "id": "XuSPJzhruqw-",
        "colab_type": "code",
        "colab": {
          "base_uri": "https://localhost:8080/",
          "height": 125
        },
        "outputId": "598350c6-fe3e-47a4-e595-f806f428fe73"
      },
      "source": [
        "# Converts sentences to sequences of integers\n",
        "# post pad them to max set to 40 \n",
        "\n",
        "encoded_sent1 = tokenizer.texts_to_sequences(sentence1)\n",
        "padded_sent1 = pad_sequences(encoded_sent1, maxlen=max_len, padding='post')\n",
        "\n",
        "encoded_sent2 = tokenizer.texts_to_sequences(sentence2)\n",
        "padded_sent2 = pad_sequences(encoded_sent2, maxlen=max_len, padding='post')\n",
        "\n",
        "# Check\n",
        "print(sentence1[5])\n",
        "print(encoded_sent1[5])\n",
        "print(padded_sent1[5])"
      ],
      "execution_count": null,
      "outputs": [
        {
          "output_type": "stream",
          "text": [
            " The family stopped for lunch at Freshwater Spit   where several children went to the water 's edge to play in the surf shortly after noon   \n",
            "[1, 375, 2039, 11, 5809, 15, 9387, 9388, 155, 243, 376, 503, 3, 1, 531, 9, 5810, 3, 927, 6, 1, 5811, 2255, 43, 3777]\n",
            "[   1  375 2039   11 5809   15 9387 9388  155  243  376  503    3    1\n",
            "  531    9 5810    3  927    6    1 5811 2255   43 3777    0    0    0\n",
            "    0    0    0    0]\n"
          ],
          "name": "stdout"
        }
      ]
    },
    {
      "cell_type": "code",
      "metadata": {
        "id": "A5i4WN0B0UK3",
        "colab_type": "code",
        "colab": {
          "base_uri": "https://localhost:8080/",
          "height": 70
        },
        "outputId": "14f77400-d89a-4ada-9f5a-a9528e07e641"
      },
      "source": [
        "val_sentence1 = process_data(df_validation.sentence1.apply(str))\n",
        "val_sentence2 = process_data(df_validation.sentence2.apply(str))\n",
        "val_label = df_validation.label\n",
        "print(len(val_sentence1))\n",
        "print(len(val_sentence2))\n",
        "print(len(val_label))"
      ],
      "execution_count": null,
      "outputs": [
        {
          "output_type": "stream",
          "text": [
            "408\n",
            "408\n",
            "408\n"
          ],
          "name": "stdout"
        }
      ]
    },
    {
      "cell_type": "code",
      "metadata": {
        "id": "2fGSCXkrlo3-",
        "colab_type": "code",
        "colab": {
          "base_uri": "https://localhost:8080/",
          "height": 105
        },
        "outputId": "80a4df99-2823-479d-9e45-1155254244a7"
      },
      "source": [
        "# Converts sentences to sequences of integers for VAL_SET\n",
        "# post pad them to max set to 40 \n",
        "\n",
        "val_encoded_sent1 = tokenizer.texts_to_sequences(val_sentence1)\n",
        "val_padded_sent1 = pad_sequences(val_encoded_sent1, maxlen=max_len, padding='post')\n",
        "\n",
        "val_encoded_sent2 = tokenizer.texts_to_sequences(val_sentence2)\n",
        "val_padded_sent2 = pad_sequences(val_encoded_sent2, maxlen=max_len, padding='post')\n",
        "\n",
        "# Check\n",
        "print(val_sentence1[5])\n",
        "print(val_encoded_sent1[5])\n",
        "print(val_padded_sent1[5])"
      ],
      "execution_count": null,
      "outputs": [
        {
          "output_type": "stream",
          "text": [
            "   There were more people surrounding the clubhouse than the Unabomber  's house up in the hills     Baker said  '\n",
            "[93, 23, 55, 64, 3625, 1, 61, 1, 9, 179, 47, 6, 1, 4837, 4320, 8, 2]\n",
            "[  93   23   55   64 3625    1   61    1    9  179   47    6    1 4837\n",
            " 4320    8    2    0    0    0    0    0    0    0    0    0    0    0\n",
            "    0    0    0    0]\n"
          ],
          "name": "stdout"
        }
      ]
    },
    {
      "cell_type": "code",
      "metadata": {
        "id": "D4bQqwOgwVvF",
        "colab_type": "code",
        "colab": {}
      },
      "source": [
        "# download pretrained GloVe embeddings\n",
        "\n",
        "# !wget http://nlp.stanford.edu/data/glove.6B.zip\n",
        "\n",
        "# !unzip glove.6B.zip"
      ],
      "execution_count": null,
      "outputs": []
    },
    {
      "cell_type": "code",
      "metadata": {
        "id": "zsDt7RQC_b6H",
        "colab_type": "code",
        "colab": {
          "base_uri": "https://localhost:8080/",
          "height": 125
        },
        "outputId": "2ebba67c-d82b-4f0c-fa76-52c22e95880c"
      },
      "source": [
        "# Mount them from drive for quicker performance\n",
        "\n",
        "from google.colab import drive\n",
        "drive.mount('/content/gdrive')"
      ],
      "execution_count": null,
      "outputs": [
        {
          "output_type": "stream",
          "text": [
            "Go to this URL in a browser: https://accounts.google.com/o/oauth2/auth?client_id=947318989803-6bn6qk8qdgf4n4g3pfee6491hc0brc4i.apps.googleusercontent.com&redirect_uri=urn%3aietf%3awg%3aoauth%3a2.0%3aoob&response_type=code&scope=email%20https%3a%2f%2fwww.googleapis.com%2fauth%2fdocs.test%20https%3a%2f%2fwww.googleapis.com%2fauth%2fdrive%20https%3a%2f%2fwww.googleapis.com%2fauth%2fdrive.photos.readonly%20https%3a%2f%2fwww.googleapis.com%2fauth%2fpeopleapi.readonly\n",
            "\n",
            "Enter your authorization code:\n",
            "··········\n",
            "Mounted at /content/gdrive\n"
          ],
          "name": "stdout"
        }
      ]
    },
    {
      "cell_type": "code",
      "metadata": {
        "id": "R-Z8C5Y6_ci9",
        "colab_type": "code",
        "colab": {
          "base_uri": "https://localhost:8080/",
          "height": 34
        },
        "outputId": "a538714e-c351-4abb-9ae6-6c6efb8ca6b2"
      },
      "source": [
        "# lists files\n",
        "\n",
        "!ls \"/content/gdrive/My Drive/Glove/glove.6B.300d.txt\""
      ],
      "execution_count": null,
      "outputs": [
        {
          "output_type": "stream",
          "text": [
            "'/content/gdrive/My Drive/Glove/glove.6B.300d.txt'\n"
          ],
          "name": "stdout"
        }
      ]
    },
    {
      "cell_type": "code",
      "metadata": {
        "id": "OmI49LtL_bq0",
        "colab_type": "code",
        "colab": {
          "base_uri": "https://localhost:8080/",
          "height": 34
        },
        "outputId": "b354b673-d51b-41b9-b9f4-dc4dd4231f62"
      },
      "source": [
        "# Creates dictionary of word embeddings\n",
        "\n",
        "glove_dir = './'\n",
        "\n",
        "embeddings_index = {} #initialize dictionary\n",
        "f = open(os.path.join('/content/gdrive/My Drive/Glove/glove.6B.300d.txt'))\n",
        "for line in f:\n",
        "    values = line.split()\n",
        "    word = values[0]\n",
        "    coefs = np.asarray(values[1:], dtype='float32')\n",
        "    embeddings_index[word] = coefs\n",
        "f.close()\n",
        "\n",
        "print('Found %s word vectors.' % len(embeddings_index))"
      ],
      "execution_count": null,
      "outputs": [
        {
          "output_type": "stream",
          "text": [
            "Found 400000 word vectors.\n"
          ],
          "name": "stdout"
        }
      ]
    },
    {
      "cell_type": "code",
      "metadata": {
        "id": "4T4TfUqEymrg",
        "colab_type": "code",
        "colab": {}
      },
      "source": [
        "# Matches words/tokens from vocabulary to their embeddings\n",
        "\n",
        "embedding_dimensions = 300\n",
        "\n",
        "embedding_matrix = np.zeros((vocab_size, embedding_dimensions))\n",
        "\n",
        "for word, i in tokenizer.word_index.items():\n",
        "  embedding_vector = embeddings_index.get(word)\n",
        "  if embedding_vector is not None:\n",
        "    embedding_matrix[i] = embedding_vector   "
      ],
      "execution_count": null,
      "outputs": []
    },
    {
      "cell_type": "code",
      "metadata": {
        "id": "esns6mDezIzS",
        "colab_type": "code",
        "colab": {}
      },
      "source": [
        "# Builds a dict for the two inputs of the Siamese LSTM\n",
        "\n",
        "X_train = {'left': padded_sent1, 'right': padded_sent2}\n",
        "Y_train = label"
      ],
      "execution_count": null,
      "outputs": []
    },
    {
      "cell_type": "code",
      "metadata": {
        "id": "N13VtmkQzT7b",
        "colab_type": "code",
        "colab": {}
      },
      "source": [
        "# Make sure everything is ok\n",
        "# CHECK WHETHER THIS IS NEEDED OR IT CAN BE DIFFERENT LENGHT\n",
        "\n",
        "assert X_train['left'].shape == X_train['right'].shape\n",
        "assert len(X_train['left']) == len(Y_train)"
      ],
      "execution_count": null,
      "outputs": []
    },
    {
      "cell_type": "code",
      "metadata": {
        "id": "KvNejsTr04SR",
        "colab_type": "code",
        "colab": {}
      },
      "source": [
        "# Builds a dict for the two inputs of the Siamese LSTM at validation as well\n",
        "\n",
        "X_val = {'left': val_padded_sent1, 'right': val_padded_sent2}\n",
        "Y_val = val_label"
      ],
      "execution_count": null,
      "outputs": []
    },
    {
      "cell_type": "code",
      "metadata": {
        "id": "vFCqGTYBtfRX",
        "colab_type": "code",
        "colab": {
          "base_uri": "https://localhost:8080/",
          "height": 230
        },
        "outputId": "47a542ae-e7ed-41c4-9177-b75871776bdc"
      },
      "source": [
        "Y_train"
      ],
      "execution_count": null,
      "outputs": [
        {
          "output_type": "execute_result",
          "data": {
            "text/plain": [
              "0       0\n",
              "1       0\n",
              "2       1\n",
              "3       1\n",
              "4       0\n",
              "       ..\n",
              "3663    0\n",
              "3664    1\n",
              "3665    1\n",
              "3666    0\n",
              "3667    1\n",
              "Name: label, Length: 3668, dtype: int64"
            ]
          },
          "metadata": {
            "tags": []
          },
          "execution_count": 22
        }
      ]
    },
    {
      "cell_type": "code",
      "metadata": {
        "id": "GWQXlIErsnyD",
        "colab_type": "code",
        "colab": {}
      },
      "source": [
        "# Make sure everything is ok\n",
        "# CHECK WHETHER THIS IS NEEDED OR IT CAN BE DIFFERENT LENGHT\n",
        "\n",
        "assert X_val['left'].shape == X_val['right'].shape\n",
        "assert len(X_val['left']) == len(Y_val)"
      ],
      "execution_count": null,
      "outputs": []
    },
    {
      "cell_type": "code",
      "metadata": {
        "id": "1dzZxhdIz1Zo",
        "colab_type": "code",
        "colab": {}
      },
      "source": [
        "# Calculates Manhattan Distance as in Jonas Mueller \n",
        "# https://gist.github.com/GKarmakar/3aa0c643ddb0688a9bfc44b43b84edd8\n",
        "\n",
        "def manhattan_distance(left,right):\n",
        "  return K.exp(-K.sum(K.abs(left-right), axis=1, keepdims=True))"
      ],
      "execution_count": null,
      "outputs": []
    },
    {
      "cell_type": "code",
      "metadata": {
        "id": "TK79dOy-zey3",
        "colab_type": "code",
        "colab": {}
      },
      "source": [
        "# Starts building model Siamese LSTM\n",
        "\n",
        "from tensorflow.python.keras.layers import Input, Embedding, LSTM, GRU, Conv1D, Conv2D, GlobalMaxPool1D, Dense, Dropout\n",
        "from tensorflow.python.keras.models import Model, Sequential\n",
        "from tensorflow.python.keras.layers import Layer, AdditiveAttention"
      ],
      "execution_count": null,
      "outputs": []
    },
    {
      "cell_type": "code",
      "metadata": {
        "id": "hQ5jC5go4O79",
        "colab_type": "code",
        "colab": {}
      },
      "source": [
        "# Defines hidden dimensions of lstm and embedding\n",
        "# From Jonas Mueller: The LSTM learns a mapping from the space of variable length \n",
        "# sequences of 300 dimensional vectors into 50 \n",
        "\n",
        "n_hidden = 50\n",
        "\n",
        "embed = Embedding(vocab_size, embedding_dimensions, weights=[embedding_matrix],input_length=max_len, trainable=False)"
      ],
      "execution_count": null,
      "outputs": []
    },
    {
      "cell_type": "code",
      "metadata": {
        "id": "I1bSS9Y62rdc",
        "colab_type": "code",
        "colab": {
          "base_uri": "https://localhost:8080/",
          "height": 265
        },
        "outputId": "f1cc7331-638b-4f12-9c2b-856a9a8f8b97"
      },
      "source": [
        "# Defines LSTM_model and shows it\n",
        "\n",
        "lstm_layer = Sequential()\n",
        "lstm_layer.add(embed)\n",
        "lstm_layer.add(LSTM(n_hidden, dropout=0.2, activation='tanh', recurrent_dropout=0.2))\n",
        "lstm_layer.add(Dense(1, activation='sigmoid'))\n",
        "lstm_layer.summary() "
      ],
      "execution_count": null,
      "outputs": [
        {
          "output_type": "stream",
          "text": [
            "Model: \"sequential_1\"\n",
            "_________________________________________________________________\n",
            "Layer (type)                 Output Shape              Param #   \n",
            "=================================================================\n",
            "embedding_1 (Embedding)      (None, 32, 300)           3729000   \n",
            "_________________________________________________________________\n",
            "lstm_1 (LSTM)                (None, 50)                70200     \n",
            "_________________________________________________________________\n",
            "dense_1 (Dense)              (None, 1)                 51        \n",
            "=================================================================\n",
            "Total params: 3,799,251\n",
            "Trainable params: 70,251\n",
            "Non-trainable params: 3,729,000\n",
            "_________________________________________________________________\n"
          ],
          "name": "stdout"
        }
      ]
    },
    {
      "cell_type": "code",
      "metadata": {
        "id": "9e0_DHqd5FHg",
        "colab_type": "code",
        "colab": {}
      },
      "source": [
        "# Defines left and right inputs to the lstm\n",
        "# Input has automatic shape inference\n",
        "\n",
        "left_input = Input(shape=(max_len,), dtype='int32')\n",
        "right_input = Input(shape=(max_len,), dtype='int32')\n",
        "\n",
        "# Output of the lstm\n",
        "\n",
        "left = lstm_layer(left_input)\n",
        "right = lstm_layer(right_input)"
      ],
      "execution_count": null,
      "outputs": []
    },
    {
      "cell_type": "code",
      "metadata": {
        "id": "FoW03cov7Vsq",
        "colab_type": "code",
        "colab": {}
      },
      "source": [
        "# Calculates Manhattan Distance and instantiates the Model\n",
        "# when training the model, the weights of the LSTM layer are updated based on both inputs\n",
        "\n",
        "malstm_distance = manhattan_distance(left=left, right=right)\n",
        "model = Model(inputs = [left_input, right_input], outputs = [malstm_distance])"
      ],
      "execution_count": null,
      "outputs": []
    },
    {
      "cell_type": "code",
      "metadata": {
        "id": "pyyrmUpC8-Df",
        "colab_type": "code",
        "colab": {
          "base_uri": "https://localhost:8080/",
          "height": 478
        },
        "outputId": "deb08d37-dd00-4228-8f07-3a57662a3545"
      },
      "source": [
        "# Compiles with loss MSE and Adadelta as in Jonas Mueller. Prints summary\n",
        "\n",
        "model.compile(loss=tf.keras.losses.MeanSquaredError(), \n",
        "              optimizer=tf.keras.optimizers.Adam(learning_rate=0.01), \n",
        "              metrics=['accuracy'])\n",
        "model.summary()"
      ],
      "execution_count": null,
      "outputs": [
        {
          "output_type": "stream",
          "text": [
            "Model: \"functional_3\"\n",
            "__________________________________________________________________________________________________\n",
            "Layer (type)                    Output Shape         Param #     Connected to                     \n",
            "==================================================================================================\n",
            "input_3 (InputLayer)            [(None, 32)]         0                                            \n",
            "__________________________________________________________________________________________________\n",
            "input_4 (InputLayer)            [(None, 32)]         0                                            \n",
            "__________________________________________________________________________________________________\n",
            "sequential_1 (Sequential)       (None, 1)            3799251     input_3[0][0]                    \n",
            "                                                                 input_4[0][0]                    \n",
            "__________________________________________________________________________________________________\n",
            "tf_op_layer_Sub_1 (TensorFlowOp [(None, 1)]          0           sequential_1[0][0]               \n",
            "                                                                 sequential_1[1][0]               \n",
            "__________________________________________________________________________________________________\n",
            "tf_op_layer_Abs_1 (TensorFlowOp [(None, 1)]          0           tf_op_layer_Sub_1[0][0]          \n",
            "__________________________________________________________________________________________________\n",
            "tf_op_layer_Sum_1 (TensorFlowOp [(None, 1)]          0           tf_op_layer_Abs_1[0][0]          \n",
            "__________________________________________________________________________________________________\n",
            "tf_op_layer_Neg_1 (TensorFlowOp [(None, 1)]          0           tf_op_layer_Sum_1[0][0]          \n",
            "__________________________________________________________________________________________________\n",
            "tf_op_layer_Exp_1 (TensorFlowOp [(None, 1)]          0           tf_op_layer_Neg_1[0][0]          \n",
            "==================================================================================================\n",
            "Total params: 3,799,251\n",
            "Trainable params: 70,251\n",
            "Non-trainable params: 3,729,000\n",
            "__________________________________________________________________________________________________\n"
          ],
          "name": "stdout"
        }
      ]
    },
    {
      "cell_type": "code",
      "metadata": {
        "id": "RTUnUhZAiosL",
        "colab_type": "code",
        "colab": {
          "base_uri": "https://localhost:8080/",
          "height": 384
        },
        "outputId": "e7c546a3-d57c-496d-e88a-22668b37a9ee"
      },
      "source": [
        "# Plot model graph\n",
        "from keras.utils import plot_model\n",
        "plot_model(model, show_shapes=True, show_layer_names=True, to_file='model.png')\n",
        "from IPython.display import Image\n",
        "Image(retina=True, filename='model.png')"
      ],
      "execution_count": null,
      "outputs": [
        {
          "output_type": "execute_result",
          "data": {
            "image/png": "[encoded data removed]",
            "text/plain": [
              "<IPython.core.display.Image object>"
            ]
          },
          "metadata": {
            "tags": [],
            "image/png": {
              "width": 356,
              "height": 368
            }
          },
          "execution_count": 42
        }
      ]
    },
    {
      "cell_type": "code",
      "metadata": {
        "id": "nCDRRN4B9t0D",
        "colab_type": "code",
        "colab": {}
      },
      "source": [
        "# Early stopping to prevent under/over fitting\n",
        "\n",
        "from tensorflow.keras.callbacks import EarlyStopping\n",
        "\n",
        "earlystop = EarlyStopping(monitor='val_accuracy', min_delta=0, patience=5, verbose=0, mode='auto')"
      ],
      "execution_count": null,
      "outputs": []
    },
    {
      "cell_type": "code",
      "metadata": {
        "id": "ARoSHX4M98_O",
        "colab_type": "code",
        "colab": {
          "base_uri": "https://localhost:8080/",
          "height": 392
        },
        "outputId": "4924b745-40da-46ed-b45e-5cbb1cebc940"
      },
      "source": [
        "# start training \n",
        "malstm_trained = model.fit([X_train['left'], X_train['right']], Y_train,\n",
        "                           batch_size=32,\n",
        "                           epochs=10, \n",
        "                           verbose=True, \n",
        "                           validation_split=0.2,\n",
        "                           callbacks=[earlystop])"
      ],
      "execution_count": null,
      "outputs": [
        {
          "output_type": "stream",
          "text": [
            "Epoch 1/10\n",
            "92/92 [==============================] - 32s 345ms/step - loss: 0.2459 - accuracy: 0.6680 - val_loss: 0.2396 - val_accuracy: 0.6322\n",
            "Epoch 2/10\n",
            "92/92 [==============================] - 31s 341ms/step - loss: 0.2580 - accuracy: 0.6472 - val_loss: 0.2357 - val_accuracy: 0.6649\n",
            "Epoch 3/10\n",
            "92/92 [==============================] - 30s 328ms/step - loss: 0.2419 - accuracy: 0.6691 - val_loss: 0.2373 - val_accuracy: 0.6839\n",
            "Epoch 4/10\n",
            "92/92 [==============================] - 31s 336ms/step - loss: 0.2296 - accuracy: 0.6868 - val_loss: 0.2382 - val_accuracy: 0.6785\n",
            "Epoch 5/10\n",
            "92/92 [==============================] - 31s 340ms/step - loss: 0.2305 - accuracy: 0.6902 - val_loss: 0.2439 - val_accuracy: 0.6826\n",
            "Epoch 6/10\n",
            "92/92 [==============================] - 30s 329ms/step - loss: 0.2254 - accuracy: 0.6912 - val_loss: 0.2389 - val_accuracy: 0.6866\n",
            "Epoch 7/10\n",
            "92/92 [==============================] - 32s 344ms/step - loss: 0.2082 - accuracy: 0.7188 - val_loss: 0.2397 - val_accuracy: 0.6948\n",
            "Epoch 8/10\n",
            "92/92 [==============================] - 30s 331ms/step - loss: 0.1996 - accuracy: 0.7311 - val_loss: 0.2279 - val_accuracy: 0.6962\n",
            "Epoch 9/10\n",
            "92/92 [==============================] - 30s 325ms/step - loss: 0.2100 - accuracy: 0.7117 - val_loss: 0.2314 - val_accuracy: 0.6894\n",
            "Epoch 10/10\n",
            "92/92 [==============================] - 31s 341ms/step - loss: 0.1983 - accuracy: 0.7249 - val_loss: 0.2290 - val_accuracy: 0.7044\n"
          ],
          "name": "stdout"
        }
      ]
    },
    {
      "cell_type": "code",
      "metadata": {
        "id": "-1nCjS4NEFSY",
        "colab_type": "code",
        "colab": {}
      },
      "source": [
        "# Uncomment and start again from Sequential to \n",
        "# Reset weights and retrain model\n",
        "\n",
        "# K.clear_session()"
      ],
      "execution_count": null,
      "outputs": []
    },
    {
      "cell_type": "code",
      "metadata": {
        "id": "4byCAFZ5q67F",
        "colab_type": "code",
        "colab": {
          "base_uri": "https://localhost:8080/",
          "height": 70
        },
        "outputId": "ae69ddd6-9b66-4aa3-fcad-a7f0b2b1ec0e"
      },
      "source": [
        "print(\"Evaluate on test data\")\n",
        "\n",
        "evaluation = model.evaluate([X_val['left'], X_val['right']], Y_val)\n",
        "\n",
        "print(\"test loss, test acc:\", evaluation)"
      ],
      "execution_count": null,
      "outputs": [
        {
          "output_type": "stream",
          "text": [
            "Evaluate on test data\n",
            "13/13 [==============================] - 0s 38ms/step - loss: 0.2361 - accuracy: 0.6912\n",
            "test loss, test acc: [0.23613768815994263, 0.6911764740943909]\n"
          ],
          "name": "stdout"
        }
      ]
    },
    {
      "cell_type": "code",
      "metadata": {
        "id": "IBLW1OFPzUE0",
        "colab_type": "code",
        "colab": {}
      },
      "source": [
        "# prediction = model.predict([X_val['left'],X_val['right']])\n",
        "# print(prediction)"
      ],
      "execution_count": null,
      "outputs": []
    },
    {
      "cell_type": "code",
      "metadata": {
        "id": "4es50xuFjedk",
        "colab_type": "code",
        "colab": {
          "base_uri": "https://localhost:8080/",
          "height": 34
        },
        "outputId": "c70e1b2d-92a8-4274-9264-63947cf7c19b"
      },
      "source": [
        "max(malstm_trained.history['accuracy'])"
      ],
      "execution_count": null,
      "outputs": [
        {
          "output_type": "execute_result",
          "data": {
            "text/plain": [
              "0.731083869934082"
            ]
          },
          "metadata": {
            "tags": []
          },
          "execution_count": 48
        }
      ]
    },
    {
      "cell_type": "code",
      "metadata": {
        "id": "ee2qH4WgTioc",
        "colab_type": "code",
        "colab": {
          "base_uri": "https://localhost:8080/",
          "height": 194
        },
        "outputId": "f4117287-0a34-4b0d-eeb0-63157f7058f3"
      },
      "source": [
        "# Plot Accuracy\n",
        "\n",
        "plt.subplot(211)\n",
        "plt.plot(malstm_trained.history['accuracy'])\n",
        "plt.plot(malstm_trained.history['val_accuracy'])\n",
        "plt.title('Model Accuracy')\n",
        "plt.ylabel('Accuracy')\n",
        "plt.xlabel('Epoch')\n",
        "plt.legend(['Train', 'Validation'], loc = 'upper left')"
      ],
      "execution_count": null,
      "outputs": [
        {
          "output_type": "execute_result",
          "data": {
            "text/plain": [
              "<matplotlib.legend.Legend at 0x7f8f784fb8d0>"
            ]
          },
          "metadata": {
            "tags": []
          },
          "execution_count": 49
        },
        {
          "output_type": "display_data",
          "data": {
            "image/png": "[encoded data removed]",
            "text/plain": [
              "<Figure size 432x288 with 1 Axes>"
            ]
          },
          "metadata": {
            "tags": [],
            "needs_background": "light"
          }
        }
      ]
    },
    {
      "cell_type": "code",
      "metadata": {
        "id": "5V9J08lf-iaK",
        "colab_type": "code",
        "colab": {}
      },
      "source": [
        "# Run 10 experiments and plot results\n",
        "\n",
        "def make_model():\n",
        "  tf.keras.backend.clear_session() # Starts session from scratch \n",
        "  print('New Experiment')\n",
        "  lstm_layer = Sequential()\n",
        "  lstm_layer.add(embed)\n",
        "  lstm_layer.add(LSTM(n_hidden))  \n",
        "  # lstm_layer.summary() \n",
        "  # Input has automatic shape inference\n",
        "  left_input = Input(shape=(max_len,), dtype='int32')\n",
        "  right_input = Input(shape=(max_len,), dtype='int32')\n",
        "  # Output of the lstm\n",
        "  left = lstm_layer(left_input)\n",
        "  right = lstm_layer(right_input)\n",
        "  # Calculates Manhattan Distance and instantiates the Model\n",
        "  malstm_distance = manhattan_distance(left=left, right=right)\n",
        "  model = Model(inputs = [left_input, right_input], outputs = [malstm_distance])\n",
        "  model.compile(loss=tf.keras.losses.MeanSquaredError(), \n",
        "                optimizer=tf.keras.optimizers.Adam(learning_rate=0.01), \n",
        "                metrics=['accuracy'])\n",
        "  malstm_trained = model.fit([X_train['left'], X_train['right']], Y_train, \n",
        "                             batch_size=16, \n",
        "                             epochs=10, \n",
        "                             verbose=True, \n",
        "                             validation_split=0.2, \n",
        "                             callbacks=[earlystop])\n",
        "  results2 = model.evaluate([X_val['left'], X_val['right']], Y_val)\n",
        "  return results2"
      ],
      "execution_count": null,
      "outputs": []
    },
    {
      "cell_type": "code",
      "metadata": {
        "id": "JgK5TSQWjz8-",
        "colab_type": "code",
        "colab": {
          "base_uri": "https://localhost:8080/",
          "height": 1000
        },
        "outputId": "f1b99cdc-85e1-4ea3-8a42-79077309eae4"
      },
      "source": [
        "colection = [make_model() for _ in range (10)]"
      ],
      "execution_count": null,
      "outputs": [
        {
          "output_type": "stream",
          "text": [
            "Epoch 1/10\n",
            "92/92 [==============================] - 31s 340ms/step - loss: 0.2484 - accuracy: 0.6748 - val_loss: 0.2435 - val_accuracy: 0.6894\n",
            "Epoch 2/10\n",
            "92/92 [==============================] - 31s 338ms/step - loss: 0.2375 - accuracy: 0.6830 - val_loss: 0.2316 - val_accuracy: 0.6839\n",
            "Epoch 3/10\n",
            "92/92 [==============================] - 30s 331ms/step - loss: 0.2372 - accuracy: 0.6779 - val_loss: 0.2362 - val_accuracy: 0.6839\n",
            "Epoch 4/10\n",
            "92/92 [==============================] - 31s 341ms/step - loss: 0.2247 - accuracy: 0.6922 - val_loss: 0.2390 - val_accuracy: 0.6935\n",
            "Epoch 5/10\n",
            "92/92 [==============================] - 32s 343ms/step - loss: 0.2138 - accuracy: 0.7007 - val_loss: 0.2328 - val_accuracy: 0.7016\n",
            "Epoch 6/10\n",
            "92/92 [==============================] - 31s 338ms/step - loss: 0.2044 - accuracy: 0.7113 - val_loss: 0.2422 - val_accuracy: 0.6826\n",
            "Epoch 7/10\n",
            "92/92 [==============================] - 32s 347ms/step - loss: 0.2027 - accuracy: 0.7212 - val_loss: 0.2312 - val_accuracy: 0.6812\n",
            "Epoch 8/10\n",
            "92/92 [==============================] - 31s 337ms/step - loss: 0.2202 - accuracy: 0.7031 - val_loss: 0.2377 - val_accuracy: 0.6894\n",
            "Epoch 9/10\n",
            "92/92 [==============================] - 31s 339ms/step - loss: 0.2122 - accuracy: 0.7007 - val_loss: 0.2188 - val_accuracy: 0.7030\n",
            "Epoch 10/10\n",
            "92/92 [==============================] - 31s 340ms/step - loss: 0.2047 - accuracy: 0.7123 - val_loss: 0.2320 - val_accuracy: 0.6948\n",
            "13/13 [==============================] - 0s 38ms/step - loss: 0.2275 - accuracy: 0.6961\n",
            "Epoch 1/10\n",
            "92/92 [==============================] - 32s 343ms/step - loss: 0.2489 - accuracy: 0.6568 - val_loss: 0.2307 - val_accuracy: 0.6907\n",
            "Epoch 2/10\n",
            "92/92 [==============================] - 31s 335ms/step - loss: 0.2384 - accuracy: 0.6735 - val_loss: 0.2295 - val_accuracy: 0.6689\n",
            "Epoch 3/10\n",
            "92/92 [==============================] - 31s 339ms/step - loss: 0.2400 - accuracy: 0.6568 - val_loss: 0.2384 - val_accuracy: 0.6853\n",
            "Epoch 4/10\n",
            "92/92 [==============================] - 32s 347ms/step - loss: 0.2367 - accuracy: 0.6742 - val_loss: 0.2351 - val_accuracy: 0.6839\n",
            "Epoch 5/10\n",
            "92/92 [==============================] - 31s 333ms/step - loss: 0.2326 - accuracy: 0.6793 - val_loss: 0.2379 - val_accuracy: 0.6948\n",
            "Epoch 6/10\n",
            "92/92 [==============================] - 31s 342ms/step - loss: 0.2289 - accuracy: 0.6776 - val_loss: 0.2294 - val_accuracy: 0.6621\n",
            "Epoch 7/10\n",
            "92/92 [==============================] - 32s 344ms/step - loss: 0.2534 - accuracy: 0.6602 - val_loss: 0.2615 - val_accuracy: 0.6826\n",
            "Epoch 8/10\n",
            "92/92 [==============================] - 31s 338ms/step - loss: 0.2516 - accuracy: 0.6670 - val_loss: 0.2524 - val_accuracy: 0.6730\n",
            "Epoch 9/10\n",
            "92/92 [==============================] - 31s 332ms/step - loss: 0.2437 - accuracy: 0.6653 - val_loss: 0.2469 - val_accuracy: 0.6676\n",
            "Epoch 10/10\n",
            "92/92 [==============================] - 31s 335ms/step - loss: 0.2475 - accuracy: 0.6653 - val_loss: 0.2545 - val_accuracy: 0.6349\n",
            "13/13 [==============================] - 0s 37ms/step - loss: 0.2361 - accuracy: 0.6422\n",
            "Epoch 1/10\n",
            "92/92 [==============================] - 31s 336ms/step - loss: 0.2514 - accuracy: 0.6762 - val_loss: 0.2311 - val_accuracy: 0.6608\n",
            "Epoch 2/10\n",
            "92/92 [==============================] - 32s 347ms/step - loss: 0.2271 - accuracy: 0.6636 - val_loss: 0.2442 - val_accuracy: 0.6812\n",
            "Epoch 3/10\n",
            "92/92 [==============================] - 31s 334ms/step - loss: 0.2367 - accuracy: 0.6694 - val_loss: 0.2427 - val_accuracy: 0.6253\n",
            "Epoch 4/10\n",
            "92/92 [==============================] - 30s 328ms/step - loss: 0.2579 - accuracy: 0.6217 - val_loss: 0.2581 - val_accuracy: 0.6580\n",
            "Epoch 5/10\n",
            "92/92 [==============================] - 31s 335ms/step - loss: 0.2510 - accuracy: 0.6517 - val_loss: 0.2542 - val_accuracy: 0.6826\n",
            "Epoch 6/10\n",
            "92/92 [==============================] - 30s 331ms/step - loss: 0.2526 - accuracy: 0.6377 - val_loss: 0.2577 - val_accuracy: 0.6812\n",
            "Epoch 7/10\n",
            "92/92 [==============================] - 31s 341ms/step - loss: 0.2476 - accuracy: 0.6677 - val_loss: 0.2603 - val_accuracy: 0.6213\n",
            "Epoch 8/10\n",
            "92/92 [==============================] - 31s 340ms/step - loss: 0.2549 - accuracy: 0.6537 - val_loss: 0.2495 - val_accuracy: 0.6730\n",
            "Epoch 9/10\n",
            "92/92 [==============================] - 31s 337ms/step - loss: 0.2526 - accuracy: 0.6609 - val_loss: 0.2754 - val_accuracy: 0.6812\n",
            "Epoch 10/10\n",
            "92/92 [==============================] - 31s 340ms/step - loss: 0.2556 - accuracy: 0.6561 - val_loss: 0.2825 - val_accuracy: 0.6812\n",
            "13/13 [==============================] - 1s 40ms/step - loss: 0.2875 - accuracy: 0.6838\n",
            "Epoch 1/10\n",
            "92/92 [==============================] - 31s 337ms/step - loss: 0.2542 - accuracy: 0.6738 - val_loss: 0.2408 - val_accuracy: 0.6839\n",
            "Epoch 2/10\n",
            "92/92 [==============================] - 31s 337ms/step - loss: 0.2386 - accuracy: 0.6823 - val_loss: 0.2413 - val_accuracy: 0.6962\n",
            "Epoch 3/10\n",
            "92/92 [==============================] - 30s 329ms/step - loss: 0.2274 - accuracy: 0.6892 - val_loss: 0.2286 - val_accuracy: 0.6880\n",
            "Epoch 4/10\n",
            "92/92 [==============================] - 31s 338ms/step - loss: 0.2161 - accuracy: 0.6963 - val_loss: 0.2344 - val_accuracy: 0.6866\n",
            "Epoch 5/10\n",
            "92/92 [==============================] - 31s 335ms/step - loss: 0.2159 - accuracy: 0.7048 - val_loss: 0.2383 - val_accuracy: 0.6935\n",
            "Epoch 6/10\n",
            "92/92 [==============================] - 31s 337ms/step - loss: 0.1999 - accuracy: 0.7290 - val_loss: 0.2316 - val_accuracy: 0.6962\n",
            "Epoch 7/10\n",
            "92/92 [==============================] - 31s 338ms/step - loss: 0.1931 - accuracy: 0.7369 - val_loss: 0.2350 - val_accuracy: 0.7016\n",
            "Epoch 8/10\n",
            "92/92 [==============================] - 31s 339ms/step - loss: 0.1809 - accuracy: 0.7536 - val_loss: 0.2302 - val_accuracy: 0.7057\n",
            "Epoch 9/10\n",
            "92/92 [==============================] - 31s 338ms/step - loss: 0.1742 - accuracy: 0.7621 - val_loss: 0.2335 - val_accuracy: 0.6921\n",
            "Epoch 10/10\n",
            "92/92 [==============================] - 31s 338ms/step - loss: 0.1692 - accuracy: 0.7733 - val_loss: 0.2353 - val_accuracy: 0.6962\n",
            "13/13 [==============================] - 0s 38ms/step - loss: 0.2262 - accuracy: 0.6985\n",
            "Epoch 1/10\n",
            "92/92 [==============================] - 31s 339ms/step - loss: 0.2445 - accuracy: 0.6759 - val_loss: 0.2368 - val_accuracy: 0.6839\n",
            "Epoch 2/10\n",
            "92/92 [==============================] - 30s 329ms/step - loss: 0.2354 - accuracy: 0.6759 - val_loss: 0.2377 - val_accuracy: 0.6880\n",
            "Epoch 3/10\n",
            "92/92 [==============================] - 31s 339ms/step - loss: 0.2304 - accuracy: 0.6837 - val_loss: 0.2318 - val_accuracy: 0.6975\n",
            "Epoch 4/10\n",
            "92/92 [==============================] - 31s 339ms/step - loss: 0.2437 - accuracy: 0.6796 - val_loss: 0.2545 - val_accuracy: 0.6812\n",
            "Epoch 5/10\n",
            "92/92 [==============================] - 31s 337ms/step - loss: 0.2387 - accuracy: 0.6820 - val_loss: 0.2842 - val_accuracy: 0.6853\n",
            "Epoch 6/10\n",
            "92/92 [==============================] - 30s 330ms/step - loss: 0.2276 - accuracy: 0.6929 - val_loss: 0.2457 - val_accuracy: 0.6853\n",
            "Epoch 7/10\n",
            "92/92 [==============================] - 31s 342ms/step - loss: 0.2281 - accuracy: 0.6905 - val_loss: 0.2361 - val_accuracy: 0.6907\n",
            "Epoch 8/10\n",
            "92/92 [==============================] - 31s 338ms/step - loss: 0.2296 - accuracy: 0.6909 - val_loss: 0.2422 - val_accuracy: 0.6935\n",
            "13/13 [==============================] - 1s 43ms/step - loss: 0.2462 - accuracy: 0.6789\n",
            "Epoch 1/10\n",
            "92/92 [==============================] - 31s 337ms/step - loss: 0.2469 - accuracy: 0.6718 - val_loss: 0.2399 - val_accuracy: 0.6853\n",
            "Epoch 2/10\n",
            "92/92 [==============================] - 31s 342ms/step - loss: 0.2359 - accuracy: 0.6769 - val_loss: 0.2402 - val_accuracy: 0.6866\n",
            "Epoch 3/10\n",
            "92/92 [==============================] - 31s 342ms/step - loss: 0.2361 - accuracy: 0.6796 - val_loss: 0.2422 - val_accuracy: 0.6798\n",
            "Epoch 4/10\n",
            "92/92 [==============================] - 31s 334ms/step - loss: 0.2318 - accuracy: 0.6813 - val_loss: 0.2359 - val_accuracy: 0.6880\n",
            "Epoch 5/10\n",
            "92/92 [==============================] - 31s 336ms/step - loss: 0.2235 - accuracy: 0.6861 - val_loss: 0.2351 - val_accuracy: 0.6907\n",
            "Epoch 6/10\n",
            "92/92 [==============================] - 31s 341ms/step - loss: 0.2132 - accuracy: 0.7028 - val_loss: 0.2459 - val_accuracy: 0.6839\n",
            "Epoch 7/10\n",
            "92/92 [==============================] - 32s 343ms/step - loss: 0.2124 - accuracy: 0.7093 - val_loss: 0.2482 - val_accuracy: 0.6935\n",
            "Epoch 8/10\n",
            "92/92 [==============================] - 31s 339ms/step - loss: 0.2039 - accuracy: 0.7195 - val_loss: 0.2325 - val_accuracy: 0.7003\n",
            "Epoch 9/10\n",
            "92/92 [==============================] - 31s 342ms/step - loss: 0.1940 - accuracy: 0.7355 - val_loss: 0.2319 - val_accuracy: 0.6935\n",
            "Epoch 10/10\n",
            "92/92 [==============================] - 31s 335ms/step - loss: 0.1910 - accuracy: 0.7376 - val_loss: 0.2470 - val_accuracy: 0.6948\n",
            "13/13 [==============================] - 1s 42ms/step - loss: 0.2467 - accuracy: 0.6814\n",
            "Epoch 1/10\n",
            "92/92 [==============================] - 31s 342ms/step - loss: 0.2490 - accuracy: 0.6772 - val_loss: 0.2445 - val_accuracy: 0.6812\n",
            "Epoch 2/10\n",
            "92/92 [==============================] - 31s 333ms/step - loss: 0.2348 - accuracy: 0.6708 - val_loss: 0.2370 - val_accuracy: 0.6499\n",
            "Epoch 3/10\n",
            "92/92 [==============================] - 30s 327ms/step - loss: 0.2371 - accuracy: 0.6602 - val_loss: 0.2322 - val_accuracy: 0.6376\n",
            "Epoch 4/10\n",
            "92/92 [==============================] - 31s 333ms/step - loss: 0.2361 - accuracy: 0.6595 - val_loss: 0.2314 - val_accuracy: 0.6935\n",
            "Epoch 5/10\n",
            "92/92 [==============================] - 31s 340ms/step - loss: 0.2333 - accuracy: 0.6469 - val_loss: 0.2371 - val_accuracy: 0.6458\n",
            "Epoch 6/10\n",
            "92/92 [==============================] - 31s 337ms/step - loss: 0.2432 - accuracy: 0.6302 - val_loss: 0.2371 - val_accuracy: 0.6417\n",
            "Epoch 7/10\n",
            "92/92 [==============================] - 32s 345ms/step - loss: 0.2376 - accuracy: 0.6673 - val_loss: 0.2433 - val_accuracy: 0.6812\n",
            "Epoch 8/10\n",
            "92/92 [==============================] - 31s 336ms/step - loss: 0.2311 - accuracy: 0.6759 - val_loss: 0.2380 - val_accuracy: 0.6880\n",
            "Epoch 9/10\n",
            "92/92 [==============================] - 31s 339ms/step - loss: 0.2250 - accuracy: 0.6806 - val_loss: 0.2481 - val_accuracy: 0.6104\n",
            "13/13 [==============================] - 1s 40ms/step - loss: 0.2397 - accuracy: 0.6127\n",
            "Epoch 1/10\n",
            "92/92 [==============================] - 32s 351ms/step - loss: 0.2570 - accuracy: 0.6755 - val_loss: 0.2362 - val_accuracy: 0.6839\n",
            "Epoch 2/10\n",
            "92/92 [==============================] - 32s 345ms/step - loss: 0.2488 - accuracy: 0.6745 - val_loss: 0.2385 - val_accuracy: 0.6826\n",
            "Epoch 3/10\n",
            "92/92 [==============================] - 31s 334ms/step - loss: 0.2372 - accuracy: 0.6783 - val_loss: 0.2370 - val_accuracy: 0.6798\n",
            "Epoch 4/10\n",
            "92/92 [==============================] - 32s 343ms/step - loss: 0.2295 - accuracy: 0.6875 - val_loss: 0.2476 - val_accuracy: 0.6826\n",
            "Epoch 5/10\n",
            "92/92 [==============================] - 32s 349ms/step - loss: 0.2230 - accuracy: 0.6875 - val_loss: 0.2469 - val_accuracy: 0.6812\n",
            "Epoch 6/10\n",
            "92/92 [==============================] - 31s 334ms/step - loss: 0.2161 - accuracy: 0.7001 - val_loss: 0.2409 - val_accuracy: 0.6921\n",
            "Epoch 7/10\n",
            "92/92 [==============================] - 31s 339ms/step - loss: 0.2097 - accuracy: 0.7018 - val_loss: 0.2339 - val_accuracy: 0.6962\n",
            "Epoch 8/10\n",
            "92/92 [==============================] - 31s 332ms/step - loss: 0.2029 - accuracy: 0.7168 - val_loss: 0.2401 - val_accuracy: 0.6853\n",
            "Epoch 9/10\n",
            "92/92 [==============================] - 31s 332ms/step - loss: 0.1933 - accuracy: 0.7389 - val_loss: 0.2413 - val_accuracy: 0.6907\n",
            "Epoch 10/10\n",
            "92/92 [==============================] - 32s 351ms/step - loss: 0.1916 - accuracy: 0.7338 - val_loss: 0.2371 - val_accuracy: 0.6921\n",
            "13/13 [==============================] - 1s 40ms/step - loss: 0.2387 - accuracy: 0.6838\n",
            "Epoch 1/10\n",
            "92/92 [==============================] - 32s 353ms/step - loss: 0.2498 - accuracy: 0.6725 - val_loss: 0.2517 - val_accuracy: 0.6826\n",
            "Epoch 2/10\n",
            "92/92 [==============================] - 31s 337ms/step - loss: 0.2397 - accuracy: 0.6745 - val_loss: 0.2402 - val_accuracy: 0.6812\n",
            "Epoch 3/10\n",
            "92/92 [==============================] - 31s 333ms/step - loss: 0.2342 - accuracy: 0.6748 - val_loss: 0.2368 - val_accuracy: 0.6866\n",
            "Epoch 4/10\n",
            "92/92 [==============================] - 30s 330ms/step - loss: 0.2293 - accuracy: 0.6834 - val_loss: 0.2346 - val_accuracy: 0.6853\n",
            "Epoch 5/10\n",
            "92/92 [==============================] - 30s 327ms/step - loss: 0.2494 - accuracy: 0.6806 - val_loss: 0.2575 - val_accuracy: 0.6839\n",
            "Epoch 6/10\n",
            "92/92 [==============================] - 31s 333ms/step - loss: 0.2426 - accuracy: 0.6789 - val_loss: 0.2494 - val_accuracy: 0.6894\n",
            "Epoch 7/10\n",
            "92/92 [==============================] - 32s 352ms/step - loss: 0.2293 - accuracy: 0.6861 - val_loss: 0.2453 - val_accuracy: 0.6866\n",
            "Epoch 8/10\n",
            "92/92 [==============================] - 31s 336ms/step - loss: 0.2172 - accuracy: 0.6987 - val_loss: 0.2427 - val_accuracy: 0.6894\n",
            "Epoch 9/10\n",
            "92/92 [==============================] - 32s 347ms/step - loss: 0.2209 - accuracy: 0.6963 - val_loss: 0.2381 - val_accuracy: 0.6989\n",
            "Epoch 10/10\n",
            "92/92 [==============================] - 31s 341ms/step - loss: 0.2086 - accuracy: 0.7154 - val_loss: 0.2277 - val_accuracy: 0.7044\n",
            "13/13 [==============================] - 0s 37ms/step - loss: 0.2392 - accuracy: 0.6936\n",
            "Epoch 1/10\n",
            "92/92 [==============================] - 32s 347ms/step - loss: 0.2575 - accuracy: 0.6673 - val_loss: 0.2491 - val_accuracy: 0.6798\n",
            "Epoch 2/10\n",
            "92/92 [==============================] - 30s 331ms/step - loss: 0.2476 - accuracy: 0.6731 - val_loss: 0.2371 - val_accuracy: 0.6812\n",
            "Epoch 3/10\n",
            "92/92 [==============================] - 31s 336ms/step - loss: 0.2417 - accuracy: 0.6796 - val_loss: 0.2412 - val_accuracy: 0.6962\n",
            "Epoch 4/10\n",
            "92/92 [==============================] - 31s 342ms/step - loss: 0.2391 - accuracy: 0.6789 - val_loss: 0.2383 - val_accuracy: 0.6894\n",
            "Epoch 5/10\n",
            "92/92 [==============================] - 31s 336ms/step - loss: 0.2355 - accuracy: 0.6793 - val_loss: 0.2420 - val_accuracy: 0.6880\n",
            "Epoch 6/10\n",
            "92/92 [==============================] - 31s 336ms/step - loss: 0.2290 - accuracy: 0.6895 - val_loss: 0.2270 - val_accuracy: 0.6894\n",
            "Epoch 7/10\n",
            "92/92 [==============================] - 32s 352ms/step - loss: 0.2336 - accuracy: 0.6748 - val_loss: 0.2443 - val_accuracy: 0.6458\n",
            "Epoch 8/10\n",
            "92/92 [==============================] - 31s 339ms/step - loss: 0.2378 - accuracy: 0.6667 - val_loss: 0.2372 - val_accuracy: 0.6485\n",
            "13/13 [==============================] - 1s 44ms/step - loss: 0.2418 - accuracy: 0.6422\n"
          ],
          "name": "stdout"
        }
      ]
    },
    {
      "cell_type": "code",
      "metadata": {
        "id": "bI4psO4_m2iW",
        "colab_type": "code",
        "colab": {
          "base_uri": "https://localhost:8080/",
          "height": 194
        },
        "outputId": "84c845ca-3b9d-43c1-d813-c9a5d983a111"
      },
      "source": [
        "colection"
      ],
      "execution_count": null,
      "outputs": [
        {
          "output_type": "execute_result",
          "data": {
            "text/plain": [
              "[[0.22748184204101562, 0.6960784196853638],\n",
              " [0.23606981337070465, 0.6421568393707275],\n",
              " [0.28750079870224, 0.6838235259056091],\n",
              " [0.22617173194885254, 0.6985294222831726],\n",
              " [0.2461692988872528, 0.6789215803146362],\n",
              " [0.2467241734266281, 0.6813725233078003],\n",
              " [0.23974765837192535, 0.6127451062202454],\n",
              " [0.23867987096309662, 0.6838235259056091],\n",
              " [0.23916195333003998, 0.6936274766921997],\n",
              " [0.2417765110731125, 0.6421568393707275]]"
            ]
          },
          "metadata": {
            "tags": []
          },
          "execution_count": 53
        }
      ]
    },
    {
      "cell_type": "code",
      "metadata": {
        "id": "5awLuQbLz4d_",
        "colab_type": "code",
        "colab": {}
      },
      "source": [
        "\n",
        "x = []\n",
        "for i in range (len(colection)):\n",
        "  x.append(colection[i][1])"
      ],
      "execution_count": null,
      "outputs": []
    },
    {
      "cell_type": "code",
      "metadata": {
        "id": "U21nkoYw0ToA",
        "colab_type": "code",
        "colab": {
          "base_uri": "https://localhost:8080/",
          "height": 194
        },
        "outputId": "06956877-4405-404a-9429-a807b1e131e2"
      },
      "source": [
        "x"
      ],
      "execution_count": null,
      "outputs": [
        {
          "output_type": "execute_result",
          "data": {
            "text/plain": [
              "[0.6960784196853638,\n",
              " 0.6421568393707275,\n",
              " 0.6838235259056091,\n",
              " 0.6985294222831726,\n",
              " 0.6789215803146362,\n",
              " 0.6813725233078003,\n",
              " 0.6127451062202454,\n",
              " 0.6838235259056091,\n",
              " 0.6936274766921997,\n",
              " 0.6421568393707275]"
            ]
          },
          "metadata": {
            "tags": []
          },
          "execution_count": 68
        }
      ]
    },
    {
      "cell_type": "code",
      "metadata": {
        "id": "QgOUmFcV1Fqz",
        "colab_type": "code",
        "colab": {
          "base_uri": "https://localhost:8080/",
          "height": 34
        },
        "outputId": "216d7980-3e04-4b01-bd00-af09f2e37f10"
      },
      "source": [
        "import statistics\n",
        "median_value = statistics.median(x)\n",
        "median_value"
      ],
      "execution_count": null,
      "outputs": [
        {
          "output_type": "execute_result",
          "data": {
            "text/plain": [
              "0.6825980246067047"
            ]
          },
          "metadata": {
            "tags": []
          },
          "execution_count": 70
        }
      ]
    },
    {
      "cell_type": "code",
      "metadata": {
        "id": "6Plvnct12V5I",
        "colab_type": "code",
        "colab": {}
      },
      "source": [
        "import seaborn as sns\n",
        "sns.set(style=\"whitegrid\", palette=\"pastel\")"
      ],
      "execution_count": null,
      "outputs": []
    },
    {
      "cell_type": "code",
      "metadata": {
        "id": "uDdWB_uj2Vw_",
        "colab_type": "code",
        "colab": {
          "base_uri": "https://localhost:8080/",
          "height": 302
        },
        "outputId": "7bd5bde4-688e-4770-fcc6-53114848c013"
      },
      "source": [
        "ax = sns.boxplot(data=x, width=0.2)\n",
        "\n",
        "ax.set_title(\"Pearson Correlation over 10 runs\")\n",
        "ax.set_ylabel('Pearson Correlation ')"
      ],
      "execution_count": null,
      "outputs": [
        {
          "output_type": "execute_result",
          "data": {
            "text/plain": [
              "Text(0, 0.5, 'Accuracy')"
            ]
          },
          "metadata": {
            "tags": []
          },
          "execution_count": 92
        },
        {
          "output_type": "display_data",
          "data": {
            "image/png": "[encoded data removed]",
            "text/plain": [
              "<Figure size 432x288 with 1 Axes>"
            ]
          },
          "metadata": {
            "tags": []
          }
        }
      ]
    },
    {
      "cell_type": "code",
      "metadata": {
        "id": "NXU6lONc2Vt3",
        "colab_type": "code",
        "colab": {}
      },
      "source": [
        ""
      ],
      "execution_count": null,
      "outputs": []
    }
  ]
}